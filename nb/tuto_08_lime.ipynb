{
  "nbformat": 4,
  "nbformat_minor": 0,
  "metadata": {
    "colab": {
      "name": "tuto_08_lime",
      "provenance": [],
      "collapsed_sections": [],
      "authorship_tag": "ABX9TyNG7wZ7sLRMQ/c3OIMN9pPH",
      "include_colab_link": true
    },
    "kernelspec": {
      "name": "python3",
      "display_name": "Python 3"
    },
    "language_info": {
      "name": "python"
    }
  },
  "cells": [
    {
      "cell_type": "markdown",
      "metadata": {
        "id": "view-in-github",
        "colab_type": "text"
      },
      "source": [
        "<a href=\"https://colab.research.google.com/github/pmontman/pub-choicemodels/blob/main/nb/tuto_08_lime.ipynb\" target=\"_parent\"><img src=\"https://colab.research.google.com/assets/colab-badge.svg\" alt=\"Open In Colab\"/></a>"
      ]
    },
    {
      "cell_type": "markdown",
      "metadata": {
        "id": "rxbeRIOOkIRc"
      },
      "source": [
        "# Tutorial 8: Using LIME to explain Machine Learning models\n",
        "\n",
        "\n"
      ]
    },
    {
      "cell_type": "markdown",
      "metadata": {
        "id": "5yA709sKELgF"
      },
      "source": [
        "In this tutorial we will connect the 'black box' machine learning models to the \n",
        "linear multinomial logit.\n",
        "\n",
        "Specifically we will use the more interpretable multinomial logit to explain 'parts' of a black box model. The idea is brilliant, and quite recent!.\n",
        "\n",
        "What we do is:\n",
        " * simulate a 'what-if' scenario that is close to a particular observation that we want to explain.\n",
        " * Use the 'black box model' as groundth truth, basically the predictions of the model for the what if scenario are taken as the true choices.\n",
        " * Fit an explainable linear model to this 'what-if', and then interpret it.\n",
        "\n",
        "We will use the Swissmetro dataset, fit a ML model (Tutorial 7!) and then explain a particular observation with a multiomial logit."
      ]
    },
    {
      "cell_type": "markdown",
      "metadata": {
        "id": "vb9SIunnASNB"
      },
      "source": [
        "---\n",
        "---\n",
        "\n",
        "# Preparing the environment\n",
        "*The preparation and dataset loading code is given to the students*"
      ]
    },
    {
      "cell_type": "code",
      "metadata": {
        "colab": {
          "base_uri": "https://localhost:8080/"
        },
        "id": "j5zHGhgErHPd",
        "outputId": "d126b1a2-0062-4374-f3bb-05f717a07d10"
      },
      "source": [
        "!pip install biogeme"
      ],
      "execution_count": 1,
      "outputs": [
        {
          "output_type": "stream",
          "name": "stdout",
          "text": [
            "Requirement already satisfied: biogeme in /usr/local/lib/python3.7/dist-packages (3.2.8)\n",
            "Requirement already satisfied: scipy in /usr/local/lib/python3.7/dist-packages (from biogeme) (1.4.1)\n",
            "Requirement already satisfied: tqdm in /usr/local/lib/python3.7/dist-packages (from biogeme) (4.62.3)\n",
            "Requirement already satisfied: cython in /usr/local/lib/python3.7/dist-packages (from biogeme) (0.29.24)\n",
            "Requirement already satisfied: unidecode in /usr/local/lib/python3.7/dist-packages (from biogeme) (1.3.2)\n",
            "Requirement already satisfied: pandas in /usr/local/lib/python3.7/dist-packages (from biogeme) (1.1.5)\n",
            "Requirement already satisfied: numpy in /usr/local/lib/python3.7/dist-packages (from biogeme) (1.19.5)\n",
            "Requirement already satisfied: pytz>=2017.2 in /usr/local/lib/python3.7/dist-packages (from pandas->biogeme) (2018.9)\n",
            "Requirement already satisfied: python-dateutil>=2.7.3 in /usr/local/lib/python3.7/dist-packages (from pandas->biogeme) (2.8.2)\n",
            "Requirement already satisfied: six>=1.5 in /usr/local/lib/python3.7/dist-packages (from python-dateutil>=2.7.3->pandas->biogeme) (1.15.0)\n"
          ]
        }
      ]
    },
    {
      "cell_type": "markdown",
      "metadata": {
        "id": "1z0X9xZ8rChf"
      },
      "source": [
        "Load the packages, feel free to change the names."
      ]
    },
    {
      "cell_type": "code",
      "metadata": {
        "id": "apVB-TMkrFnb"
      },
      "source": [
        "import pandas  as pd\n",
        "import numpy as np\n",
        "import matplotlib.pyplot as plt\n",
        "\n",
        "import biogeme.database as db\n",
        "import biogeme.biogeme as bio\n",
        "import biogeme.models as models\n",
        "import biogeme.expressions as exp\n",
        "import biogeme.tools as tools"
      ],
      "execution_count": 2,
      "outputs": []
    },
    {
      "cell_type": "markdown",
      "metadata": {
        "id": "YEJvXwpekbvd"
      },
      "source": [
        "---\n",
        "---\n",
        "\n",
        "# Auxiliary functions"
      ]
    },
    {
      "cell_type": "markdown",
      "metadata": {
        "id": "CKyKA_dj-IVp"
      },
      "source": [
        "The first function takes the dictionary of utilities, a pandas dataframe, and the name of the variable that contains the variable with the results of the choice. It returns the biogeme object with the model and the estimated 'results' object (the one we get the values, likelihoods, etc.)\n",
        "We have added the dictionary with the utilities to the biogeme object, in case we use it later."
      ]
    },
    {
      "cell_type": "code",
      "metadata": {
        "id": "0OQ1ls2Bi_ot"
      },
      "source": [
        "def qbus_estimate_bgm(V, pd_df, tgtvar_name, modelname='bgmdef'):\n",
        " av_auto = V.copy()\n",
        " for key, value in av_auto.items():\n",
        "   av_auto[key] = 1\n",
        " bgm_db = db.Database(modelname + '_db', pd_df)\n",
        " globals().update(bgm_db.variables)\n",
        " logprob = models.loglogit (V , av_auto , bgm_db.variables[tgtvar_name] )\n",
        " bgm_model = bio.BIOGEME ( bgm_db, logprob )\n",
        " bgm_model.utility_dic = V.copy()\n",
        " return bgm_model, bgm_model.estimate()"
      ],
      "execution_count": 3,
      "outputs": []
    },
    {
      "cell_type": "markdown",
      "metadata": {
        "id": "dM2f5-0w-_4b"
      },
      "source": [
        "The next function will calculate the predictions for a given biogeme object that was estimated with `qbus_estimate_bgm`. The output is the array with the choice probabilities. From the choice probabilities, this can be used to calculate accuracies, confusion matrices and the output of what-if scenarios."
      ]
    },
    {
      "cell_type": "code",
      "metadata": {
        "id": "O4Iau_IHHCzc"
      },
      "source": [
        "def qbus_simulate_bgm(qbus_bgm_model, betas, pred_pd_df):\n",
        "  av_auto = qbus_bgm_model.utility_dic.copy()\n",
        "  for key, value in av_auto.items():\n",
        "   av_auto[key] = 1\n",
        "\n",
        "  targets = qbus_bgm_model.utility_dic.copy()\n",
        "  for key, value in targets.items():\n",
        "   targets[key] = models.logit(qbus_bgm_model.utility_dic, av_auto, key)\n",
        "\n",
        "  bgm_db = db.Database('simul', pred_pd_df)\n",
        "  globals().update(bgm_db.variables)\n",
        "  bgm_pred_model = bio.BIOGEME(bgm_db, targets)\n",
        "  simulatedValues = bgm_pred_model.simulate(betas)\n",
        "  return simulatedValues"
      ],
      "execution_count": 4,
      "outputs": []
    },
    {
      "cell_type": "markdown",
      "metadata": {
        "id": "AnBLUPi-DjU7"
      },
      "source": [
        "The function `qbus_calc_accu_confusion` calculates the accuracies given the choice probability predictions a pandas dataset and the specification of the name that contains the actual choices in the input dataset."
      ]
    },
    {
      "cell_type": "code",
      "metadata": {
        "id": "m9l5cDGkzsfJ"
      },
      "source": [
        "def qbus_calc_accu_confusion(sim_probs, pd_df, choice_var):\n",
        "  which_max = sim_probs.idxmax(axis=1)\n",
        "  data = {'y_Actual':   pd_df[choice_var],\n",
        "          'y_Predicted': which_max\n",
        "        }\n",
        "\n",
        "  df = pd.DataFrame(data, columns=['y_Actual','y_Predicted'])\n",
        "  confusion_matrix = pd.crosstab(df['y_Actual'], df['y_Predicted'], rownames=['Actual'], colnames=['Predicted'])\n",
        "  accu = np.mean(which_max == pd_df[choice_var])\n",
        "  return accu, confusion_matrix "
      ],
      "execution_count": 5,
      "outputs": []
    },
    {
      "cell_type": "markdown",
      "metadata": {
        "id": "dYfxQpYLDzgm"
      },
      "source": [
        "The next function calculates the likelihood ratio test having to write a bit less code that the default biogeme function. The arguments are the results objects of the two models to be compared. The first is the more complex and the second is the reference model (**the order is important!**). The third argument is the significance level for the test."
      ]
    },
    {
      "cell_type": "code",
      "metadata": {
        "id": "GUNVxPmK3rF2"
      },
      "source": [
        "def qbus_likeli_ratio_test_bgm(results_complex, results_reference, signif_level):\n",
        "  return tools.likelihood_ratio_test( (results_complex.data.logLike, results_complex.data.nparam),\n",
        "                                     (results_reference.data.logLike, results_reference.data.nparam), signif_level)"
      ],
      "execution_count": 6,
      "outputs": []
    },
    {
      "cell_type": "markdown",
      "metadata": {
        "id": "5b7TaMhCEZIZ"
      },
      "source": [
        "The next function just updates the globals so we can use it "
      ]
    },
    {
      "cell_type": "code",
      "metadata": {
        "id": "PfHXGoLS1yHX"
      },
      "source": [
        "def qbus_update_globals_bgm(pd_df):\n",
        "   globals().update(db.Database('tmp_bg_bgm_for_glob', pd_df).variables)"
      ],
      "execution_count": 7,
      "outputs": []
    },
    {
      "cell_type": "markdown",
      "metadata": {
        "id": "z14cENeUBXyM"
      },
      "source": [
        "# Exercise: Try a baseline multinomial logit, decision tree and multilayer perceptron models on the Swismetro dataset and compare the results."
      ]
    },
    {
      "cell_type": "markdown",
      "metadata": {
        "id": "e3y101-lyoLU"
      },
      "source": [
        "Load the daaset as usual"
      ]
    },
    {
      "cell_type": "code",
      "metadata": {
        "id": "_WcljDFQBsJF"
      },
      "source": [
        "swissmetro = pd.read_csv('http://transp-or.epfl.ch/data/swissmetro.dat', sep='\\t')"
      ],
      "execution_count": 8,
      "outputs": []
    },
    {
      "cell_type": "markdown",
      "metadata": {
        "id": "aN1J7iulrDfI"
      },
      "source": [
        "Clean the dataset as instructed in Biogeme's example"
      ]
    },
    {
      "cell_type": "code",
      "metadata": {
        "id": "c0GQ-Kn7qFHV"
      },
      "source": [
        "swissmetro = swissmetro.loc[ swissmetro['CHOICE'] != 0, :]\n",
        "swissmetro['TRAIN_CO_GA'] = swissmetro['TRAIN_CO'] * (swissmetro['GA'] ==0 )\n",
        "swissmetro['SM_CO_GA'] = swissmetro['SM_CO'] * (swissmetro['GA'] ==0 )"
      ],
      "execution_count": 9,
      "outputs": []
    },
    {
      "cell_type": "code",
      "metadata": {
        "id": "ceEOFJRP4ZKZ"
      },
      "source": [
        "swissmetro = swissmetro.drop(['TRAIN_AV', 'SM_AV', 'CAR_AV', 'ID'], axis=1)"
      ],
      "execution_count": 10,
      "outputs": []
    },
    {
      "cell_type": "markdown",
      "metadata": {
        "id": "H0H7GqNlyypC"
      },
      "source": [
        "Fit a base MNL model"
      ]
    },
    {
      "cell_type": "code",
      "metadata": {
        "id": "9zQqbPt_r3eT"
      },
      "source": [
        "qbus_update_globals_bgm(swissmetro)"
      ],
      "execution_count": 11,
      "outputs": []
    },
    {
      "cell_type": "code",
      "metadata": {
        "id": "pA3iUY9iscoc"
      },
      "source": [
        "from sklearn.model_selection import train_test_split\n",
        "sw_train, sw_test = train_test_split(swissmetro, test_size = 0.25, random_state = 3840)"
      ],
      "execution_count": 12,
      "outputs": []
    },
    {
      "cell_type": "code",
      "metadata": {
        "id": "Ic84ZJBOq6J5"
      },
      "source": [
        "ASC_CAR = exp.Beta ( 'ASC_CAR' ,0, None , None ,0)\n",
        "ASC_TRAIN = exp.Beta ( 'ASC_TRAIN' ,0, None , None ,0)\n",
        "ASC_SM = exp.Beta ( 'ASC_SM' ,0, None , None ,1)\n",
        "B_TIME = exp.Beta ( 'B_TIME' ,0, None , None ,0)\n",
        "B_COST = exp.Beta ( 'B_COST' ,0, None , None ,0)\n",
        "B_MALE_TR = exp.Beta( 'B_MALE_TR', 0, None, None, 0)\n",
        "B_MALE_SM = exp.Beta( 'B_MALE_SM', 0, None, None, 0)\n",
        "B_MALE_CAR = exp.Beta( 'B_MALE_CAR', 0, None, None, 0)\n",
        "B_INCOME_TR = exp.Beta( 'B_INCOME_TR', 0, None, None, 0)\n",
        "B_INCOME_SM = exp.Beta( 'B_INCOME_SM', 0, None, None, 0)\n",
        "B_INCOME_CAR = exp.Beta( 'B_INCOME_CAR', 0, None, None, 0)\n",
        "\n",
        "V1 = ASC_TRAIN + B_TIME * TRAIN_TT + B_COST * TRAIN_CO_GA + B_MALE_TR*MALE + B_INCOME_TR*INCOME\n",
        "V2 = ASC_SM + B_TIME * SM_TT + B_COST * SM_CO_GA + B_MALE_SM*MALE + B_INCOME_SM*INCOME\n",
        "V3 = ASC_CAR + B_TIME * CAR_TT + B_COST * CAR_CO + B_MALE_CAR*MALE+ B_INCOME_CAR*INCOME\n",
        "\n",
        "V_sw = {1: V1, 2:V2, 3:V3}"
      ],
      "execution_count": 13,
      "outputs": []
    },
    {
      "cell_type": "code",
      "metadata": {
        "id": "niECYV08sERl"
      },
      "source": [
        "model_sw, results_sw = qbus_estimate_bgm(V_sw, sw_train, 'CHOICE', 'swismmetro_mnl')"
      ],
      "execution_count": 14,
      "outputs": []
    },
    {
      "cell_type": "code",
      "metadata": {
        "colab": {
          "base_uri": "https://localhost:8080/",
          "height": 357
        },
        "id": "ubaxc5y8sUoj",
        "outputId": "c71f16e9-7cb7-4097-e9b6-ed9cdc6edbb0"
      },
      "source": [
        "results_sw.getEstimatedParameters()"
      ],
      "execution_count": 15,
      "outputs": [
        {
          "output_type": "execute_result",
          "data": {
            "text/html": [
              "<div>\n",
              "<style scoped>\n",
              "    .dataframe tbody tr th:only-of-type {\n",
              "        vertical-align: middle;\n",
              "    }\n",
              "\n",
              "    .dataframe tbody tr th {\n",
              "        vertical-align: top;\n",
              "    }\n",
              "\n",
              "    .dataframe thead th {\n",
              "        text-align: right;\n",
              "    }\n",
              "</style>\n",
              "<table border=\"1\" class=\"dataframe\">\n",
              "  <thead>\n",
              "    <tr style=\"text-align: right;\">\n",
              "      <th></th>\n",
              "      <th>Value</th>\n",
              "      <th>Std err</th>\n",
              "      <th>t-test</th>\n",
              "      <th>p-value</th>\n",
              "      <th>Rob. Std err</th>\n",
              "      <th>Rob. t-test</th>\n",
              "      <th>Rob. p-value</th>\n",
              "    </tr>\n",
              "  </thead>\n",
              "  <tbody>\n",
              "    <tr>\n",
              "      <th>ASC_CAR</th>\n",
              "      <td>-1.256474</td>\n",
              "      <td>0.086796</td>\n",
              "      <td>-14.476208</td>\n",
              "      <td>0.000000</td>\n",
              "      <td>0.089057</td>\n",
              "      <td>-14.108591</td>\n",
              "      <td>0.000000</td>\n",
              "    </tr>\n",
              "    <tr>\n",
              "      <th>ASC_TRAIN</th>\n",
              "      <td>-0.428599</td>\n",
              "      <td>0.092994</td>\n",
              "      <td>-4.608901</td>\n",
              "      <td>0.000004</td>\n",
              "      <td>0.097510</td>\n",
              "      <td>-4.395431</td>\n",
              "      <td>0.000011</td>\n",
              "    </tr>\n",
              "    <tr>\n",
              "      <th>B_COST</th>\n",
              "      <td>-0.004257</td>\n",
              "      <td>0.000328</td>\n",
              "      <td>-12.989409</td>\n",
              "      <td>0.000000</td>\n",
              "      <td>0.000360</td>\n",
              "      <td>-11.837294</td>\n",
              "      <td>0.000000</td>\n",
              "    </tr>\n",
              "    <tr>\n",
              "      <th>B_INCOME_CAR</th>\n",
              "      <td>-0.189247</td>\n",
              "      <td>0.019507</td>\n",
              "      <td>-9.701569</td>\n",
              "      <td>0.000000</td>\n",
              "      <td>0.019964</td>\n",
              "      <td>-9.479468</td>\n",
              "      <td>0.000000</td>\n",
              "    </tr>\n",
              "    <tr>\n",
              "      <th>B_INCOME_SM</th>\n",
              "      <td>-0.216977</td>\n",
              "      <td>0.016702</td>\n",
              "      <td>-12.990706</td>\n",
              "      <td>0.000000</td>\n",
              "      <td>0.017415</td>\n",
              "      <td>-12.459210</td>\n",
              "      <td>0.000000</td>\n",
              "    </tr>\n",
              "    <tr>\n",
              "      <th>B_INCOME_TR</th>\n",
              "      <td>-0.318761</td>\n",
              "      <td>0.022958</td>\n",
              "      <td>-13.884293</td>\n",
              "      <td>0.000000</td>\n",
              "      <td>0.026131</td>\n",
              "      <td>-12.198604</td>\n",
              "      <td>0.000000</td>\n",
              "    </tr>\n",
              "    <tr>\n",
              "      <th>B_MALE_CAR</th>\n",
              "      <td>0.582749</td>\n",
              "      <td>0.045574</td>\n",
              "      <td>12.786766</td>\n",
              "      <td>0.000000</td>\n",
              "      <td>0.048761</td>\n",
              "      <td>11.951064</td>\n",
              "      <td>0.000000</td>\n",
              "    </tr>\n",
              "    <tr>\n",
              "      <th>B_MALE_SM</th>\n",
              "      <td>-0.045550</td>\n",
              "      <td>0.036766</td>\n",
              "      <td>-1.238902</td>\n",
              "      <td>0.215382</td>\n",
              "      <td>0.037668</td>\n",
              "      <td>-1.209239</td>\n",
              "      <td>0.226571</td>\n",
              "    </tr>\n",
              "    <tr>\n",
              "      <th>B_MALE_TR</th>\n",
              "      <td>-0.924580</td>\n",
              "      <td>0.046589</td>\n",
              "      <td>-19.845480</td>\n",
              "      <td>0.000000</td>\n",
              "      <td>0.048017</td>\n",
              "      <td>-19.255273</td>\n",
              "      <td>0.000000</td>\n",
              "    </tr>\n",
              "    <tr>\n",
              "      <th>B_TIME</th>\n",
              "      <td>-0.003403</td>\n",
              "      <td>0.000332</td>\n",
              "      <td>-10.246657</td>\n",
              "      <td>0.000000</td>\n",
              "      <td>0.000358</td>\n",
              "      <td>-9.497965</td>\n",
              "      <td>0.000000</td>\n",
              "    </tr>\n",
              "  </tbody>\n",
              "</table>\n",
              "</div>"
            ],
            "text/plain": [
              "                 Value   Std err  ...  Rob. t-test  Rob. p-value\n",
              "ASC_CAR      -1.256474  0.086796  ...   -14.108591      0.000000\n",
              "ASC_TRAIN    -0.428599  0.092994  ...    -4.395431      0.000011\n",
              "B_COST       -0.004257  0.000328  ...   -11.837294      0.000000\n",
              "B_INCOME_CAR -0.189247  0.019507  ...    -9.479468      0.000000\n",
              "B_INCOME_SM  -0.216977  0.016702  ...   -12.459210      0.000000\n",
              "B_INCOME_TR  -0.318761  0.022958  ...   -12.198604      0.000000\n",
              "B_MALE_CAR    0.582749  0.045574  ...    11.951064      0.000000\n",
              "B_MALE_SM    -0.045550  0.036766  ...    -1.209239      0.226571\n",
              "B_MALE_TR    -0.924580  0.046589  ...   -19.255273      0.000000\n",
              "B_TIME       -0.003403  0.000332  ...    -9.497965      0.000000\n",
              "\n",
              "[10 rows x 7 columns]"
            ]
          },
          "metadata": {},
          "execution_count": 15
        }
      ]
    },
    {
      "cell_type": "markdown",
      "metadata": {
        "id": "Bdp6sMyvy1fh"
      },
      "source": [
        "Accuracy in the train set"
      ]
    },
    {
      "cell_type": "code",
      "metadata": {
        "colab": {
          "base_uri": "https://localhost:8080/"
        },
        "id": "5w_r5_QCs9EC",
        "outputId": "94b2ec3f-41b1-4b4b-e044-45094c7b91ee"
      },
      "source": [
        "sw_train_sim = qbus_simulate_bgm(model_sw, results_sw.getBetaValues(), sw_train)\n",
        "qbus_calc_accu_confusion(sw_train_sim, sw_train, 'CHOICE')"
      ],
      "execution_count": 16,
      "outputs": [
        {
          "output_type": "execute_result",
          "data": {
            "text/plain": [
              "(0.5610150516233362, Predicted     2    3\n",
              " Actual              \n",
              " 1          1023   80\n",
              " 2          4411  215\n",
              " 3          2211   99)"
            ]
          },
          "metadata": {},
          "execution_count": 16
        }
      ]
    },
    {
      "cell_type": "markdown",
      "metadata": {
        "id": "d2Qt1MYYtPKu"
      },
      "source": [
        "Accuracy in the test set"
      ]
    },
    {
      "cell_type": "code",
      "metadata": {
        "colab": {
          "base_uri": "https://localhost:8080/"
        },
        "id": "qooxexcYtO7k",
        "outputId": "22096ab9-427c-4f25-f6fe-404fde464f72"
      },
      "source": [
        "sw_test_sim = qbus_simulate_bgm(model_sw, results_sw.getBetaValues(), sw_test)\n",
        "qbus_calc_accu_confusion(sw_test_sim, sw_test, 'CHOICE')"
      ],
      "execution_count": 17,
      "outputs": [
        {
          "output_type": "execute_result",
          "data": {
            "text/plain": [
              "(0.5809701492537314, Predicted     2   3\n",
              " Actual             \n",
              " 1           290  30\n",
              " 2          1517  73\n",
              " 3           730  40)"
            ]
          },
          "metadata": {},
          "execution_count": 17
        }
      ]
    },
    {
      "cell_type": "markdown",
      "metadata": {
        "id": "Ku0diDeBtbKr"
      },
      "source": [
        "#Decision tree"
      ]
    },
    {
      "cell_type": "code",
      "metadata": {
        "id": "Esb3lpoUtcrl"
      },
      "source": [
        "# Import the model we are using\n",
        "from sklearn.ensemble import RandomForestClassifier\n",
        "from sklearn.tree import DecisionTreeClassifier\n",
        "\n",
        "# Instantiate model with 1000 decision trees\n",
        "#dec_tree = RandomForestClassifier(n_estimators = 1000, random_state = 42, max_features= None)\n",
        "\n",
        "dec_tree = DecisionTreeClassifier(max_features= None, max_depth=14, random_state=3840 )"
      ],
      "execution_count": 18,
      "outputs": []
    },
    {
      "cell_type": "code",
      "metadata": {
        "id": "3t1ygxdhtqhZ"
      },
      "source": [
        "dec_tree.fit(sw_train.drop('CHOICE', axis=1), pd.get_dummies(sw_train['CHOICE']));"
      ],
      "execution_count": 19,
      "outputs": []
    },
    {
      "cell_type": "code",
      "metadata": {
        "colab": {
          "base_uri": "https://localhost:8080/"
        },
        "id": "pjWRi7jJt5ZR",
        "outputId": "bdb2f9ec-da7d-44ed-953b-ae2f6ce46431"
      },
      "source": [
        "# Use the predict method on the test data\n",
        "predictions = dec_tree.predict(sw_test.drop('CHOICE', axis=1))\n",
        "predictions"
      ],
      "execution_count": 20,
      "outputs": [
        {
          "output_type": "execute_result",
          "data": {
            "text/plain": [
              "array([[1, 0, 0],\n",
              "       [0, 1, 0],\n",
              "       [0, 0, 1],\n",
              "       ...,\n",
              "       [0, 1, 0],\n",
              "       [0, 1, 0],\n",
              "       [1, 0, 0]], dtype=uint8)"
            ]
          },
          "metadata": {},
          "execution_count": 20
        }
      ]
    },
    {
      "cell_type": "code",
      "metadata": {
        "id": "hkgwtx0nt5ZR"
      },
      "source": [
        "dec_tree_sim = pd.DataFrame(predictions, columns=[1, 2, 3])"
      ],
      "execution_count": 21,
      "outputs": []
    },
    {
      "cell_type": "code",
      "metadata": {
        "id": "DTvBa2puuEyT"
      },
      "source": [
        "dec_tree_sim.index = sw_test.index"
      ],
      "execution_count": 22,
      "outputs": []
    },
    {
      "cell_type": "markdown",
      "metadata": {
        "id": "2pZpOQb8uEyV"
      },
      "source": [
        "And finally, we can compute the accuracy, we see that is considerably higher thatn the MNL model"
      ]
    },
    {
      "cell_type": "code",
      "metadata": {
        "colab": {
          "base_uri": "https://localhost:8080/"
        },
        "id": "DJ1m4y2IuEyV",
        "outputId": "ab1761f5-aea1-4ea2-e75f-00484b951098"
      },
      "source": [
        "qbus_calc_accu_confusion(dec_tree_sim, sw_test, 'CHOICE')"
      ],
      "execution_count": 23,
      "outputs": [
        {
          "output_type": "execute_result",
          "data": {
            "text/plain": [
              "(0.7067164179104478, Predicted    1     2    3\n",
              " Actual                   \n",
              " 1          173   129   18\n",
              " 2          154  1225  211\n",
              " 3           40   234  496)"
            ]
          },
          "metadata": {},
          "execution_count": 23
        }
      ]
    },
    {
      "cell_type": "markdown",
      "metadata": {
        "id": "ocx5SL90wJbD"
      },
      "source": [
        "# Neural Network"
      ]
    },
    {
      "cell_type": "code",
      "metadata": {
        "id": "pejIdJOQwIsa"
      },
      "source": [
        "from sklearn.neural_network import MLPClassifier\n",
        "\n",
        "neurnet = MLPClassifier(hidden_layer_sizes = (256),\n",
        "                        activation='logistic',  max_iter=12000, random_state=3840)"
      ],
      "execution_count": 24,
      "outputs": []
    },
    {
      "cell_type": "code",
      "metadata": {
        "id": "GU02M4v-wWxv"
      },
      "source": [
        "neurnet.fit(sw_train.drop('CHOICE', axis=1), pd.get_dummies(sw_train['CHOICE']));"
      ],
      "execution_count": 25,
      "outputs": []
    },
    {
      "cell_type": "code",
      "metadata": {
        "id": "B857XHXVxkj-"
      },
      "source": [
        "sw_test = sw_train"
      ],
      "execution_count": 26,
      "outputs": []
    },
    {
      "cell_type": "code",
      "metadata": {
        "colab": {
          "base_uri": "https://localhost:8080/"
        },
        "id": "PWUanVEcwZXT",
        "outputId": "1841b675-5dbf-4be0-d74f-ccdd71d2aeaf"
      },
      "source": [
        "# Use the predict method on the test data\n",
        "predictions = neurnet.predict(sw_test.drop('CHOICE', axis=1))\n",
        "predictions"
      ],
      "execution_count": 27,
      "outputs": [
        {
          "output_type": "execute_result",
          "data": {
            "text/plain": [
              "array([[0, 1, 0],\n",
              "       [0, 0, 1],\n",
              "       [0, 1, 0],\n",
              "       ...,\n",
              "       [0, 1, 0],\n",
              "       [0, 1, 0],\n",
              "       [0, 0, 0]])"
            ]
          },
          "metadata": {},
          "execution_count": 27
        }
      ]
    },
    {
      "cell_type": "code",
      "metadata": {
        "id": "G1mKMnkBwcxO"
      },
      "source": [
        "neurnet_sim = pd.DataFrame(predictions, columns=[1, 2, 3])"
      ],
      "execution_count": 28,
      "outputs": []
    },
    {
      "cell_type": "code",
      "metadata": {
        "id": "WohcfQpPwflD"
      },
      "source": [
        "neurnet_sim.index = sw_test.index"
      ],
      "execution_count": 29,
      "outputs": []
    },
    {
      "cell_type": "markdown",
      "metadata": {
        "id": "sax0BFsDy_RM"
      },
      "source": [
        "The accuracy of the neural network is also higher than the MNL (but remember that is is a special case of mixed logit!)"
      ]
    },
    {
      "cell_type": "code",
      "metadata": {
        "colab": {
          "base_uri": "https://localhost:8080/"
        },
        "id": "RVFulCHVwiSo",
        "outputId": "606754df-388f-408b-ade5-144c55e78f4e"
      },
      "source": [
        "qbus_calc_accu_confusion(neurnet_sim, sw_test, 'CHOICE')"
      ],
      "execution_count": 30,
      "outputs": [
        {
          "output_type": "execute_result",
          "data": {
            "text/plain": [
              "(0.7706182360990173, Predicted    1     2     3\n",
              " Actual                    \n",
              " 1          788   275    40\n",
              " 2          508  3638   480\n",
              " 3          198   343  1769)"
            ]
          },
          "metadata": {},
          "execution_count": 30
        }
      ]
    },
    {
      "cell_type": "markdown",
      "metadata": {
        "id": "4L-yIhzP2QFa"
      },
      "source": [
        "# LIME\n",
        "\n",
        "\n",
        "1) Select your observation of interest for which you want to have an explanation of its black box prediction.\n",
        "2) Perturb your dataset and get the black box predictions for these new points.\n",
        "3) Train  interpretable model on the dataset with the variations.\n",
        "4) Explain the prediction of the original by interpreting the local model.\n",
        "\n",
        "*Material from [Interpretable Machine Learning](https://christophm.github.io/interpretable-ml-book/lime.html)*(Christoph Molnar)."
      ]
    },
    {
      "cell_type": "markdown",
      "metadata": {
        "id": "Ys4B9riN32fV"
      },
      "source": [
        "The observation we want to explain"
      ]
    },
    {
      "cell_type": "code",
      "metadata": {
        "colab": {
          "base_uri": "https://localhost:8080/",
          "height": 100
        },
        "id": "2s8oudDD2-zM",
        "outputId": "b08922d6-7086-4bb7-aeeb-2580965778a1"
      },
      "source": [
        "observ = sw_test.iloc[[0,]]\n",
        "observ"
      ],
      "execution_count": 68,
      "outputs": [
        {
          "output_type": "execute_result",
          "data": {
            "text/html": [
              "<div>\n",
              "<style scoped>\n",
              "    .dataframe tbody tr th:only-of-type {\n",
              "        vertical-align: middle;\n",
              "    }\n",
              "\n",
              "    .dataframe tbody tr th {\n",
              "        vertical-align: top;\n",
              "    }\n",
              "\n",
              "    .dataframe thead th {\n",
              "        text-align: right;\n",
              "    }\n",
              "</style>\n",
              "<table border=\"1\" class=\"dataframe\">\n",
              "  <thead>\n",
              "    <tr style=\"text-align: right;\">\n",
              "      <th></th>\n",
              "      <th>GROUP</th>\n",
              "      <th>SURVEY</th>\n",
              "      <th>SP</th>\n",
              "      <th>PURPOSE</th>\n",
              "      <th>FIRST</th>\n",
              "      <th>TICKET</th>\n",
              "      <th>WHO</th>\n",
              "      <th>LUGGAGE</th>\n",
              "      <th>AGE</th>\n",
              "      <th>MALE</th>\n",
              "      <th>INCOME</th>\n",
              "      <th>GA</th>\n",
              "      <th>ORIGIN</th>\n",
              "      <th>DEST</th>\n",
              "      <th>TRAIN_TT</th>\n",
              "      <th>TRAIN_CO</th>\n",
              "      <th>TRAIN_HE</th>\n",
              "      <th>SM_TT</th>\n",
              "      <th>SM_CO</th>\n",
              "      <th>SM_HE</th>\n",
              "      <th>SM_SEATS</th>\n",
              "      <th>CAR_TT</th>\n",
              "      <th>CAR_CO</th>\n",
              "      <th>CHOICE</th>\n",
              "      <th>TRAIN_CO_GA</th>\n",
              "      <th>SM_CO_GA</th>\n",
              "    </tr>\n",
              "  </thead>\n",
              "  <tbody>\n",
              "    <tr>\n",
              "      <th>8273</th>\n",
              "      <td>3</td>\n",
              "      <td>1</td>\n",
              "      <td>1</td>\n",
              "      <td>3</td>\n",
              "      <td>1</td>\n",
              "      <td>3</td>\n",
              "      <td>2</td>\n",
              "      <td>1</td>\n",
              "      <td>4</td>\n",
              "      <td>1</td>\n",
              "      <td>3</td>\n",
              "      <td>0</td>\n",
              "      <td>22</td>\n",
              "      <td>17</td>\n",
              "      <td>300</td>\n",
              "      <td>202</td>\n",
              "      <td>30</td>\n",
              "      <td>143</td>\n",
              "      <td>274</td>\n",
              "      <td>20</td>\n",
              "      <td>0</td>\n",
              "      <td>312</td>\n",
              "      <td>140</td>\n",
              "      <td>2</td>\n",
              "      <td>202</td>\n",
              "      <td>274</td>\n",
              "    </tr>\n",
              "  </tbody>\n",
              "</table>\n",
              "</div>"
            ],
            "text/plain": [
              "      GROUP  SURVEY  SP  PURPOSE  ...  CAR_CO  CHOICE  TRAIN_CO_GA  SM_CO_GA\n",
              "8273      3       1   1        3  ...     140       2          202       274\n",
              "\n",
              "[1 rows x 26 columns]"
            ]
          },
          "metadata": {},
          "execution_count": 68
        }
      ]
    },
    {
      "cell_type": "markdown",
      "metadata": {
        "id": "jpbuhR4A37FE"
      },
      "source": [
        "The prediction of the model, it predicts 2=Swismetro"
      ]
    },
    {
      "cell_type": "code",
      "metadata": {
        "colab": {
          "base_uri": "https://localhost:8080/"
        },
        "id": "dOhSgcxJ3Qo_",
        "outputId": "31b39d18-a1db-435f-bc3c-da7f14b9818f"
      },
      "source": [
        "dec_tree.predict( observ.drop('CHOICE', axis=1))"
      ],
      "execution_count": 69,
      "outputs": [
        {
          "output_type": "execute_result",
          "data": {
            "text/plain": [
              "array([[0, 1, 0]], dtype=uint8)"
            ]
          },
          "metadata": {},
          "execution_count": 69
        }
      ]
    },
    {
      "cell_type": "markdown",
      "metadata": {
        "id": "riAOl9q44Fgj"
      },
      "source": [
        "Create a 'new dataset' by creating synthetic observations that are 'close' to the observation we want to explain, but not exactly the same."
      ]
    },
    {
      "cell_type": "code",
      "metadata": {
        "id": "tXZPBI2j5EEx"
      },
      "source": [
        "#sw_train.mean(axis=0)"
      ],
      "execution_count": 70,
      "outputs": []
    },
    {
      "cell_type": "code",
      "metadata": {
        "colab": {
          "base_uri": "https://localhost:8080/"
        },
        "id": "V1N2ov2t5S5s",
        "outputId": "b398f866-c779-4165-8cf0-de66b62ef844"
      },
      "source": [
        "stdcols = sw_train.std(axis=0)\n",
        "stdcols"
      ],
      "execution_count": 71,
      "outputs": [
        {
          "output_type": "execute_result",
          "data": {
            "text/plain": [
              "GROUP             0.481452\n",
              "SURVEY            0.481452\n",
              "SP                0.000000\n",
              "PURPOSE           1.158699\n",
              "FIRST             0.499305\n",
              "TICKET            2.199147\n",
              "WHO               0.709973\n",
              "LUGGAGE           0.605438\n",
              "AGE               1.030948\n",
              "MALE              0.432337\n",
              "INCOME            0.942083\n",
              "GA                0.347465\n",
              "ORIGIN           10.156168\n",
              "DEST              9.735157\n",
              "TRAIN_TT         76.908112\n",
              "TRAIN_CO       1080.259882\n",
              "TRAIN_HE         37.463203\n",
              "SM_TT            52.761652\n",
              "SM_CO          1437.426119\n",
              "SM_HE             8.148195\n",
              "SM_SEATS          0.323128\n",
              "CAR_TT           86.710388\n",
              "CAR_CO           55.099929\n",
              "CHOICE            0.634084\n",
              "TRAIN_CO_GA      68.550145\n",
              "SM_CO_GA         84.500802\n",
              "dtype: float64"
            ]
          },
          "metadata": {},
          "execution_count": 71
        }
      ]
    },
    {
      "cell_type": "code",
      "metadata": {
        "colab": {
          "base_uri": "https://localhost:8080/"
        },
        "id": "0gEkKHXc6cjH",
        "outputId": "db565042-eca4-4fec-976e-20a8727b475e"
      },
      "source": [
        "random.gauss(0, stdcols['SURVEY'])*0.1"
      ],
      "execution_count": 72,
      "outputs": [
        {
          "output_type": "execute_result",
          "data": {
            "text/plain": [
              "0.01457504689270748"
            ]
          },
          "metadata": {},
          "execution_count": 72
        }
      ]
    },
    {
      "cell_type": "code",
      "metadata": {
        "id": "km4ZbBb1Aqc9"
      },
      "source": [
        "NEIGHBOURHOOD = 0.3\n"
      ],
      "execution_count": 88,
      "outputs": []
    },
    {
      "cell_type": "code",
      "metadata": {
        "colab": {
          "base_uri": "https://localhost:8080/",
          "height": 437
        },
        "id": "UaflRr1BDnBU",
        "outputId": "0601b7a3-4d02-48fd-af8f-c3702410d921"
      },
      "source": [
        "\n",
        "neighb_observ = pd.DataFrame(np.repeat(observ.values, 1000, axis=0))\n",
        "neighb_observ.columns = observ.columns\n",
        "\n",
        "neighb_observ"
      ],
      "execution_count": 89,
      "outputs": [
        {
          "output_type": "execute_result",
          "data": {
            "text/html": [
              "<div>\n",
              "<style scoped>\n",
              "    .dataframe tbody tr th:only-of-type {\n",
              "        vertical-align: middle;\n",
              "    }\n",
              "\n",
              "    .dataframe tbody tr th {\n",
              "        vertical-align: top;\n",
              "    }\n",
              "\n",
              "    .dataframe thead th {\n",
              "        text-align: right;\n",
              "    }\n",
              "</style>\n",
              "<table border=\"1\" class=\"dataframe\">\n",
              "  <thead>\n",
              "    <tr style=\"text-align: right;\">\n",
              "      <th></th>\n",
              "      <th>GROUP</th>\n",
              "      <th>SURVEY</th>\n",
              "      <th>SP</th>\n",
              "      <th>PURPOSE</th>\n",
              "      <th>FIRST</th>\n",
              "      <th>TICKET</th>\n",
              "      <th>WHO</th>\n",
              "      <th>LUGGAGE</th>\n",
              "      <th>AGE</th>\n",
              "      <th>MALE</th>\n",
              "      <th>INCOME</th>\n",
              "      <th>GA</th>\n",
              "      <th>ORIGIN</th>\n",
              "      <th>DEST</th>\n",
              "      <th>TRAIN_TT</th>\n",
              "      <th>TRAIN_CO</th>\n",
              "      <th>TRAIN_HE</th>\n",
              "      <th>SM_TT</th>\n",
              "      <th>SM_CO</th>\n",
              "      <th>SM_HE</th>\n",
              "      <th>SM_SEATS</th>\n",
              "      <th>CAR_TT</th>\n",
              "      <th>CAR_CO</th>\n",
              "      <th>CHOICE</th>\n",
              "      <th>TRAIN_CO_GA</th>\n",
              "      <th>SM_CO_GA</th>\n",
              "    </tr>\n",
              "  </thead>\n",
              "  <tbody>\n",
              "    <tr>\n",
              "      <th>0</th>\n",
              "      <td>3</td>\n",
              "      <td>1</td>\n",
              "      <td>1</td>\n",
              "      <td>3</td>\n",
              "      <td>1</td>\n",
              "      <td>3</td>\n",
              "      <td>2</td>\n",
              "      <td>1</td>\n",
              "      <td>4</td>\n",
              "      <td>1</td>\n",
              "      <td>3</td>\n",
              "      <td>0</td>\n",
              "      <td>22</td>\n",
              "      <td>17</td>\n",
              "      <td>300</td>\n",
              "      <td>202</td>\n",
              "      <td>30</td>\n",
              "      <td>143</td>\n",
              "      <td>274</td>\n",
              "      <td>20</td>\n",
              "      <td>0</td>\n",
              "      <td>312</td>\n",
              "      <td>140</td>\n",
              "      <td>2</td>\n",
              "      <td>202</td>\n",
              "      <td>274</td>\n",
              "    </tr>\n",
              "    <tr>\n",
              "      <th>1</th>\n",
              "      <td>3</td>\n",
              "      <td>1</td>\n",
              "      <td>1</td>\n",
              "      <td>3</td>\n",
              "      <td>1</td>\n",
              "      <td>3</td>\n",
              "      <td>2</td>\n",
              "      <td>1</td>\n",
              "      <td>4</td>\n",
              "      <td>1</td>\n",
              "      <td>3</td>\n",
              "      <td>0</td>\n",
              "      <td>22</td>\n",
              "      <td>17</td>\n",
              "      <td>300</td>\n",
              "      <td>202</td>\n",
              "      <td>30</td>\n",
              "      <td>143</td>\n",
              "      <td>274</td>\n",
              "      <td>20</td>\n",
              "      <td>0</td>\n",
              "      <td>312</td>\n",
              "      <td>140</td>\n",
              "      <td>2</td>\n",
              "      <td>202</td>\n",
              "      <td>274</td>\n",
              "    </tr>\n",
              "    <tr>\n",
              "      <th>2</th>\n",
              "      <td>3</td>\n",
              "      <td>1</td>\n",
              "      <td>1</td>\n",
              "      <td>3</td>\n",
              "      <td>1</td>\n",
              "      <td>3</td>\n",
              "      <td>2</td>\n",
              "      <td>1</td>\n",
              "      <td>4</td>\n",
              "      <td>1</td>\n",
              "      <td>3</td>\n",
              "      <td>0</td>\n",
              "      <td>22</td>\n",
              "      <td>17</td>\n",
              "      <td>300</td>\n",
              "      <td>202</td>\n",
              "      <td>30</td>\n",
              "      <td>143</td>\n",
              "      <td>274</td>\n",
              "      <td>20</td>\n",
              "      <td>0</td>\n",
              "      <td>312</td>\n",
              "      <td>140</td>\n",
              "      <td>2</td>\n",
              "      <td>202</td>\n",
              "      <td>274</td>\n",
              "    </tr>\n",
              "    <tr>\n",
              "      <th>3</th>\n",
              "      <td>3</td>\n",
              "      <td>1</td>\n",
              "      <td>1</td>\n",
              "      <td>3</td>\n",
              "      <td>1</td>\n",
              "      <td>3</td>\n",
              "      <td>2</td>\n",
              "      <td>1</td>\n",
              "      <td>4</td>\n",
              "      <td>1</td>\n",
              "      <td>3</td>\n",
              "      <td>0</td>\n",
              "      <td>22</td>\n",
              "      <td>17</td>\n",
              "      <td>300</td>\n",
              "      <td>202</td>\n",
              "      <td>30</td>\n",
              "      <td>143</td>\n",
              "      <td>274</td>\n",
              "      <td>20</td>\n",
              "      <td>0</td>\n",
              "      <td>312</td>\n",
              "      <td>140</td>\n",
              "      <td>2</td>\n",
              "      <td>202</td>\n",
              "      <td>274</td>\n",
              "    </tr>\n",
              "    <tr>\n",
              "      <th>4</th>\n",
              "      <td>3</td>\n",
              "      <td>1</td>\n",
              "      <td>1</td>\n",
              "      <td>3</td>\n",
              "      <td>1</td>\n",
              "      <td>3</td>\n",
              "      <td>2</td>\n",
              "      <td>1</td>\n",
              "      <td>4</td>\n",
              "      <td>1</td>\n",
              "      <td>3</td>\n",
              "      <td>0</td>\n",
              "      <td>22</td>\n",
              "      <td>17</td>\n",
              "      <td>300</td>\n",
              "      <td>202</td>\n",
              "      <td>30</td>\n",
              "      <td>143</td>\n",
              "      <td>274</td>\n",
              "      <td>20</td>\n",
              "      <td>0</td>\n",
              "      <td>312</td>\n",
              "      <td>140</td>\n",
              "      <td>2</td>\n",
              "      <td>202</td>\n",
              "      <td>274</td>\n",
              "    </tr>\n",
              "    <tr>\n",
              "      <th>...</th>\n",
              "      <td>...</td>\n",
              "      <td>...</td>\n",
              "      <td>...</td>\n",
              "      <td>...</td>\n",
              "      <td>...</td>\n",
              "      <td>...</td>\n",
              "      <td>...</td>\n",
              "      <td>...</td>\n",
              "      <td>...</td>\n",
              "      <td>...</td>\n",
              "      <td>...</td>\n",
              "      <td>...</td>\n",
              "      <td>...</td>\n",
              "      <td>...</td>\n",
              "      <td>...</td>\n",
              "      <td>...</td>\n",
              "      <td>...</td>\n",
              "      <td>...</td>\n",
              "      <td>...</td>\n",
              "      <td>...</td>\n",
              "      <td>...</td>\n",
              "      <td>...</td>\n",
              "      <td>...</td>\n",
              "      <td>...</td>\n",
              "      <td>...</td>\n",
              "      <td>...</td>\n",
              "    </tr>\n",
              "    <tr>\n",
              "      <th>995</th>\n",
              "      <td>3</td>\n",
              "      <td>1</td>\n",
              "      <td>1</td>\n",
              "      <td>3</td>\n",
              "      <td>1</td>\n",
              "      <td>3</td>\n",
              "      <td>2</td>\n",
              "      <td>1</td>\n",
              "      <td>4</td>\n",
              "      <td>1</td>\n",
              "      <td>3</td>\n",
              "      <td>0</td>\n",
              "      <td>22</td>\n",
              "      <td>17</td>\n",
              "      <td>300</td>\n",
              "      <td>202</td>\n",
              "      <td>30</td>\n",
              "      <td>143</td>\n",
              "      <td>274</td>\n",
              "      <td>20</td>\n",
              "      <td>0</td>\n",
              "      <td>312</td>\n",
              "      <td>140</td>\n",
              "      <td>2</td>\n",
              "      <td>202</td>\n",
              "      <td>274</td>\n",
              "    </tr>\n",
              "    <tr>\n",
              "      <th>996</th>\n",
              "      <td>3</td>\n",
              "      <td>1</td>\n",
              "      <td>1</td>\n",
              "      <td>3</td>\n",
              "      <td>1</td>\n",
              "      <td>3</td>\n",
              "      <td>2</td>\n",
              "      <td>1</td>\n",
              "      <td>4</td>\n",
              "      <td>1</td>\n",
              "      <td>3</td>\n",
              "      <td>0</td>\n",
              "      <td>22</td>\n",
              "      <td>17</td>\n",
              "      <td>300</td>\n",
              "      <td>202</td>\n",
              "      <td>30</td>\n",
              "      <td>143</td>\n",
              "      <td>274</td>\n",
              "      <td>20</td>\n",
              "      <td>0</td>\n",
              "      <td>312</td>\n",
              "      <td>140</td>\n",
              "      <td>2</td>\n",
              "      <td>202</td>\n",
              "      <td>274</td>\n",
              "    </tr>\n",
              "    <tr>\n",
              "      <th>997</th>\n",
              "      <td>3</td>\n",
              "      <td>1</td>\n",
              "      <td>1</td>\n",
              "      <td>3</td>\n",
              "      <td>1</td>\n",
              "      <td>3</td>\n",
              "      <td>2</td>\n",
              "      <td>1</td>\n",
              "      <td>4</td>\n",
              "      <td>1</td>\n",
              "      <td>3</td>\n",
              "      <td>0</td>\n",
              "      <td>22</td>\n",
              "      <td>17</td>\n",
              "      <td>300</td>\n",
              "      <td>202</td>\n",
              "      <td>30</td>\n",
              "      <td>143</td>\n",
              "      <td>274</td>\n",
              "      <td>20</td>\n",
              "      <td>0</td>\n",
              "      <td>312</td>\n",
              "      <td>140</td>\n",
              "      <td>2</td>\n",
              "      <td>202</td>\n",
              "      <td>274</td>\n",
              "    </tr>\n",
              "    <tr>\n",
              "      <th>998</th>\n",
              "      <td>3</td>\n",
              "      <td>1</td>\n",
              "      <td>1</td>\n",
              "      <td>3</td>\n",
              "      <td>1</td>\n",
              "      <td>3</td>\n",
              "      <td>2</td>\n",
              "      <td>1</td>\n",
              "      <td>4</td>\n",
              "      <td>1</td>\n",
              "      <td>3</td>\n",
              "      <td>0</td>\n",
              "      <td>22</td>\n",
              "      <td>17</td>\n",
              "      <td>300</td>\n",
              "      <td>202</td>\n",
              "      <td>30</td>\n",
              "      <td>143</td>\n",
              "      <td>274</td>\n",
              "      <td>20</td>\n",
              "      <td>0</td>\n",
              "      <td>312</td>\n",
              "      <td>140</td>\n",
              "      <td>2</td>\n",
              "      <td>202</td>\n",
              "      <td>274</td>\n",
              "    </tr>\n",
              "    <tr>\n",
              "      <th>999</th>\n",
              "      <td>3</td>\n",
              "      <td>1</td>\n",
              "      <td>1</td>\n",
              "      <td>3</td>\n",
              "      <td>1</td>\n",
              "      <td>3</td>\n",
              "      <td>2</td>\n",
              "      <td>1</td>\n",
              "      <td>4</td>\n",
              "      <td>1</td>\n",
              "      <td>3</td>\n",
              "      <td>0</td>\n",
              "      <td>22</td>\n",
              "      <td>17</td>\n",
              "      <td>300</td>\n",
              "      <td>202</td>\n",
              "      <td>30</td>\n",
              "      <td>143</td>\n",
              "      <td>274</td>\n",
              "      <td>20</td>\n",
              "      <td>0</td>\n",
              "      <td>312</td>\n",
              "      <td>140</td>\n",
              "      <td>2</td>\n",
              "      <td>202</td>\n",
              "      <td>274</td>\n",
              "    </tr>\n",
              "  </tbody>\n",
              "</table>\n",
              "<p>1000 rows × 26 columns</p>\n",
              "</div>"
            ],
            "text/plain": [
              "     GROUP  SURVEY  SP  PURPOSE  ...  CAR_CO  CHOICE  TRAIN_CO_GA  SM_CO_GA\n",
              "0        3       1   1        3  ...     140       2          202       274\n",
              "1        3       1   1        3  ...     140       2          202       274\n",
              "2        3       1   1        3  ...     140       2          202       274\n",
              "3        3       1   1        3  ...     140       2          202       274\n",
              "4        3       1   1        3  ...     140       2          202       274\n",
              "..     ...     ...  ..      ...  ...     ...     ...          ...       ...\n",
              "995      3       1   1        3  ...     140       2          202       274\n",
              "996      3       1   1        3  ...     140       2          202       274\n",
              "997      3       1   1        3  ...     140       2          202       274\n",
              "998      3       1   1        3  ...     140       2          202       274\n",
              "999      3       1   1        3  ...     140       2          202       274\n",
              "\n",
              "[1000 rows x 26 columns]"
            ]
          },
          "metadata": {},
          "execution_count": 89
        }
      ]
    },
    {
      "cell_type": "code",
      "metadata": {
        "id": "gNNZmLQN8Ndl"
      },
      "source": [
        "import random\n",
        "\n",
        "\n",
        "for i, row in neighb_observ.iterrows():\n",
        "    #print(i)\n",
        "    #observ2.at[i,'ifor'] = 2\n",
        "    for column in neighb_observ.iloc[[i,]]:\n",
        "     #print(column)\n",
        "     neighb_observ.at[i, column] += random.gauss(0,stdcols[column]*NEIGHBOURHOOD)\n",
        "     #print(random.gauss(0,stdcols[column]*NEIGHBOURHOOD))\n",
        "     #print(observ2.at[i, column])"
      ],
      "execution_count": 90,
      "outputs": []
    },
    {
      "cell_type": "code",
      "metadata": {
        "id": "fucBA4gK_OaK"
      },
      "source": [
        "neighb_preds = dec_tree.predict( neighb_observ.drop('CHOICE', axis=1))"
      ],
      "execution_count": 91,
      "outputs": []
    },
    {
      "cell_type": "code",
      "metadata": {
        "id": "bszzaLkfCTH2"
      },
      "source": [
        "neighb_choices = pd.DataFrame(neighb_preds).idxmax(axis=1) + 1\n",
        "neighb_observ['CHOICE'] = neighb_choices"
      ],
      "execution_count": 92,
      "outputs": []
    },
    {
      "cell_type": "code",
      "metadata": {
        "id": "k7IbjBR7_cwY"
      },
      "source": [
        "model_lime, results_lime = qbus_estimate_bgm(V_sw, neighb_observ, 'CHOICE', 'lime_mnl')"
      ],
      "execution_count": 93,
      "outputs": []
    },
    {
      "cell_type": "code",
      "metadata": {
        "colab": {
          "base_uri": "https://localhost:8080/",
          "height": 357
        },
        "id": "ipc676ht_k3q",
        "outputId": "1bc34f57-4b53-4c25-e378-4f2eada10c1d"
      },
      "source": [
        "results_lime.getEstimatedParameters()"
      ],
      "execution_count": 94,
      "outputs": [
        {
          "output_type": "execute_result",
          "data": {
            "text/html": [
              "<div>\n",
              "<style scoped>\n",
              "    .dataframe tbody tr th:only-of-type {\n",
              "        vertical-align: middle;\n",
              "    }\n",
              "\n",
              "    .dataframe tbody tr th {\n",
              "        vertical-align: top;\n",
              "    }\n",
              "\n",
              "    .dataframe thead th {\n",
              "        text-align: right;\n",
              "    }\n",
              "</style>\n",
              "<table border=\"1\" class=\"dataframe\">\n",
              "  <thead>\n",
              "    <tr style=\"text-align: right;\">\n",
              "      <th></th>\n",
              "      <th>Value</th>\n",
              "      <th>Std err</th>\n",
              "      <th>t-test</th>\n",
              "      <th>p-value</th>\n",
              "      <th>Rob. Std err</th>\n",
              "      <th>Rob. t-test</th>\n",
              "      <th>Rob. p-value</th>\n",
              "    </tr>\n",
              "  </thead>\n",
              "  <tbody>\n",
              "    <tr>\n",
              "      <th>ASC_CAR</th>\n",
              "      <td>-1.816508</td>\n",
              "      <td>0.592694</td>\n",
              "      <td>-3.064834</td>\n",
              "      <td>2.177905e-03</td>\n",
              "      <td>0.602709</td>\n",
              "      <td>-3.013907</td>\n",
              "      <td>2.579066e-03</td>\n",
              "    </tr>\n",
              "    <tr>\n",
              "      <th>ASC_TRAIN</th>\n",
              "      <td>-3.640175</td>\n",
              "      <td>0.686685</td>\n",
              "      <td>-5.301085</td>\n",
              "      <td>1.151166e-07</td>\n",
              "      <td>0.706161</td>\n",
              "      <td>-5.154880</td>\n",
              "      <td>2.537928e-07</td>\n",
              "    </tr>\n",
              "    <tr>\n",
              "      <th>B_COST</th>\n",
              "      <td>-0.007796</td>\n",
              "      <td>0.002129</td>\n",
              "      <td>-3.662012</td>\n",
              "      <td>2.502423e-04</td>\n",
              "      <td>0.002157</td>\n",
              "      <td>-3.614231</td>\n",
              "      <td>3.012407e-04</td>\n",
              "    </tr>\n",
              "    <tr>\n",
              "      <th>B_INCOME_CAR</th>\n",
              "      <td>-0.529223</td>\n",
              "      <td>0.112977</td>\n",
              "      <td>-4.684329</td>\n",
              "      <td>2.808779e-06</td>\n",
              "      <td>0.113125</td>\n",
              "      <td>-4.678192</td>\n",
              "      <td>2.894152e-06</td>\n",
              "    </tr>\n",
              "    <tr>\n",
              "      <th>B_INCOME_SM</th>\n",
              "      <td>-0.283251</td>\n",
              "      <td>0.096162</td>\n",
              "      <td>-2.945561</td>\n",
              "      <td>3.223691e-03</td>\n",
              "      <td>0.096155</td>\n",
              "      <td>-2.945778</td>\n",
              "      <td>3.221435e-03</td>\n",
              "    </tr>\n",
              "    <tr>\n",
              "      <th>B_INCOME_TR</th>\n",
              "      <td>0.087489</td>\n",
              "      <td>0.144891</td>\n",
              "      <td>0.603826</td>\n",
              "      <td>5.459593e-01</td>\n",
              "      <td>0.145234</td>\n",
              "      <td>0.602399</td>\n",
              "      <td>5.469083e-01</td>\n",
              "    </tr>\n",
              "    <tr>\n",
              "      <th>B_MALE_CAR</th>\n",
              "      <td>0.034569</td>\n",
              "      <td>0.112699</td>\n",
              "      <td>0.306732</td>\n",
              "      <td>7.590473e-01</td>\n",
              "      <td>0.112779</td>\n",
              "      <td>0.306515</td>\n",
              "      <td>7.592128e-01</td>\n",
              "    </tr>\n",
              "    <tr>\n",
              "      <th>B_MALE_SM</th>\n",
              "      <td>-0.185080</td>\n",
              "      <td>0.095914</td>\n",
              "      <td>-1.929643</td>\n",
              "      <td>5.365106e-02</td>\n",
              "      <td>0.095810</td>\n",
              "      <td>-1.931739</td>\n",
              "      <td>5.339167e-02</td>\n",
              "    </tr>\n",
              "    <tr>\n",
              "      <th>B_MALE_TR</th>\n",
              "      <td>-0.236869</td>\n",
              "      <td>0.144347</td>\n",
              "      <td>-1.640965</td>\n",
              "      <td>1.008048e-01</td>\n",
              "      <td>0.144495</td>\n",
              "      <td>-1.639290</td>\n",
              "      <td>1.011528e-01</td>\n",
              "    </tr>\n",
              "    <tr>\n",
              "      <th>B_TIME</th>\n",
              "      <td>0.001672</td>\n",
              "      <td>0.002035</td>\n",
              "      <td>0.821383</td>\n",
              "      <td>4.114280e-01</td>\n",
              "      <td>0.002055</td>\n",
              "      <td>0.813562</td>\n",
              "      <td>4.158958e-01</td>\n",
              "    </tr>\n",
              "  </tbody>\n",
              "</table>\n",
              "</div>"
            ],
            "text/plain": [
              "                 Value   Std err  ...  Rob. t-test  Rob. p-value\n",
              "ASC_CAR      -1.816508  0.592694  ...    -3.013907  2.579066e-03\n",
              "ASC_TRAIN    -3.640175  0.686685  ...    -5.154880  2.537928e-07\n",
              "B_COST       -0.007796  0.002129  ...    -3.614231  3.012407e-04\n",
              "B_INCOME_CAR -0.529223  0.112977  ...    -4.678192  2.894152e-06\n",
              "B_INCOME_SM  -0.283251  0.096162  ...    -2.945778  3.221435e-03\n",
              "B_INCOME_TR   0.087489  0.144891  ...     0.602399  5.469083e-01\n",
              "B_MALE_CAR    0.034569  0.112699  ...     0.306515  7.592128e-01\n",
              "B_MALE_SM    -0.185080  0.095914  ...    -1.931739  5.339167e-02\n",
              "B_MALE_TR    -0.236869  0.144347  ...    -1.639290  1.011528e-01\n",
              "B_TIME        0.001672  0.002035  ...     0.813562  4.158958e-01\n",
              "\n",
              "[10 rows x 7 columns]"
            ]
          },
          "metadata": {},
          "execution_count": 94
        }
      ]
    },
    {
      "cell_type": "code",
      "metadata": {
        "colab": {
          "base_uri": "https://localhost:8080/",
          "height": 80
        },
        "id": "ACAh8tTS_pQU",
        "outputId": "88d24090-a876-4171-f98a-4db191447833"
      },
      "source": [
        "observ_sim = qbus_simulate_bgm(model_lime, results_lime.getBetaValues(), observ)\n",
        "observ_sim"
      ],
      "execution_count": 95,
      "outputs": [
        {
          "output_type": "execute_result",
          "data": {
            "text/html": [
              "<div>\n",
              "<style scoped>\n",
              "    .dataframe tbody tr th:only-of-type {\n",
              "        vertical-align: middle;\n",
              "    }\n",
              "\n",
              "    .dataframe tbody tr th {\n",
              "        vertical-align: top;\n",
              "    }\n",
              "\n",
              "    .dataframe thead th {\n",
              "        text-align: right;\n",
              "    }\n",
              "</style>\n",
              "<table border=\"1\" class=\"dataframe\">\n",
              "  <thead>\n",
              "    <tr style=\"text-align: right;\">\n",
              "      <th></th>\n",
              "      <th>1</th>\n",
              "      <th>2</th>\n",
              "      <th>3</th>\n",
              "    </tr>\n",
              "  </thead>\n",
              "  <tbody>\n",
              "    <tr>\n",
              "      <th>8273</th>\n",
              "      <td>0.112322</td>\n",
              "      <td>0.650284</td>\n",
              "      <td>0.237394</td>\n",
              "    </tr>\n",
              "  </tbody>\n",
              "</table>\n",
              "</div>"
            ],
            "text/plain": [
              "             1         2         3\n",
              "8273  0.112322  0.650284  0.237394"
            ]
          },
          "metadata": {},
          "execution_count": 95
        }
      ]
    }
  ]
}