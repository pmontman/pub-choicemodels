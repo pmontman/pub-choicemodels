{
  "nbformat": 4,
  "nbformat_minor": 0,
  "metadata": {
    "colab": {
      "name": "solu_practice_insemest",
      "provenance": [],
      "collapsed_sections": [],
      "authorship_tag": "ABX9TyOjTq8RYWk0afp9kXC7tcu6",
      "include_colab_link": true
    },
    "kernelspec": {
      "name": "python3",
      "display_name": "Python 3"
    },
    "language_info": {
      "name": "python"
    }
  },
  "cells": [
    {
      "cell_type": "markdown",
      "metadata": {
        "id": "view-in-github",
        "colab_type": "text"
      },
      "source": [
        "<a href=\"https://colab.research.google.com/github/pmontman/pub-choicemodels/blob/main/nb/solution/solu_practice_insemest.ipynb\" target=\"_parent\"><img src=\"https://colab.research.google.com/assets/colab-badge.svg\" alt=\"Open In Colab\"/></a>"
      ]
    },
    {
      "cell_type": "markdown",
      "metadata": {
        "id": "XuH9g6cHXkOE"
      },
      "source": [
        "# SOLUTION: PRACTICE for the QBUS3840 In-semester exam\n",
        "#NOTE 1: In the exercises, example answers are given in cursive, side comments are in normal font type. I have added an approximation of the marks for each question, indicating which questions are more important. The more important ones are the ones we estimate the models. Among the two complex model and comparison is the most important one. Then the what if scenarios and finally the smaller/quicker questions.\n",
        "# NOTE 2: This solution uses auxiliary functions, you are welcome to use them in the exam (just copy paste the cells somwhere before the questions begin) or create your own.\n",
        "---\n",
        "---\n"
      ]
    },
    {
      "cell_type": "markdown",
      "metadata": {
        "id": "Pv-X8N_hdJ07"
      },
      "source": [
        "\n",
        "# Rubric \n",
        "* The **marking scheme** is simple: Each question has a some points assigned. Then the points for each question are divided between\n",
        "  * Code: 50% is it works OK, 35% if minor problems, 20% it does not work but is well explained.\n",
        "  * Text explanations: 40% if it is: Clearly written. Complete, all points are addressed. Decisions are properly justified, the right reasons are given for the answer. Demonstrates knowledge of the topic, explaining nuances/ alternatives. Then it will degrade from 40% it is fails to achieve that.\n",
        "  * Appearance: the remaining 10%. Structure sections if needed. Properly sized inputs. Even mix of code cells and explanations instead of very few large cells. Code should be readable.\n"
      ]
    },
    {
      "cell_type": "markdown",
      "metadata": {
        "id": "lNCNO9FVS-rC"
      },
      "source": [
        "\n",
        "#Guidelines\n",
        "\n",
        "* The exam will be a colab notebook that you have o fill in, then upload to canvas.\n",
        "\n",
        "* You will have **90 minutes** to do the exam,  plus 15 minutes to upload. This is an **important point**, try to become familiar with the functions to run biogeme, pandas, numpy... Even if you have full access to the material of the course and can look at online programming forums for python issues, it might take some extra time. You can also prepare you own auxiliary functions to reduce the verbosity of biogeme. We will see this in the practice notebook.\n",
        "\n",
        "* **The questions will be very similar to what you will see in this practice notebook.** The point of the exam is to prove that you can do a basic analysis with a multinomial logit and use biogeme as a tool. The differenciation will come mostly in the type of data, what variables are involved and the 'what-if scenarios' questions.\n",
        "\n",
        "* The answers should be technically correct, but **the explanation in the text cells should demonstrate knowledge** of what you are doing. Why did you make that decision?. For example, a variable transformation, why do you choose that particular one? Why do you choose to add that variable to the model? What do you think it is going to do? After the results: Are the results as expected? Please do not be afraid of being 'too obvious' when explaining something.\n",
        "When explaining coefficients, Do these have the expected sign, what is the interpretation with respect to the reference alternative?\n",
        " A perfect code but no explanation will net you 50-60% of the marks. The opposite example, if you get stuck with a python issue but know 'conceptually' how to answer, writing a good text explanation and some pseudocode will potentially net you up to half marks.\n",
        "\n",
        "\n",
        "* There will be no data cleaning involved, and the dataset will have full availability, you can create a full availability dictionary to pass to biogeme by just setting all entries to 1. ` av = {1:1, 2:1, 3:1, ...}`. We will see this in the practice.\n",
        "\n",
        "* Please **do not to identify yourself explicitly in the anwers**, writing your name or student id. Besides that, you are free to express yourself.\n",
        "\n",
        "* The 'visual appearance' part of the exam stands for a small percentage of the mark, 10%. Try to clarify, do not leave very large code cells followed/ preceded by large text cells, try to interleave them so it is more natural to follow. Section you answers if they become long or address different topics. Do not write very long outputs, for example do not print the full dataset. It is critical that the main part of each answer is cleary identified with its own text cell and code cell. The bad example would be a large text cell explaining all the steps and the a large code cell that prints the output, with the answers in the middle of the code. Of course, if your answer does not require code (it might happen) do not force a code chunk in. The way I will mark the visual part is to read the notebook and if something stands out in a negative sense, this subtracts points.\n",
        "\n",
        "* There can be one or two small 'theoretical' questions that can be answered directly by understanding some theoretical concepts. The question can also\n",
        "be solved practically by estimating a model.\n",
        "\n",
        "* The dataset will be based on a real one with some modifications, it will be somewhat fictional.\n",
        "\n"
      ]
    },
    {
      "cell_type": "markdown",
      "metadata": {
        "id": "rxbeRIOOkIRc"
      },
      "source": [
        "# The practice problem\n",
        "\n",
        "We will model a dataset of choice of 'recreational fishing' mode, this is whether to go for a shipping trip in either the beach, the pier, a public charter boat or a private boat. The data was collected via phone interview and\n",
        "the attributes of the alternatives are the cost of the trip and the 'catch rate', the expected number of catches per hour for the particular species of fish that each fisher was targeting in their trip.\n",
        "The socio-economic characteristics is income, in fact the dataset was used to study different transformations of the income variable and how they influence utility, the larger consequences \n",
        "\n",
        "The reference study, including a more detailed description of the dataset ca be found [here (Section IV Data and references therein)](https://lib.dr.iastate.edu/cgi/viewcontent.cgi?article=1017&context=econ_las_pubs)\n",
        "\n",
        "## Description of the dataset\n",
        "\n",
        "Each row represents a different customer, customers are 'independent' of each other.\n",
        "\n",
        "The variables in the dataset are:\n",
        "\n",
        "**mode**: a categorical variable indicating the fishing model selected for the trip. It is encoded in numbers, with the code:\n",
        " 1. Beach\n",
        " 2. Pier\n",
        " 3. Private boat\n",
        " 4. Charter boat\n",
        "\n",
        "**price_x**:  Cost of the fishing mode, variable in dollars. Where x stands for one of the alternatives, e.g. price_beach is the cost of the fishing from the beach in one fishing trip.\n",
        "\n",
        "**catch_x**: Catch rate, in catches per hour. Where x stands for one of the alternatives, e.g. catch_beach is the catch rate of the beach alternative.\n",
        "\n",
        "**income**: Monthly income of the recreational fisher, in dollars.\n"
      ]
    },
    {
      "cell_type": "markdown",
      "metadata": {
        "id": "vb9SIunnASNB"
      },
      "source": [
        "---\n",
        "---\n",
        "\n",
        "# Preparing the environment\n",
        "*The preparation and dataset loading code is given to the students*"
      ]
    },
    {
      "cell_type": "code",
      "metadata": {
        "colab": {
          "base_uri": "https://localhost:8080/"
        },
        "id": "j5zHGhgErHPd",
        "outputId": "66841da2-d6c4-44fe-85a3-f94008938f05"
      },
      "source": [
        "!pip install biogeme"
      ],
      "execution_count": 1,
      "outputs": [
        {
          "output_type": "stream",
          "name": "stdout",
          "text": [
            "Requirement already satisfied: biogeme in /usr/local/lib/python3.7/dist-packages (3.2.8)\n",
            "Requirement already satisfied: numpy in /usr/local/lib/python3.7/dist-packages (from biogeme) (1.19.5)\n",
            "Requirement already satisfied: pandas in /usr/local/lib/python3.7/dist-packages (from biogeme) (1.1.5)\n",
            "Requirement already satisfied: tqdm in /usr/local/lib/python3.7/dist-packages (from biogeme) (4.62.0)\n",
            "Requirement already satisfied: cython in /usr/local/lib/python3.7/dist-packages (from biogeme) (0.29.24)\n",
            "Requirement already satisfied: scipy in /usr/local/lib/python3.7/dist-packages (from biogeme) (1.4.1)\n",
            "Requirement already satisfied: unidecode in /usr/local/lib/python3.7/dist-packages (from biogeme) (1.3.1)\n",
            "Requirement already satisfied: pytz>=2017.2 in /usr/local/lib/python3.7/dist-packages (from pandas->biogeme) (2018.9)\n",
            "Requirement already satisfied: python-dateutil>=2.7.3 in /usr/local/lib/python3.7/dist-packages (from pandas->biogeme) (2.8.2)\n",
            "Requirement already satisfied: six>=1.5 in /usr/local/lib/python3.7/dist-packages (from python-dateutil>=2.7.3->pandas->biogeme) (1.15.0)\n"
          ]
        }
      ]
    },
    {
      "cell_type": "markdown",
      "metadata": {
        "id": "1z0X9xZ8rChf"
      },
      "source": [
        "Load the packages, feel free to change the names."
      ]
    },
    {
      "cell_type": "code",
      "metadata": {
        "id": "apVB-TMkrFnb"
      },
      "source": [
        "import pandas  as pd\n",
        "import numpy as np\n",
        "import matplotlib.pyplot as plt\n",
        "\n",
        "import biogeme.database as db\n",
        "import biogeme.biogeme as bio\n",
        "import biogeme.models as models\n",
        "import biogeme.expressions as exp\n",
        "import biogeme.tools as tools"
      ],
      "execution_count": 2,
      "outputs": []
    },
    {
      "cell_type": "markdown",
      "metadata": {
        "id": "Mgv0hV1YAieW"
      },
      "source": [
        "# Load the dataset"
      ]
    },
    {
      "cell_type": "code",
      "metadata": {
        "id": "g1Ykn5Ytr7Rs"
      },
      "source": [
        "path = 'https://raw.githubusercontent.com/pmontman/pub-choicemodels/main/data/fishing.csv'\n",
        "fish_pd = pd.read_csv(path)"
      ],
      "execution_count": 3,
      "outputs": []
    },
    {
      "cell_type": "markdown",
      "metadata": {
        "id": "ZY55r3Gesb3t"
      },
      "source": [
        "A simple look at the dataset."
      ]
    },
    {
      "cell_type": "code",
      "metadata": {
        "colab": {
          "base_uri": "https://localhost:8080/",
          "height": 203
        },
        "id": "ldkmnMhssemT",
        "outputId": "020e3cf7-7b88-4810-d060-3c1e09386492"
      },
      "source": [
        "fish_pd.head(5)"
      ],
      "execution_count": 4,
      "outputs": [
        {
          "output_type": "execute_result",
          "data": {
            "text/html": [
              "<div>\n",
              "<style scoped>\n",
              "    .dataframe tbody tr th:only-of-type {\n",
              "        vertical-align: middle;\n",
              "    }\n",
              "\n",
              "    .dataframe tbody tr th {\n",
              "        vertical-align: top;\n",
              "    }\n",
              "\n",
              "    .dataframe thead th {\n",
              "        text-align: right;\n",
              "    }\n",
              "</style>\n",
              "<table border=\"1\" class=\"dataframe\">\n",
              "  <thead>\n",
              "    <tr style=\"text-align: right;\">\n",
              "      <th></th>\n",
              "      <th>mode</th>\n",
              "      <th>price_beach</th>\n",
              "      <th>price_pier</th>\n",
              "      <th>price_boat</th>\n",
              "      <th>price_charter</th>\n",
              "      <th>catch_beach</th>\n",
              "      <th>catch_pier</th>\n",
              "      <th>catch_boat</th>\n",
              "      <th>catch_charter</th>\n",
              "      <th>income</th>\n",
              "    </tr>\n",
              "  </thead>\n",
              "  <tbody>\n",
              "    <tr>\n",
              "      <th>0</th>\n",
              "      <td>4</td>\n",
              "      <td>157.930</td>\n",
              "      <td>157.930</td>\n",
              "      <td>157.930</td>\n",
              "      <td>182.930</td>\n",
              "      <td>0.0678</td>\n",
              "      <td>0.0503</td>\n",
              "      <td>0.2601</td>\n",
              "      <td>0.5391</td>\n",
              "      <td>7083.3317</td>\n",
              "    </tr>\n",
              "    <tr>\n",
              "      <th>1</th>\n",
              "      <td>4</td>\n",
              "      <td>15.114</td>\n",
              "      <td>15.114</td>\n",
              "      <td>10.534</td>\n",
              "      <td>34.534</td>\n",
              "      <td>0.1049</td>\n",
              "      <td>0.0451</td>\n",
              "      <td>0.1574</td>\n",
              "      <td>0.4671</td>\n",
              "      <td>1249.9998</td>\n",
              "    </tr>\n",
              "    <tr>\n",
              "      <th>2</th>\n",
              "      <td>3</td>\n",
              "      <td>161.874</td>\n",
              "      <td>161.874</td>\n",
              "      <td>24.334</td>\n",
              "      <td>59.334</td>\n",
              "      <td>0.5333</td>\n",
              "      <td>0.4522</td>\n",
              "      <td>0.2413</td>\n",
              "      <td>1.0266</td>\n",
              "      <td>3749.9999</td>\n",
              "    </tr>\n",
              "    <tr>\n",
              "      <th>3</th>\n",
              "      <td>2</td>\n",
              "      <td>15.134</td>\n",
              "      <td>15.134</td>\n",
              "      <td>55.930</td>\n",
              "      <td>84.930</td>\n",
              "      <td>0.0678</td>\n",
              "      <td>0.0789</td>\n",
              "      <td>0.1643</td>\n",
              "      <td>0.5391</td>\n",
              "      <td>2083.3332</td>\n",
              "    </tr>\n",
              "    <tr>\n",
              "      <th>4</th>\n",
              "      <td>3</td>\n",
              "      <td>106.930</td>\n",
              "      <td>106.930</td>\n",
              "      <td>41.514</td>\n",
              "      <td>71.014</td>\n",
              "      <td>0.0678</td>\n",
              "      <td>0.0503</td>\n",
              "      <td>0.1082</td>\n",
              "      <td>0.3240</td>\n",
              "      <td>4583.3320</td>\n",
              "    </tr>\n",
              "  </tbody>\n",
              "</table>\n",
              "</div>"
            ],
            "text/plain": [
              "   mode  price_beach  price_pier  ...  catch_boat  catch_charter     income\n",
              "0     4      157.930     157.930  ...      0.2601         0.5391  7083.3317\n",
              "1     4       15.114      15.114  ...      0.1574         0.4671  1249.9998\n",
              "2     3      161.874     161.874  ...      0.2413         1.0266  3749.9999\n",
              "3     2       15.134      15.134  ...      0.1643         0.5391  2083.3332\n",
              "4     3      106.930     106.930  ...      0.1082         0.3240  4583.3320\n",
              "\n",
              "[5 rows x 10 columns]"
            ]
          },
          "metadata": {},
          "execution_count": 4
        }
      ]
    },
    {
      "cell_type": "markdown",
      "metadata": {
        "id": "YEJvXwpekbvd"
      },
      "source": [
        "---\n",
        "---\n",
        "\n",
        "# Auxiliary functions"
      ]
    },
    {
      "cell_type": "markdown",
      "metadata": {
        "id": "CKyKA_dj-IVp"
      },
      "source": [
        "The first function takes the dictionary of utilities, a pandas dataframe, and the name of the variable that contains the variable with the results of the choice. It returns the biogeme object with the model and the estimated 'results' object (the one we get the values, likelihoods, etc.)\n",
        "We have added the dictionary with the utilities to the biogeme object, in case we use it later."
      ]
    },
    {
      "cell_type": "code",
      "metadata": {
        "id": "0OQ1ls2Bi_ot"
      },
      "source": [
        "def qbus_estimate_bgm(V, pd_df, tgtvar_name, modelname='bgmdef'):\n",
        " av = {1: 1,\n",
        "       2: 1,\n",
        "       3: 1,\n",
        "       4: 1}\n",
        " bgm_db = db.Database(modelname + '_db', pd_df)\n",
        " globals().update(bgm_db.variables)\n",
        " logprob = models.loglogit (V , av , bgm_db.variables[tgtvar_name] )\n",
        " bgm_model = bio.BIOGEME ( bgm_db, logprob )\n",
        " bgm_model.utility_dic = V.copy()\n",
        " return bgm_model, bgm_model.estimate()"
      ],
      "execution_count": 5,
      "outputs": []
    },
    {
      "cell_type": "markdown",
      "metadata": {
        "id": "dM2f5-0w-_4b"
      },
      "source": [
        "The next function will calculate the predictions for a given biogeme object that was estimated with `qbus_estimate_bgm`. The output is the array with the choice probabilities. From the choice probabilities, this can be used to calculate accuracies, confusion matrices and the output of what-if scenarios."
      ]
    },
    {
      "cell_type": "code",
      "metadata": {
        "id": "O4Iau_IHHCzc"
      },
      "source": [
        "def qbus_simulate_bgm(qbus_bgm_model, betas, pred_pd_df):\n",
        "  av_auto = qbus_bgm_model.utility_dic.copy()\n",
        "  for key, value in av_auto.items():\n",
        "   av_auto[key] = 1\n",
        "\n",
        "  targets = qbus_bgm_model.utility_dic.copy()\n",
        "  for key, value in targets.items():\n",
        "   targets[key] = models.logit(qbus_bgm_model.utility_dic, av_auto, key)\n",
        "\n",
        "  bgm_db = db.Database('simul', pred_pd_df)\n",
        "  globals().update(bgm_db.variables)\n",
        "  bgm_pred_model = bio.BIOGEME(bgm_db, targets)\n",
        "  simulatedValues = bgm_pred_model.simulate(betas)\n",
        "  return simulatedValues"
      ],
      "execution_count": 6,
      "outputs": []
    },
    {
      "cell_type": "markdown",
      "metadata": {
        "id": "AnBLUPi-DjU7"
      },
      "source": [
        "The function `qbus_calc_accu_confusion` calculates the accuracies given the choice probability predictions a pandas dataset and the specification of the name that contains the actual choices in the input dataset."
      ]
    },
    {
      "cell_type": "code",
      "metadata": {
        "id": "m9l5cDGkzsfJ"
      },
      "source": [
        "def qbus_calc_accu_confusion(sim_probs, pd_df, choice_var):\n",
        "  which_max = sim_probs.idxmax(axis=1)\n",
        "  data = {'y_Actual':   pd_df[choice_var],\n",
        "          'y_Predicted': which_max\n",
        "        }\n",
        "\n",
        "  df = pd.DataFrame(data, columns=['y_Actual','y_Predicted'])\n",
        "  confusion_matrix = pd.crosstab(df['y_Actual'], df['y_Predicted'], rownames=['Actual'], colnames=['Predicted'])\n",
        "  accu = np.mean(which_max == pd_df[choice_var])\n",
        "  return accu, confusion_matrix "
      ],
      "execution_count": 7,
      "outputs": []
    },
    {
      "cell_type": "markdown",
      "metadata": {
        "id": "dYfxQpYLDzgm"
      },
      "source": [
        "The next function calculates the likelihood ratio test having to write a bit less code that the default biogeme function. The arguments are the results objects of the two models to be compared. The first is the more complex and the second is the reference model (**the order is important!**). The third argument is the significance level for the test."
      ]
    },
    {
      "cell_type": "code",
      "metadata": {
        "id": "GUNVxPmK3rF2"
      },
      "source": [
        "def qbus_likeli_ratio_test_bgm(results_complex, results_reference, signif_level):\n",
        "  return tools.likelihood_ratio_test( (results_complex.data.logLike, results_complex.data.nparam),\n",
        "                                     (results_reference.data.logLike, results_reference.data.nparam), signif_level)"
      ],
      "execution_count": 8,
      "outputs": []
    },
    {
      "cell_type": "markdown",
      "metadata": {
        "id": "5b7TaMhCEZIZ"
      },
      "source": [
        "The next function just updates the globals so we can use it "
      ]
    },
    {
      "cell_type": "code",
      "metadata": {
        "id": "PfHXGoLS1yHX"
      },
      "source": [
        "def qbus_update_globals_bgm(pd_df):\n",
        "   globals().update(db.Database('tmp_bg_bgm_for_glob', pd_df).variables)"
      ],
      "execution_count": 9,
      "outputs": []
    },
    {
      "cell_type": "markdown",
      "metadata": {
        "id": "Ya_1zth9vEX1"
      },
      "source": [
        "---\n",
        "---\n",
        "\n",
        "# 1) **(2 points)** Adjust a model with alternative specific constants and shared parameters for price and catch rate. Select one of the alternatives as the reference (pick the one that you prefer). Comment on the results: Signs of the variables and alternative specific constants."
      ]
    },
    {
      "cell_type": "markdown",
      "metadata": {
        "id": "Ifb-PqIRHNo-"
      },
      "source": [
        "*We create the expression for the betas, the parameters of the model. The absolute levels of utilities cannot be completely recovered when estimating the model from observed choice. We can set one of the alternatives as the reference and fix the value of its alternative specific constant to 0. We choose the alternative 'charter boat' as reference, we will interpret the results of the ASC if positive as 'more utility than the reference for the same values of price and catch rate.' Negative values as 'less utility than the reference for the same values of price and catch rate'.*"
      ]
    },
    {
      "cell_type": "code",
      "metadata": {
        "id": "SeRgbCnbG4aD"
      },
      "source": [
        "ASC_beach = exp.Beta ( 'ASC_beach' ,0, None , None ,0)\n",
        "ASC_pier = exp.Beta ( 'ASC_pier' ,0, None , None ,0)\n",
        "ASC_boat = exp.Beta ( 'ASC_boat' ,0, None , None ,0)\n",
        "ASC_charter = exp.Beta ( 'ASC_charter' ,0, None , None ,1)\n",
        "B_price = exp.Beta ( 'B_price' ,0, None , None ,0)\n",
        "B_catch = exp.Beta ( 'B_catch' ,0, None , None ,0)"
      ],
      "execution_count": 10,
      "outputs": []
    },
    {
      "cell_type": "markdown",
      "metadata": {
        "id": "-TWj2oDaHE0R"
      },
      "source": [
        "We need to update the globals of the python environment so we can later define the utilities directly."
      ]
    },
    {
      "cell_type": "code",
      "metadata": {
        "id": "XDPllyLIijIy"
      },
      "source": [
        "qbus_update_globals_bgm(fish_pd)"
      ],
      "execution_count": 11,
      "outputs": []
    },
    {
      "cell_type": "markdown",
      "metadata": {
        "id": "96Ap3k2hJEDM"
      },
      "source": [
        "We define the observed utilities functional forms and create the dictionary that groups them together and assign each one to the number that identifies each alternative in the dataset."
      ]
    },
    {
      "cell_type": "code",
      "metadata": {
        "id": "HG_YkIVy2NbS"
      },
      "source": [
        "V_beach = ASC_beach + B_price*price_beach + B_catch*catch_beach\n",
        "V_pier = ASC_pier + B_price*price_pier + B_catch*catch_pier\n",
        "V_boat = ASC_boat + B_price*price_boat + B_catch*catch_boat\n",
        "V_charter = ASC_charter + B_price*price_charter + B_catch*catch_charter\n",
        "\n",
        "V_base = {1: V_beach,\n",
        "     2: V_pier,\n",
        "     3: V_boat,\n",
        "     4: V_charter}"
      ],
      "execution_count": 12,
      "outputs": []
    },
    {
      "cell_type": "markdown",
      "metadata": {
        "id": "N-2rehflJkgO"
      },
      "source": [
        "The estimate the model using our auxiliary function. We pass the utilities dictionary, the pandas dataframe with the data and the name of the variable in the dataframe that contains the choices. The fourth argument is optional and indicates the name for the model.\n",
        "The output will be two objects, the biogeme object and the results object."
      ]
    },
    {
      "cell_type": "code",
      "metadata": {
        "id": "_J5poICol34Q"
      },
      "source": [
        "model_base, results_base = qbus_estimate_bgm(V_base, fish_pd, 'mode', 'fish')"
      ],
      "execution_count": 13,
      "outputs": []
    },
    {
      "cell_type": "markdown",
      "metadata": {
        "id": "iLvskc0KKEZu"
      },
      "source": [
        "*The estimated the coefficients show:*\n",
        " * *The estimated 'ASC' are all negative, indicating that they have less utility than the reference for the same catch rate and price. The lowest utility comes from the beach alternative, the boat then pier and then charter boat and the reference charter with 0.*\n",
        " * *The coefficients of the variables have the expected signs. The beta for catch_rate is positive, indicating that the higher the catch rate, the more utility for that alternative. The beta for price is negative, indicating that utility goes down when the price increases*"
      ]
    },
    {
      "cell_type": "code",
      "metadata": {
        "colab": {
          "base_uri": "https://localhost:8080/",
          "height": 203
        },
        "id": "_qu_aguema04",
        "outputId": "4a5fee3b-60fc-4d9c-c6ee-600853afd21e"
      },
      "source": [
        "results_base.getEstimatedParameters()"
      ],
      "execution_count": 15,
      "outputs": [
        {
          "output_type": "execute_result",
          "data": {
            "text/html": [
              "<div>\n",
              "<style scoped>\n",
              "    .dataframe tbody tr th:only-of-type {\n",
              "        vertical-align: middle;\n",
              "    }\n",
              "\n",
              "    .dataframe tbody tr th {\n",
              "        vertical-align: top;\n",
              "    }\n",
              "\n",
              "    .dataframe thead th {\n",
              "        text-align: right;\n",
              "    }\n",
              "</style>\n",
              "<table border=\"1\" class=\"dataframe\">\n",
              "  <thead>\n",
              "    <tr style=\"text-align: right;\">\n",
              "      <th></th>\n",
              "      <th>Value</th>\n",
              "      <th>Std err</th>\n",
              "      <th>t-test</th>\n",
              "      <th>p-value</th>\n",
              "      <th>Rob. Std err</th>\n",
              "      <th>Rob. t-test</th>\n",
              "      <th>Rob. p-value</th>\n",
              "    </tr>\n",
              "  </thead>\n",
              "  <tbody>\n",
              "    <tr>\n",
              "      <th>ASC_beach</th>\n",
              "      <td>-1.498816</td>\n",
              "      <td>0.132932</td>\n",
              "      <td>-11.275065</td>\n",
              "      <td>0.000000e+00</td>\n",
              "      <td>0.129701</td>\n",
              "      <td>-11.555891</td>\n",
              "      <td>0.000000e+00</td>\n",
              "    </tr>\n",
              "    <tr>\n",
              "      <th>ASC_boat</th>\n",
              "      <td>-0.627436</td>\n",
              "      <td>0.100813</td>\n",
              "      <td>-6.223784</td>\n",
              "      <td>4.853047e-10</td>\n",
              "      <td>0.116826</td>\n",
              "      <td>-5.370689</td>\n",
              "      <td>7.843658e-08</td>\n",
              "    </tr>\n",
              "    <tr>\n",
              "      <th>ASC_pier</th>\n",
              "      <td>-1.191772</td>\n",
              "      <td>0.128483</td>\n",
              "      <td>-9.275746</td>\n",
              "      <td>0.000000e+00</td>\n",
              "      <td>0.128327</td>\n",
              "      <td>-9.287024</td>\n",
              "      <td>0.000000e+00</td>\n",
              "    </tr>\n",
              "    <tr>\n",
              "      <th>B_catch</th>\n",
              "      <td>0.377260</td>\n",
              "      <td>0.109971</td>\n",
              "      <td>3.430535</td>\n",
              "      <td>6.023927e-04</td>\n",
              "      <td>0.119248</td>\n",
              "      <td>3.163658</td>\n",
              "      <td>1.557997e-03</td>\n",
              "    </tr>\n",
              "    <tr>\n",
              "      <th>B_price</th>\n",
              "      <td>-0.024789</td>\n",
              "      <td>0.001704</td>\n",
              "      <td>-14.544404</td>\n",
              "      <td>0.000000e+00</td>\n",
              "      <td>0.002329</td>\n",
              "      <td>-10.645311</td>\n",
              "      <td>0.000000e+00</td>\n",
              "    </tr>\n",
              "  </tbody>\n",
              "</table>\n",
              "</div>"
            ],
            "text/plain": [
              "              Value   Std err  ...  Rob. t-test  Rob. p-value\n",
              "ASC_beach -1.498816  0.132932  ...   -11.555891  0.000000e+00\n",
              "ASC_boat  -0.627436  0.100813  ...    -5.370689  7.843658e-08\n",
              "ASC_pier  -1.191772  0.128483  ...    -9.287024  0.000000e+00\n",
              "B_catch    0.377260  0.109971  ...     3.163658  1.557997e-03\n",
              "B_price   -0.024789  0.001704  ...   -10.645311  0.000000e+00\n",
              "\n",
              "[5 rows x 7 columns]"
            ]
          },
          "metadata": {},
          "execution_count": 15
        }
      ]
    },
    {
      "cell_type": "markdown",
      "metadata": {
        "id": "mdDsNIDw54DR"
      },
      "source": [
        "---\n",
        "---\n",
        "\n",
        "# 2) **(1 point)** Calculate the willingness to pay for increasing the catch rate and comment on the interpretation\n",
        "\n"
      ]
    },
    {
      "cell_type": "markdown",
      "metadata": {
        "id": "H4nEh7XoNT0C"
      },
      "source": [
        "*Because it is a purely linear specification of the utilities, we can quickly compute the WTP as the ratio of the estimated coefficients. A value of -15 indicates that the individuals are willing to pay 15 dollars for an increase the catch rate of 1 capture per hour.* (Comment not required for the exam: The WTP seems a little small, considering that most catch rates are small numbers below 1, maybe a more detailed model would do better.)"
      ]
    },
    {
      "cell_type": "code",
      "metadata": {
        "id": "50-uEFlTG3jR",
        "colab": {
          "base_uri": "https://localhost:8080/"
        },
        "outputId": "3782e8e2-8545-40df-8600-1ec4e850ac57"
      },
      "source": [
        "betas = results_base.getBetaValues()\n",
        "betas['B_catch'] / betas['B_price']"
      ],
      "execution_count": 17,
      "outputs": [
        {
          "output_type": "execute_result",
          "data": {
            "text/plain": [
              "-15.218808331546718"
            ]
          },
          "metadata": {},
          "execution_count": 17
        }
      ]
    },
    {
      "cell_type": "markdown",
      "metadata": {
        "id": "va6FLcr4nOCi"
      },
      "source": [
        "---\n",
        "---\n",
        "\n",
        "# 3) **(3 points)** Fit per-alernative parameters for cost and catch rate. Pick one variable that has not been considered and create a model, apply a transformation of your choosing and estimate a new model. Comment on the results and compare the new model to the model in Exercise 1. What changes are relevant? Is the new model a better fit?\n"
      ]
    },
    {
      "cell_type": "markdown",
      "metadata": {
        "id": "HKMNFNJIOc_m"
      },
      "source": [
        "*We add the income variable in the next code cell, it will be introduced into the model with a logarithm transformation because we expect differences at the higher levels of income to be less important than differences at the lower levels of income.* (Note for the exam: you could have picked other variables, maybe more than one, or even transform the cost variable or catch rate, just be aware of it in the what if scenarios.)"
      ]
    },
    {
      "cell_type": "code",
      "metadata": {
        "id": "Jq5fH38GG-iP",
        "colab": {
          "base_uri": "https://localhost:8080/"
        },
        "outputId": "1bfd47bd-3b20-4b13-aa97-2df0910bed27"
      },
      "source": [
        "fish_adv = fish_pd.copy()\n",
        "fish_adv['log_income'] = np.log(fish_adv['income'])\n",
        "fish_adv['log_income'].describe()"
      ],
      "execution_count": 18,
      "outputs": [
        {
          "output_type": "execute_result",
          "data": {
            "text/plain": [
              "count    1182.000000\n",
              "mean        8.130302\n",
              "std         0.659004\n",
              "min         6.032287\n",
              "25%         7.641724\n",
              "50%         8.229511\n",
              "75%         8.597236\n",
              "max         9.433484\n",
              "Name: log_income, dtype: float64"
            ]
          },
          "metadata": {},
          "execution_count": 18
        }
      ]
    },
    {
      "cell_type": "code",
      "metadata": {
        "id": "it8p_SZqovQx"
      },
      "source": [
        "B_price_beach = exp.Beta ( 'B_price_beach' ,0, None , None ,0)\n",
        "B_price_pier = exp.Beta ( 'B_price_pier' ,0, None , None ,0)\n",
        "B_price_boat = exp.Beta ( 'B_price_boat' ,0, None , None ,0)\n",
        "B_price_charter = exp.Beta ( 'B_price_charter' ,0, None , None ,0)\n",
        "\n",
        "B_catch_beach = exp.Beta ( 'B_catch_beach' ,0, None , None ,0)\n",
        "B_catch_pier = exp.Beta ( 'B_catch_pier' ,0, None , None ,0)\n",
        "B_catch_boat = exp.Beta ( 'B_catch_boat' ,0, None , None ,0)\n",
        "B_catch_charter = exp.Beta ( 'B_catch_charter' ,0, None , None ,0)\n",
        "\n",
        "B_log_income_beach = exp.Beta ( 'B_log_income_beach' ,0, None , None ,0)\n",
        "B_log_income_pier = exp.Beta ( 'B_log_income_pier' ,0, None , None ,0)\n",
        "B_log_income_boat = exp.Beta ( 'B_log_income_boat' ,0, None , None ,0)\n",
        "B_log_income_charter = exp.Beta ( 'B_log_income_charter' ,0, None , None ,0)\n"
      ],
      "execution_count": 19,
      "outputs": []
    },
    {
      "cell_type": "code",
      "metadata": {
        "id": "9WV9j2YSlePZ"
      },
      "source": [
        "qbus_update_globals_bgm(fish_adv)"
      ],
      "execution_count": 20,
      "outputs": []
    },
    {
      "cell_type": "markdown",
      "metadata": {
        "id": "zGHML4qwSHAs"
      },
      "source": [
        "The next cell is going to be the most verbose cell in the whole exam."
      ]
    },
    {
      "cell_type": "code",
      "metadata": {
        "id": "ApBCHkE2le9o"
      },
      "source": [
        "\n",
        "V_beach_adv = ASC_beach + B_price_beach*price_beach + B_catch_beach*catch_beach + B_log_income_beach*log_income\n",
        "V_pier_adv = ASC_pier + B_price_pier*price_pier + B_catch_pier*catch_pier + B_log_income_pier*log_income\n",
        "V_boat_adv = ASC_boat + B_price_boat*price_boat + B_catch_boat*catch_boat + B_log_income_boat*log_income\n",
        "V_charter_adv = ASC_charter + B_price_charter*price_charter + B_catch_charter*catch_charter + B_log_income_charter*log_income\n",
        "\n",
        "V_adv = {1: V_beach_adv,\n",
        "     2: V_pier_adv,\n",
        "     3: V_boat_adv,\n",
        "     4: V_charter_adv}"
      ],
      "execution_count": 21,
      "outputs": []
    },
    {
      "cell_type": "code",
      "metadata": {
        "id": "AtF4GJ1Urdv4"
      },
      "source": [
        "model_adv, results_adv = qbus_estimate_bgm(V_adv, fish_adv, 'mode', 'fish_adv')"
      ],
      "execution_count": 22,
      "outputs": []
    },
    {
      "cell_type": "markdown",
      "metadata": {
        "id": "xlgLvWGiPk1l"
      },
      "source": [
        "Here we should add some basic comments on the results, some examples, you do need to put that many.:\n",
        "* *The relative order for the ASCs is the same as the reference model.*\n",
        "* *There is a large difference on the estimated coefficients for the catch rate, this influence might be behind the poor WTP estimation.*\n",
        "* *The income variable seem to be influential, and its sign changes among alternatives. The influence of income is small on pier and private boat alternatives. The influence of income if much larger for beach and charter alternatives. Income increases the utility of the beach alternative and decreases the utility of boat alternative. The richer you are, the less utility you derive for the charter boat.* (Non exam comment: Maybe rich people do not like to be sharing the small space of a boat... and they go to exotic beaches)\n",
        "* *A quick calculation of the WTP, now they are more reasonable, the WTP for catch rate in the charter boat is close to 45.*\n"
      ]
    },
    {
      "cell_type": "code",
      "metadata": {
        "colab": {
          "base_uri": "https://localhost:8080/",
          "height": 511
        },
        "id": "DExVqSNrruTY",
        "outputId": "40d1d78a-ea49-46e1-a674-0fbb8fb70b2d"
      },
      "source": [
        "results_adv.getEstimatedParameters()"
      ],
      "execution_count": 23,
      "outputs": [
        {
          "output_type": "execute_result",
          "data": {
            "text/html": [
              "<div>\n",
              "<style scoped>\n",
              "    .dataframe tbody tr th:only-of-type {\n",
              "        vertical-align: middle;\n",
              "    }\n",
              "\n",
              "    .dataframe tbody tr th {\n",
              "        vertical-align: top;\n",
              "    }\n",
              "\n",
              "    .dataframe thead th {\n",
              "        text-align: right;\n",
              "    }\n",
              "</style>\n",
              "<table border=\"1\" class=\"dataframe\">\n",
              "  <thead>\n",
              "    <tr style=\"text-align: right;\">\n",
              "      <th></th>\n",
              "      <th>Value</th>\n",
              "      <th>Std err</th>\n",
              "      <th>t-test</th>\n",
              "      <th>p-value</th>\n",
              "      <th>Rob. Std err</th>\n",
              "      <th>Rob. t-test</th>\n",
              "      <th>Rob. p-value</th>\n",
              "    </tr>\n",
              "  </thead>\n",
              "  <tbody>\n",
              "    <tr>\n",
              "      <th>ASC_beach</th>\n",
              "      <td>-7.171868</td>\n",
              "      <td>1.613966</td>\n",
              "      <td>-4.443631</td>\n",
              "      <td>8.845346e-06</td>\n",
              "      <td>1.626179</td>\n",
              "      <td>-4.410258</td>\n",
              "      <td>1.032475e-05</td>\n",
              "    </tr>\n",
              "    <tr>\n",
              "      <th>ASC_boat</th>\n",
              "      <td>-4.337085</td>\n",
              "      <td>0.967960</td>\n",
              "      <td>-4.480646</td>\n",
              "      <td>7.441741e-06</td>\n",
              "      <td>1.012171</td>\n",
              "      <td>-4.284934</td>\n",
              "      <td>1.827932e-05</td>\n",
              "    </tr>\n",
              "    <tr>\n",
              "      <th>ASC_pier</th>\n",
              "      <td>-2.835298</td>\n",
              "      <td>1.352290</td>\n",
              "      <td>-2.096664</td>\n",
              "      <td>3.602334e-02</td>\n",
              "      <td>1.315092</td>\n",
              "      <td>-2.155969</td>\n",
              "      <td>3.108608e-02</td>\n",
              "    </tr>\n",
              "    <tr>\n",
              "      <th>B_catch_beach</th>\n",
              "      <td>4.906266</td>\n",
              "      <td>0.837669</td>\n",
              "      <td>5.857045</td>\n",
              "      <td>4.711742e-09</td>\n",
              "      <td>0.865580</td>\n",
              "      <td>5.668181</td>\n",
              "      <td>1.443218e-08</td>\n",
              "    </tr>\n",
              "    <tr>\n",
              "      <th>B_catch_boat</th>\n",
              "      <td>2.463131</td>\n",
              "      <td>0.515911</td>\n",
              "      <td>4.774338</td>\n",
              "      <td>1.802997e-06</td>\n",
              "      <td>0.454590</td>\n",
              "      <td>5.418362</td>\n",
              "      <td>6.014749e-08</td>\n",
              "    </tr>\n",
              "    <tr>\n",
              "      <th>B_catch_charter</th>\n",
              "      <td>0.759677</td>\n",
              "      <td>0.151785</td>\n",
              "      <td>5.004942</td>\n",
              "      <td>5.587880e-07</td>\n",
              "      <td>0.138569</td>\n",
              "      <td>5.482296</td>\n",
              "      <td>4.198417e-08</td>\n",
              "    </tr>\n",
              "    <tr>\n",
              "      <th>B_catch_pier</th>\n",
              "      <td>4.796185</td>\n",
              "      <td>0.915286</td>\n",
              "      <td>5.240093</td>\n",
              "      <td>1.604957e-07</td>\n",
              "      <td>0.912223</td>\n",
              "      <td>5.257687</td>\n",
              "      <td>1.458785e-07</td>\n",
              "    </tr>\n",
              "    <tr>\n",
              "      <th>B_log_income_beach</th>\n",
              "      <td>0.383767</td>\n",
              "      <td>0.130415</td>\n",
              "      <td>2.942669</td>\n",
              "      <td>3.253960e-03</td>\n",
              "      <td>0.134649</td>\n",
              "      <td>2.850137</td>\n",
              "      <td>4.370037e-03</td>\n",
              "    </tr>\n",
              "    <tr>\n",
              "      <th>B_log_income_boat</th>\n",
              "      <td>0.089198</td>\n",
              "      <td>0.103822</td>\n",
              "      <td>0.859135</td>\n",
              "      <td>3.902659e-01</td>\n",
              "      <td>0.106887</td>\n",
              "      <td>0.834501</td>\n",
              "      <td>4.039988e-01</td>\n",
              "    </tr>\n",
              "    <tr>\n",
              "      <th>B_log_income_charter</th>\n",
              "      <td>-0.398370</td>\n",
              "      <td>0.094467</td>\n",
              "      <td>-4.217023</td>\n",
              "      <td>2.475482e-05</td>\n",
              "      <td>0.090828</td>\n",
              "      <td>-4.385965</td>\n",
              "      <td>1.154729e-05</td>\n",
              "    </tr>\n",
              "    <tr>\n",
              "      <th>B_log_income_pier</th>\n",
              "      <td>-0.074594</td>\n",
              "      <td>0.108938</td>\n",
              "      <td>-0.684740</td>\n",
              "      <td>4.935083e-01</td>\n",
              "      <td>0.109705</td>\n",
              "      <td>-0.679950</td>\n",
              "      <td>4.965361e-01</td>\n",
              "    </tr>\n",
              "    <tr>\n",
              "      <th>B_price_beach</th>\n",
              "      <td>-0.037732</td>\n",
              "      <td>0.003303</td>\n",
              "      <td>-11.424444</td>\n",
              "      <td>0.000000e+00</td>\n",
              "      <td>0.004059</td>\n",
              "      <td>-9.296371</td>\n",
              "      <td>0.000000e+00</td>\n",
              "    </tr>\n",
              "    <tr>\n",
              "      <th>B_price_boat</th>\n",
              "      <td>-0.020929</td>\n",
              "      <td>0.002163</td>\n",
              "      <td>-9.675602</td>\n",
              "      <td>0.000000e+00</td>\n",
              "      <td>0.002762</td>\n",
              "      <td>-7.576881</td>\n",
              "      <td>3.530509e-14</td>\n",
              "    </tr>\n",
              "    <tr>\n",
              "      <th>B_price_charter</th>\n",
              "      <td>-0.017023</td>\n",
              "      <td>0.001976</td>\n",
              "      <td>-8.615031</td>\n",
              "      <td>0.000000e+00</td>\n",
              "      <td>0.002282</td>\n",
              "      <td>-7.458798</td>\n",
              "      <td>8.726353e-14</td>\n",
              "    </tr>\n",
              "    <tr>\n",
              "      <th>B_price_pier</th>\n",
              "      <td>-0.039254</td>\n",
              "      <td>0.003273</td>\n",
              "      <td>-11.994187</td>\n",
              "      <td>0.000000e+00</td>\n",
              "      <td>0.003772</td>\n",
              "      <td>-10.407913</td>\n",
              "      <td>0.000000e+00</td>\n",
              "    </tr>\n",
              "  </tbody>\n",
              "</table>\n",
              "</div>"
            ],
            "text/plain": [
              "                         Value   Std err  ...  Rob. t-test  Rob. p-value\n",
              "ASC_beach            -7.171868  1.613966  ...    -4.410258  1.032475e-05\n",
              "ASC_boat             -4.337085  0.967960  ...    -4.284934  1.827932e-05\n",
              "ASC_pier             -2.835298  1.352290  ...    -2.155969  3.108608e-02\n",
              "B_catch_beach         4.906266  0.837669  ...     5.668181  1.443218e-08\n",
              "B_catch_boat          2.463131  0.515911  ...     5.418362  6.014749e-08\n",
              "B_catch_charter       0.759677  0.151785  ...     5.482296  4.198417e-08\n",
              "B_catch_pier          4.796185  0.915286  ...     5.257687  1.458785e-07\n",
              "B_log_income_beach    0.383767  0.130415  ...     2.850137  4.370037e-03\n",
              "B_log_income_boat     0.089198  0.103822  ...     0.834501  4.039988e-01\n",
              "B_log_income_charter -0.398370  0.094467  ...    -4.385965  1.154729e-05\n",
              "B_log_income_pier    -0.074594  0.108938  ...    -0.679950  4.965361e-01\n",
              "B_price_beach        -0.037732  0.003303  ...    -9.296371  0.000000e+00\n",
              "B_price_boat         -0.020929  0.002163  ...    -7.576881  3.530509e-14\n",
              "B_price_charter      -0.017023  0.001976  ...    -7.458798  8.726353e-14\n",
              "B_price_pier         -0.039254  0.003273  ...   -10.407913  0.000000e+00\n",
              "\n",
              "[15 rows x 7 columns]"
            ]
          },
          "metadata": {},
          "execution_count": 23
        }
      ]
    },
    {
      "cell_type": "markdown",
      "metadata": {
        "id": "D0EFtu5KPUR4"
      },
      "source": [
        "*To compare the models we will use the likelihood ratio test, the rejection that we see indicates that the more complex model is a better fit than the reference.*"
      ]
    },
    {
      "cell_type": "code",
      "metadata": {
        "colab": {
          "base_uri": "https://localhost:8080/"
        },
        "id": "oQhomadr4xTN",
        "outputId": "5cb18a0a-ae87-4410-ba2c-4617e4ca2e1b"
      },
      "source": [
        "qbus_likeli_ratio_test_bgm(results_adv, results_base, 0.95)"
      ],
      "execution_count": 24,
      "outputs": [
        {
          "output_type": "execute_result",
          "data": {
            "text/plain": [
              "('H0 can be rejected at level 0.95', 127.03194749593331, 18.307038053275146)"
            ]
          },
          "metadata": {},
          "execution_count": 24
        }
      ]
    },
    {
      "cell_type": "markdown",
      "metadata": {
        "id": "ZrERT0Lnm44E"
      },
      "source": [
        "---\n",
        "---\n",
        "\n",
        "# 4) (**1 point**) Calculate the predictions of that model and confusion matrix, comment on the results\n"
      ]
    },
    {
      "cell_type": "code",
      "metadata": {
        "id": "0dZBmeF6xeJO"
      },
      "source": [
        "prob_preds = qbus_simulate_bgm(model_adv, results_adv.getBetaValues(), fish_adv)"
      ],
      "execution_count": 25,
      "outputs": []
    },
    {
      "cell_type": "markdown",
      "metadata": {
        "id": "TVE1FiEwQuay"
      },
      "source": [
        "*We get a predictive accuracy of 0.49, the model correctly predicts which alternative is going to be chosen close to 50% of the time.*"
      ]
    },
    {
      "cell_type": "code",
      "metadata": {
        "colab": {
          "base_uri": "https://localhost:8080/"
        },
        "id": "XbusOFlq5IL3",
        "outputId": "501a2916-e1bd-4043-dfd9-0e8cb4b110a4"
      },
      "source": [
        "accu, conf_mat = qbus_calc_accu_confusion(prob_preds, fish_adv, 'mode')\n",
        "accu"
      ],
      "execution_count": 26,
      "outputs": [
        {
          "output_type": "execute_result",
          "data": {
            "text/plain": [
              "0.48646362098138746"
            ]
          },
          "metadata": {},
          "execution_count": 26
        }
      ]
    },
    {
      "cell_type": "markdown",
      "metadata": {
        "id": "xBa0jGg7buhd"
      },
      "source": [
        " *An accurary of 49% represents an improvement over a baseline of predicting 'always charter boat', would get an accuracy of 38% (in the cell below).*"
      ]
    },
    {
      "cell_type": "code",
      "metadata": {
        "colab": {
          "base_uri": "https://localhost:8080/"
        },
        "id": "uP43wF6kbNBl",
        "outputId": "6aed6b1c-a07b-4249-dc09-ac33540ca507"
      },
      "source": [
        "fish_adv['mode'].value_counts() / fish_adv.shape[0]"
      ],
      "execution_count": 43,
      "outputs": [
        {
          "output_type": "execute_result",
          "data": {
            "text/plain": [
              "4    0.382403\n",
              "3    0.353638\n",
              "2    0.150592\n",
              "1    0.113367\n",
              "Name: mode, dtype: float64"
            ]
          },
          "metadata": {},
          "execution_count": 43
        }
      ]
    },
    {
      "cell_type": "markdown",
      "metadata": {
        "id": "vvy_Ag32Q80l"
      },
      "source": [
        "*The confusion matrix shows two clear groupings, one group is  'beach and pier' and the second group is 'the boats'. We see thaat the majority prediction errors produced in each group goes to the other alternative within each group. For example, errors when prediciting beach are often prediction of pier and vice-versa.*"
      ]
    },
    {
      "cell_type": "code",
      "metadata": {
        "colab": {
          "base_uri": "https://localhost:8080/",
          "height": 203
        },
        "id": "KgfrMeqt06-f",
        "outputId": "c4e3b82e-90dd-4797-9e3e-9de266b4e132"
      },
      "source": [
        "conf_mat"
      ],
      "execution_count": 27,
      "outputs": [
        {
          "output_type": "execute_result",
          "data": {
            "text/html": [
              "<div>\n",
              "<style scoped>\n",
              "    .dataframe tbody tr th:only-of-type {\n",
              "        vertical-align: middle;\n",
              "    }\n",
              "\n",
              "    .dataframe tbody tr th {\n",
              "        vertical-align: top;\n",
              "    }\n",
              "\n",
              "    .dataframe thead th {\n",
              "        text-align: right;\n",
              "    }\n",
              "</style>\n",
              "<table border=\"1\" class=\"dataframe\">\n",
              "  <thead>\n",
              "    <tr style=\"text-align: right;\">\n",
              "      <th>Predicted</th>\n",
              "      <th>1</th>\n",
              "      <th>2</th>\n",
              "      <th>3</th>\n",
              "      <th>4</th>\n",
              "    </tr>\n",
              "    <tr>\n",
              "      <th>Actual</th>\n",
              "      <th></th>\n",
              "      <th></th>\n",
              "      <th></th>\n",
              "      <th></th>\n",
              "    </tr>\n",
              "  </thead>\n",
              "  <tbody>\n",
              "    <tr>\n",
              "      <th>1</th>\n",
              "      <td>21</td>\n",
              "      <td>68</td>\n",
              "      <td>16</td>\n",
              "      <td>29</td>\n",
              "    </tr>\n",
              "    <tr>\n",
              "      <th>2</th>\n",
              "      <td>18</td>\n",
              "      <td>97</td>\n",
              "      <td>19</td>\n",
              "      <td>44</td>\n",
              "    </tr>\n",
              "    <tr>\n",
              "      <th>3</th>\n",
              "      <td>4</td>\n",
              "      <td>25</td>\n",
              "      <td>195</td>\n",
              "      <td>194</td>\n",
              "    </tr>\n",
              "    <tr>\n",
              "      <th>4</th>\n",
              "      <td>7</td>\n",
              "      <td>29</td>\n",
              "      <td>154</td>\n",
              "      <td>262</td>\n",
              "    </tr>\n",
              "  </tbody>\n",
              "</table>\n",
              "</div>"
            ],
            "text/plain": [
              "Predicted   1   2    3    4\n",
              "Actual                     \n",
              "1          21  68   16   29\n",
              "2          18  97   19   44\n",
              "3           4  25  195  194\n",
              "4           7  29  154  262"
            ]
          },
          "metadata": {},
          "execution_count": 27
        }
      ]
    },
    {
      "cell_type": "markdown",
      "metadata": {
        "id": "GakjB3brH3oX"
      },
      "source": [
        "---\n",
        "---\n",
        "\n",
        "# 5) (**2 points**) Suppose that the company that runs the charter boats is offering a 75% discount for the population with a monthly income under 2100 dollars. What would be the market share of the new situation?"
      ]
    },
    {
      "cell_type": "markdown",
      "metadata": {
        "id": "dcjdtrnnRYeC"
      },
      "source": [
        "*We create a new dataset representing teh what if scenario. We modifify the price of the charter alternative only for the individuals that have income below 2100*"
      ]
    },
    {
      "cell_type": "code",
      "metadata": {
        "id": "JRYpnoSvHQx3"
      },
      "source": [
        "fish_dis = fish_adv.copy()\n",
        "fish_dis.loc[fish_dis['income'] < 2100, 'price_charter'] *= 0.25"
      ],
      "execution_count": 35,
      "outputs": []
    },
    {
      "cell_type": "markdown",
      "metadata": {
        "id": "Rkq6YeI8Rpto"
      },
      "source": [
        "*We calculate the market share as the average of the choice probabilities of each alternative predicted by the model in the what-if scenario dataset.*"
      ]
    },
    {
      "cell_type": "code",
      "metadata": {
        "colab": {
          "base_uri": "https://localhost:8080/"
        },
        "id": "8ZKsV5IC1LN8",
        "outputId": "fe633477-660f-44d8-887f-43fae0d910ab"
      },
      "source": [
        "qbus_simulate_bgm(model_adv, results_adv.getBetaValues(), fish_dis).mean(axis=0)"
      ],
      "execution_count": 36,
      "outputs": [
        {
          "output_type": "execute_result",
          "data": {
            "text/plain": [
              "1    0.106240\n",
              "2    0.137633\n",
              "3    0.334779\n",
              "4    0.421348\n",
              "dtype: float64"
            ]
          },
          "metadata": {},
          "execution_count": 36
        }
      ]
    },
    {
      "cell_type": "markdown",
      "metadata": {
        "id": "nSsLi1JeR1eR"
      },
      "source": [
        "*Comparing to the reference scenario, shown below, the market share of the charter boat has gone up by 4 points.*"
      ]
    },
    {
      "cell_type": "code",
      "metadata": {
        "colab": {
          "base_uri": "https://localhost:8080/"
        },
        "id": "7DdJcmu17omx",
        "outputId": "8a93bffc-237d-4aab-c31b-f8121ab411ab"
      },
      "source": [
        "qbus_simulate_bgm(model_adv, results_adv.getBetaValues(), fish_adv).mean(axis=0)"
      ],
      "execution_count": 37,
      "outputs": [
        {
          "output_type": "execute_result",
          "data": {
            "text/plain": [
              "1    0.113367\n",
              "2    0.150592\n",
              "3    0.353638\n",
              "4    0.382403\n",
              "dtype: float64"
            ]
          },
          "metadata": {},
          "execution_count": 37
        }
      ]
    },
    {
      "cell_type": "markdown",
      "metadata": {
        "id": "OHSmC50TuJst"
      },
      "source": [
        "---\n",
        "---\n",
        "\n",
        "# 6) (**2 points**) Due to poor weather conditions at sea, the fishing trips that go farther away from the coast (both private and charter boats) are going to cut capture rate by half during the season. What would be the expected impact in the total revenue from fishing trips during the season (assume that everythin else stays the same (the same fishers still go for a trip and the remaining variables do not change)"
      ]
    },
    {
      "cell_type": "markdown",
      "metadata": {
        "id": "BSp8cNpcTUcD"
      },
      "source": [
        "*We create a dataset with the values for the variables `catch_boat` and `catch_charter` reduced by half. To calculate the expected revenue, we calculate the choice probabilities predicted by the model and multiply them by the prices of each alternative, the total revenue will be the sum of that.*"
      ]
    },
    {
      "cell_type": "code",
      "metadata": {
        "id": "UrhJGa5ZHPgs",
        "colab": {
          "base_uri": "https://localhost:8080/"
        },
        "outputId": "a5eb53c1-916e-49bb-ddff-b2584b615c9f"
      },
      "source": [
        "fish_weather = fish_adv.copy()\n",
        "fish_weather['catch_boat'] *= 0.5\n",
        "fish_weather['catch_charter'] *= 0.5\n",
        "\n",
        "\n",
        "preds = qbus_simulate_bgm(model_adv, results_adv.getBetaValues(), fish_weather)\n",
        "\n",
        "\n",
        "rev = preds.to_numpy() * fish_weather[ ['price_beach', 'price_pier', 'price_boat', 'price_charter']].to_numpy()\n",
        "rev.sum()"
      ],
      "execution_count": 38,
      "outputs": [
        {
          "output_type": "execute_result",
          "data": {
            "text/plain": [
              "60880.18889849981"
            ]
          },
          "metadata": {},
          "execution_count": 38
        }
      ]
    },
    {
      "cell_type": "markdown",
      "metadata": {
        "id": "N9y8ob2hT_5F"
      },
      "source": [
        "*To get a better perspective, we calculate the revenue of the model in the reference scenario. We see that the revenue suffers a small hit due to lower catch rates on the boats alternatives.*"
      ]
    },
    {
      "cell_type": "code",
      "metadata": {
        "colab": {
          "base_uri": "https://localhost:8080/"
        },
        "id": "g2xTRVTLCp2b",
        "outputId": "845e0e5c-fe30-40e4-c865-f800c79a59b8"
      },
      "source": [
        "preds = qbus_simulate_bgm(model_adv, results_adv.getBetaValues(), fish_adv)\n",
        "rev = preds.to_numpy() * fish_weather[ ['price_beach', 'price_pier', 'price_boat', 'price_charter']].to_numpy()\n",
        "rev.sum()"
      ],
      "execution_count": 39,
      "outputs": [
        {
          "output_type": "execute_result",
          "data": {
            "text/plain": [
              "61560.89604110577"
            ]
          },
          "metadata": {},
          "execution_count": 39
        }
      ]
    }
  ]
}