{
  "nbformat": 4,
  "nbformat_minor": 0,
  "metadata": {
    "colab": {
      "name": "solu_tuto_08_lime",
      "provenance": [],
      "collapsed_sections": [],
      "authorship_tag": "ABX9TyOTEakDEnXeH+mwpSVqtn7Y",
      "include_colab_link": true
    },
    "kernelspec": {
      "name": "python3",
      "display_name": "Python 3"
    },
    "language_info": {
      "name": "python"
    }
  },
  "cells": [
    {
      "cell_type": "markdown",
      "metadata": {
        "id": "view-in-github",
        "colab_type": "text"
      },
      "source": [
        "<a href=\"https://colab.research.google.com/github/pmontman/pub-choicemodels/blob/main/nb/solution/solu_tuto_08_lime.ipynb\" target=\"_parent\"><img src=\"https://colab.research.google.com/assets/colab-badge.svg\" alt=\"Open In Colab\"/></a>"
      ]
    },
    {
      "cell_type": "markdown",
      "metadata": {
        "id": "rxbeRIOOkIRc"
      },
      "source": [
        "# Solution to Tutorial 8: Using LIME to explain Machine Learning models\n",
        "\n",
        "\n"
      ]
    },
    {
      "cell_type": "markdown",
      "metadata": {
        "id": "5yA709sKELgF"
      },
      "source": [
        "In this tutorial we will connect the 'black box' machine learning models to the \n",
        "linear multinomial logit.\n",
        "\n",
        "Specifically we will use the more interpretable multinomial logit to explain 'parts' of a black box model. The idea is brilliant, and quite recent!.\n",
        "\n",
        "What we do is:\n",
        " * simulate a 'what-if' scenario that is close to a particular observation that we want to explain.\n",
        " * Use the 'black box model' as groundth truth, basically the predictions of the model for the what if scenario are taken as the true choices.\n",
        " * Fit an explainable linear model to this 'what-if', and then interpret it.\n",
        "\n",
        "This methodology is called Local interpretable model-agnostic explanations (LIME).\n",
        "\n",
        "We will use the Swissmetro dataset, fit a ML model (Tutorial 7!) and then explain a particular observation with a multiomial logit."
      ]
    },
    {
      "cell_type": "markdown",
      "metadata": {
        "id": "vb9SIunnASNB"
      },
      "source": [
        "---\n",
        "---\n",
        "\n",
        "# Preparing the environment\n",
        "*The preparation and dataset loading code is given to the students*"
      ]
    },
    {
      "cell_type": "code",
      "metadata": {
        "colab": {
          "base_uri": "https://localhost:8080/"
        },
        "id": "j5zHGhgErHPd",
        "outputId": "dd4897d4-d9cd-43eb-cb56-c5f88b0944a8"
      },
      "source": [
        "!pip install biogeme"
      ],
      "execution_count": 1,
      "outputs": [
        {
          "output_type": "stream",
          "name": "stdout",
          "text": [
            "Collecting biogeme\n",
            "  Downloading biogeme-3.2.8.tar.gz (1.5 MB)\n",
            "\u001b[K     |████████████████████████████████| 1.5 MB 8.0 MB/s \n",
            "\u001b[?25hRequirement already satisfied: numpy in /usr/local/lib/python3.7/dist-packages (from biogeme) (1.19.5)\n",
            "Requirement already satisfied: cython in /usr/local/lib/python3.7/dist-packages (from biogeme) (0.29.24)\n",
            "Collecting unidecode\n",
            "  Downloading Unidecode-1.3.2-py3-none-any.whl (235 kB)\n",
            "\u001b[K     |████████████████████████████████| 235 kB 56.5 MB/s \n",
            "\u001b[?25hRequirement already satisfied: scipy in /usr/local/lib/python3.7/dist-packages (from biogeme) (1.4.1)\n",
            "Requirement already satisfied: pandas in /usr/local/lib/python3.7/dist-packages (from biogeme) (1.1.5)\n",
            "Requirement already satisfied: tqdm in /usr/local/lib/python3.7/dist-packages (from biogeme) (4.62.3)\n",
            "Requirement already satisfied: python-dateutil>=2.7.3 in /usr/local/lib/python3.7/dist-packages (from pandas->biogeme) (2.8.2)\n",
            "Requirement already satisfied: pytz>=2017.2 in /usr/local/lib/python3.7/dist-packages (from pandas->biogeme) (2018.9)\n",
            "Requirement already satisfied: six>=1.5 in /usr/local/lib/python3.7/dist-packages (from python-dateutil>=2.7.3->pandas->biogeme) (1.15.0)\n",
            "Building wheels for collected packages: biogeme\n",
            "  Building wheel for biogeme (setup.py) ... \u001b[?25l\u001b[?25hdone\n",
            "  Created wheel for biogeme: filename=biogeme-3.2.8-cp37-cp37m-linux_x86_64.whl size=4030630 sha256=8a37dc213bd7297db6e6ac92bd2f277548112a8623f5bba332cf96034d2ed3f5\n",
            "  Stored in directory: /root/.cache/pip/wheels/d4/52/61/de6c73d2bc17603c60e754e260bccb7d4da2503e97015ebd49\n",
            "Successfully built biogeme\n",
            "Installing collected packages: unidecode, biogeme\n",
            "Successfully installed biogeme-3.2.8 unidecode-1.3.2\n"
          ]
        }
      ]
    },
    {
      "cell_type": "markdown",
      "metadata": {
        "id": "1z0X9xZ8rChf"
      },
      "source": [
        "Load the packages, feel free to change the names."
      ]
    },
    {
      "cell_type": "code",
      "metadata": {
        "id": "apVB-TMkrFnb"
      },
      "source": [
        "import pandas  as pd\n",
        "import numpy as np\n",
        "import matplotlib.pyplot as plt\n",
        "\n",
        "import biogeme.database as db\n",
        "import biogeme.biogeme as bio\n",
        "import biogeme.models as models\n",
        "import biogeme.expressions as exp\n",
        "import biogeme.tools as tools"
      ],
      "execution_count": 2,
      "outputs": []
    },
    {
      "cell_type": "markdown",
      "metadata": {
        "id": "YEJvXwpekbvd"
      },
      "source": [
        "---\n",
        "---\n",
        "\n",
        "# Auxiliary functions"
      ]
    },
    {
      "cell_type": "markdown",
      "metadata": {
        "id": "CKyKA_dj-IVp"
      },
      "source": [
        "The first function takes the dictionary of utilities, a pandas dataframe, and the name of the variable that contains the variable with the results of the choice. It returns the biogeme object with the model and the estimated 'results' object (the one we get the values, likelihoods, etc.)\n",
        "We have added the dictionary with the utilities to the biogeme object, in case we use it later."
      ]
    },
    {
      "cell_type": "code",
      "metadata": {
        "id": "0OQ1ls2Bi_ot"
      },
      "source": [
        "def qbus_estimate_bgm(V, pd_df, tgtvar_name, modelname='bgmdef'):\n",
        " av_auto = V.copy()\n",
        " for key, value in av_auto.items():\n",
        "   av_auto[key] = 1\n",
        " bgm_db = db.Database(modelname + '_db', pd_df)\n",
        " globals().update(bgm_db.variables)\n",
        " logprob = models.loglogit (V , av_auto , bgm_db.variables[tgtvar_name] )\n",
        " bgm_model = bio.BIOGEME ( bgm_db, logprob )\n",
        " bgm_model.utility_dic = V.copy()\n",
        " return bgm_model, bgm_model.estimate()"
      ],
      "execution_count": 3,
      "outputs": []
    },
    {
      "cell_type": "markdown",
      "metadata": {
        "id": "dM2f5-0w-_4b"
      },
      "source": [
        "The next function will calculate the predictions for a given biogeme object that was estimated with `qbus_estimate_bgm`. The output is the array with the choice probabilities. From the choice probabilities, this can be used to calculate accuracies, confusion matrices and the output of what-if scenarios."
      ]
    },
    {
      "cell_type": "code",
      "metadata": {
        "id": "O4Iau_IHHCzc"
      },
      "source": [
        "def qbus_simulate_bgm(qbus_bgm_model, betas, pred_pd_df):\n",
        "  av_auto = qbus_bgm_model.utility_dic.copy()\n",
        "  for key, value in av_auto.items():\n",
        "   av_auto[key] = 1\n",
        "\n",
        "  targets = qbus_bgm_model.utility_dic.copy()\n",
        "  for key, value in targets.items():\n",
        "   targets[key] = models.logit(qbus_bgm_model.utility_dic, av_auto, key)\n",
        "\n",
        "  bgm_db = db.Database('simul', pred_pd_df)\n",
        "  globals().update(bgm_db.variables)\n",
        "  bgm_pred_model = bio.BIOGEME(bgm_db, targets)\n",
        "  simulatedValues = bgm_pred_model.simulate(betas)\n",
        "  return simulatedValues"
      ],
      "execution_count": 4,
      "outputs": []
    },
    {
      "cell_type": "markdown",
      "metadata": {
        "id": "AnBLUPi-DjU7"
      },
      "source": [
        "The function `qbus_calc_accu_confusion` calculates the accuracies given the choice probability predictions a pandas dataset and the specification of the name that contains the actual choices in the input dataset."
      ]
    },
    {
      "cell_type": "code",
      "metadata": {
        "id": "m9l5cDGkzsfJ"
      },
      "source": [
        "def qbus_calc_accu_confusion(sim_probs, pd_df, choice_var):\n",
        "  which_max = sim_probs.idxmax(axis=1)\n",
        "  data = {'y_Actual':   pd_df[choice_var],\n",
        "          'y_Predicted': which_max\n",
        "        }\n",
        "\n",
        "  df = pd.DataFrame(data, columns=['y_Actual','y_Predicted'])\n",
        "  confusion_matrix = pd.crosstab(df['y_Actual'], df['y_Predicted'], rownames=['Actual'], colnames=['Predicted'])\n",
        "  accu = np.mean(which_max == pd_df[choice_var])\n",
        "  return accu, confusion_matrix "
      ],
      "execution_count": 5,
      "outputs": []
    },
    {
      "cell_type": "markdown",
      "metadata": {
        "id": "dYfxQpYLDzgm"
      },
      "source": [
        "The next function calculates the likelihood ratio test having to write a bit less code that the default biogeme function. The arguments are the results objects of the two models to be compared. The first is the more complex and the second is the reference model (**the order is important!**). The third argument is the significance level for the test."
      ]
    },
    {
      "cell_type": "code",
      "metadata": {
        "id": "GUNVxPmK3rF2"
      },
      "source": [
        "def qbus_likeli_ratio_test_bgm(results_complex, results_reference, signif_level):\n",
        "  return tools.likelihood_ratio_test( (results_complex.data.logLike, results_complex.data.nparam),\n",
        "                                     (results_reference.data.logLike, results_reference.data.nparam), signif_level)"
      ],
      "execution_count": 6,
      "outputs": []
    },
    {
      "cell_type": "markdown",
      "metadata": {
        "id": "5b7TaMhCEZIZ"
      },
      "source": [
        "The next function just updates the globals so we can use it "
      ]
    },
    {
      "cell_type": "code",
      "metadata": {
        "id": "PfHXGoLS1yHX"
      },
      "source": [
        "def qbus_update_globals_bgm(pd_df):\n",
        "   globals().update(db.Database('tmp_bg_bgm_for_glob', pd_df).variables)"
      ],
      "execution_count": 7,
      "outputs": []
    },
    {
      "cell_type": "markdown",
      "metadata": {
        "id": "z14cENeUBXyM"
      },
      "source": [
        "# Exercise: Try a baseline multinomial logit, decision tree and multilayer perceptron models on the Swismetro dataset and compare the results."
      ]
    },
    {
      "cell_type": "markdown",
      "metadata": {
        "id": "e3y101-lyoLU"
      },
      "source": [
        "Load the dataset as usual"
      ]
    },
    {
      "cell_type": "code",
      "metadata": {
        "id": "_WcljDFQBsJF"
      },
      "source": [
        "swissmetro = pd.read_csv('http://transp-or.epfl.ch/data/swissmetro.dat', sep='\\t')"
      ],
      "execution_count": 8,
      "outputs": []
    },
    {
      "cell_type": "markdown",
      "metadata": {
        "id": "aN1J7iulrDfI"
      },
      "source": [
        "Clean the dataset as instructed in Biogeme's example"
      ]
    },
    {
      "cell_type": "code",
      "metadata": {
        "id": "c0GQ-Kn7qFHV"
      },
      "source": [
        "swissmetro = swissmetro.loc[ swissmetro['CHOICE'] != 0, :]\n",
        "swissmetro['TRAIN_CO_GA'] = swissmetro['TRAIN_CO'] * (swissmetro['GA'] ==0 )\n",
        "swissmetro['SM_CO_GA'] = swissmetro['SM_CO'] * (swissmetro['GA'] ==0 )"
      ],
      "execution_count": 9,
      "outputs": []
    },
    {
      "cell_type": "code",
      "metadata": {
        "id": "ceEOFJRP4ZKZ"
      },
      "source": [
        "swissmetro = swissmetro.drop(['TRAIN_AV', 'SM_AV', 'CAR_AV', 'ID'], axis=1)"
      ],
      "execution_count": 10,
      "outputs": []
    },
    {
      "cell_type": "markdown",
      "metadata": {
        "id": "H0H7GqNlyypC"
      },
      "source": [
        "Fit a base MNL model"
      ]
    },
    {
      "cell_type": "code",
      "metadata": {
        "id": "9zQqbPt_r3eT"
      },
      "source": [
        "qbus_update_globals_bgm(swissmetro)"
      ],
      "execution_count": 11,
      "outputs": []
    },
    {
      "cell_type": "code",
      "metadata": {
        "id": "pA3iUY9iscoc"
      },
      "source": [
        "from sklearn.model_selection import train_test_split\n",
        "sw_train, sw_test = train_test_split(swissmetro, test_size = 0.25, random_state = 3840)"
      ],
      "execution_count": 12,
      "outputs": []
    },
    {
      "cell_type": "code",
      "metadata": {
        "id": "Ic84ZJBOq6J5"
      },
      "source": [
        "ASC_CAR = exp.Beta ( 'ASC_CAR' ,0, None , None ,0)\n",
        "ASC_TRAIN = exp.Beta ( 'ASC_TRAIN' ,0, None , None ,0)\n",
        "ASC_SM = exp.Beta ( 'ASC_SM' ,0, None , None ,1)\n",
        "B_TIME = exp.Beta ( 'B_TIME' ,0, None , None ,0)\n",
        "B_COST = exp.Beta ( 'B_COST' ,0, None , None ,0)\n",
        "B_MALE_TR = exp.Beta( 'B_MALE_TR', 0, None, None, 0)\n",
        "B_MALE_SM = exp.Beta( 'B_MALE_SM', 0, None, None, 0)\n",
        "B_MALE_CAR = exp.Beta( 'B_MALE_CAR', 0, None, None, 0)\n",
        "B_INCOME_TR = exp.Beta( 'B_INCOME_TR', 0, None, None, 0)\n",
        "B_INCOME_SM = exp.Beta( 'B_INCOME_SM', 0, None, None, 0)\n",
        "B_INCOME_CAR = exp.Beta( 'B_INCOME_CAR', 0, None, None, 0)\n",
        "\n",
        "V1 = ASC_TRAIN + B_TIME * TRAIN_TT + B_COST * TRAIN_CO_GA + B_MALE_TR*MALE + B_INCOME_TR*INCOME\n",
        "V2 = ASC_SM + B_TIME * SM_TT + B_COST * SM_CO_GA + B_MALE_SM*MALE + B_INCOME_SM*INCOME\n",
        "V3 = ASC_CAR + B_TIME * CAR_TT + B_COST * CAR_CO + B_MALE_CAR*MALE+ B_INCOME_CAR*INCOME\n",
        "\n",
        "V_sw = {1: V1, 2:V2, 3:V3}"
      ],
      "execution_count": 13,
      "outputs": []
    },
    {
      "cell_type": "code",
      "metadata": {
        "id": "niECYV08sERl"
      },
      "source": [
        "model_sw, results_sw = qbus_estimate_bgm(V_sw, sw_train, 'CHOICE', 'swismmetro_mnl')"
      ],
      "execution_count": 14,
      "outputs": []
    },
    {
      "cell_type": "code",
      "metadata": {
        "colab": {
          "base_uri": "https://localhost:8080/",
          "height": 357
        },
        "id": "ubaxc5y8sUoj",
        "outputId": "1ea961ae-5243-4b01-bb52-7f3af57a3984"
      },
      "source": [
        "results_sw.getEstimatedParameters()"
      ],
      "execution_count": 15,
      "outputs": [
        {
          "output_type": "execute_result",
          "data": {
            "text/html": [
              "<div>\n",
              "<style scoped>\n",
              "    .dataframe tbody tr th:only-of-type {\n",
              "        vertical-align: middle;\n",
              "    }\n",
              "\n",
              "    .dataframe tbody tr th {\n",
              "        vertical-align: top;\n",
              "    }\n",
              "\n",
              "    .dataframe thead th {\n",
              "        text-align: right;\n",
              "    }\n",
              "</style>\n",
              "<table border=\"1\" class=\"dataframe\">\n",
              "  <thead>\n",
              "    <tr style=\"text-align: right;\">\n",
              "      <th></th>\n",
              "      <th>Value</th>\n",
              "      <th>Std err</th>\n",
              "      <th>t-test</th>\n",
              "      <th>p-value</th>\n",
              "      <th>Rob. Std err</th>\n",
              "      <th>Rob. t-test</th>\n",
              "      <th>Rob. p-value</th>\n",
              "    </tr>\n",
              "  </thead>\n",
              "  <tbody>\n",
              "    <tr>\n",
              "      <th>ASC_CAR</th>\n",
              "      <td>-1.256416</td>\n",
              "      <td>0.086795</td>\n",
              "      <td>-14.475633</td>\n",
              "      <td>0.000000</td>\n",
              "      <td>0.089056</td>\n",
              "      <td>-14.108160</td>\n",
              "      <td>0.000000</td>\n",
              "    </tr>\n",
              "    <tr>\n",
              "      <th>ASC_TRAIN</th>\n",
              "      <td>-0.428556</td>\n",
              "      <td>0.092994</td>\n",
              "      <td>-4.608436</td>\n",
              "      <td>0.000004</td>\n",
              "      <td>0.097510</td>\n",
              "      <td>-4.394984</td>\n",
              "      <td>0.000011</td>\n",
              "    </tr>\n",
              "    <tr>\n",
              "      <th>B_COST</th>\n",
              "      <td>-0.004257</td>\n",
              "      <td>0.000328</td>\n",
              "      <td>-12.989321</td>\n",
              "      <td>0.000000</td>\n",
              "      <td>0.000360</td>\n",
              "      <td>-11.837229</td>\n",
              "      <td>0.000000</td>\n",
              "    </tr>\n",
              "    <tr>\n",
              "      <th>B_INCOME_CAR</th>\n",
              "      <td>0.052416</td>\n",
              "      <td>0.019507</td>\n",
              "      <td>2.687066</td>\n",
              "      <td>0.007208</td>\n",
              "      <td>0.019964</td>\n",
              "      <td>2.625556</td>\n",
              "      <td>0.008651</td>\n",
              "    </tr>\n",
              "    <tr>\n",
              "      <th>B_INCOME_SM</th>\n",
              "      <td>0.024673</td>\n",
              "      <td>0.016702</td>\n",
              "      <td>1.477177</td>\n",
              "      <td>0.139628</td>\n",
              "      <td>0.017415</td>\n",
              "      <td>1.416744</td>\n",
              "      <td>0.156558</td>\n",
              "    </tr>\n",
              "    <tr>\n",
              "      <th>B_INCOME_TR</th>\n",
              "      <td>-0.077089</td>\n",
              "      <td>0.022958</td>\n",
              "      <td>-3.357755</td>\n",
              "      <td>0.000786</td>\n",
              "      <td>0.026131</td>\n",
              "      <td>-2.950100</td>\n",
              "      <td>0.003177</td>\n",
              "    </tr>\n",
              "    <tr>\n",
              "      <th>B_MALE_CAR</th>\n",
              "      <td>0.711854</td>\n",
              "      <td>0.045574</td>\n",
              "      <td>15.619811</td>\n",
              "      <td>0.000000</td>\n",
              "      <td>0.048760</td>\n",
              "      <td>14.599169</td>\n",
              "      <td>0.000000</td>\n",
              "    </tr>\n",
              "    <tr>\n",
              "      <th>B_MALE_SM</th>\n",
              "      <td>0.083666</td>\n",
              "      <td>0.036766</td>\n",
              "      <td>2.275605</td>\n",
              "      <td>0.022870</td>\n",
              "      <td>0.037668</td>\n",
              "      <td>2.221128</td>\n",
              "      <td>0.026342</td>\n",
              "    </tr>\n",
              "    <tr>\n",
              "      <th>B_MALE_TR</th>\n",
              "      <td>-0.795520</td>\n",
              "      <td>0.046589</td>\n",
              "      <td>-17.075403</td>\n",
              "      <td>0.000000</td>\n",
              "      <td>0.048016</td>\n",
              "      <td>-16.567714</td>\n",
              "      <td>0.000000</td>\n",
              "    </tr>\n",
              "    <tr>\n",
              "      <th>B_TIME</th>\n",
              "      <td>-0.003403</td>\n",
              "      <td>0.000332</td>\n",
              "      <td>-10.246474</td>\n",
              "      <td>0.000000</td>\n",
              "      <td>0.000358</td>\n",
              "      <td>-9.497852</td>\n",
              "      <td>0.000000</td>\n",
              "    </tr>\n",
              "  </tbody>\n",
              "</table>\n",
              "</div>"
            ],
            "text/plain": [
              "                 Value   Std err  ...  Rob. t-test  Rob. p-value\n",
              "ASC_CAR      -1.256416  0.086795  ...   -14.108160      0.000000\n",
              "ASC_TRAIN    -0.428556  0.092994  ...    -4.394984      0.000011\n",
              "B_COST       -0.004257  0.000328  ...   -11.837229      0.000000\n",
              "B_INCOME_CAR  0.052416  0.019507  ...     2.625556      0.008651\n",
              "B_INCOME_SM   0.024673  0.016702  ...     1.416744      0.156558\n",
              "B_INCOME_TR  -0.077089  0.022958  ...    -2.950100      0.003177\n",
              "B_MALE_CAR    0.711854  0.045574  ...    14.599169      0.000000\n",
              "B_MALE_SM     0.083666  0.036766  ...     2.221128      0.026342\n",
              "B_MALE_TR    -0.795520  0.046589  ...   -16.567714      0.000000\n",
              "B_TIME       -0.003403  0.000332  ...    -9.497852      0.000000\n",
              "\n",
              "[10 rows x 7 columns]"
            ]
          },
          "metadata": {},
          "execution_count": 15
        }
      ]
    },
    {
      "cell_type": "markdown",
      "metadata": {
        "id": "Bdp6sMyvy1fh"
      },
      "source": [
        "Accuracy in the train set"
      ]
    },
    {
      "cell_type": "code",
      "metadata": {
        "colab": {
          "base_uri": "https://localhost:8080/"
        },
        "id": "5w_r5_QCs9EC",
        "outputId": "be23902e-ca13-4c9d-e67b-c2c2064a72b5"
      },
      "source": [
        "sw_train_sim = qbus_simulate_bgm(model_sw, results_sw.getBetaValues(), sw_train)\n",
        "qbus_calc_accu_confusion(sw_train_sim, sw_train, 'CHOICE')"
      ],
      "execution_count": 16,
      "outputs": [
        {
          "output_type": "execute_result",
          "data": {
            "text/plain": [
              "(0.5610150516233362, Predicted     2    3\n",
              " Actual              \n",
              " 1          1023   80\n",
              " 2          4411  215\n",
              " 3          2211   99)"
            ]
          },
          "metadata": {},
          "execution_count": 16
        }
      ]
    },
    {
      "cell_type": "markdown",
      "metadata": {
        "id": "d2Qt1MYYtPKu"
      },
      "source": [
        "Accuracy in the test set"
      ]
    },
    {
      "cell_type": "code",
      "metadata": {
        "colab": {
          "base_uri": "https://localhost:8080/"
        },
        "id": "qooxexcYtO7k",
        "outputId": "bc1c0765-ffed-447b-e8cc-dc346bff487c"
      },
      "source": [
        "sw_test_sim = qbus_simulate_bgm(model_sw, results_sw.getBetaValues(), sw_test)\n",
        "qbus_calc_accu_confusion(sw_test_sim, sw_test, 'CHOICE')"
      ],
      "execution_count": 17,
      "outputs": [
        {
          "output_type": "execute_result",
          "data": {
            "text/plain": [
              "(0.5809701492537314, Predicted     2   3\n",
              " Actual             \n",
              " 1           290  30\n",
              " 2          1517  73\n",
              " 3           730  40)"
            ]
          },
          "metadata": {},
          "execution_count": 17
        }
      ]
    },
    {
      "cell_type": "markdown",
      "metadata": {
        "id": "Ku0diDeBtbKr"
      },
      "source": [
        "#Decision tree"
      ]
    },
    {
      "cell_type": "code",
      "metadata": {
        "id": "Esb3lpoUtcrl"
      },
      "source": [
        "# Import the model we are using\n",
        "from sklearn.ensemble import RandomForestClassifier\n",
        "from sklearn.tree import DecisionTreeClassifier\n",
        "\n",
        "# Instantiate model with 1000 decision trees\n",
        "#dec_tree = RandomForestClassifier(n_estimators = 1000, random_state = 42, max_features= None)\n",
        "\n",
        "dec_tree = DecisionTreeClassifier(max_features= None, max_depth=14, random_state=3840 )"
      ],
      "execution_count": 18,
      "outputs": []
    },
    {
      "cell_type": "code",
      "metadata": {
        "id": "3t1ygxdhtqhZ"
      },
      "source": [
        "dec_tree.fit(sw_train.drop('CHOICE', axis=1), pd.get_dummies(sw_train['CHOICE']));"
      ],
      "execution_count": 19,
      "outputs": []
    },
    {
      "cell_type": "code",
      "metadata": {
        "colab": {
          "base_uri": "https://localhost:8080/"
        },
        "id": "pjWRi7jJt5ZR",
        "outputId": "f0977c2e-64ad-4690-88f4-8aae301d3f41"
      },
      "source": [
        "# Use the predict method on the test data\n",
        "predictions = dec_tree.predict(sw_test.drop('CHOICE', axis=1))\n",
        "predictions"
      ],
      "execution_count": 20,
      "outputs": [
        {
          "output_type": "execute_result",
          "data": {
            "text/plain": [
              "array([[1, 0, 0],\n",
              "       [0, 1, 0],\n",
              "       [0, 0, 1],\n",
              "       ...,\n",
              "       [0, 1, 0],\n",
              "       [0, 1, 0],\n",
              "       [1, 0, 0]], dtype=uint8)"
            ]
          },
          "metadata": {},
          "execution_count": 20
        }
      ]
    },
    {
      "cell_type": "code",
      "metadata": {
        "id": "hkgwtx0nt5ZR"
      },
      "source": [
        "dec_tree_sim = pd.DataFrame(predictions, columns=[1, 2, 3])"
      ],
      "execution_count": 21,
      "outputs": []
    },
    {
      "cell_type": "code",
      "metadata": {
        "id": "DTvBa2puuEyT"
      },
      "source": [
        "dec_tree_sim.index = sw_test.index"
      ],
      "execution_count": 22,
      "outputs": []
    },
    {
      "cell_type": "markdown",
      "metadata": {
        "id": "2pZpOQb8uEyV"
      },
      "source": [
        "And finally, we can compute the accuracy, we see that is considerably higher thatn the MNL model"
      ]
    },
    {
      "cell_type": "code",
      "metadata": {
        "colab": {
          "base_uri": "https://localhost:8080/"
        },
        "id": "DJ1m4y2IuEyV",
        "outputId": "4d8012bc-ee5d-4697-b3e8-a4d2d5b195e4"
      },
      "source": [
        "qbus_calc_accu_confusion(dec_tree_sim, sw_test, 'CHOICE')"
      ],
      "execution_count": 23,
      "outputs": [
        {
          "output_type": "execute_result",
          "data": {
            "text/plain": [
              "(0.7067164179104478, Predicted    1     2    3\n",
              " Actual                   \n",
              " 1          173   129   18\n",
              " 2          154  1225  211\n",
              " 3           40   234  496)"
            ]
          },
          "metadata": {},
          "execution_count": 23
        }
      ]
    },
    {
      "cell_type": "markdown",
      "metadata": {
        "id": "ocx5SL90wJbD"
      },
      "source": [
        "# Neural Network"
      ]
    },
    {
      "cell_type": "code",
      "metadata": {
        "id": "pejIdJOQwIsa"
      },
      "source": [
        "from sklearn.neural_network import MLPClassifier\n",
        "\n",
        "neurnet = MLPClassifier(hidden_layer_sizes = (256),\n",
        "                        activation='logistic',  max_iter=12000, random_state=3840)"
      ],
      "execution_count": 24,
      "outputs": []
    },
    {
      "cell_type": "code",
      "metadata": {
        "id": "GU02M4v-wWxv"
      },
      "source": [
        "neurnet.fit(sw_train.drop('CHOICE', axis=1), pd.get_dummies(sw_train['CHOICE']));"
      ],
      "execution_count": 25,
      "outputs": []
    },
    {
      "cell_type": "code",
      "metadata": {
        "id": "B857XHXVxkj-"
      },
      "source": [
        "sw_test = sw_train"
      ],
      "execution_count": 26,
      "outputs": []
    },
    {
      "cell_type": "code",
      "metadata": {
        "colab": {
          "base_uri": "https://localhost:8080/"
        },
        "id": "PWUanVEcwZXT",
        "outputId": "10dc5051-9635-496e-eee2-78c896823219"
      },
      "source": [
        "# Use the predict method on the test data\n",
        "predictions = neurnet.predict(sw_test.drop('CHOICE', axis=1))\n",
        "predictions"
      ],
      "execution_count": 27,
      "outputs": [
        {
          "output_type": "execute_result",
          "data": {
            "text/plain": [
              "array([[0, 1, 0],\n",
              "       [0, 0, 1],\n",
              "       [0, 1, 0],\n",
              "       ...,\n",
              "       [0, 1, 0],\n",
              "       [0, 1, 0],\n",
              "       [0, 0, 0]])"
            ]
          },
          "metadata": {},
          "execution_count": 27
        }
      ]
    },
    {
      "cell_type": "code",
      "metadata": {
        "id": "G1mKMnkBwcxO"
      },
      "source": [
        "neurnet_sim = pd.DataFrame(predictions, columns=[1, 2, 3])"
      ],
      "execution_count": 28,
      "outputs": []
    },
    {
      "cell_type": "code",
      "metadata": {
        "id": "WohcfQpPwflD"
      },
      "source": [
        "neurnet_sim.index = sw_test.index"
      ],
      "execution_count": 29,
      "outputs": []
    },
    {
      "cell_type": "markdown",
      "metadata": {
        "id": "sax0BFsDy_RM"
      },
      "source": [
        "The accuracy of the neural network is also higher than the MNL (but remember that is is a special case of mixed logit!)"
      ]
    },
    {
      "cell_type": "code",
      "metadata": {
        "colab": {
          "base_uri": "https://localhost:8080/"
        },
        "id": "RVFulCHVwiSo",
        "outputId": "3d976c0f-dba0-45c7-b4b1-a30677a2d081"
      },
      "source": [
        "qbus_calc_accu_confusion(neurnet_sim, sw_test, 'CHOICE')"
      ],
      "execution_count": 30,
      "outputs": [
        {
          "output_type": "execute_result",
          "data": {
            "text/plain": [
              "(0.7706182360990173, Predicted    1     2     3\n",
              " Actual                    \n",
              " 1          788   275    40\n",
              " 2          508  3638   480\n",
              " 3          198   343  1769)"
            ]
          },
          "metadata": {},
          "execution_count": 30
        }
      ]
    },
    {
      "cell_type": "markdown",
      "metadata": {
        "id": "4L-yIhzP2QFa"
      },
      "source": [
        "# LIME\n",
        "\n",
        "The methodology of LIME, in a nutshell\n",
        "\n",
        "1. Select your observation of interest for which you want to have an explanation of its black box prediction.\n",
        "2. Perturb the observation to create a new dataset and get the black box predictions for these new points.\n",
        "3. Train  interpretable model on the dataset with the variations.\n",
        "4. Explain the prediction of the original by interpreting the local model.\n",
        "\n",
        "*Material from [Interpretable Machine Learning](https://christophm.github.io/interpretable-ml-book/lime.html)*(Christoph Molnar)."
      ]
    },
    {
      "cell_type": "markdown",
      "metadata": {
        "id": "Ys4B9riN32fV"
      },
      "source": [
        "We start by picking the observation we want to explain from the test test"
      ]
    },
    {
      "cell_type": "code",
      "metadata": {
        "colab": {
          "base_uri": "https://localhost:8080/",
          "height": 100
        },
        "id": "2s8oudDD2-zM",
        "outputId": "969f64f1-9198-4308-fd07-1bcbccc048b0"
      },
      "source": [
        "observ = sw_test.iloc[[0,]]\n",
        "observ"
      ],
      "execution_count": 31,
      "outputs": [
        {
          "output_type": "execute_result",
          "data": {
            "text/html": [
              "<div>\n",
              "<style scoped>\n",
              "    .dataframe tbody tr th:only-of-type {\n",
              "        vertical-align: middle;\n",
              "    }\n",
              "\n",
              "    .dataframe tbody tr th {\n",
              "        vertical-align: top;\n",
              "    }\n",
              "\n",
              "    .dataframe thead th {\n",
              "        text-align: right;\n",
              "    }\n",
              "</style>\n",
              "<table border=\"1\" class=\"dataframe\">\n",
              "  <thead>\n",
              "    <tr style=\"text-align: right;\">\n",
              "      <th></th>\n",
              "      <th>GROUP</th>\n",
              "      <th>SURVEY</th>\n",
              "      <th>SP</th>\n",
              "      <th>PURPOSE</th>\n",
              "      <th>FIRST</th>\n",
              "      <th>TICKET</th>\n",
              "      <th>WHO</th>\n",
              "      <th>LUGGAGE</th>\n",
              "      <th>AGE</th>\n",
              "      <th>MALE</th>\n",
              "      <th>INCOME</th>\n",
              "      <th>GA</th>\n",
              "      <th>ORIGIN</th>\n",
              "      <th>DEST</th>\n",
              "      <th>TRAIN_TT</th>\n",
              "      <th>TRAIN_CO</th>\n",
              "      <th>TRAIN_HE</th>\n",
              "      <th>SM_TT</th>\n",
              "      <th>SM_CO</th>\n",
              "      <th>SM_HE</th>\n",
              "      <th>SM_SEATS</th>\n",
              "      <th>CAR_TT</th>\n",
              "      <th>CAR_CO</th>\n",
              "      <th>CHOICE</th>\n",
              "      <th>TRAIN_CO_GA</th>\n",
              "      <th>SM_CO_GA</th>\n",
              "    </tr>\n",
              "  </thead>\n",
              "  <tbody>\n",
              "    <tr>\n",
              "      <th>8273</th>\n",
              "      <td>3</td>\n",
              "      <td>1</td>\n",
              "      <td>1</td>\n",
              "      <td>3</td>\n",
              "      <td>1</td>\n",
              "      <td>3</td>\n",
              "      <td>2</td>\n",
              "      <td>1</td>\n",
              "      <td>4</td>\n",
              "      <td>1</td>\n",
              "      <td>3</td>\n",
              "      <td>0</td>\n",
              "      <td>22</td>\n",
              "      <td>17</td>\n",
              "      <td>300</td>\n",
              "      <td>202</td>\n",
              "      <td>30</td>\n",
              "      <td>143</td>\n",
              "      <td>274</td>\n",
              "      <td>20</td>\n",
              "      <td>0</td>\n",
              "      <td>312</td>\n",
              "      <td>140</td>\n",
              "      <td>2</td>\n",
              "      <td>202</td>\n",
              "      <td>274</td>\n",
              "    </tr>\n",
              "  </tbody>\n",
              "</table>\n",
              "</div>"
            ],
            "text/plain": [
              "      GROUP  SURVEY  SP  PURPOSE  ...  CAR_CO  CHOICE  TRAIN_CO_GA  SM_CO_GA\n",
              "8273      3       1   1        3  ...     140       2          202       274\n",
              "\n",
              "[1 rows x 26 columns]"
            ]
          },
          "metadata": {},
          "execution_count": 31
        }
      ]
    },
    {
      "cell_type": "markdown",
      "metadata": {
        "id": "jpbuhR4A37FE"
      },
      "source": [
        "The prediction of the black box model, it predicts 2=Swissmetro"
      ]
    },
    {
      "cell_type": "code",
      "metadata": {
        "colab": {
          "base_uri": "https://localhost:8080/"
        },
        "id": "dOhSgcxJ3Qo_",
        "outputId": "0376ecd6-b596-4957-8354-85accac72d96"
      },
      "source": [
        "dec_tree.predict( observ.drop('CHOICE', axis=1))"
      ],
      "execution_count": 32,
      "outputs": [
        {
          "output_type": "execute_result",
          "data": {
            "text/plain": [
              "array([[0, 1, 0]], dtype=uint8)"
            ]
          },
          "metadata": {},
          "execution_count": 32
        }
      ]
    },
    {
      "cell_type": "markdown",
      "metadata": {
        "id": "riAOl9q44Fgj"
      },
      "source": [
        "# Create the what-if scenario around the desired observation\n",
        "Create a 'new dataset' by creating synthetic observations that are 'close' to the observation we want to explain, but not exactly the same. We will do this by\n",
        "adding Gaussian noise to the measurements of the observation.\n",
        "We will scale the noise by the standard deviation of each variable."
      ]
    },
    {
      "cell_type": "code",
      "metadata": {
        "colab": {
          "base_uri": "https://localhost:8080/"
        },
        "id": "V1N2ov2t5S5s",
        "outputId": "7ec87829-4a6b-46e4-b8f5-a540daa32ac4"
      },
      "source": [
        "stdcols = sw_train.std(axis=0)\n",
        "stdcols"
      ],
      "execution_count": 33,
      "outputs": [
        {
          "output_type": "execute_result",
          "data": {
            "text/plain": [
              "GROUP             0.481452\n",
              "SURVEY            0.481452\n",
              "SP                0.000000\n",
              "PURPOSE           1.158699\n",
              "FIRST             0.499305\n",
              "TICKET            2.199147\n",
              "WHO               0.709973\n",
              "LUGGAGE           0.605438\n",
              "AGE               1.030948\n",
              "MALE              0.432337\n",
              "INCOME            0.942083\n",
              "GA                0.347465\n",
              "ORIGIN           10.156168\n",
              "DEST              9.735157\n",
              "TRAIN_TT         76.908112\n",
              "TRAIN_CO       1080.259882\n",
              "TRAIN_HE         37.463203\n",
              "SM_TT            52.761652\n",
              "SM_CO          1437.426119\n",
              "SM_HE             8.148195\n",
              "SM_SEATS          0.323128\n",
              "CAR_TT           86.710388\n",
              "CAR_CO           55.099929\n",
              "CHOICE            0.634084\n",
              "TRAIN_CO_GA      68.550145\n",
              "SM_CO_GA         84.500802\n",
              "dtype: float64"
            ]
          },
          "metadata": {},
          "execution_count": 33
        }
      ]
    },
    {
      "cell_type": "markdown",
      "metadata": {
        "id": "qWofjMS5HDeK"
      },
      "source": [
        "The declare the 'area' around the observation, how much we"
      ]
    },
    {
      "cell_type": "code",
      "metadata": {
        "id": "km4ZbBb1Aqc9"
      },
      "source": [
        "NEIGHBOURHOOD = 0.3"
      ],
      "execution_count": 34,
      "outputs": []
    },
    {
      "cell_type": "markdown",
      "metadata": {
        "id": "WxjX3e2VHKOo"
      },
      "source": [
        "We replicate the observation to create a new datase, and the we will add Gaussian noise to it."
      ]
    },
    {
      "cell_type": "code",
      "metadata": {
        "colab": {
          "base_uri": "https://localhost:8080/",
          "height": 437
        },
        "id": "UaflRr1BDnBU",
        "outputId": "37ed6d02-b2e2-4f6d-b656-22fa35a87e48"
      },
      "source": [
        "\n",
        "neighb_observ = pd.DataFrame(np.repeat(observ.values, 1000, axis=0))\n",
        "neighb_observ.columns = observ.columns\n",
        "\n",
        "neighb_observ"
      ],
      "execution_count": 35,
      "outputs": [
        {
          "output_type": "execute_result",
          "data": {
            "text/html": [
              "<div>\n",
              "<style scoped>\n",
              "    .dataframe tbody tr th:only-of-type {\n",
              "        vertical-align: middle;\n",
              "    }\n",
              "\n",
              "    .dataframe tbody tr th {\n",
              "        vertical-align: top;\n",
              "    }\n",
              "\n",
              "    .dataframe thead th {\n",
              "        text-align: right;\n",
              "    }\n",
              "</style>\n",
              "<table border=\"1\" class=\"dataframe\">\n",
              "  <thead>\n",
              "    <tr style=\"text-align: right;\">\n",
              "      <th></th>\n",
              "      <th>GROUP</th>\n",
              "      <th>SURVEY</th>\n",
              "      <th>SP</th>\n",
              "      <th>PURPOSE</th>\n",
              "      <th>FIRST</th>\n",
              "      <th>TICKET</th>\n",
              "      <th>WHO</th>\n",
              "      <th>LUGGAGE</th>\n",
              "      <th>AGE</th>\n",
              "      <th>MALE</th>\n",
              "      <th>INCOME</th>\n",
              "      <th>GA</th>\n",
              "      <th>ORIGIN</th>\n",
              "      <th>DEST</th>\n",
              "      <th>TRAIN_TT</th>\n",
              "      <th>TRAIN_CO</th>\n",
              "      <th>TRAIN_HE</th>\n",
              "      <th>SM_TT</th>\n",
              "      <th>SM_CO</th>\n",
              "      <th>SM_HE</th>\n",
              "      <th>SM_SEATS</th>\n",
              "      <th>CAR_TT</th>\n",
              "      <th>CAR_CO</th>\n",
              "      <th>CHOICE</th>\n",
              "      <th>TRAIN_CO_GA</th>\n",
              "      <th>SM_CO_GA</th>\n",
              "    </tr>\n",
              "  </thead>\n",
              "  <tbody>\n",
              "    <tr>\n",
              "      <th>0</th>\n",
              "      <td>3</td>\n",
              "      <td>1</td>\n",
              "      <td>1</td>\n",
              "      <td>3</td>\n",
              "      <td>1</td>\n",
              "      <td>3</td>\n",
              "      <td>2</td>\n",
              "      <td>1</td>\n",
              "      <td>4</td>\n",
              "      <td>1</td>\n",
              "      <td>3</td>\n",
              "      <td>0</td>\n",
              "      <td>22</td>\n",
              "      <td>17</td>\n",
              "      <td>300</td>\n",
              "      <td>202</td>\n",
              "      <td>30</td>\n",
              "      <td>143</td>\n",
              "      <td>274</td>\n",
              "      <td>20</td>\n",
              "      <td>0</td>\n",
              "      <td>312</td>\n",
              "      <td>140</td>\n",
              "      <td>2</td>\n",
              "      <td>202</td>\n",
              "      <td>274</td>\n",
              "    </tr>\n",
              "    <tr>\n",
              "      <th>1</th>\n",
              "      <td>3</td>\n",
              "      <td>1</td>\n",
              "      <td>1</td>\n",
              "      <td>3</td>\n",
              "      <td>1</td>\n",
              "      <td>3</td>\n",
              "      <td>2</td>\n",
              "      <td>1</td>\n",
              "      <td>4</td>\n",
              "      <td>1</td>\n",
              "      <td>3</td>\n",
              "      <td>0</td>\n",
              "      <td>22</td>\n",
              "      <td>17</td>\n",
              "      <td>300</td>\n",
              "      <td>202</td>\n",
              "      <td>30</td>\n",
              "      <td>143</td>\n",
              "      <td>274</td>\n",
              "      <td>20</td>\n",
              "      <td>0</td>\n",
              "      <td>312</td>\n",
              "      <td>140</td>\n",
              "      <td>2</td>\n",
              "      <td>202</td>\n",
              "      <td>274</td>\n",
              "    </tr>\n",
              "    <tr>\n",
              "      <th>2</th>\n",
              "      <td>3</td>\n",
              "      <td>1</td>\n",
              "      <td>1</td>\n",
              "      <td>3</td>\n",
              "      <td>1</td>\n",
              "      <td>3</td>\n",
              "      <td>2</td>\n",
              "      <td>1</td>\n",
              "      <td>4</td>\n",
              "      <td>1</td>\n",
              "      <td>3</td>\n",
              "      <td>0</td>\n",
              "      <td>22</td>\n",
              "      <td>17</td>\n",
              "      <td>300</td>\n",
              "      <td>202</td>\n",
              "      <td>30</td>\n",
              "      <td>143</td>\n",
              "      <td>274</td>\n",
              "      <td>20</td>\n",
              "      <td>0</td>\n",
              "      <td>312</td>\n",
              "      <td>140</td>\n",
              "      <td>2</td>\n",
              "      <td>202</td>\n",
              "      <td>274</td>\n",
              "    </tr>\n",
              "    <tr>\n",
              "      <th>3</th>\n",
              "      <td>3</td>\n",
              "      <td>1</td>\n",
              "      <td>1</td>\n",
              "      <td>3</td>\n",
              "      <td>1</td>\n",
              "      <td>3</td>\n",
              "      <td>2</td>\n",
              "      <td>1</td>\n",
              "      <td>4</td>\n",
              "      <td>1</td>\n",
              "      <td>3</td>\n",
              "      <td>0</td>\n",
              "      <td>22</td>\n",
              "      <td>17</td>\n",
              "      <td>300</td>\n",
              "      <td>202</td>\n",
              "      <td>30</td>\n",
              "      <td>143</td>\n",
              "      <td>274</td>\n",
              "      <td>20</td>\n",
              "      <td>0</td>\n",
              "      <td>312</td>\n",
              "      <td>140</td>\n",
              "      <td>2</td>\n",
              "      <td>202</td>\n",
              "      <td>274</td>\n",
              "    </tr>\n",
              "    <tr>\n",
              "      <th>4</th>\n",
              "      <td>3</td>\n",
              "      <td>1</td>\n",
              "      <td>1</td>\n",
              "      <td>3</td>\n",
              "      <td>1</td>\n",
              "      <td>3</td>\n",
              "      <td>2</td>\n",
              "      <td>1</td>\n",
              "      <td>4</td>\n",
              "      <td>1</td>\n",
              "      <td>3</td>\n",
              "      <td>0</td>\n",
              "      <td>22</td>\n",
              "      <td>17</td>\n",
              "      <td>300</td>\n",
              "      <td>202</td>\n",
              "      <td>30</td>\n",
              "      <td>143</td>\n",
              "      <td>274</td>\n",
              "      <td>20</td>\n",
              "      <td>0</td>\n",
              "      <td>312</td>\n",
              "      <td>140</td>\n",
              "      <td>2</td>\n",
              "      <td>202</td>\n",
              "      <td>274</td>\n",
              "    </tr>\n",
              "    <tr>\n",
              "      <th>...</th>\n",
              "      <td>...</td>\n",
              "      <td>...</td>\n",
              "      <td>...</td>\n",
              "      <td>...</td>\n",
              "      <td>...</td>\n",
              "      <td>...</td>\n",
              "      <td>...</td>\n",
              "      <td>...</td>\n",
              "      <td>...</td>\n",
              "      <td>...</td>\n",
              "      <td>...</td>\n",
              "      <td>...</td>\n",
              "      <td>...</td>\n",
              "      <td>...</td>\n",
              "      <td>...</td>\n",
              "      <td>...</td>\n",
              "      <td>...</td>\n",
              "      <td>...</td>\n",
              "      <td>...</td>\n",
              "      <td>...</td>\n",
              "      <td>...</td>\n",
              "      <td>...</td>\n",
              "      <td>...</td>\n",
              "      <td>...</td>\n",
              "      <td>...</td>\n",
              "      <td>...</td>\n",
              "    </tr>\n",
              "    <tr>\n",
              "      <th>995</th>\n",
              "      <td>3</td>\n",
              "      <td>1</td>\n",
              "      <td>1</td>\n",
              "      <td>3</td>\n",
              "      <td>1</td>\n",
              "      <td>3</td>\n",
              "      <td>2</td>\n",
              "      <td>1</td>\n",
              "      <td>4</td>\n",
              "      <td>1</td>\n",
              "      <td>3</td>\n",
              "      <td>0</td>\n",
              "      <td>22</td>\n",
              "      <td>17</td>\n",
              "      <td>300</td>\n",
              "      <td>202</td>\n",
              "      <td>30</td>\n",
              "      <td>143</td>\n",
              "      <td>274</td>\n",
              "      <td>20</td>\n",
              "      <td>0</td>\n",
              "      <td>312</td>\n",
              "      <td>140</td>\n",
              "      <td>2</td>\n",
              "      <td>202</td>\n",
              "      <td>274</td>\n",
              "    </tr>\n",
              "    <tr>\n",
              "      <th>996</th>\n",
              "      <td>3</td>\n",
              "      <td>1</td>\n",
              "      <td>1</td>\n",
              "      <td>3</td>\n",
              "      <td>1</td>\n",
              "      <td>3</td>\n",
              "      <td>2</td>\n",
              "      <td>1</td>\n",
              "      <td>4</td>\n",
              "      <td>1</td>\n",
              "      <td>3</td>\n",
              "      <td>0</td>\n",
              "      <td>22</td>\n",
              "      <td>17</td>\n",
              "      <td>300</td>\n",
              "      <td>202</td>\n",
              "      <td>30</td>\n",
              "      <td>143</td>\n",
              "      <td>274</td>\n",
              "      <td>20</td>\n",
              "      <td>0</td>\n",
              "      <td>312</td>\n",
              "      <td>140</td>\n",
              "      <td>2</td>\n",
              "      <td>202</td>\n",
              "      <td>274</td>\n",
              "    </tr>\n",
              "    <tr>\n",
              "      <th>997</th>\n",
              "      <td>3</td>\n",
              "      <td>1</td>\n",
              "      <td>1</td>\n",
              "      <td>3</td>\n",
              "      <td>1</td>\n",
              "      <td>3</td>\n",
              "      <td>2</td>\n",
              "      <td>1</td>\n",
              "      <td>4</td>\n",
              "      <td>1</td>\n",
              "      <td>3</td>\n",
              "      <td>0</td>\n",
              "      <td>22</td>\n",
              "      <td>17</td>\n",
              "      <td>300</td>\n",
              "      <td>202</td>\n",
              "      <td>30</td>\n",
              "      <td>143</td>\n",
              "      <td>274</td>\n",
              "      <td>20</td>\n",
              "      <td>0</td>\n",
              "      <td>312</td>\n",
              "      <td>140</td>\n",
              "      <td>2</td>\n",
              "      <td>202</td>\n",
              "      <td>274</td>\n",
              "    </tr>\n",
              "    <tr>\n",
              "      <th>998</th>\n",
              "      <td>3</td>\n",
              "      <td>1</td>\n",
              "      <td>1</td>\n",
              "      <td>3</td>\n",
              "      <td>1</td>\n",
              "      <td>3</td>\n",
              "      <td>2</td>\n",
              "      <td>1</td>\n",
              "      <td>4</td>\n",
              "      <td>1</td>\n",
              "      <td>3</td>\n",
              "      <td>0</td>\n",
              "      <td>22</td>\n",
              "      <td>17</td>\n",
              "      <td>300</td>\n",
              "      <td>202</td>\n",
              "      <td>30</td>\n",
              "      <td>143</td>\n",
              "      <td>274</td>\n",
              "      <td>20</td>\n",
              "      <td>0</td>\n",
              "      <td>312</td>\n",
              "      <td>140</td>\n",
              "      <td>2</td>\n",
              "      <td>202</td>\n",
              "      <td>274</td>\n",
              "    </tr>\n",
              "    <tr>\n",
              "      <th>999</th>\n",
              "      <td>3</td>\n",
              "      <td>1</td>\n",
              "      <td>1</td>\n",
              "      <td>3</td>\n",
              "      <td>1</td>\n",
              "      <td>3</td>\n",
              "      <td>2</td>\n",
              "      <td>1</td>\n",
              "      <td>4</td>\n",
              "      <td>1</td>\n",
              "      <td>3</td>\n",
              "      <td>0</td>\n",
              "      <td>22</td>\n",
              "      <td>17</td>\n",
              "      <td>300</td>\n",
              "      <td>202</td>\n",
              "      <td>30</td>\n",
              "      <td>143</td>\n",
              "      <td>274</td>\n",
              "      <td>20</td>\n",
              "      <td>0</td>\n",
              "      <td>312</td>\n",
              "      <td>140</td>\n",
              "      <td>2</td>\n",
              "      <td>202</td>\n",
              "      <td>274</td>\n",
              "    </tr>\n",
              "  </tbody>\n",
              "</table>\n",
              "<p>1000 rows × 26 columns</p>\n",
              "</div>"
            ],
            "text/plain": [
              "     GROUP  SURVEY  SP  PURPOSE  ...  CAR_CO  CHOICE  TRAIN_CO_GA  SM_CO_GA\n",
              "0        3       1   1        3  ...     140       2          202       274\n",
              "1        3       1   1        3  ...     140       2          202       274\n",
              "2        3       1   1        3  ...     140       2          202       274\n",
              "3        3       1   1        3  ...     140       2          202       274\n",
              "4        3       1   1        3  ...     140       2          202       274\n",
              "..     ...     ...  ..      ...  ...     ...     ...          ...       ...\n",
              "995      3       1   1        3  ...     140       2          202       274\n",
              "996      3       1   1        3  ...     140       2          202       274\n",
              "997      3       1   1        3  ...     140       2          202       274\n",
              "998      3       1   1        3  ...     140       2          202       274\n",
              "999      3       1   1        3  ...     140       2          202       274\n",
              "\n",
              "[1000 rows x 26 columns]"
            ]
          },
          "metadata": {},
          "execution_count": 35
        }
      ]
    },
    {
      "cell_type": "code",
      "metadata": {
        "id": "gNNZmLQN8Ndl"
      },
      "source": [
        "import random\n",
        "\n",
        "\n",
        "for i, row in neighb_observ.iterrows():\n",
        "    #print(i)\n",
        "    #observ2.at[i,'ifor'] = 2\n",
        "    for column in neighb_observ.iloc[[i,]]:\n",
        "     #print(column)\n",
        "     neighb_observ.at[i, column] += random.gauss(0,stdcols[column]*NEIGHBOURHOOD)\n",
        "     #print(random.gauss(0,stdcols[column]*NEIGHBOURHOOD))\n",
        "     #print(observ2.at[i, column])"
      ],
      "execution_count": 36,
      "outputs": []
    },
    {
      "cell_type": "markdown",
      "metadata": {
        "id": "ab9eWVLMHQAZ"
      },
      "source": [
        "Once we have the synthetics dataset, we calculate the predictions of the black box models and take then as the ground truth, we overwrite the 'CHOICE' variable."
      ]
    },
    {
      "cell_type": "code",
      "metadata": {
        "colab": {
          "base_uri": "https://localhost:8080/",
          "height": 437
        },
        "id": "k1FMDzsJQNbm",
        "outputId": "30d6bfae-151e-4122-84ac-e0644ff64f61"
      },
      "source": [
        "neighb_observ"
      ],
      "execution_count": 37,
      "outputs": [
        {
          "output_type": "execute_result",
          "data": {
            "text/html": [
              "<div>\n",
              "<style scoped>\n",
              "    .dataframe tbody tr th:only-of-type {\n",
              "        vertical-align: middle;\n",
              "    }\n",
              "\n",
              "    .dataframe tbody tr th {\n",
              "        vertical-align: top;\n",
              "    }\n",
              "\n",
              "    .dataframe thead th {\n",
              "        text-align: right;\n",
              "    }\n",
              "</style>\n",
              "<table border=\"1\" class=\"dataframe\">\n",
              "  <thead>\n",
              "    <tr style=\"text-align: right;\">\n",
              "      <th></th>\n",
              "      <th>GROUP</th>\n",
              "      <th>SURVEY</th>\n",
              "      <th>SP</th>\n",
              "      <th>PURPOSE</th>\n",
              "      <th>FIRST</th>\n",
              "      <th>TICKET</th>\n",
              "      <th>WHO</th>\n",
              "      <th>LUGGAGE</th>\n",
              "      <th>AGE</th>\n",
              "      <th>MALE</th>\n",
              "      <th>INCOME</th>\n",
              "      <th>GA</th>\n",
              "      <th>ORIGIN</th>\n",
              "      <th>DEST</th>\n",
              "      <th>TRAIN_TT</th>\n",
              "      <th>TRAIN_CO</th>\n",
              "      <th>TRAIN_HE</th>\n",
              "      <th>SM_TT</th>\n",
              "      <th>SM_CO</th>\n",
              "      <th>SM_HE</th>\n",
              "      <th>SM_SEATS</th>\n",
              "      <th>CAR_TT</th>\n",
              "      <th>CAR_CO</th>\n",
              "      <th>CHOICE</th>\n",
              "      <th>TRAIN_CO_GA</th>\n",
              "      <th>SM_CO_GA</th>\n",
              "    </tr>\n",
              "  </thead>\n",
              "  <tbody>\n",
              "    <tr>\n",
              "      <th>0</th>\n",
              "      <td>3</td>\n",
              "      <td>1</td>\n",
              "      <td>1</td>\n",
              "      <td>2</td>\n",
              "      <td>0</td>\n",
              "      <td>2</td>\n",
              "      <td>2</td>\n",
              "      <td>0</td>\n",
              "      <td>4</td>\n",
              "      <td>0</td>\n",
              "      <td>3</td>\n",
              "      <td>0</td>\n",
              "      <td>19</td>\n",
              "      <td>13</td>\n",
              "      <td>319</td>\n",
              "      <td>138</td>\n",
              "      <td>36</td>\n",
              "      <td>144</td>\n",
              "      <td>689</td>\n",
              "      <td>17</td>\n",
              "      <td>0</td>\n",
              "      <td>298</td>\n",
              "      <td>147</td>\n",
              "      <td>2</td>\n",
              "      <td>214</td>\n",
              "      <td>269</td>\n",
              "    </tr>\n",
              "    <tr>\n",
              "      <th>1</th>\n",
              "      <td>2</td>\n",
              "      <td>1</td>\n",
              "      <td>1</td>\n",
              "      <td>3</td>\n",
              "      <td>1</td>\n",
              "      <td>2</td>\n",
              "      <td>1</td>\n",
              "      <td>1</td>\n",
              "      <td>4</td>\n",
              "      <td>0</td>\n",
              "      <td>2</td>\n",
              "      <td>0</td>\n",
              "      <td>26</td>\n",
              "      <td>20</td>\n",
              "      <td>332</td>\n",
              "      <td>574</td>\n",
              "      <td>29</td>\n",
              "      <td>144</td>\n",
              "      <td>217</td>\n",
              "      <td>22</td>\n",
              "      <td>0</td>\n",
              "      <td>277</td>\n",
              "      <td>147</td>\n",
              "      <td>2</td>\n",
              "      <td>168</td>\n",
              "      <td>268</td>\n",
              "    </tr>\n",
              "    <tr>\n",
              "      <th>2</th>\n",
              "      <td>3</td>\n",
              "      <td>1</td>\n",
              "      <td>1</td>\n",
              "      <td>3</td>\n",
              "      <td>0</td>\n",
              "      <td>2</td>\n",
              "      <td>1</td>\n",
              "      <td>0</td>\n",
              "      <td>4</td>\n",
              "      <td>1</td>\n",
              "      <td>2</td>\n",
              "      <td>0</td>\n",
              "      <td>24</td>\n",
              "      <td>11</td>\n",
              "      <td>324</td>\n",
              "      <td>678</td>\n",
              "      <td>41</td>\n",
              "      <td>142</td>\n",
              "      <td>165</td>\n",
              "      <td>20</td>\n",
              "      <td>0</td>\n",
              "      <td>367</td>\n",
              "      <td>131</td>\n",
              "      <td>1</td>\n",
              "      <td>188</td>\n",
              "      <td>331</td>\n",
              "    </tr>\n",
              "    <tr>\n",
              "      <th>3</th>\n",
              "      <td>2</td>\n",
              "      <td>1</td>\n",
              "      <td>1</td>\n",
              "      <td>2</td>\n",
              "      <td>1</td>\n",
              "      <td>3</td>\n",
              "      <td>2</td>\n",
              "      <td>0</td>\n",
              "      <td>4</td>\n",
              "      <td>1</td>\n",
              "      <td>3</td>\n",
              "      <td>0</td>\n",
              "      <td>22</td>\n",
              "      <td>18</td>\n",
              "      <td>282</td>\n",
              "      <td>533</td>\n",
              "      <td>33</td>\n",
              "      <td>148</td>\n",
              "      <td>211</td>\n",
              "      <td>25</td>\n",
              "      <td>0</td>\n",
              "      <td>302</td>\n",
              "      <td>115</td>\n",
              "      <td>2</td>\n",
              "      <td>213</td>\n",
              "      <td>257</td>\n",
              "    </tr>\n",
              "    <tr>\n",
              "      <th>4</th>\n",
              "      <td>2</td>\n",
              "      <td>0</td>\n",
              "      <td>1</td>\n",
              "      <td>3</td>\n",
              "      <td>0</td>\n",
              "      <td>2</td>\n",
              "      <td>2</td>\n",
              "      <td>1</td>\n",
              "      <td>4</td>\n",
              "      <td>0</td>\n",
              "      <td>2</td>\n",
              "      <td>0</td>\n",
              "      <td>20</td>\n",
              "      <td>17</td>\n",
              "      <td>320</td>\n",
              "      <td>353</td>\n",
              "      <td>26</td>\n",
              "      <td>122</td>\n",
              "      <td>1442</td>\n",
              "      <td>23</td>\n",
              "      <td>0</td>\n",
              "      <td>339</td>\n",
              "      <td>129</td>\n",
              "      <td>1</td>\n",
              "      <td>173</td>\n",
              "      <td>221</td>\n",
              "    </tr>\n",
              "    <tr>\n",
              "      <th>...</th>\n",
              "      <td>...</td>\n",
              "      <td>...</td>\n",
              "      <td>...</td>\n",
              "      <td>...</td>\n",
              "      <td>...</td>\n",
              "      <td>...</td>\n",
              "      <td>...</td>\n",
              "      <td>...</td>\n",
              "      <td>...</td>\n",
              "      <td>...</td>\n",
              "      <td>...</td>\n",
              "      <td>...</td>\n",
              "      <td>...</td>\n",
              "      <td>...</td>\n",
              "      <td>...</td>\n",
              "      <td>...</td>\n",
              "      <td>...</td>\n",
              "      <td>...</td>\n",
              "      <td>...</td>\n",
              "      <td>...</td>\n",
              "      <td>...</td>\n",
              "      <td>...</td>\n",
              "      <td>...</td>\n",
              "      <td>...</td>\n",
              "      <td>...</td>\n",
              "      <td>...</td>\n",
              "    </tr>\n",
              "    <tr>\n",
              "      <th>995</th>\n",
              "      <td>2</td>\n",
              "      <td>1</td>\n",
              "      <td>1</td>\n",
              "      <td>3</td>\n",
              "      <td>0</td>\n",
              "      <td>2</td>\n",
              "      <td>2</td>\n",
              "      <td>1</td>\n",
              "      <td>3</td>\n",
              "      <td>1</td>\n",
              "      <td>3</td>\n",
              "      <td>0</td>\n",
              "      <td>22</td>\n",
              "      <td>20</td>\n",
              "      <td>343</td>\n",
              "      <td>398</td>\n",
              "      <td>35</td>\n",
              "      <td>111</td>\n",
              "      <td>369</td>\n",
              "      <td>19</td>\n",
              "      <td>0</td>\n",
              "      <td>253</td>\n",
              "      <td>127</td>\n",
              "      <td>2</td>\n",
              "      <td>214</td>\n",
              "      <td>287</td>\n",
              "    </tr>\n",
              "    <tr>\n",
              "      <th>996</th>\n",
              "      <td>3</td>\n",
              "      <td>0</td>\n",
              "      <td>1</td>\n",
              "      <td>2</td>\n",
              "      <td>0</td>\n",
              "      <td>3</td>\n",
              "      <td>2</td>\n",
              "      <td>1</td>\n",
              "      <td>4</td>\n",
              "      <td>1</td>\n",
              "      <td>3</td>\n",
              "      <td>0</td>\n",
              "      <td>18</td>\n",
              "      <td>14</td>\n",
              "      <td>278</td>\n",
              "      <td>-298</td>\n",
              "      <td>31</td>\n",
              "      <td>159</td>\n",
              "      <td>90</td>\n",
              "      <td>23</td>\n",
              "      <td>0</td>\n",
              "      <td>313</td>\n",
              "      <td>147</td>\n",
              "      <td>1</td>\n",
              "      <td>204</td>\n",
              "      <td>294</td>\n",
              "    </tr>\n",
              "    <tr>\n",
              "      <th>997</th>\n",
              "      <td>3</td>\n",
              "      <td>1</td>\n",
              "      <td>1</td>\n",
              "      <td>2</td>\n",
              "      <td>0</td>\n",
              "      <td>3</td>\n",
              "      <td>1</td>\n",
              "      <td>0</td>\n",
              "      <td>3</td>\n",
              "      <td>1</td>\n",
              "      <td>3</td>\n",
              "      <td>0</td>\n",
              "      <td>20</td>\n",
              "      <td>15</td>\n",
              "      <td>287</td>\n",
              "      <td>675</td>\n",
              "      <td>33</td>\n",
              "      <td>138</td>\n",
              "      <td>369</td>\n",
              "      <td>21</td>\n",
              "      <td>0</td>\n",
              "      <td>307</td>\n",
              "      <td>133</td>\n",
              "      <td>2</td>\n",
              "      <td>198</td>\n",
              "      <td>281</td>\n",
              "    </tr>\n",
              "    <tr>\n",
              "      <th>998</th>\n",
              "      <td>2</td>\n",
              "      <td>0</td>\n",
              "      <td>1</td>\n",
              "      <td>3</td>\n",
              "      <td>0</td>\n",
              "      <td>3</td>\n",
              "      <td>1</td>\n",
              "      <td>0</td>\n",
              "      <td>3</td>\n",
              "      <td>0</td>\n",
              "      <td>3</td>\n",
              "      <td>0</td>\n",
              "      <td>20</td>\n",
              "      <td>19</td>\n",
              "      <td>305</td>\n",
              "      <td>232</td>\n",
              "      <td>18</td>\n",
              "      <td>138</td>\n",
              "      <td>130</td>\n",
              "      <td>22</td>\n",
              "      <td>0</td>\n",
              "      <td>315</td>\n",
              "      <td>149</td>\n",
              "      <td>2</td>\n",
              "      <td>184</td>\n",
              "      <td>283</td>\n",
              "    </tr>\n",
              "    <tr>\n",
              "      <th>999</th>\n",
              "      <td>3</td>\n",
              "      <td>1</td>\n",
              "      <td>1</td>\n",
              "      <td>2</td>\n",
              "      <td>0</td>\n",
              "      <td>2</td>\n",
              "      <td>1</td>\n",
              "      <td>0</td>\n",
              "      <td>4</td>\n",
              "      <td>0</td>\n",
              "      <td>2</td>\n",
              "      <td>0</td>\n",
              "      <td>22</td>\n",
              "      <td>19</td>\n",
              "      <td>301</td>\n",
              "      <td>-116</td>\n",
              "      <td>31</td>\n",
              "      <td>173</td>\n",
              "      <td>-126</td>\n",
              "      <td>18</td>\n",
              "      <td>0</td>\n",
              "      <td>306</td>\n",
              "      <td>117</td>\n",
              "      <td>1</td>\n",
              "      <td>180</td>\n",
              "      <td>234</td>\n",
              "    </tr>\n",
              "  </tbody>\n",
              "</table>\n",
              "<p>1000 rows × 26 columns</p>\n",
              "</div>"
            ],
            "text/plain": [
              "     GROUP  SURVEY  SP  PURPOSE  ...  CAR_CO  CHOICE  TRAIN_CO_GA  SM_CO_GA\n",
              "0        3       1   1        2  ...     147       2          214       269\n",
              "1        2       1   1        3  ...     147       2          168       268\n",
              "2        3       1   1        3  ...     131       1          188       331\n",
              "3        2       1   1        2  ...     115       2          213       257\n",
              "4        2       0   1        3  ...     129       1          173       221\n",
              "..     ...     ...  ..      ...  ...     ...     ...          ...       ...\n",
              "995      2       1   1        3  ...     127       2          214       287\n",
              "996      3       0   1        2  ...     147       1          204       294\n",
              "997      3       1   1        2  ...     133       2          198       281\n",
              "998      2       0   1        3  ...     149       2          184       283\n",
              "999      3       1   1        2  ...     117       1          180       234\n",
              "\n",
              "[1000 rows x 26 columns]"
            ]
          },
          "metadata": {},
          "execution_count": 37
        }
      ]
    },
    {
      "cell_type": "code",
      "metadata": {
        "id": "fucBA4gK_OaK"
      },
      "source": [
        "neighb_preds = dec_tree.predict( neighb_observ.drop('CHOICE', axis=1))\n"
      ],
      "execution_count": 38,
      "outputs": []
    },
    {
      "cell_type": "code",
      "metadata": {
        "colab": {
          "base_uri": "https://localhost:8080/"
        },
        "id": "WdP7yB1pQz0j",
        "outputId": "4cbcecd4-3086-42e3-a768-f374b1b5efa4"
      },
      "source": [
        "neighb_preds"
      ],
      "execution_count": 39,
      "outputs": [
        {
          "output_type": "execute_result",
          "data": {
            "text/plain": [
              "array([[0, 0, 0],\n",
              "       [0, 1, 0],\n",
              "       [0, 0, 1],\n",
              "       ...,\n",
              "       [0, 0, 0],\n",
              "       [1, 0, 0],\n",
              "       [0, 1, 0]], dtype=uint8)"
            ]
          },
          "metadata": {},
          "execution_count": 39
        }
      ]
    },
    {
      "cell_type": "code",
      "metadata": {
        "id": "bszzaLkfCTH2"
      },
      "source": [
        "neighb_choices = pd.DataFrame(neighb_preds).idxmax(axis=1) + 1\n",
        "neighb_observ['CHOICE'] = neighb_choices"
      ],
      "execution_count": 40,
      "outputs": []
    },
    {
      "cell_type": "code",
      "metadata": {
        "colab": {
          "base_uri": "https://localhost:8080/"
        },
        "id": "S8Ds_zjkQ1-0",
        "outputId": "f3f9c0ef-84b3-4835-e563-b6af5d2e82f8"
      },
      "source": [
        "neighb_choices"
      ],
      "execution_count": 41,
      "outputs": [
        {
          "output_type": "execute_result",
          "data": {
            "text/plain": [
              "0      1\n",
              "1      2\n",
              "2      3\n",
              "3      2\n",
              "4      2\n",
              "      ..\n",
              "995    2\n",
              "996    2\n",
              "997    1\n",
              "998    1\n",
              "999    2\n",
              "Length: 1000, dtype: int64"
            ]
          },
          "metadata": {},
          "execution_count": 41
        }
      ]
    },
    {
      "cell_type": "markdown",
      "metadata": {
        "id": "GvY__MsGHh4a"
      },
      "source": [
        "Estimate a basic multinomial logit to the dataset."
      ]
    },
    {
      "cell_type": "code",
      "metadata": {
        "id": "k7IbjBR7_cwY"
      },
      "source": [
        "model_lime, results_lime = qbus_estimate_bgm(V_sw, neighb_observ, 'CHOICE', 'lime_mnl')"
      ],
      "execution_count": 42,
      "outputs": []
    },
    {
      "cell_type": "markdown",
      "metadata": {
        "id": "PKB1X6EnHnyp"
      },
      "source": [
        "We are done, it just remains interpreting the results."
      ]
    },
    {
      "cell_type": "code",
      "metadata": {
        "colab": {
          "base_uri": "https://localhost:8080/",
          "height": 357
        },
        "id": "ipc676ht_k3q",
        "outputId": "472145b9-be63-47b6-aa63-a4c883c016aa"
      },
      "source": [
        "results_lime.getEstimatedParameters()"
      ],
      "execution_count": 43,
      "outputs": [
        {
          "output_type": "execute_result",
          "data": {
            "text/html": [
              "<div>\n",
              "<style scoped>\n",
              "    .dataframe tbody tr th:only-of-type {\n",
              "        vertical-align: middle;\n",
              "    }\n",
              "\n",
              "    .dataframe tbody tr th {\n",
              "        vertical-align: top;\n",
              "    }\n",
              "\n",
              "    .dataframe thead th {\n",
              "        text-align: right;\n",
              "    }\n",
              "</style>\n",
              "<table border=\"1\" class=\"dataframe\">\n",
              "  <thead>\n",
              "    <tr style=\"text-align: right;\">\n",
              "      <th></th>\n",
              "      <th>Value</th>\n",
              "      <th>Std err</th>\n",
              "      <th>t-test</th>\n",
              "      <th>p-value</th>\n",
              "      <th>Rob. Std err</th>\n",
              "      <th>Rob. t-test</th>\n",
              "      <th>Rob. p-value</th>\n",
              "    </tr>\n",
              "  </thead>\n",
              "  <tbody>\n",
              "    <tr>\n",
              "      <th>ASC_CAR</th>\n",
              "      <td>-0.826735</td>\n",
              "      <td>0.626387</td>\n",
              "      <td>-1.319847</td>\n",
              "      <td>1.868860e-01</td>\n",
              "      <td>0.605821</td>\n",
              "      <td>-1.364652</td>\n",
              "      <td>1.723624e-01</td>\n",
              "    </tr>\n",
              "    <tr>\n",
              "      <th>ASC_TRAIN</th>\n",
              "      <td>-3.629239</td>\n",
              "      <td>0.719629</td>\n",
              "      <td>-5.043212</td>\n",
              "      <td>4.577824e-07</td>\n",
              "      <td>0.740187</td>\n",
              "      <td>-4.903141</td>\n",
              "      <td>9.431644e-07</td>\n",
              "    </tr>\n",
              "    <tr>\n",
              "      <th>B_COST</th>\n",
              "      <td>-0.006812</td>\n",
              "      <td>0.002133</td>\n",
              "      <td>-3.194154</td>\n",
              "      <td>1.402411e-03</td>\n",
              "      <td>0.002165</td>\n",
              "      <td>-3.145778</td>\n",
              "      <td>1.656457e-03</td>\n",
              "    </tr>\n",
              "    <tr>\n",
              "      <th>B_INCOME_CAR</th>\n",
              "      <td>-0.497331</td>\n",
              "      <td>0.120631</td>\n",
              "      <td>-4.122750</td>\n",
              "      <td>3.743763e-05</td>\n",
              "      <td>0.120065</td>\n",
              "      <td>-4.142177</td>\n",
              "      <td>3.440252e-05</td>\n",
              "    </tr>\n",
              "    <tr>\n",
              "      <th>B_INCOME_SM</th>\n",
              "      <td>0.024329</td>\n",
              "      <td>0.099707</td>\n",
              "      <td>0.244007</td>\n",
              "      <td>8.072253e-01</td>\n",
              "      <td>0.100219</td>\n",
              "      <td>0.242761</td>\n",
              "      <td>8.081908e-01</td>\n",
              "    </tr>\n",
              "    <tr>\n",
              "      <th>B_INCOME_TR</th>\n",
              "      <td>0.473002</td>\n",
              "      <td>0.152571</td>\n",
              "      <td>3.100206</td>\n",
              "      <td>1.933859e-03</td>\n",
              "      <td>0.153168</td>\n",
              "      <td>3.088118</td>\n",
              "      <td>2.014281e-03</td>\n",
              "    </tr>\n",
              "    <tr>\n",
              "      <th>B_MALE_CAR</th>\n",
              "      <td>0.031845</td>\n",
              "      <td>0.118410</td>\n",
              "      <td>0.268940</td>\n",
              "      <td>7.879756e-01</td>\n",
              "      <td>0.118469</td>\n",
              "      <td>0.268806</td>\n",
              "      <td>7.880789e-01</td>\n",
              "    </tr>\n",
              "    <tr>\n",
              "      <th>B_MALE_SM</th>\n",
              "      <td>0.065906</td>\n",
              "      <td>0.097588</td>\n",
              "      <td>0.675354</td>\n",
              "      <td>4.994509e-01</td>\n",
              "      <td>0.097713</td>\n",
              "      <td>0.674487</td>\n",
              "      <td>5.000018e-01</td>\n",
              "    </tr>\n",
              "    <tr>\n",
              "      <th>B_MALE_TR</th>\n",
              "      <td>-0.097751</td>\n",
              "      <td>0.149147</td>\n",
              "      <td>-0.655401</td>\n",
              "      <td>5.122095e-01</td>\n",
              "      <td>0.150030</td>\n",
              "      <td>-0.651547</td>\n",
              "      <td>5.146936e-01</td>\n",
              "    </tr>\n",
              "    <tr>\n",
              "      <th>B_TIME</th>\n",
              "      <td>0.000217</td>\n",
              "      <td>0.002174</td>\n",
              "      <td>0.099862</td>\n",
              "      <td>9.204535e-01</td>\n",
              "      <td>0.002114</td>\n",
              "      <td>0.102665</td>\n",
              "      <td>9.182286e-01</td>\n",
              "    </tr>\n",
              "  </tbody>\n",
              "</table>\n",
              "</div>"
            ],
            "text/plain": [
              "                 Value   Std err  ...  Rob. t-test  Rob. p-value\n",
              "ASC_CAR      -0.826735  0.626387  ...    -1.364652  1.723624e-01\n",
              "ASC_TRAIN    -3.629239  0.719629  ...    -4.903141  9.431644e-07\n",
              "B_COST       -0.006812  0.002133  ...    -3.145778  1.656457e-03\n",
              "B_INCOME_CAR -0.497331  0.120631  ...    -4.142177  3.440252e-05\n",
              "B_INCOME_SM   0.024329  0.099707  ...     0.242761  8.081908e-01\n",
              "B_INCOME_TR   0.473002  0.152571  ...     3.088118  2.014281e-03\n",
              "B_MALE_CAR    0.031845  0.118410  ...     0.268806  7.880789e-01\n",
              "B_MALE_SM     0.065906  0.097588  ...     0.674487  5.000018e-01\n",
              "B_MALE_TR    -0.097751  0.149147  ...    -0.651547  5.146936e-01\n",
              "B_TIME        0.000217  0.002174  ...     0.102665  9.182286e-01\n",
              "\n",
              "[10 rows x 7 columns]"
            ]
          },
          "metadata": {},
          "execution_count": 43
        }
      ]
    },
    {
      "cell_type": "markdown",
      "metadata": {
        "id": "kpv3jC_tHrSe"
      },
      "source": [
        "Maybe recovering the choice probabilities."
      ]
    },
    {
      "cell_type": "code",
      "metadata": {
        "colab": {
          "base_uri": "https://localhost:8080/",
          "height": 80
        },
        "id": "ACAh8tTS_pQU",
        "outputId": "202ae9f6-885e-4530-ed90-6711b7f5c8f8"
      },
      "source": [
        "observ_sim = qbus_simulate_bgm(model_lime, results_lime.getBetaValues(), observ)\n",
        "observ_sim"
      ],
      "execution_count": 44,
      "outputs": [
        {
          "output_type": "execute_result",
          "data": {
            "text/html": [
              "<div>\n",
              "<style scoped>\n",
              "    .dataframe tbody tr th:only-of-type {\n",
              "        vertical-align: middle;\n",
              "    }\n",
              "\n",
              "    .dataframe tbody tr th {\n",
              "        vertical-align: top;\n",
              "    }\n",
              "\n",
              "    .dataframe thead th {\n",
              "        text-align: right;\n",
              "    }\n",
              "</style>\n",
              "<table border=\"1\" class=\"dataframe\">\n",
              "  <thead>\n",
              "    <tr style=\"text-align: right;\">\n",
              "      <th></th>\n",
              "      <th>1</th>\n",
              "      <th>2</th>\n",
              "      <th>3</th>\n",
              "    </tr>\n",
              "  </thead>\n",
              "  <tbody>\n",
              "    <tr>\n",
              "      <th>8273</th>\n",
              "      <td>0.106394</td>\n",
              "      <td>0.727403</td>\n",
              "      <td>0.166203</td>\n",
              "    </tr>\n",
              "  </tbody>\n",
              "</table>\n",
              "</div>"
            ],
            "text/plain": [
              "             1         2         3\n",
              "8273  0.106394  0.727403  0.166203"
            ]
          },
          "metadata": {},
          "execution_count": 44
        }
      ]
    },
    {
      "cell_type": "markdown",
      "metadata": {
        "id": "aq860_kSIDUc"
      },
      "source": [
        "---\n",
        "---\n",
        "\n",
        "#Exercise: Comment on the effect of altering the neighbourhood area\n",
        "\n",
        "*The idea here is to set a few values for the neighbourhood area and compare the results of the estimation. We will do something a bit more sophisticated just for illustration purposes.*\n",
        "\n",
        "**What we need to know from the exercise the overall pattern: as we increase the area around the chosen point, the interpretable model degrades. In general a simple model cannot explain the whole dataset well, and the larger the area, the more the neighbourhood resembles the whole dataset. How to choose the proper area size and how to specify the interpretable model is, unfortunately, a non-solved issue, so it is still trial-and-error and subjective. **"
      ]
    },
    {
      "cell_type": "markdown",
      "metadata": {
        "id": "FmZwCY3RKnIc"
      },
      "source": [
        "We will loop through a range of values for the neighbourhood area and recover values of goodness of fit and the two main coefficients of the model, cost and travel time for each of the areas. That way we can get a clear picture of the overall relationship with area size and model."
      ]
    },
    {
      "cell_type": "markdown",
      "metadata": {
        "id": "l0vwyadhgGHl"
      },
      "source": [
        "We choose the point to explain, you can change this to another value and rerun the cells below (the results will be qualitatively similar for most points)."
      ]
    },
    {
      "cell_type": "code",
      "metadata": {
        "id": "zQnWdHrCLNza"
      },
      "source": [
        "observ = sw_test.iloc[[15,]]"
      ],
      "execution_count": 52,
      "outputs": []
    },
    {
      "cell_type": "markdown",
      "metadata": {
        "id": "bwI2oAobfzR2"
      },
      "source": [
        "The range of values will be between 0.0001 (a very small value) and 3. We choose 3 because the area is scaled by the standard deviation of each variable, and 3 times the standard deviation covers most of the sampled area!."
      ]
    },
    {
      "cell_type": "code",
      "metadata": {
        "id": "ocqVPwjtIUNM"
      },
      "source": [
        "NB_range = np.linspace(0.0001, 3, 100)"
      ],
      "execution_count": 53,
      "outputs": []
    },
    {
      "cell_type": "markdown",
      "metadata": {
        "id": "FoZL-nvYgXkJ"
      },
      "source": [
        "The next cell is copied from the tutorial, just inside a for loop to try different neighbourhood values, and save the results for the loglikelihoods and coefficients.\n",
        "\n",
        "**Warning: It takes about 5 minutes to run!**"
      ]
    },
    {
      "cell_type": "code",
      "metadata": {
        "id": "N_mqSI1nAUiB"
      },
      "source": [
        "logliks = []\n",
        "costs = []\n",
        "times = []\n",
        "\n",
        "for NEIGHBOURHOOD in NB_range:\n",
        " neighb_observ = pd.DataFrame(np.repeat(observ.values, 2000, axis=0))\n",
        " neighb_observ.columns = observ.columns\n",
        "\n",
        " for i, row in neighb_observ.iterrows():\n",
        "    #print(i)\n",
        "    #observ2.at[i,'ifor'] = 2\n",
        "    for column in neighb_observ.iloc[[i,]]:\n",
        "     #print(column)\n",
        "     neighb_observ.at[i, column] += random.gauss(0,stdcols[column]*NEIGHBOURHOOD)\n",
        "     #print(random.gauss(0,stdcols[column]*NEIGHBOURHOOD))\n",
        "     #print(observ2.at[i, column])\n",
        " neighb_preds = dec_tree.predict( neighb_observ.drop('CHOICE', axis=1))\n",
        " neighb_choices = pd.DataFrame(neighb_preds).idxmax(axis=1) + 1\n",
        " neighb_observ['CHOICE'] = neighb_choices\n",
        " model_lime, results_lime = qbus_estimate_bgm(V_sw, neighb_observ, 'CHOICE', 'lime_mnl')\n",
        " logliks.append(results_lime.data.logLike)\n",
        " costs.append(results_lime.getBetaValues()['B_COST'])\n",
        " times.append(results_lime.getBetaValues()['B_TIME'])\n",
        " "
      ],
      "execution_count": 54,
      "outputs": []
    },
    {
      "cell_type": "markdown",
      "metadata": {
        "id": "C8XrF9Igk1V2"
      },
      "source": [
        "We plot the loglikelihoods as a crude approximation of how good a model is, depending on the area of the neighbourhood. For this datapoint, roughly speaking, a neighbourhood around 0.75 provides a relatively good likelihood. so it seems a good 'sweet spot' for the area.\n",
        "\n",
        " Note that this is not a rigorous interpretation, we cannot easily compare the likelihoods on different datasets."
      ]
    },
    {
      "cell_type": "code",
      "metadata": {
        "colab": {
          "base_uri": "https://localhost:8080/",
          "height": 282
        },
        "id": "fUkIGDOWD4RX",
        "outputId": "2cf72697-aee5-484e-c50d-0b9941f351fa"
      },
      "source": [
        "plt.plot(NB_range, logliks)"
      ],
      "execution_count": 55,
      "outputs": [
        {
          "output_type": "execute_result",
          "data": {
            "text/plain": [
              "[<matplotlib.lines.Line2D at 0x7f0d8e9fc890>]"
            ]
          },
          "metadata": {},
          "execution_count": 55
        },
        {
          "output_type": "display_data",
          "data": {
            "image/png": "[encoded data removed]",
            "text/plain": [
              "<Figure size 432x288 with 1 Axes>"
            ]
          },
          "metadata": {
            "needs_background": "light"
          }
        }
      ]
    },
    {
      "cell_type": "markdown",
      "metadata": {
        "id": "5EujSwChlnd_"
      },
      "source": [
        "We plot the values of the `B_COST` parameter and we see a similar picture:\n",
        "we know that the cost should have negative values, the more negative ones are attained at an area of 0.25.\n"
      ]
    },
    {
      "cell_type": "code",
      "metadata": {
        "colab": {
          "base_uri": "https://localhost:8080/",
          "height": 282
        },
        "id": "sY6jOu-PHiyA",
        "outputId": "7e988b3b-25d6-4580-a32a-2e35a9d02fa4"
      },
      "source": [
        "plt.plot(NB_range, costs)"
      ],
      "execution_count": 56,
      "outputs": [
        {
          "output_type": "execute_result",
          "data": {
            "text/plain": [
              "[<matplotlib.lines.Line2D at 0x7f0d8e8d0690>]"
            ]
          },
          "metadata": {},
          "execution_count": 56
        },
        {
          "output_type": "display_data",
          "data": {
            "image/png": "[encoded data removed]",
            "text/plain": [
              "<Figure size 432x288 with 1 Axes>"
            ]
          },
          "metadata": {
            "needs_background": "light"
          }
        }
      ]
    },
    {
      "cell_type": "markdown",
      "metadata": {
        "id": "2HHL1Q0WmCZO"
      },
      "source": [
        "For the `B_TIME` paramter the results are qualitatively similar, it gets a minimum around 0.5 and then goes to 0."
      ]
    },
    {
      "cell_type": "code",
      "metadata": {
        "colab": {
          "base_uri": "https://localhost:8080/",
          "height": 282
        },
        "id": "d9T1Lpv6JthN",
        "outputId": "b660f978-7743-4a72-9c5a-2e4290fb0f88"
      },
      "source": [
        "plt.plot(NB_range, times)"
      ],
      "execution_count": 57,
      "outputs": [
        {
          "output_type": "execute_result",
          "data": {
            "text/plain": [
              "[<matplotlib.lines.Line2D at 0x7f0d8e825e90>]"
            ]
          },
          "metadata": {},
          "execution_count": 57
        },
        {
          "output_type": "display_data",
          "data": {
            "image/png": "[encoded data removed]",
            "text/plain": [
              "<Figure size 432x288 with 1 Axes>"
            ]
          },
          "metadata": {
            "needs_background": "light"
          }
        }
      ]
    },
    {
      "cell_type": "markdown",
      "metadata": {
        "id": "TlG8DMNvmOZE"
      },
      "source": [
        "Summarizing, what we observe is that small areas around the point produce 'degenerate results' (maybe because there is not much information) and then we hit a sweet spot for the area value where the models seem reasonable. Then, what we see is that the larger the area, the worse the model becomes in both expected values for the parameters and goodness of fit.\n",
        "\n"
      ]
    },
    {
      "cell_type": "markdown",
      "metadata": {
        "id": "-0TsGPDaYLTJ"
      },
      "source": [
        "----\n",
        "----\n",
        "\n",
        "# Extra: Variable importance to help find a good intepretable model\n",
        "\n",
        "Specifying the simple model to explain the complex one is not trivial. Most of the time it should be based on what we consider 'interpretable' (which variables go in, usually linear with few transformations and interactions). The difficulty is finding a model that is interpretable and covers an area 'large enough' so we do not have to consider thousands of explanatory models to cover the whole dataset (and beyond).\n",
        "\n",
        "However, some of the more complex models, such as decision tress, are 'somewhat interpretable' already. For example, decision trees can compute a measure of the importance of each variable. We can use this as a guideline for our intepretable model, Which variables are important for the tree? Maybe they help in the linear model...\n",
        "\n",
        "Clarification: This is something we can do, it does not mean that it is going to be always useful, there is no guarantee that what is good variable for a decision tree also works for a linear model.  In particular, we use LIME precisely because we do not understand how the complex model works, it can be used to explain any model. If we are already satisified by what we know about the complex model, we would not need LIME."
      ]
    },
    {
      "cell_type": "markdown",
      "metadata": {
        "id": "BR_avi8vjuNJ"
      },
      "source": [
        "In the next cell we see the importance of the variables in the decision tree model, we see that most of the top variables are already being considered in the linear model. "
      ]
    },
    {
      "cell_type": "code",
      "metadata": {
        "colab": {
          "base_uri": "https://localhost:8080/",
          "height": 819
        },
        "id": "WlYuHtDbLh4o",
        "outputId": "f64fd030-2832-41a7-93dc-949e35d0ce62"
      },
      "source": [
        "feat_import = pd.DataFrame(dec_tree.feature_importances_.T, columns=['importance'])\n",
        "feat_import['varname'] = sw_train.drop('CHOICE', axis=1).columns\n",
        "feat_import.sort_values(by='importance', ascending=False)"
      ],
      "execution_count": 58,
      "outputs": [
        {
          "output_type": "execute_result",
          "data": {
            "text/html": [
              "<div>\n",
              "<style scoped>\n",
              "    .dataframe tbody tr th:only-of-type {\n",
              "        vertical-align: middle;\n",
              "    }\n",
              "\n",
              "    .dataframe tbody tr th {\n",
              "        vertical-align: top;\n",
              "    }\n",
              "\n",
              "    .dataframe thead th {\n",
              "        text-align: right;\n",
              "    }\n",
              "</style>\n",
              "<table border=\"1\" class=\"dataframe\">\n",
              "  <thead>\n",
              "    <tr style=\"text-align: right;\">\n",
              "      <th></th>\n",
              "      <th>importance</th>\n",
              "      <th>varname</th>\n",
              "    </tr>\n",
              "  </thead>\n",
              "  <tbody>\n",
              "    <tr>\n",
              "      <th>21</th>\n",
              "      <td>0.111955</td>\n",
              "      <td>CAR_TT</td>\n",
              "    </tr>\n",
              "    <tr>\n",
              "      <th>17</th>\n",
              "      <td>0.106408</td>\n",
              "      <td>SM_TT</td>\n",
              "    </tr>\n",
              "    <tr>\n",
              "      <th>1</th>\n",
              "      <td>0.099773</td>\n",
              "      <td>SURVEY</td>\n",
              "    </tr>\n",
              "    <tr>\n",
              "      <th>14</th>\n",
              "      <td>0.086138</td>\n",
              "      <td>TRAIN_TT</td>\n",
              "    </tr>\n",
              "    <tr>\n",
              "      <th>22</th>\n",
              "      <td>0.075543</td>\n",
              "      <td>CAR_CO</td>\n",
              "    </tr>\n",
              "    <tr>\n",
              "      <th>15</th>\n",
              "      <td>0.061793</td>\n",
              "      <td>TRAIN_CO</td>\n",
              "    </tr>\n",
              "    <tr>\n",
              "      <th>8</th>\n",
              "      <td>0.059089</td>\n",
              "      <td>AGE</td>\n",
              "    </tr>\n",
              "    <tr>\n",
              "      <th>18</th>\n",
              "      <td>0.058682</td>\n",
              "      <td>SM_CO</td>\n",
              "    </tr>\n",
              "    <tr>\n",
              "      <th>24</th>\n",
              "      <td>0.049508</td>\n",
              "      <td>SM_CO_GA</td>\n",
              "    </tr>\n",
              "    <tr>\n",
              "      <th>13</th>\n",
              "      <td>0.040923</td>\n",
              "      <td>DEST</td>\n",
              "    </tr>\n",
              "    <tr>\n",
              "      <th>23</th>\n",
              "      <td>0.033825</td>\n",
              "      <td>TRAIN_CO_GA</td>\n",
              "    </tr>\n",
              "    <tr>\n",
              "      <th>5</th>\n",
              "      <td>0.032480</td>\n",
              "      <td>TICKET</td>\n",
              "    </tr>\n",
              "    <tr>\n",
              "      <th>12</th>\n",
              "      <td>0.027370</td>\n",
              "      <td>ORIGIN</td>\n",
              "    </tr>\n",
              "    <tr>\n",
              "      <th>10</th>\n",
              "      <td>0.025465</td>\n",
              "      <td>INCOME</td>\n",
              "    </tr>\n",
              "    <tr>\n",
              "      <th>16</th>\n",
              "      <td>0.024489</td>\n",
              "      <td>TRAIN_HE</td>\n",
              "    </tr>\n",
              "    <tr>\n",
              "      <th>6</th>\n",
              "      <td>0.023706</td>\n",
              "      <td>WHO</td>\n",
              "    </tr>\n",
              "    <tr>\n",
              "      <th>3</th>\n",
              "      <td>0.023266</td>\n",
              "      <td>PURPOSE</td>\n",
              "    </tr>\n",
              "    <tr>\n",
              "      <th>7</th>\n",
              "      <td>0.022939</td>\n",
              "      <td>LUGGAGE</td>\n",
              "    </tr>\n",
              "    <tr>\n",
              "      <th>19</th>\n",
              "      <td>0.019915</td>\n",
              "      <td>SM_HE</td>\n",
              "    </tr>\n",
              "    <tr>\n",
              "      <th>9</th>\n",
              "      <td>0.008373</td>\n",
              "      <td>MALE</td>\n",
              "    </tr>\n",
              "    <tr>\n",
              "      <th>4</th>\n",
              "      <td>0.004809</td>\n",
              "      <td>FIRST</td>\n",
              "    </tr>\n",
              "    <tr>\n",
              "      <th>20</th>\n",
              "      <td>0.003551</td>\n",
              "      <td>SM_SEATS</td>\n",
              "    </tr>\n",
              "    <tr>\n",
              "      <th>11</th>\n",
              "      <td>0.000000</td>\n",
              "      <td>GA</td>\n",
              "    </tr>\n",
              "    <tr>\n",
              "      <th>2</th>\n",
              "      <td>0.000000</td>\n",
              "      <td>SP</td>\n",
              "    </tr>\n",
              "    <tr>\n",
              "      <th>0</th>\n",
              "      <td>0.000000</td>\n",
              "      <td>GROUP</td>\n",
              "    </tr>\n",
              "  </tbody>\n",
              "</table>\n",
              "</div>"
            ],
            "text/plain": [
              "    importance      varname\n",
              "21    0.111955       CAR_TT\n",
              "17    0.106408        SM_TT\n",
              "1     0.099773       SURVEY\n",
              "14    0.086138     TRAIN_TT\n",
              "22    0.075543       CAR_CO\n",
              "15    0.061793     TRAIN_CO\n",
              "8     0.059089          AGE\n",
              "18    0.058682        SM_CO\n",
              "24    0.049508     SM_CO_GA\n",
              "13    0.040923         DEST\n",
              "23    0.033825  TRAIN_CO_GA\n",
              "5     0.032480       TICKET\n",
              "12    0.027370       ORIGIN\n",
              "10    0.025465       INCOME\n",
              "16    0.024489     TRAIN_HE\n",
              "6     0.023706          WHO\n",
              "3     0.023266      PURPOSE\n",
              "7     0.022939      LUGGAGE\n",
              "19    0.019915        SM_HE\n",
              "9     0.008373         MALE\n",
              "4     0.004809        FIRST\n",
              "20    0.003551     SM_SEATS\n",
              "11    0.000000           GA\n",
              "2     0.000000           SP\n",
              "0     0.000000        GROUP"
            ]
          },
          "metadata": {},
          "execution_count": 58
        }
      ]
    }
  ]
}