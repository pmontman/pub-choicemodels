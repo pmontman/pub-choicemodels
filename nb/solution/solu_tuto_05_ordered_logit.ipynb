{
  "nbformat": 4,
  "nbformat_minor": 0,
  "metadata": {
    "colab": {
      "name": "solu_tuto_05_ordered_logit",
      "provenance": [],
      "authorship_tag": "ABX9TyOdXLojho16ww4XtE7I/AIj",
      "include_colab_link": true
    },
    "kernelspec": {
      "name": "python3",
      "display_name": "Python 3"
    },
    "language_info": {
      "name": "python"
    }
  },
  "cells": [
    {
      "cell_type": "markdown",
      "metadata": {
        "id": "view-in-github",
        "colab_type": "text"
      },
      "source": [
        "<a href=\"https://colab.research.google.com/github/pmontman/pub-choicemodels/blob/main/nb/solution/solu_tuto_05_ordered_logit.ipynb\" target=\"_parent\"><img src=\"https://colab.research.google.com/assets/colab-badge.svg\" alt=\"Open In Colab\"/></a>"
      ]
    },
    {
      "cell_type": "markdown",
      "metadata": {
        "id": "RK_QlIPgbjtB"
      },
      "source": [
        "# Solution of Tutorial 5: Ordered Logit\n",
        "\n",
        "We will see an example on how to use biogeme to estimate ordered logit models.\n",
        "\n",
        "We will use the (in)famous 'affairs' dataset, described below.\n",
        "\n",
        "The data comes from a survey from *Psychology Today*, conducted in the year 1969. It describes 'extramarital affairs', specifically, the participants in \n",
        "the survey were asked this question:\n",
        "\n",
        "How often engaged in extramarital sexual intercourse during the past year?\n",
        "\n",
        "With the possible answers:\n",
        "\n",
        "* None\n",
        "* Once\n",
        "* Twice\n",
        "* Three times\n",
        "* 4 to 10 times\n",
        "* Monthly\n",
        "* Weekly\n",
        "* Daily\n",
        "\n",
        "Then by measuring socioeconomic variables of the participants, we could try to model the utility that they receive from having a extramarital affair (or more than one).\n",
        "\n",
        "We can see that this falls perfectly into the ordered logit, the alternatives have a clear notion of order, from less affairs per year to more affairs per year, yet they are not perfectly numerical (which would allow us to use standard regression techniques).\n"
      ]
    },
    {
      "cell_type": "markdown",
      "metadata": {
        "id": "JyzPlsofdvaG"
      },
      "source": [
        "# Description of the dataset\n",
        "\n",
        "A scientific paper making use of the dataset to develop a 'Theory of Extramarial Affairs' can be found [here](https://www.uibk.ac.at/econometrics/data/fair78.pdf).\n",
        "\n",
        "The dataset has 601 observations of the following variables:\n",
        "\n",
        "* **affairs:** The answer to the survey, the answers are encoded with numbers.\n",
        "  0 = None, 1 = Once, 2 = Twice, 3=Three times, 7= 4 to 10 times, 12= monthly, 12 = weekly, 12 = daily.\n",
        "  As we see, the information was encoded in such a way that we lose information about the more frequent answers, and the encoded numbers do not completely coincide with the frequencies. However, there is an ordinal relationship among the possible answer, from less frequent to more frequent.\n",
        "\n",
        "*  **gender:** Categorical variable indicating either male or female among the participants.\n",
        "\n",
        "* **age:** Numeric variable coding age in years: 17.5 = under 20, 22 = 20–24, 27 = 25–29, 32 = 30–34, 37 = 35–39, 42 = 40–44, 47 = 45–49, 52 = 50–54, 57 = 55 or over. \n",
        "\n",
        "* **yearsmarried:** Numeric variable coding number of years married: 0.125 = 3 months or less, 0.417 = 4–6 months, 0.75 = 6 months–1 year, 1.5 = 1–2 years, 4 = 3–5 years, 7 = 6–8 years, 10 = 9–11 years, 15 = 12 or more years.\n",
        "\n",
        "* **children:** Categorical variable indicating if there are children in the marriage.\n",
        "\n",
        "* **religiousness:** Categorical variable indicating how religious in the person, encoded as numbers: 1 = anti, 2 = not at all, 3 = slightly, 4 = somewhat, 5 = very.\n",
        "\n",
        "* **education:**: Categorical variable indicating the level of education. Encoded as numbers: 9 = grade school, 12 = high school graduate, 14 = some college, 16 = college graduate, 17 = some graduate work, 18 = master's degree, 20 = Ph.D., M.D., or other advanced degree.\n",
        "\n",
        "* **occupation:** Categorical variable classifying the profession of the individual. Encoded as numbers, and the meaning of the numbers has been somewhat lost in time. But it could be something like the one in this [link.](https://dictionary.fitbir.nih.gov/portal/publicData/dataElementAction!view.action?dataElementName=HollingsheadJobClassCat&publicArea=true)\n",
        "\n",
        "* **rating:** Categorical variable indicating how happy they are with the marriage. Encoded as numbers: 1 = very unhappy, 2 = somewhat unhappy, 3 = average, 4 = happier than average, 5 = very happy."
      ]
    },
    {
      "cell_type": "markdown",
      "metadata": {
        "id": "vb9SIunnASNB"
      },
      "source": [
        "---\n",
        "---\n",
        "\n",
        "# Preparing the environment\n",
        "*The preparation and dataset loading code is given to the students*"
      ]
    },
    {
      "cell_type": "code",
      "metadata": {
        "colab": {
          "base_uri": "https://localhost:8080/"
        },
        "id": "j5zHGhgErHPd",
        "outputId": "863fbe9b-fb18-45af-8c85-e5c873684b27"
      },
      "source": [
        "!pip install biogeme"
      ],
      "execution_count": null,
      "outputs": [
        {
          "output_type": "stream",
          "name": "stdout",
          "text": [
            "Requirement already satisfied: biogeme in /usr/local/lib/python3.7/dist-packages (3.2.8)\n",
            "Requirement already satisfied: pandas in /usr/local/lib/python3.7/dist-packages (from biogeme) (1.1.5)\n",
            "Requirement already satisfied: scipy in /usr/local/lib/python3.7/dist-packages (from biogeme) (1.4.1)\n",
            "Requirement already satisfied: unidecode in /usr/local/lib/python3.7/dist-packages (from biogeme) (1.3.2)\n",
            "Requirement already satisfied: numpy in /usr/local/lib/python3.7/dist-packages (from biogeme) (1.19.5)\n",
            "Requirement already satisfied: tqdm in /usr/local/lib/python3.7/dist-packages (from biogeme) (4.62.3)\n",
            "Requirement already satisfied: cython in /usr/local/lib/python3.7/dist-packages (from biogeme) (0.29.24)\n",
            "Requirement already satisfied: python-dateutil>=2.7.3 in /usr/local/lib/python3.7/dist-packages (from pandas->biogeme) (2.8.2)\n",
            "Requirement already satisfied: pytz>=2017.2 in /usr/local/lib/python3.7/dist-packages (from pandas->biogeme) (2018.9)\n",
            "Requirement already satisfied: six>=1.5 in /usr/local/lib/python3.7/dist-packages (from python-dateutil>=2.7.3->pandas->biogeme) (1.15.0)\n"
          ]
        }
      ]
    },
    {
      "cell_type": "markdown",
      "metadata": {
        "id": "1z0X9xZ8rChf"
      },
      "source": [
        "Load the packages, feel free to change the names."
      ]
    },
    {
      "cell_type": "code",
      "metadata": {
        "id": "apVB-TMkrFnb"
      },
      "source": [
        "import pandas  as pd\n",
        "import numpy as np\n",
        "import matplotlib.pyplot as plt\n",
        "\n",
        "import biogeme.database as db\n",
        "import biogeme.biogeme as bio\n",
        "import biogeme.models as models\n",
        "import biogeme.expressions as exp\n",
        "import biogeme.tools as tools\n",
        "import biogeme.distributions as dist"
      ],
      "execution_count": null,
      "outputs": []
    },
    {
      "cell_type": "markdown",
      "metadata": {
        "id": "Mgv0hV1YAieW"
      },
      "source": [
        "# Load the dataset"
      ]
    },
    {
      "cell_type": "code",
      "metadata": {
        "id": "g1Ykn5Ytr7Rs"
      },
      "source": [
        "path = 'https://raw.githubusercontent.com/pmontman/pub-choicemodels/main/data/affairs.csv'\n",
        "affairs_pd = pd.read_csv(path)"
      ],
      "execution_count": null,
      "outputs": []
    },
    {
      "cell_type": "markdown",
      "metadata": {
        "id": "ZY55r3Gesb3t"
      },
      "source": [
        "A simple look at the dataset."
      ]
    },
    {
      "cell_type": "code",
      "metadata": {
        "colab": {
          "base_uri": "https://localhost:8080/",
          "height": 206
        },
        "id": "ldkmnMhssemT",
        "outputId": "e9a7e060-fb29-4aa5-fda9-018bc1414bbd"
      },
      "source": [
        "affairs_pd.head(5)"
      ],
      "execution_count": null,
      "outputs": [
        {
          "output_type": "execute_result",
          "data": {
            "text/html": [
              "<div>\n",
              "<style scoped>\n",
              "    .dataframe tbody tr th:only-of-type {\n",
              "        vertical-align: middle;\n",
              "    }\n",
              "\n",
              "    .dataframe tbody tr th {\n",
              "        vertical-align: top;\n",
              "    }\n",
              "\n",
              "    .dataframe thead th {\n",
              "        text-align: right;\n",
              "    }\n",
              "</style>\n",
              "<table border=\"1\" class=\"dataframe\">\n",
              "  <thead>\n",
              "    <tr style=\"text-align: right;\">\n",
              "      <th></th>\n",
              "      <th>affairs</th>\n",
              "      <th>gender</th>\n",
              "      <th>age</th>\n",
              "      <th>yearsmarried</th>\n",
              "      <th>children</th>\n",
              "      <th>religiousness</th>\n",
              "      <th>education</th>\n",
              "      <th>occupation</th>\n",
              "      <th>rating</th>\n",
              "    </tr>\n",
              "  </thead>\n",
              "  <tbody>\n",
              "    <tr>\n",
              "      <th>0</th>\n",
              "      <td>0</td>\n",
              "      <td>male</td>\n",
              "      <td>37.0</td>\n",
              "      <td>10.00</td>\n",
              "      <td>no</td>\n",
              "      <td>3</td>\n",
              "      <td>18</td>\n",
              "      <td>7</td>\n",
              "      <td>4</td>\n",
              "    </tr>\n",
              "    <tr>\n",
              "      <th>1</th>\n",
              "      <td>0</td>\n",
              "      <td>female</td>\n",
              "      <td>27.0</td>\n",
              "      <td>4.00</td>\n",
              "      <td>no</td>\n",
              "      <td>4</td>\n",
              "      <td>14</td>\n",
              "      <td>6</td>\n",
              "      <td>4</td>\n",
              "    </tr>\n",
              "    <tr>\n",
              "      <th>2</th>\n",
              "      <td>0</td>\n",
              "      <td>female</td>\n",
              "      <td>32.0</td>\n",
              "      <td>15.00</td>\n",
              "      <td>yes</td>\n",
              "      <td>1</td>\n",
              "      <td>12</td>\n",
              "      <td>1</td>\n",
              "      <td>4</td>\n",
              "    </tr>\n",
              "    <tr>\n",
              "      <th>3</th>\n",
              "      <td>0</td>\n",
              "      <td>male</td>\n",
              "      <td>57.0</td>\n",
              "      <td>15.00</td>\n",
              "      <td>yes</td>\n",
              "      <td>5</td>\n",
              "      <td>18</td>\n",
              "      <td>6</td>\n",
              "      <td>5</td>\n",
              "    </tr>\n",
              "    <tr>\n",
              "      <th>4</th>\n",
              "      <td>0</td>\n",
              "      <td>male</td>\n",
              "      <td>22.0</td>\n",
              "      <td>0.75</td>\n",
              "      <td>no</td>\n",
              "      <td>2</td>\n",
              "      <td>17</td>\n",
              "      <td>6</td>\n",
              "      <td>3</td>\n",
              "    </tr>\n",
              "  </tbody>\n",
              "</table>\n",
              "</div>"
            ],
            "text/plain": [
              "   affairs  gender   age  ...  education occupation  rating\n",
              "0        0    male  37.0  ...         18          7       4\n",
              "1        0  female  27.0  ...         14          6       4\n",
              "2        0  female  32.0  ...         12          1       4\n",
              "3        0    male  57.0  ...         18          6       5\n",
              "4        0    male  22.0  ...         17          6       3\n",
              "\n",
              "[5 rows x 9 columns]"
            ]
          },
          "metadata": {},
          "execution_count": 4
        }
      ]
    },
    {
      "cell_type": "markdown",
      "metadata": {
        "id": "75S5mV9mG_i8"
      },
      "source": [
        "# Auxiliary function"
      ]
    },
    {
      "cell_type": "code",
      "metadata": {
        "id": "kkHePFuDHB6L"
      },
      "source": [
        "def qbus_update_globals_bgm(pd_df):\n",
        "   globals().update(db.Database('tmp_bg_bgm_for_glob', pd_df).variables)"
      ],
      "execution_count": null,
      "outputs": []
    },
    {
      "cell_type": "markdown",
      "metadata": {
        "id": "IT44SQAUAVT5"
      },
      "source": [
        "# Data cleaning: Preparing the dataset for Biogeme"
      ]
    },
    {
      "cell_type": "markdown",
      "metadata": {
        "id": "yTEgKQ0HAY8c"
      },
      "source": [
        "Biogeme does not accept non-numerical variables.\n",
        "\n",
        "\n",
        "We need to transform categorical variables that are not encoded into numbers.\n",
        "The pandas function `factorize()` encodes a variable into integers. In this case, we will get 0 for Male, 1 for Female for the gender variable. We will get 0 for no, 1 for yes in the children varible. This means that we can use the encoding already as dummy variables that can be interpreted as 'isFemale' and 'hasChildren'."
      ]
    },
    {
      "cell_type": "code",
      "metadata": {
        "id": "3161scmJOPG8"
      },
      "source": [
        "affairs_pd['gender'] = affairs_pd['gender'].factorize()[0]\n",
        "affairs_pd['children'] = affairs_pd['children'].factorize()[0]\n"
      ],
      "execution_count": null,
      "outputs": []
    },
    {
      "cell_type": "markdown",
      "metadata": {
        "id": "7IUIcyRKdyFK"
      },
      "source": [
        "After this transformation, we can already pass the pandas dataframe to biogeme, though be mindful that some variables such as occupation are numeric but should be transformed to dummy. "
      ]
    },
    {
      "cell_type": "markdown",
      "metadata": {
        "id": "TeHgubYpCvHQ"
      },
      "source": [
        "# Ordinal logit with biogeme\n",
        "\n",
        "We will first estimate the ordered logit 'manually' using biogeme, to get a better view of the process and how it is connected to the theory. Later we can create some auxiliary functions to simplify the process."
      ]
    },
    {
      "cell_type": "markdown",
      "metadata": {
        "id": "MDm_MPrPeUek"
      },
      "source": [
        "We start by update the globals as usual."
      ]
    },
    {
      "cell_type": "code",
      "metadata": {
        "id": "Ew1LZzZxGwm6"
      },
      "source": [
        "qbus_update_globals_bgm(affairs_pd)"
      ],
      "execution_count": null,
      "outputs": []
    },
    {
      "cell_type": "markdown",
      "metadata": {
        "id": "5sV3eJTV_g5M"
      },
      "source": [
        "### Utility function\n",
        "\n",
        "The first step is to create the utility function, an important difference with respect to what we have done in multinomial logit(MNL) and nested logit is that there will be only one utility function, while in the MNL there is one utility function per alternative.\n",
        "\n",
        "As for the variables, after some consideration (maybe you disagree), we can take\n",
        "the variables religiousness, rating and education as numeric, even though they are categorical. This is because religiousness can be represented as 'intensity' of the belief in religion and education can be roughly interpreted as 'years spent in education'."
      ]
    },
    {
      "cell_type": "code",
      "metadata": {
        "id": "YCixV8Ry_lRW",
        "colab": {
          "base_uri": "https://localhost:8080/",
          "height": 234
        },
        "outputId": "aae5015e-bac6-433d-ead9-a891a04df0ab"
      },
      "source": [
        "# Parameters to be estimated\n",
        "B_gender = exp.Beta('B_gender', 0, None, None, 0)\n",
        "B_age = exp.Beta('B_age', 0, None, None, 0)\n",
        "B_yearsmarried = exp.Beta('B_yearsmarried', 0, None, None, 0)\n",
        "B_children = exp.Beta('B_children', 0, None, None, 0)\n",
        "B_religiousness = exp.Beta('B_religiousness', 0, None, None, 0)\n",
        "B_education = exp.Beta('B_education', 0, None, None, 0)\n",
        "B_rating = exp.Beta('B_rating', 0, None, None, 0)"
      ],
      "execution_count": 1,
      "outputs": [
        {
          "output_type": "error",
          "ename": "NameError",
          "evalue": "ignored",
          "traceback": [
            "\u001b[0;31m---------------------------------------------------------------------------\u001b[0m",
            "\u001b[0;31mNameError\u001b[0m                                 Traceback (most recent call last)",
            "\u001b[0;32m<ipython-input-1-77b57fe1f3b1>\u001b[0m in \u001b[0;36m<module>\u001b[0;34m()\u001b[0m\n\u001b[1;32m      1\u001b[0m \u001b[0;31m# Parameters to be estimated\u001b[0m\u001b[0;34m\u001b[0m\u001b[0;34m\u001b[0m\u001b[0;34m\u001b[0m\u001b[0m\n\u001b[0;32m----> 2\u001b[0;31m \u001b[0mB_gender\u001b[0m \u001b[0;34m=\u001b[0m \u001b[0mexp\u001b[0m\u001b[0;34m.\u001b[0m\u001b[0mBeta\u001b[0m\u001b[0;34m(\u001b[0m\u001b[0;34m'B_gender'\u001b[0m\u001b[0;34m,\u001b[0m \u001b[0;36m0\u001b[0m\u001b[0;34m,\u001b[0m \u001b[0;32mNone\u001b[0m\u001b[0;34m,\u001b[0m \u001b[0;32mNone\u001b[0m\u001b[0;34m,\u001b[0m \u001b[0;36m0\u001b[0m\u001b[0;34m)\u001b[0m\u001b[0;34m\u001b[0m\u001b[0;34m\u001b[0m\u001b[0m\n\u001b[0m\u001b[1;32m      3\u001b[0m \u001b[0mB_age\u001b[0m \u001b[0;34m=\u001b[0m \u001b[0mexp\u001b[0m\u001b[0;34m.\u001b[0m\u001b[0mBeta\u001b[0m\u001b[0;34m(\u001b[0m\u001b[0;34m'B_age'\u001b[0m\u001b[0;34m,\u001b[0m \u001b[0;36m0\u001b[0m\u001b[0;34m,\u001b[0m \u001b[0;32mNone\u001b[0m\u001b[0;34m,\u001b[0m \u001b[0;32mNone\u001b[0m\u001b[0;34m,\u001b[0m \u001b[0;36m0\u001b[0m\u001b[0;34m)\u001b[0m\u001b[0;34m\u001b[0m\u001b[0;34m\u001b[0m\u001b[0m\n\u001b[1;32m      4\u001b[0m \u001b[0mB_yearsmarried\u001b[0m \u001b[0;34m=\u001b[0m \u001b[0mexp\u001b[0m\u001b[0;34m.\u001b[0m\u001b[0mBeta\u001b[0m\u001b[0;34m(\u001b[0m\u001b[0;34m'B_yearsmarried'\u001b[0m\u001b[0;34m,\u001b[0m \u001b[0;36m0\u001b[0m\u001b[0;34m,\u001b[0m \u001b[0;32mNone\u001b[0m\u001b[0;34m,\u001b[0m \u001b[0;32mNone\u001b[0m\u001b[0;34m,\u001b[0m \u001b[0;36m0\u001b[0m\u001b[0;34m)\u001b[0m\u001b[0;34m\u001b[0m\u001b[0;34m\u001b[0m\u001b[0m\n\u001b[1;32m      5\u001b[0m \u001b[0mB_children\u001b[0m \u001b[0;34m=\u001b[0m \u001b[0mexp\u001b[0m\u001b[0;34m.\u001b[0m\u001b[0mBeta\u001b[0m\u001b[0;34m(\u001b[0m\u001b[0;34m'B_children'\u001b[0m\u001b[0;34m,\u001b[0m \u001b[0;36m0\u001b[0m\u001b[0;34m,\u001b[0m \u001b[0;32mNone\u001b[0m\u001b[0;34m,\u001b[0m \u001b[0;32mNone\u001b[0m\u001b[0;34m,\u001b[0m \u001b[0;36m0\u001b[0m\u001b[0;34m)\u001b[0m\u001b[0;34m\u001b[0m\u001b[0;34m\u001b[0m\u001b[0m\n",
            "\u001b[0;31mNameError\u001b[0m: name 'exp' is not defined"
          ]
        }
      ]
    },
    {
      "cell_type": "markdown",
      "metadata": {
        "id": "3iNcMRBlAMzz"
      },
      "source": [
        "Define the one utility function using our familiar syntax.\n",
        "We will simplify and not apply any transformation or interaction, though it might very well improve the fitting."
      ]
    },
    {
      "cell_type": "code",
      "metadata": {
        "id": "2yCQfe0kONS2"
      },
      "source": [
        "V_one = B_gender*gender + B_age*age + B_yearsmarried*yearsmarried + B_children*children + B_religiousness*religiousness + B_education*education + B_rating*rating"
      ],
      "execution_count": null,
      "outputs": []
    },
    {
      "cell_type": "markdown",
      "metadata": {
        "id": "hCXBaphn__q7"
      },
      "source": [
        "### Cutoff points\n",
        "\n",
        "An important part of the ordinal logit model are the cut-off points, the values that will split the utility into different categories. These are being estimated from the data. \n",
        "Remember that we have to impose some order in the cutoff points, this is, tau1\n",
        "is smaller than tau2, tau2 is smaller than tau3 and so on.\n",
        "\n",
        "The way to do this in biogeme (and other estimation software) is to create some 'auxiliary' parameters that can be interpreted as the deltas or differences between taus. These deltas are created with `exp.Beta` as the any other parameter of the model.\n",
        " We impose that the deltas can be estimated, but they have to be greater than 0. Remember that when we define the parameters in Biogeme, one of the arguments of the function `exp.Beta` are the bounds that restrict the range to which the values can be estimated.\n",
        "\n",
        "We can 'recreate' the taus from the deltas, for example, tau2 = tau1 + delta2, tau3 = tau2 + delta3 (or alternatively, tau3 = tau1 + delta2 + delta3).\n",
        "\n",
        "Just to clarify: what we are doing with the deltas is imposing the order in the taus, it is just a trick to impose: all taus are in increasing order, starting from tau1, 'tau1' can have any value, tau2 has to be between tau1 and tau3, tau3 has to be between tau2 and tau4, ..., tau6 has to be between tau5 and +infinity. What we are doing is just a way to pass the information to biogeme."
      ]
    },
    {
      "cell_type": "markdown",
      "metadata": {
        "id": "D-A4gBIjnrx1"
      },
      "source": [
        "In the next cell we declare the taus and the deltas. Notice the third argument in the `exp.Beta` when declaring the deltas is set to 0, the third argument specifies the lower bound in the estimation range. Notice how the taus are defined as the 'taus before them' plus some delta. With the exception of tau1. \n",
        "The default value of tau1 is -1, but this is arbitrary.\n",
        "\n",
        "There next cell will be very verbose, because we have to manually define each of the deltas and taus. This is a candidate to be done automatically in an auxiliary function..."
      ]
    },
    {
      "cell_type": "code",
      "metadata": {
        "id": "5oopOJUIhPir"
      },
      "source": [
        "tau1 = exp.Beta('tau1', -1, 0, None, 0)\n",
        "\n",
        "delta2 = exp.Beta('delta2', 1, 0, None, 0)\n",
        "tau2 = tau1 + delta2\n",
        "\n",
        "delta3 = exp.Beta('delta3', 2, 0, None, 0)\n",
        "tau3 = tau2 + delta3\n",
        "\n",
        "delta4 = exp.Beta('delta4', 3, 0, None, 0)\n",
        "tau4 = tau3 + delta4\n",
        "\n",
        "delta5 = exp.Beta('delta5', 4, 0, None, 0)\n",
        "tau5 = tau4 + delta5"
      ],
      "execution_count": null,
      "outputs": []
    },
    {
      "cell_type": "markdown",
      "metadata": {
        "id": "RX1r3MP8ofRT"
      },
      "source": [
        "What is left to define is the 'model' in the biogeme, the equivalent of the \n",
        "biogeme `models.loglogit` for the multinomial logit. In this case, we have to do it manually (another candidate for auxiliary functions).\n",
        "\n",
        "We define the 'model' in biogeme using a dictionary. The dictionary maps the **values for the choice variable** to the computed choice probabilities. The choice variable here is affairs.\n",
        "\n",
        "In the next cell the function `dist.logisticcdf` is just the name of the logistic transform in biogeme (there is the logistic probability distribution, which the cumulative distribution function 'logisticcdf' being the equivalent logistic transform)."
      ]
    },
    {
      "cell_type": "code",
      "metadata": {
        "id": "oJ5t9uO0r1e6"
      },
      "source": [
        "alt_probs_map = {\n",
        "    0: dist.logisticcdf(tau1 - V_one),\n",
        "    1: dist.logisticcdf(tau2 - V_one) - dist.logisticcdf( tau1 - V_one),\n",
        "    2: dist.logisticcdf(tau3 - V_one) - dist.logisticcdf( tau2 - V_one),\n",
        "    3: dist.logisticcdf(tau4 - V_one) - dist.logisticcdf( tau3 - V_one),\n",
        "    7: dist.logisticcdf(tau5 - V_one) - dist.logisticcdf( tau4 - V_one),\n",
        "    12: 1- dist.logisticcdf(tau5 - V_one)}"
      ],
      "execution_count": null,
      "outputs": []
    },
    {
      "cell_type": "markdown",
      "metadata": {
        "id": "wUkJwKD2q0IT"
      },
      "source": [
        "Then we take the log of the choice probabilities (for the loglikelihood) and specify which variable in the dataset contains the choice or alternatives."
      ]
    },
    {
      "cell_type": "code",
      "metadata": {
        "id": "QeBx8_WUppUz"
      },
      "source": [
        "\n",
        "logprob = exp.log(exp.Elem(alt_probs_map, affairs))"
      ],
      "execution_count": null,
      "outputs": []
    },
    {
      "cell_type": "markdown",
      "metadata": {
        "id": "8xhRW4nWq_55"
      },
      "source": [
        "We declare the biogeme object as usual, and we estimate the model."
      ]
    },
    {
      "cell_type": "code",
      "metadata": {
        "id": "BVab7bDjrAME"
      },
      "source": [
        "affairs_db = db.Database('affairs', affairs_pd)\n",
        "\n",
        "biogeme  = bio.BIOGEME(affairs_db, logprob)\n",
        "\n",
        "results = biogeme.estimate()"
      ],
      "execution_count": null,
      "outputs": []
    },
    {
      "cell_type": "markdown",
      "metadata": {
        "id": "3XSav5d4tIB0"
      },
      "source": [
        "And here are the results, for your interpretation!\n",
        "The new part are the taus and deltas. We have tau1, and then the deltas that will allow us to recover the remaining taus. We check tha everything looks OK,all deltas are positive."
      ]
    },
    {
      "cell_type": "code",
      "metadata": {
        "colab": {
          "base_uri": "https://localhost:8080/",
          "height": 426
        },
        "id": "Pi7_6RZ7re2e",
        "outputId": "958716fe-7ab2-409f-de66-9441a4c41c24"
      },
      "source": [
        "results.getEstimatedParameters()"
      ],
      "execution_count": null,
      "outputs": [
        {
          "output_type": "execute_result",
          "data": {
            "text/html": [
              "<div>\n",
              "<style scoped>\n",
              "    .dataframe tbody tr th:only-of-type {\n",
              "        vertical-align: middle;\n",
              "    }\n",
              "\n",
              "    .dataframe tbody tr th {\n",
              "        vertical-align: top;\n",
              "    }\n",
              "\n",
              "    .dataframe thead th {\n",
              "        text-align: right;\n",
              "    }\n",
              "</style>\n",
              "<table border=\"1\" class=\"dataframe\">\n",
              "  <thead>\n",
              "    <tr style=\"text-align: right;\">\n",
              "      <th></th>\n",
              "      <th>Value</th>\n",
              "      <th>Active bound</th>\n",
              "      <th>Std err</th>\n",
              "      <th>t-test</th>\n",
              "      <th>p-value</th>\n",
              "      <th>Rob. Std err</th>\n",
              "      <th>Rob. t-test</th>\n",
              "      <th>Rob. p-value</th>\n",
              "    </tr>\n",
              "  </thead>\n",
              "  <tbody>\n",
              "    <tr>\n",
              "      <th>B_age</th>\n",
              "      <td>-0.034204</td>\n",
              "      <td>0.0</td>\n",
              "      <td>0.017319</td>\n",
              "      <td>-1.974883</td>\n",
              "      <td>4.828140e-02</td>\n",
              "      <td>0.017692</td>\n",
              "      <td>-1.933296</td>\n",
              "      <td>5.319980e-02</td>\n",
              "    </tr>\n",
              "    <tr>\n",
              "      <th>B_children</th>\n",
              "      <td>0.379980</td>\n",
              "      <td>0.0</td>\n",
              "      <td>0.291037</td>\n",
              "      <td>1.305605</td>\n",
              "      <td>1.916867e-01</td>\n",
              "      <td>0.317226</td>\n",
              "      <td>1.197819</td>\n",
              "      <td>2.309874e-01</td>\n",
              "    </tr>\n",
              "    <tr>\n",
              "      <th>B_education</th>\n",
              "      <td>0.095784</td>\n",
              "      <td>0.0</td>\n",
              "      <td>0.045581</td>\n",
              "      <td>2.101396</td>\n",
              "      <td>3.560620e-02</td>\n",
              "      <td>0.049239</td>\n",
              "      <td>1.945286</td>\n",
              "      <td>5.174061e-02</td>\n",
              "    </tr>\n",
              "    <tr>\n",
              "      <th>B_gender</th>\n",
              "      <td>-0.072024</td>\n",
              "      <td>0.0</td>\n",
              "      <td>0.218593</td>\n",
              "      <td>-0.329489</td>\n",
              "      <td>7.417863e-01</td>\n",
              "      <td>0.224468</td>\n",
              "      <td>-0.320865</td>\n",
              "      <td>7.483126e-01</td>\n",
              "    </tr>\n",
              "    <tr>\n",
              "      <th>B_rating</th>\n",
              "      <td>-0.454262</td>\n",
              "      <td>0.0</td>\n",
              "      <td>0.087616</td>\n",
              "      <td>-5.184684</td>\n",
              "      <td>2.163809e-07</td>\n",
              "      <td>0.090662</td>\n",
              "      <td>-5.010514</td>\n",
              "      <td>5.428495e-07</td>\n",
              "    </tr>\n",
              "    <tr>\n",
              "      <th>B_religiousness</th>\n",
              "      <td>-0.311164</td>\n",
              "      <td>0.0</td>\n",
              "      <td>0.087459</td>\n",
              "      <td>-3.557826</td>\n",
              "      <td>3.739367e-04</td>\n",
              "      <td>0.090100</td>\n",
              "      <td>-3.453538</td>\n",
              "      <td>5.532846e-04</td>\n",
              "    </tr>\n",
              "    <tr>\n",
              "      <th>B_yearsmarried</th>\n",
              "      <td>0.101451</td>\n",
              "      <td>0.0</td>\n",
              "      <td>0.031527</td>\n",
              "      <td>3.217908</td>\n",
              "      <td>1.291293e-03</td>\n",
              "      <td>0.032843</td>\n",
              "      <td>3.088919</td>\n",
              "      <td>2.008864e-03</td>\n",
              "    </tr>\n",
              "    <tr>\n",
              "      <th>delta2</th>\n",
              "      <td>0.368619</td>\n",
              "      <td>0.0</td>\n",
              "      <td>0.061462</td>\n",
              "      <td>5.997529</td>\n",
              "      <td>2.003427e-09</td>\n",
              "      <td>0.059607</td>\n",
              "      <td>6.184160</td>\n",
              "      <td>6.243421e-10</td>\n",
              "    </tr>\n",
              "    <tr>\n",
              "      <th>delta3</th>\n",
              "      <td>0.217144</td>\n",
              "      <td>0.0</td>\n",
              "      <td>0.051803</td>\n",
              "      <td>4.191768</td>\n",
              "      <td>2.767891e-05</td>\n",
              "      <td>0.052117</td>\n",
              "      <td>4.166478</td>\n",
              "      <td>3.093422e-05</td>\n",
              "    </tr>\n",
              "    <tr>\n",
              "      <th>delta4</th>\n",
              "      <td>0.276375</td>\n",
              "      <td>0.0</td>\n",
              "      <td>0.062230</td>\n",
              "      <td>4.441172</td>\n",
              "      <td>8.947010e-06</td>\n",
              "      <td>0.062077</td>\n",
              "      <td>4.452171</td>\n",
              "      <td>8.500662e-06</td>\n",
              "    </tr>\n",
              "    <tr>\n",
              "      <th>delta5</th>\n",
              "      <td>0.886664</td>\n",
              "      <td>0.0</td>\n",
              "      <td>0.133438</td>\n",
              "      <td>6.644752</td>\n",
              "      <td>3.037282e-11</td>\n",
              "      <td>0.131878</td>\n",
              "      <td>6.723339</td>\n",
              "      <td>1.776068e-11</td>\n",
              "    </tr>\n",
              "    <tr>\n",
              "      <th>tau1</th>\n",
              "      <td>0.000000</td>\n",
              "      <td>1.0</td>\n",
              "      <td>0.966855</td>\n",
              "      <td>0.000000</td>\n",
              "      <td>1.000000e+00</td>\n",
              "      <td>1.110455</td>\n",
              "      <td>0.000000</td>\n",
              "      <td>1.000000e+00</td>\n",
              "    </tr>\n",
              "  </tbody>\n",
              "</table>\n",
              "</div>"
            ],
            "text/plain": [
              "                    Value  Active bound  ...  Rob. t-test  Rob. p-value\n",
              "B_age           -0.034204           0.0  ...    -1.933296  5.319980e-02\n",
              "B_children       0.379980           0.0  ...     1.197819  2.309874e-01\n",
              "B_education      0.095784           0.0  ...     1.945286  5.174061e-02\n",
              "B_gender        -0.072024           0.0  ...    -0.320865  7.483126e-01\n",
              "B_rating        -0.454262           0.0  ...    -5.010514  5.428495e-07\n",
              "B_religiousness -0.311164           0.0  ...    -3.453538  5.532846e-04\n",
              "B_yearsmarried   0.101451           0.0  ...     3.088919  2.008864e-03\n",
              "delta2           0.368619           0.0  ...     6.184160  6.243421e-10\n",
              "delta3           0.217144           0.0  ...     4.166478  3.093422e-05\n",
              "delta4           0.276375           0.0  ...     4.452171  8.500662e-06\n",
              "delta5           0.886664           0.0  ...     6.723339  1.776068e-11\n",
              "tau1             0.000000           1.0  ...     0.000000  1.000000e+00\n",
              "\n",
              "[12 rows x 8 columns]"
            ]
          },
          "metadata": {},
          "execution_count": 14
        }
      ]
    },
    {
      "cell_type": "markdown",
      "metadata": {
        "id": "XY1uYheKtjlG"
      },
      "source": [
        "Simulation is as usual, pass the biogeme database and the dictionary with the targets to compute. In this case, to get the choice probabilities, we can reuse the `alt_probs_map` dictionary as the targets. \n"
      ]
    },
    {
      "cell_type": "code",
      "metadata": {
        "colab": {
          "base_uri": "https://localhost:8080/",
          "height": 423
        },
        "id": "Z9WSKGKitrpH",
        "outputId": "53445f2f-78a7-4a4a-8994-64368ba132a2"
      },
      "source": [
        "  bgm_pred_model = bio.BIOGEME(affairs_db, alt_probs_map)\n",
        "  simulatedValues = bgm_pred_model.simulate(results.getBetaValues())\n",
        "  simulatedValues"
      ],
      "execution_count": null,
      "outputs": [
        {
          "output_type": "execute_result",
          "data": {
            "text/html": [
              "<div>\n",
              "<style scoped>\n",
              "    .dataframe tbody tr th:only-of-type {\n",
              "        vertical-align: middle;\n",
              "    }\n",
              "\n",
              "    .dataframe tbody tr th {\n",
              "        vertical-align: top;\n",
              "    }\n",
              "\n",
              "    .dataframe thead th {\n",
              "        text-align: right;\n",
              "    }\n",
              "</style>\n",
              "<table border=\"1\" class=\"dataframe\">\n",
              "  <thead>\n",
              "    <tr style=\"text-align: right;\">\n",
              "      <th></th>\n",
              "      <th>0</th>\n",
              "      <th>1</th>\n",
              "      <th>2</th>\n",
              "      <th>3</th>\n",
              "      <th>7</th>\n",
              "      <th>12</th>\n",
              "    </tr>\n",
              "  </thead>\n",
              "  <tbody>\n",
              "    <tr>\n",
              "      <th>0</th>\n",
              "      <td>0.782017</td>\n",
              "      <td>0.056343</td>\n",
              "      <td>0.027312</td>\n",
              "      <td>0.029021</td>\n",
              "      <td>0.059054</td>\n",
              "      <td>0.046253</td>\n",
              "    </tr>\n",
              "    <tr>\n",
              "      <th>1</th>\n",
              "      <td>0.909739</td>\n",
              "      <td>0.026041</td>\n",
              "      <td>0.011879</td>\n",
              "      <td>0.012131</td>\n",
              "      <td>0.023241</td>\n",
              "      <td>0.016969</td>\n",
              "    </tr>\n",
              "    <tr>\n",
              "      <th>2</th>\n",
              "      <td>0.560603</td>\n",
              "      <td>0.087846</td>\n",
              "      <td>0.047773</td>\n",
              "      <td>0.055113</td>\n",
              "      <td>0.128662</td>\n",
              "      <td>0.120002</td>\n",
              "    </tr>\n",
              "    <tr>\n",
              "      <th>3</th>\n",
              "      <td>0.895752</td>\n",
              "      <td>0.029746</td>\n",
              "      <td>0.013657</td>\n",
              "      <td>0.014004</td>\n",
              "      <td>0.026994</td>\n",
              "      <td>0.019846</td>\n",
              "    </tr>\n",
              "    <tr>\n",
              "      <th>4</th>\n",
              "      <td>0.737532</td>\n",
              "      <td>0.064937</td>\n",
              "      <td>0.032180</td>\n",
              "      <td>0.034711</td>\n",
              "      <td>0.072334</td>\n",
              "      <td>0.058306</td>\n",
              "    </tr>\n",
              "    <tr>\n",
              "      <th>...</th>\n",
              "      <td>...</td>\n",
              "      <td>...</td>\n",
              "      <td>...</td>\n",
              "      <td>...</td>\n",
              "      <td>...</td>\n",
              "      <td>...</td>\n",
              "    </tr>\n",
              "    <tr>\n",
              "      <th>596</th>\n",
              "      <td>0.839349</td>\n",
              "      <td>0.043740</td>\n",
              "      <td>0.020622</td>\n",
              "      <td>0.021512</td>\n",
              "      <td>0.042550</td>\n",
              "      <td>0.032227</td>\n",
              "    </tr>\n",
              "    <tr>\n",
              "      <th>597</th>\n",
              "      <td>0.619476</td>\n",
              "      <td>0.082337</td>\n",
              "      <td>0.043371</td>\n",
              "      <td>0.048858</td>\n",
              "      <td>0.109405</td>\n",
              "      <td>0.096553</td>\n",
              "    </tr>\n",
              "    <tr>\n",
              "      <th>598</th>\n",
              "      <td>0.724191</td>\n",
              "      <td>0.067305</td>\n",
              "      <td>0.033578</td>\n",
              "      <td>0.036388</td>\n",
              "      <td>0.076395</td>\n",
              "      <td>0.062144</td>\n",
              "    </tr>\n",
              "    <tr>\n",
              "      <th>599</th>\n",
              "      <td>0.445283</td>\n",
              "      <td>0.091866</td>\n",
              "      <td>0.053347</td>\n",
              "      <td>0.064798</td>\n",
              "      <td>0.166574</td>\n",
              "      <td>0.178132</td>\n",
              "    </tr>\n",
              "    <tr>\n",
              "      <th>600</th>\n",
              "      <td>0.755586</td>\n",
              "      <td>0.061578</td>\n",
              "      <td>0.030241</td>\n",
              "      <td>0.032419</td>\n",
              "      <td>0.066895</td>\n",
              "      <td>0.053280</td>\n",
              "    </tr>\n",
              "  </tbody>\n",
              "</table>\n",
              "<p>601 rows × 6 columns</p>\n",
              "</div>"
            ],
            "text/plain": [
              "           0         1         2         3         7         12\n",
              "0    0.782017  0.056343  0.027312  0.029021  0.059054  0.046253\n",
              "1    0.909739  0.026041  0.011879  0.012131  0.023241  0.016969\n",
              "2    0.560603  0.087846  0.047773  0.055113  0.128662  0.120002\n",
              "3    0.895752  0.029746  0.013657  0.014004  0.026994  0.019846\n",
              "4    0.737532  0.064937  0.032180  0.034711  0.072334  0.058306\n",
              "..        ...       ...       ...       ...       ...       ...\n",
              "596  0.839349  0.043740  0.020622  0.021512  0.042550  0.032227\n",
              "597  0.619476  0.082337  0.043371  0.048858  0.109405  0.096553\n",
              "598  0.724191  0.067305  0.033578  0.036388  0.076395  0.062144\n",
              "599  0.445283  0.091866  0.053347  0.064798  0.166574  0.178132\n",
              "600  0.755586  0.061578  0.030241  0.032419  0.066895  0.053280\n",
              "\n",
              "[601 rows x 6 columns]"
            ]
          },
          "metadata": {},
          "execution_count": 15
        }
      ]
    },
    {
      "cell_type": "markdown",
      "metadata": {
        "id": "voYVGcOQuUDR"
      },
      "source": [
        "To simulate the utilities we have to create a dictionary just with the utility funcion. "
      ]
    },
    {
      "cell_type": "code",
      "metadata": {
        "id": "KWhw880muTn9"
      },
      "source": [
        "V_pred_map = {\n",
        "    'util': V_one }"
      ],
      "execution_count": null,
      "outputs": []
    },
    {
      "cell_type": "markdown",
      "metadata": {
        "id": "GefB4WHovMsh"
      },
      "source": [
        "We do the simulation as usual, notice how the more positive the utility, the more it tends towars more infidelities. This is because we considered arbitrarily to intepret the 'utility that is received from having an affair'. We could have also used the 'utility from being faithful'."
      ]
    },
    {
      "cell_type": "code",
      "metadata": {
        "colab": {
          "base_uri": "https://localhost:8080/",
          "height": 423
        },
        "id": "NvKLl-rAugbT",
        "outputId": "ca40698f-c13c-4ca1-a928-7b9073eaf2f4"
      },
      "source": [
        "  bgm_pred_util = bio.BIOGEME(affairs_db, V_pred_map)\n",
        "  simulated_util = bgm_pred_util.simulate(results.getBetaValues())\n",
        "  simulated_util"
      ],
      "execution_count": null,
      "outputs": [
        {
          "output_type": "execute_result",
          "data": {
            "text/html": [
              "<div>\n",
              "<style scoped>\n",
              "    .dataframe tbody tr th:only-of-type {\n",
              "        vertical-align: middle;\n",
              "    }\n",
              "\n",
              "    .dataframe tbody tr th {\n",
              "        vertical-align: top;\n",
              "    }\n",
              "\n",
              "    .dataframe thead th {\n",
              "        text-align: right;\n",
              "    }\n",
              "</style>\n",
              "<table border=\"1\" class=\"dataframe\">\n",
              "  <thead>\n",
              "    <tr style=\"text-align: right;\">\n",
              "      <th></th>\n",
              "      <th>util</th>\n",
              "    </tr>\n",
              "  </thead>\n",
              "  <tbody>\n",
              "    <tr>\n",
              "      <th>0</th>\n",
              "      <td>-1.277462</td>\n",
              "    </tr>\n",
              "    <tr>\n",
              "      <th>1</th>\n",
              "      <td>-2.310451</td>\n",
              "    </tr>\n",
              "    <tr>\n",
              "      <th>2</th>\n",
              "      <td>-0.243611</td>\n",
              "    </tr>\n",
              "    <tr>\n",
              "      <th>3</th>\n",
              "      <td>-2.150894</td>\n",
              "    </tr>\n",
              "    <tr>\n",
              "      <th>4</th>\n",
              "      <td>-1.033181</td>\n",
              "    </tr>\n",
              "    <tr>\n",
              "      <th>...</th>\n",
              "      <td>...</td>\n",
              "    </tr>\n",
              "    <tr>\n",
              "      <th>596</th>\n",
              "      <td>-1.653394</td>\n",
              "    </tr>\n",
              "    <tr>\n",
              "      <th>597</th>\n",
              "      <td>-0.487324</td>\n",
              "    </tr>\n",
              "    <tr>\n",
              "      <th>598</th>\n",
              "      <td>-0.965346</td>\n",
              "    </tr>\n",
              "    <tr>\n",
              "      <th>599</th>\n",
              "      <td>0.219747</td>\n",
              "    </tr>\n",
              "    <tr>\n",
              "      <th>600</th>\n",
              "      <td>-1.128632</td>\n",
              "    </tr>\n",
              "  </tbody>\n",
              "</table>\n",
              "<p>601 rows × 1 columns</p>\n",
              "</div>"
            ],
            "text/plain": [
              "         util\n",
              "0   -1.277462\n",
              "1   -2.310451\n",
              "2   -0.243611\n",
              "3   -2.150894\n",
              "4   -1.033181\n",
              "..        ...\n",
              "596 -1.653394\n",
              "597 -0.487324\n",
              "598 -0.965346\n",
              "599  0.219747\n",
              "600 -1.128632\n",
              "\n",
              "[601 rows x 1 columns]"
            ]
          },
          "metadata": {},
          "execution_count": 17
        }
      ]
    },
    {
      "cell_type": "markdown",
      "metadata": {
        "id": "rgw5ORydxFpC"
      },
      "source": [
        "# Exercise 1) Create a more fine tuned ordered logit model\n"
      ]
    },
    {
      "cell_type": "markdown",
      "metadata": {
        "id": "_esaDtp4DUa2"
      },
      "source": [
        "We will create nonlinearities in years married, to capture the possibility that the effects are non-monotonic, for example, utility from being unfaithful increases with the years of marriage (maybe for the first few decades), but decays after being married for a very long time.\n",
        "\n",
        "So we create a pandas dataframe with the transformed variables."
      ]
    },
    {
      "cell_type": "code",
      "metadata": {
        "id": "TLRnXEYQxrzt"
      },
      "source": [
        "affairs_nl = affairs_pd.copy()\n",
        "affairs_nl['yearsmarried_sq'] = affairs_nl['yearsmarried']**2\n",
        "affairs_nl['age_sq'] = affairs_nl['age']**2"
      ],
      "execution_count": null,
      "outputs": []
    },
    {
      "cell_type": "markdown",
      "metadata": {
        "id": "5dpnOvcq1ACi"
      },
      "source": [
        "The betas."
      ]
    },
    {
      "cell_type": "code",
      "metadata": {
        "id": "1jcek1tJFbzu"
      },
      "source": [
        "# Parameters to be estimated\n",
        "B_gender_nl = exp.Beta('B_gender_nl', 0, None, None, 0)\n",
        "B_age_nl = exp.Beta('B_age_nl', 0, None, None, 0)\n",
        "B_age_sq_nl = exp.Beta('B_age_sq_nl', 0, None, None, 0)\n",
        "B_yearsmarried_nl = exp.Beta('B_yearsmarried_nl', 0, None, None, 0)\n",
        "B_yearsmarried_sq_nl = exp.Beta('B_yearsmarried_sq_nl', 0, None, None, 0)\n",
        "B_children_nl = exp.Beta('B_children_nl', 0, None, None, 0)\n",
        "B_religiousness_nl = exp.Beta('B_religiousness_nl', 0, None, None, 0)\n",
        "B_education_nl = exp.Beta('B_education_nl', 0, None, None, 0)\n",
        "B_rating_nl = exp.Beta('B_rating_nl', 0, None, None, 0)\n"
      ],
      "execution_count": null,
      "outputs": []
    },
    {
      "cell_type": "code",
      "metadata": {
        "id": "gHhVK1KSFvF_"
      },
      "source": [
        "qbus_update_globals_bgm(affairs_nl)"
      ],
      "execution_count": null,
      "outputs": []
    },
    {
      "cell_type": "markdown",
      "metadata": {
        "id": "B5CJ57iZ1Cy_"
      },
      "source": [
        "We declare the utility function."
      ]
    },
    {
      "cell_type": "code",
      "metadata": {
        "id": "HAOYjUb-FUrG"
      },
      "source": [
        "V_nl = B_gender_nl*gender + B_age_nl*age + B_age_sq_nl + B_yearsmarried_nl*yearsmarried + \\\n",
        " B_yearsmarried_sq_nl*yearsmarried_sq + B_children_nl*children + \\\n",
        "  B_religiousness_nl*religiousness + B_education_nl*education + B_rating_nl*rating"
      ],
      "execution_count": null,
      "outputs": []
    },
    {
      "cell_type": "markdown",
      "metadata": {
        "id": "y4jqswgr1dCx"
      },
      "source": [
        "We declare the taus, note that we this is not necessary, we could reuse the expressions, but we do this for clarity."
      ]
    },
    {
      "cell_type": "code",
      "metadata": {
        "id": "E7Lk36vz1PPv"
      },
      "source": [
        "tau1_nl = exp.Beta('tau1_nl', -1, 0, None, 0)\n",
        "\n",
        "delta2_nl = exp.Beta('delta2_nl', 1, 0, None, 0)\n",
        "tau2_nl = tau1_nl + delta2_nl\n",
        "\n",
        "delta3_nl = exp.Beta('delta3_nl', 2, 0, None, 0)\n",
        "tau3_nl = tau2_nl + delta3_nl\n",
        "\n",
        "delta4_nl = exp.Beta('delta4_nl', 3, 0, None, 0)\n",
        "tau4_nl = tau3_nl + delta4_nl\n",
        "\n",
        "delta5_nl = exp.Beta('delta5_nl', 4, 0, None, 0)\n",
        "tau5_nl = tau4_nl + delta5_nl"
      ],
      "execution_count": null,
      "outputs": []
    },
    {
      "cell_type": "markdown",
      "metadata": {
        "id": "bgHpRONk1p0Q"
      },
      "source": [
        "The dictionary that maps the alternatives to the choice probabilities."
      ]
    },
    {
      "cell_type": "code",
      "metadata": {
        "id": "pWVh0TzlF96p"
      },
      "source": [
        "alt_probs_map_nl = {\n",
        "    0: dist.logisticcdf(tau1_nl - V_nl),\n",
        "    1: dist.logisticcdf(tau2_nl - V_nl) - dist.logisticcdf( tau1_nl - V_nl),\n",
        "    2: dist.logisticcdf(tau3_nl - V_nl) - dist.logisticcdf( tau2_nl - V_nl),\n",
        "    3: dist.logisticcdf(tau4_nl - V_nl) - dist.logisticcdf( tau3_nl - V_nl),\n",
        "    7: dist.logisticcdf(tau5_nl - V_nl) - dist.logisticcdf( tau4_nl - V_nl),\n",
        "    12: 1- dist.logisticcdf(tau5_nl - V_nl)}"
      ],
      "execution_count": null,
      "outputs": []
    },
    {
      "cell_type": "markdown",
      "metadata": {
        "id": "a39OoKY11uR3"
      },
      "source": [
        "The model"
      ]
    },
    {
      "cell_type": "code",
      "metadata": {
        "id": "aQKOBA0gGGJQ"
      },
      "source": [
        "logprob_nl = exp.log(exp.Elem(alt_probs_map_nl, affairs))"
      ],
      "execution_count": null,
      "outputs": []
    },
    {
      "cell_type": "markdown",
      "metadata": {
        "id": "5hkYJtDi1vZ4"
      },
      "source": [
        "Finally the biogeme object and we estimate the model."
      ]
    },
    {
      "cell_type": "code",
      "metadata": {
        "id": "CTkhK1z4GINc"
      },
      "source": [
        "affairs_nl_db = db.Database('affairs_nl', affairs_nl)\n",
        "\n",
        "biogeme_nl  = bio.BIOGEME(affairs_nl_db, logprob_nl)\n",
        "\n",
        "results_nl = biogeme_nl.estimate()"
      ],
      "execution_count": null,
      "outputs": []
    },
    {
      "cell_type": "code",
      "metadata": {
        "colab": {
          "base_uri": "https://localhost:8080/",
          "height": 488
        },
        "id": "kygCHPZDGR5_",
        "outputId": "65575f4b-a443-450b-d142-8109de7bdc05"
      },
      "source": [
        "results_nl.getEstimatedParameters()"
      ],
      "execution_count": null,
      "outputs": [
        {
          "output_type": "execute_result",
          "data": {
            "text/html": [
              "<div>\n",
              "<style scoped>\n",
              "    .dataframe tbody tr th:only-of-type {\n",
              "        vertical-align: middle;\n",
              "    }\n",
              "\n",
              "    .dataframe tbody tr th {\n",
              "        vertical-align: top;\n",
              "    }\n",
              "\n",
              "    .dataframe thead th {\n",
              "        text-align: right;\n",
              "    }\n",
              "</style>\n",
              "<table border=\"1\" class=\"dataframe\">\n",
              "  <thead>\n",
              "    <tr style=\"text-align: right;\">\n",
              "      <th></th>\n",
              "      <th>Value</th>\n",
              "      <th>Active bound</th>\n",
              "      <th>Std err</th>\n",
              "      <th>t-test</th>\n",
              "      <th>p-value</th>\n",
              "      <th>Rob. Std err</th>\n",
              "      <th>Rob. t-test</th>\n",
              "      <th>Rob. p-value</th>\n",
              "    </tr>\n",
              "  </thead>\n",
              "  <tbody>\n",
              "    <tr>\n",
              "      <th>B_age_nl</th>\n",
              "      <td>-4.471879e-02</td>\n",
              "      <td>0.0</td>\n",
              "      <td>0.018095</td>\n",
              "      <td>-2.471383e+00</td>\n",
              "      <td>1.345915e-02</td>\n",
              "      <td>0.019448</td>\n",
              "      <td>-2.299397e+00</td>\n",
              "      <td>2.148241e-02</td>\n",
              "    </tr>\n",
              "    <tr>\n",
              "      <th>B_age_sq_nl</th>\n",
              "      <td>1.772423e+00</td>\n",
              "      <td>0.0</td>\n",
              "      <td>0.492776</td>\n",
              "      <td>3.596813e+00</td>\n",
              "      <td>3.221397e-04</td>\n",
              "      <td>0.549745</td>\n",
              "      <td>3.224084e+00</td>\n",
              "      <td>1.263761e-03</td>\n",
              "    </tr>\n",
              "    <tr>\n",
              "      <th>B_children_nl</th>\n",
              "      <td>1.143103e-01</td>\n",
              "      <td>0.0</td>\n",
              "      <td>0.301266</td>\n",
              "      <td>3.794327e-01</td>\n",
              "      <td>7.043666e-01</td>\n",
              "      <td>0.335084</td>\n",
              "      <td>3.411396e-01</td>\n",
              "      <td>7.329985e-01</td>\n",
              "    </tr>\n",
              "    <tr>\n",
              "      <th>B_education_nl</th>\n",
              "      <td>1.765065e-02</td>\n",
              "      <td>0.0</td>\n",
              "      <td>0.044514</td>\n",
              "      <td>3.965178e-01</td>\n",
              "      <td>6.917231e-01</td>\n",
              "      <td>0.045817</td>\n",
              "      <td>3.852402e-01</td>\n",
              "      <td>7.000594e-01</td>\n",
              "    </tr>\n",
              "    <tr>\n",
              "      <th>B_gender_nl</th>\n",
              "      <td>-2.999988e-01</td>\n",
              "      <td>0.0</td>\n",
              "      <td>0.217446</td>\n",
              "      <td>-1.379647e+00</td>\n",
              "      <td>1.676953e-01</td>\n",
              "      <td>0.219520</td>\n",
              "      <td>-1.366611e+00</td>\n",
              "      <td>1.717473e-01</td>\n",
              "    </tr>\n",
              "    <tr>\n",
              "      <th>B_rating_nl</th>\n",
              "      <td>-5.097309e-01</td>\n",
              "      <td>0.0</td>\n",
              "      <td>0.087897</td>\n",
              "      <td>-5.799208e+00</td>\n",
              "      <td>6.662870e-09</td>\n",
              "      <td>0.091254</td>\n",
              "      <td>-5.585865e+00</td>\n",
              "      <td>2.325393e-08</td>\n",
              "    </tr>\n",
              "    <tr>\n",
              "      <th>B_religiousness_nl</th>\n",
              "      <td>-3.588692e-01</td>\n",
              "      <td>0.0</td>\n",
              "      <td>0.088319</td>\n",
              "      <td>-4.063308e+00</td>\n",
              "      <td>4.838203e-05</td>\n",
              "      <td>0.092171</td>\n",
              "      <td>-3.893504e+00</td>\n",
              "      <td>9.880661e-05</td>\n",
              "    </tr>\n",
              "    <tr>\n",
              "      <th>B_yearsmarried_nl</th>\n",
              "      <td>2.566418e-01</td>\n",
              "      <td>0.0</td>\n",
              "      <td>0.100844</td>\n",
              "      <td>2.544933e+00</td>\n",
              "      <td>1.092988e-02</td>\n",
              "      <td>0.108225</td>\n",
              "      <td>2.371371e+00</td>\n",
              "      <td>1.772222e-02</td>\n",
              "    </tr>\n",
              "    <tr>\n",
              "      <th>B_yearsmarried_sq_nl</th>\n",
              "      <td>-7.792701e-03</td>\n",
              "      <td>0.0</td>\n",
              "      <td>0.005464</td>\n",
              "      <td>-1.426210e+00</td>\n",
              "      <td>1.538076e-01</td>\n",
              "      <td>0.005882</td>\n",
              "      <td>-1.324777e+00</td>\n",
              "      <td>1.852451e-01</td>\n",
              "    </tr>\n",
              "    <tr>\n",
              "      <th>delta2</th>\n",
              "      <td>3.757289e-01</td>\n",
              "      <td>0.0</td>\n",
              "      <td>0.062577</td>\n",
              "      <td>6.004240e+00</td>\n",
              "      <td>1.922304e-09</td>\n",
              "      <td>0.060752</td>\n",
              "      <td>6.184640e+00</td>\n",
              "      <td>6.224423e-10</td>\n",
              "    </tr>\n",
              "    <tr>\n",
              "      <th>delta3</th>\n",
              "      <td>2.215891e-01</td>\n",
              "      <td>0.0</td>\n",
              "      <td>0.052825</td>\n",
              "      <td>4.194760e+00</td>\n",
              "      <td>2.731603e-05</td>\n",
              "      <td>0.053116</td>\n",
              "      <td>4.171810e+00</td>\n",
              "      <td>3.021895e-05</td>\n",
              "    </tr>\n",
              "    <tr>\n",
              "      <th>delta4</th>\n",
              "      <td>2.810673e-01</td>\n",
              "      <td>0.0</td>\n",
              "      <td>0.063238</td>\n",
              "      <td>4.444598e+00</td>\n",
              "      <td>8.805639e-06</td>\n",
              "      <td>0.063282</td>\n",
              "      <td>4.441471e+00</td>\n",
              "      <td>8.934598e-06</td>\n",
              "    </tr>\n",
              "    <tr>\n",
              "      <th>delta5</th>\n",
              "      <td>9.011640e-01</td>\n",
              "      <td>0.0</td>\n",
              "      <td>0.135268</td>\n",
              "      <td>6.662086e+00</td>\n",
              "      <td>2.699663e-11</td>\n",
              "      <td>0.133173</td>\n",
              "      <td>6.766862e+00</td>\n",
              "      <td>1.316058e-11</td>\n",
              "    </tr>\n",
              "    <tr>\n",
              "      <th>tau1</th>\n",
              "      <td>1.800245e-08</td>\n",
              "      <td>1.0</td>\n",
              "      <td>0.492776</td>\n",
              "      <td>3.653273e-08</td>\n",
              "      <td>1.000000e+00</td>\n",
              "      <td>0.549745</td>\n",
              "      <td>3.274693e-08</td>\n",
              "      <td>1.000000e+00</td>\n",
              "    </tr>\n",
              "  </tbody>\n",
              "</table>\n",
              "</div>"
            ],
            "text/plain": [
              "                             Value  Active bound  ...   Rob. t-test  Rob. p-value\n",
              "B_age_nl             -4.471879e-02           0.0  ... -2.299397e+00  2.148241e-02\n",
              "B_age_sq_nl           1.772423e+00           0.0  ...  3.224084e+00  1.263761e-03\n",
              "B_children_nl         1.143103e-01           0.0  ...  3.411396e-01  7.329985e-01\n",
              "B_education_nl        1.765065e-02           0.0  ...  3.852402e-01  7.000594e-01\n",
              "B_gender_nl          -2.999988e-01           0.0  ... -1.366611e+00  1.717473e-01\n",
              "B_rating_nl          -5.097309e-01           0.0  ... -5.585865e+00  2.325393e-08\n",
              "B_religiousness_nl   -3.588692e-01           0.0  ... -3.893504e+00  9.880661e-05\n",
              "B_yearsmarried_nl     2.566418e-01           0.0  ...  2.371371e+00  1.772222e-02\n",
              "B_yearsmarried_sq_nl -7.792701e-03           0.0  ... -1.324777e+00  1.852451e-01\n",
              "delta2                3.757289e-01           0.0  ...  6.184640e+00  6.224423e-10\n",
              "delta3                2.215891e-01           0.0  ...  4.171810e+00  3.021895e-05\n",
              "delta4                2.810673e-01           0.0  ...  4.441471e+00  8.934598e-06\n",
              "delta5                9.011640e-01           0.0  ...  6.766862e+00  1.316058e-11\n",
              "tau1                  1.800245e-08           1.0  ...  3.274693e-08  1.000000e+00\n",
              "\n",
              "[14 rows x 8 columns]"
            ]
          },
          "metadata": {},
          "execution_count": 25
        }
      ]
    },
    {
      "cell_type": "markdown",
      "metadata": {
        "id": "gmp18qrzxrHa"
      },
      "source": [
        "\n",
        "# Exercise 2) Compare the predictions and accuracy of the fine tuned model to a multinomial logit"
      ]
    },
    {
      "cell_type": "markdown",
      "metadata": {
        "id": "bejNXildHpi6"
      },
      "source": [
        "In this exercise, we have to estimate a standard multinomial model to the affairs dataset, with the alternatives being each of the possible answers of to the survey. **In the multinomial logit, we are dismissing the information about the order relationship between alternatives, but it can still work well in practice.** We will load the auxiliary functions from previous lectures to speed up the process."
      ]
    },
    {
      "cell_type": "code",
      "metadata": {
        "id": "0OQ1ls2Bi_ot"
      },
      "source": [
        "def qbus_estimate_bgm(V, pd_df, tgtvar_name, modelname='bgmdef'):\n",
        " av_auto = V.copy()\n",
        " for key, value in av_auto.items():\n",
        "   av_auto[key] = 1\n",
        " bgm_db = db.Database(modelname + '_db', pd_df)\n",
        " globals().update(bgm_db.variables)\n",
        " logprob = models.loglogit (V , av_auto , bgm_db.variables[tgtvar_name] )\n",
        " bgm_model = bio.BIOGEME ( bgm_db, logprob )\n",
        " bgm_model.utility_dic = V.copy()\n",
        " return bgm_model, bgm_model.estimate()"
      ],
      "execution_count": null,
      "outputs": []
    },
    {
      "cell_type": "code",
      "metadata": {
        "id": "wUEKEUcmOCUO"
      },
      "source": [
        "def qbus_simulate_bgm(qbus_bgm_model, betas, pred_pd_df):\n",
        "  av_auto = qbus_bgm_model.utility_dic.copy()\n",
        "  for key, value in av_auto.items():\n",
        "   av_auto[key] = 1\n",
        "\n",
        "  targets = qbus_bgm_model.utility_dic.copy()\n",
        "  for key, value in targets.items():\n",
        "   targets[key] = models.logit(qbus_bgm_model.utility_dic, av_auto, key)\n",
        "\n",
        "  bgm_db = db.Database('simul', pred_pd_df)\n",
        "  globals().update(bgm_db.variables)\n",
        "  bgm_pred_model = bio.BIOGEME(bgm_db, targets)\n",
        "  simulatedValues = bgm_pred_model.simulate(betas)\n",
        "  return simulatedValues"
      ],
      "execution_count": null,
      "outputs": []
    },
    {
      "cell_type": "code",
      "metadata": {
        "id": "m9l5cDGkzsfJ"
      },
      "source": [
        "def qbus_calc_accu_confusion(sim_probs, pd_df, choice_var):\n",
        "  which_max = sim_probs.idxmax(axis=1)\n",
        "  data = {'y_Actual':   pd_df[choice_var],\n",
        "          'y_Predicted': which_max\n",
        "        }\n",
        "\n",
        "  df = pd.DataFrame(data, columns=['y_Actual','y_Predicted'])\n",
        "  confusion_matrix = pd.crosstab(df['y_Actual'], df['y_Predicted'], rownames=['Actual'], colnames=['Predicted'])\n",
        "  accu = np.mean(which_max == pd_df[choice_var])\n",
        "  return accu, confusion_matrix "
      ],
      "execution_count": null,
      "outputs": []
    },
    {
      "cell_type": "markdown",
      "metadata": {
        "id": "HclX1bWxOclZ"
      },
      "source": [
        "---\n",
        "\n",
        "The next step is to define the utility functions for each alternative. Looking at the dataset, we know that the variables are all socioeconomic characteristics, so in order to get different utilities for each of the alternatives, we need to declare per-alternative parameters for the Betas.\n",
        "\n",
        "Because we have six possible alternatives, we will declare the utility functions using all variables in the dataset **in an automatic way**, we will add betas **for all variables in the input dataset** so we do not have to specify the manually.\n",
        "\n",
        "Because the occupation variable is not properly addressed in our model (we would need to turn it into dummy indicator variables), we will start by removing it from the dataset.\n"
      ]
    },
    {
      "cell_type": "code",
      "metadata": {
        "id": "yu30DS4PJXsC"
      },
      "source": [
        "affairs_nl = affairs_nl.drop('occupation', axis=1)"
      ],
      "execution_count": null,
      "outputs": []
    },
    {
      "cell_type": "markdown",
      "metadata": {
        "id": "Sii8LtVgt2pW"
      },
      "source": [
        "The following code cell declares the dictionary with the utility functions that we declared manually in previous tutorials. It does something quite simple, it loops for all possible alternatives in the dataset and creates a utility function that is a linear combination of all variables in the dataset, plus an alternative specific constant. Each alternative is identifies by a suffix '_' and its code number in the dataset."
      ]
    },
    {
      "cell_type": "code",
      "metadata": {
        "id": "_D3a2JU3Jt6L"
      },
      "source": [
        "V_auto = {}\n",
        "ref_choiceid = int(affairs_nl['affairs'].unique()[0])\n",
        "for choiceid in affairs_nl['affairs'].unique():\n",
        " choiceid = int(choiceid)\n",
        " V_auto[choiceid] = exp.Beta('ASC_' + str(choiceid), 0, None, None, int(choiceid == ref_choiceid))\n",
        " for column in affairs_nl.drop('affairs', axis=1):\n",
        "  V_auto[choiceid] = V_auto[choiceid] + eval(column)*exp.Beta('B_'+ column + '_' + str(choiceid), 0, None, None, 0)"
      ],
      "execution_count": null,
      "outputs": []
    },
    {
      "cell_type": "markdown",
      "metadata": {
        "id": "dUvJoUxHvG6I"
      },
      "source": [
        "We check the final dictionary to see that it resembles something that we could have done manually."
      ]
    },
    {
      "cell_type": "code",
      "metadata": {
        "colab": {
          "base_uri": "https://localhost:8080/"
        },
        "id": "Jy-GzifqMm__",
        "outputId": "1d194add-ef8c-4aa1-af32-27e320ad2324"
      },
      "source": [
        "V_auto"
      ],
      "execution_count": null,
      "outputs": [
        {
          "output_type": "execute_result",
          "data": {
            "text/plain": [
              "{0: (((((((((ASC_0(0) + (gender * B_gender_0(0))) + (age * B_age_0(0))) + (yearsmarried * B_yearsmarried_0(0))) + (children * B_children_0(0))) + (religiousness * B_religiousness_0(0))) + (education * B_education_0(0))) + (rating * B_rating_0(0))) + (yearsmarried_sq * B_yearsmarried_sq_0(0))) + (age_sq * B_age_sq_0(0))),\n",
              " 1: (((((((((ASC_1(0) + (gender * B_gender_1(0))) + (age * B_age_1(0))) + (yearsmarried * B_yearsmarried_1(0))) + (children * B_children_1(0))) + (religiousness * B_religiousness_1(0))) + (education * B_education_1(0))) + (rating * B_rating_1(0))) + (yearsmarried_sq * B_yearsmarried_sq_1(0))) + (age_sq * B_age_sq_1(0))),\n",
              " 2: (((((((((ASC_2(0) + (gender * B_gender_2(0))) + (age * B_age_2(0))) + (yearsmarried * B_yearsmarried_2(0))) + (children * B_children_2(0))) + (religiousness * B_religiousness_2(0))) + (education * B_education_2(0))) + (rating * B_rating_2(0))) + (yearsmarried_sq * B_yearsmarried_sq_2(0))) + (age_sq * B_age_sq_2(0))),\n",
              " 3: (((((((((ASC_3(0) + (gender * B_gender_3(0))) + (age * B_age_3(0))) + (yearsmarried * B_yearsmarried_3(0))) + (children * B_children_3(0))) + (religiousness * B_religiousness_3(0))) + (education * B_education_3(0))) + (rating * B_rating_3(0))) + (yearsmarried_sq * B_yearsmarried_sq_3(0))) + (age_sq * B_age_sq_3(0))),\n",
              " 7: (((((((((ASC_7(0) + (gender * B_gender_7(0))) + (age * B_age_7(0))) + (yearsmarried * B_yearsmarried_7(0))) + (children * B_children_7(0))) + (religiousness * B_religiousness_7(0))) + (education * B_education_7(0))) + (rating * B_rating_7(0))) + (yearsmarried_sq * B_yearsmarried_sq_7(0))) + (age_sq * B_age_sq_7(0))),\n",
              " 12: (((((((((ASC_12(0) + (gender * B_gender_12(0))) + (age * B_age_12(0))) + (yearsmarried * B_yearsmarried_12(0))) + (children * B_children_12(0))) + (religiousness * B_religiousness_12(0))) + (education * B_education_12(0))) + (rating * B_rating_12(0))) + (yearsmarried_sq * B_yearsmarried_sq_12(0))) + (age_sq * B_age_sq_12(0)))}"
            ]
          },
          "metadata": {},
          "execution_count": 33
        }
      ]
    },
    {
      "cell_type": "markdown",
      "metadata": {
        "id": "bSmYd7KYvQIp"
      },
      "source": [
        "We can estiamte the model using the auxiliary function as we have done in the past.\n",
        "\n"
      ]
    },
    {
      "cell_type": "code",
      "metadata": {
        "id": "oMIP-edDyDMJ"
      },
      "source": [
        "MNL_model, MNL_results = qbus_estimate_bgm(V_auto, affairs_nl, 'affairs')"
      ],
      "execution_count": null,
      "outputs": []
    },
    {
      "cell_type": "markdown",
      "metadata": {
        "id": "-e_M8pf4vzSA"
      },
      "source": [
        "There are too many coefficients, 59!. So we will check a few of them for correctness."
      ]
    },
    {
      "cell_type": "code",
      "metadata": {
        "colab": {
          "base_uri": "https://localhost:8080/",
          "height": 520
        },
        "id": "px8cliNFNmix",
        "outputId": "3589932d-5a95-4be3-9876-11c21e6b3218"
      },
      "source": [
        "MNL_results.getEstimatedParameters().head(15)"
      ],
      "execution_count": null,
      "outputs": [
        {
          "output_type": "execute_result",
          "data": {
            "text/html": [
              "<div>\n",
              "<style scoped>\n",
              "    .dataframe tbody tr th:only-of-type {\n",
              "        vertical-align: middle;\n",
              "    }\n",
              "\n",
              "    .dataframe tbody tr th {\n",
              "        vertical-align: top;\n",
              "    }\n",
              "\n",
              "    .dataframe thead th {\n",
              "        text-align: right;\n",
              "    }\n",
              "</style>\n",
              "<table border=\"1\" class=\"dataframe\">\n",
              "  <thead>\n",
              "    <tr style=\"text-align: right;\">\n",
              "      <th></th>\n",
              "      <th>Value</th>\n",
              "      <th>Std err</th>\n",
              "      <th>t-test</th>\n",
              "      <th>p-value</th>\n",
              "      <th>Rob. Std err</th>\n",
              "      <th>Rob. t-test</th>\n",
              "      <th>Rob. p-value</th>\n",
              "    </tr>\n",
              "  </thead>\n",
              "  <tbody>\n",
              "    <tr>\n",
              "      <th>ASC_1</th>\n",
              "      <td>-0.027475</td>\n",
              "      <td>2.917095</td>\n",
              "      <td>-0.009419</td>\n",
              "      <td>0.992485</td>\n",
              "      <td>2.486378</td>\n",
              "      <td>-0.011050</td>\n",
              "      <td>0.991183</td>\n",
              "    </tr>\n",
              "    <tr>\n",
              "      <th>ASC_12</th>\n",
              "      <td>1.969813</td>\n",
              "      <td>3.504788</td>\n",
              "      <td>0.562035</td>\n",
              "      <td>0.574092</td>\n",
              "      <td>4.271549</td>\n",
              "      <td>0.461147</td>\n",
              "      <td>0.644693</td>\n",
              "    </tr>\n",
              "    <tr>\n",
              "      <th>ASC_2</th>\n",
              "      <td>3.113478</td>\n",
              "      <td>4.434848</td>\n",
              "      <td>0.702048</td>\n",
              "      <td>0.482649</td>\n",
              "      <td>3.842087</td>\n",
              "      <td>0.810361</td>\n",
              "      <td>0.417733</td>\n",
              "    </tr>\n",
              "    <tr>\n",
              "      <th>ASC_3</th>\n",
              "      <td>-0.950718</td>\n",
              "      <td>4.449179</td>\n",
              "      <td>-0.213684</td>\n",
              "      <td>0.830794</td>\n",
              "      <td>3.705425</td>\n",
              "      <td>-0.256575</td>\n",
              "      <td>0.797507</td>\n",
              "    </tr>\n",
              "    <tr>\n",
              "      <th>ASC_7</th>\n",
              "      <td>-5.165264</td>\n",
              "      <td>3.283770</td>\n",
              "      <td>-1.572968</td>\n",
              "      <td>0.115726</td>\n",
              "      <td>3.318233</td>\n",
              "      <td>-1.556631</td>\n",
              "      <td>0.119558</td>\n",
              "    </tr>\n",
              "    <tr>\n",
              "      <th>B_age_0</th>\n",
              "      <td>0.072514</td>\n",
              "      <td>0.088082</td>\n",
              "      <td>0.823255</td>\n",
              "      <td>0.410363</td>\n",
              "      <td>0.083327</td>\n",
              "      <td>0.870234</td>\n",
              "      <td>0.384173</td>\n",
              "    </tr>\n",
              "    <tr>\n",
              "      <th>B_age_1</th>\n",
              "      <td>0.037219</td>\n",
              "      <td>0.153060</td>\n",
              "      <td>0.243164</td>\n",
              "      <td>0.807878</td>\n",
              "      <td>0.147633</td>\n",
              "      <td>0.252103</td>\n",
              "      <td>0.800961</td>\n",
              "    </tr>\n",
              "    <tr>\n",
              "      <th>B_age_12</th>\n",
              "      <td>0.071896</td>\n",
              "      <td>0.174904</td>\n",
              "      <td>0.411058</td>\n",
              "      <td>0.681030</td>\n",
              "      <td>0.178747</td>\n",
              "      <td>0.402220</td>\n",
              "      <td>0.687522</td>\n",
              "    </tr>\n",
              "    <tr>\n",
              "      <th>B_age_2</th>\n",
              "      <td>-0.485818</td>\n",
              "      <td>0.202824</td>\n",
              "      <td>-2.395271</td>\n",
              "      <td>0.016608</td>\n",
              "      <td>0.203162</td>\n",
              "      <td>-2.391280</td>\n",
              "      <td>0.016790</td>\n",
              "    </tr>\n",
              "    <tr>\n",
              "      <th>B_age_3</th>\n",
              "      <td>0.222788</td>\n",
              "      <td>0.221685</td>\n",
              "      <td>1.004976</td>\n",
              "      <td>0.314908</td>\n",
              "      <td>0.129184</td>\n",
              "      <td>1.724584</td>\n",
              "      <td>0.084602</td>\n",
              "    </tr>\n",
              "    <tr>\n",
              "      <th>B_age_7</th>\n",
              "      <td>0.081402</td>\n",
              "      <td>0.155722</td>\n",
              "      <td>0.522738</td>\n",
              "      <td>0.601157</td>\n",
              "      <td>0.155032</td>\n",
              "      <td>0.525066</td>\n",
              "      <td>0.599537</td>\n",
              "    </tr>\n",
              "    <tr>\n",
              "      <th>B_age_sq_0</th>\n",
              "      <td>-0.000386</td>\n",
              "      <td>0.001084</td>\n",
              "      <td>-0.355828</td>\n",
              "      <td>0.721969</td>\n",
              "      <td>0.001010</td>\n",
              "      <td>-0.381752</td>\n",
              "      <td>0.702645</td>\n",
              "    </tr>\n",
              "    <tr>\n",
              "      <th>B_age_sq_1</th>\n",
              "      <td>-0.000174</td>\n",
              "      <td>0.001974</td>\n",
              "      <td>-0.088306</td>\n",
              "      <td>0.929634</td>\n",
              "      <td>0.001865</td>\n",
              "      <td>-0.093458</td>\n",
              "      <td>0.925540</td>\n",
              "    </tr>\n",
              "    <tr>\n",
              "      <th>B_age_sq_12</th>\n",
              "      <td>-0.001069</td>\n",
              "      <td>0.002101</td>\n",
              "      <td>-0.508670</td>\n",
              "      <td>0.610983</td>\n",
              "      <td>0.002052</td>\n",
              "      <td>-0.520711</td>\n",
              "      <td>0.602568</td>\n",
              "    </tr>\n",
              "    <tr>\n",
              "      <th>B_age_sq_2</th>\n",
              "      <td>0.005481</td>\n",
              "      <td>0.002382</td>\n",
              "      <td>2.301075</td>\n",
              "      <td>0.021387</td>\n",
              "      <td>0.002411</td>\n",
              "      <td>2.273306</td>\n",
              "      <td>0.023008</td>\n",
              "    </tr>\n",
              "  </tbody>\n",
              "</table>\n",
              "</div>"
            ],
            "text/plain": [
              "                Value   Std err  ...  Rob. t-test  Rob. p-value\n",
              "ASC_1       -0.027475  2.917095  ...    -0.011050      0.991183\n",
              "ASC_12       1.969813  3.504788  ...     0.461147      0.644693\n",
              "ASC_2        3.113478  4.434848  ...     0.810361      0.417733\n",
              "ASC_3       -0.950718  4.449179  ...    -0.256575      0.797507\n",
              "ASC_7       -5.165264  3.283770  ...    -1.556631      0.119558\n",
              "B_age_0      0.072514  0.088082  ...     0.870234      0.384173\n",
              "B_age_1      0.037219  0.153060  ...     0.252103      0.800961\n",
              "B_age_12     0.071896  0.174904  ...     0.402220      0.687522\n",
              "B_age_2     -0.485818  0.202824  ...    -2.391280      0.016790\n",
              "B_age_3      0.222788  0.221685  ...     1.724584      0.084602\n",
              "B_age_7      0.081402  0.155722  ...     0.525066      0.599537\n",
              "B_age_sq_0  -0.000386  0.001084  ...    -0.381752      0.702645\n",
              "B_age_sq_1  -0.000174  0.001974  ...    -0.093458      0.925540\n",
              "B_age_sq_12 -0.001069  0.002101  ...    -0.520711      0.602568\n",
              "B_age_sq_2   0.005481  0.002382  ...     2.273306      0.023008\n",
              "\n",
              "[15 rows x 7 columns]"
            ]
          },
          "metadata": {},
          "execution_count": 46
        }
      ]
    },
    {
      "cell_type": "markdown",
      "metadata": {
        "id": "aFtleS-_wPLJ"
      },
      "source": [
        "Finally we simulate the predictions and check the accuracy, we get a 75.6% accuracy."
      ]
    },
    {
      "cell_type": "code",
      "metadata": {
        "colab": {
          "base_uri": "https://localhost:8080/"
        },
        "id": "QQN5MBDBOhnb",
        "outputId": "da6517da-c807-4288-9aaa-7b6871c5131d"
      },
      "source": [
        "MNL_preds = qbus_simulate_bgm(MNL_model, MNL_results.getBetaValues(), affairs_nl)\n",
        "qbus_calc_accu_confusion(MNL_preds, affairs_nl, 'affairs')[0]"
      ],
      "execution_count": null,
      "outputs": [
        {
          "output_type": "execute_result",
          "data": {
            "text/plain": [
              "0.7554076539101497"
            ]
          },
          "metadata": {},
          "execution_count": 47
        }
      ]
    },
    {
      "cell_type": "markdown",
      "metadata": {
        "id": "yf78mwB6wmcy"
      },
      "source": [
        "The ordered logit, on the other hand, will have an accuracy of 74.9%, but it has way fewer parameters."
      ]
    },
    {
      "cell_type": "code",
      "metadata": {
        "id": "LOo4rLKySiG9"
      },
      "source": [
        "  bgm_pred_model = bio.BIOGEME(affairs_nl_db, alt_probs_map_nl)\n",
        "  simulatedValues_nl = bgm_pred_model.simulate(results_nl.getBetaValues())"
      ],
      "execution_count": null,
      "outputs": []
    },
    {
      "cell_type": "code",
      "metadata": {
        "colab": {
          "base_uri": "https://localhost:8080/"
        },
        "id": "wc5c6FtFSpwC",
        "outputId": "3354bd46-f39b-46fa-ab80-6b7a128a8b73"
      },
      "source": [
        "qbus_calc_accu_confusion(simulatedValues_nl, affairs_nl, 'affairs')[0]"
      ],
      "execution_count": null,
      "outputs": [
        {
          "output_type": "execute_result",
          "data": {
            "text/plain": [
              "0.7487520798668885"
            ]
          },
          "metadata": {},
          "execution_count": 39
        }
      ]
    },
    {
      "cell_type": "markdown",
      "metadata": {
        "id": "TCQmxLaaYbQw"
      },
      "source": [
        "When we check the naive predictions, just the proportion of the dataset, we get that the models do not predict much better in terms of accuracy, since the baseline accuracy for a trivial model will already get 75% accuracy."
      ]
    },
    {
      "cell_type": "code",
      "metadata": {
        "colab": {
          "base_uri": "https://localhost:8080/",
          "height": 269
        },
        "id": "dT5X90kyX9qe",
        "outputId": "27ea59d1-5813-4491-862d-bf0aa3ef0eec"
      },
      "source": [
        "pd.crosstab(affairs_pd['affairs'], 'prop') / affairs_pd.shape[0]"
      ],
      "execution_count": null,
      "outputs": [
        {
          "output_type": "execute_result",
          "data": {
            "text/html": [
              "<div>\n",
              "<style scoped>\n",
              "    .dataframe tbody tr th:only-of-type {\n",
              "        vertical-align: middle;\n",
              "    }\n",
              "\n",
              "    .dataframe tbody tr th {\n",
              "        vertical-align: top;\n",
              "    }\n",
              "\n",
              "    .dataframe thead th {\n",
              "        text-align: right;\n",
              "    }\n",
              "</style>\n",
              "<table border=\"1\" class=\"dataframe\">\n",
              "  <thead>\n",
              "    <tr style=\"text-align: right;\">\n",
              "      <th>col_0</th>\n",
              "      <th>prop</th>\n",
              "    </tr>\n",
              "    <tr>\n",
              "      <th>affairs</th>\n",
              "      <th></th>\n",
              "    </tr>\n",
              "  </thead>\n",
              "  <tbody>\n",
              "    <tr>\n",
              "      <th>0</th>\n",
              "      <td>0.750416</td>\n",
              "    </tr>\n",
              "    <tr>\n",
              "      <th>1</th>\n",
              "      <td>0.056572</td>\n",
              "    </tr>\n",
              "    <tr>\n",
              "      <th>2</th>\n",
              "      <td>0.028286</td>\n",
              "    </tr>\n",
              "    <tr>\n",
              "      <th>3</th>\n",
              "      <td>0.031614</td>\n",
              "    </tr>\n",
              "    <tr>\n",
              "      <th>7</th>\n",
              "      <td>0.069884</td>\n",
              "    </tr>\n",
              "    <tr>\n",
              "      <th>12</th>\n",
              "      <td>0.063228</td>\n",
              "    </tr>\n",
              "  </tbody>\n",
              "</table>\n",
              "</div>"
            ],
            "text/plain": [
              "col_0        prop\n",
              "affairs          \n",
              "0        0.750416\n",
              "1        0.056572\n",
              "2        0.028286\n",
              "3        0.031614\n",
              "7        0.069884\n",
              "12       0.063228"
            ]
          },
          "metadata": {},
          "execution_count": 40
        }
      ]
    },
    {
      "cell_type": "markdown",
      "metadata": {
        "id": "puPZtj3maKeY"
      },
      "source": [
        "But even when the accuracies are not much better, maybe the difference might lie in the actual choice probabilities, so we can check them for the MNL first, \n",
        "and the for the ordered logit. The diference does not seem that great, so we can conclude that either both models are poor, or they are both OK, while the ordered logit required way less parameters, it is much more interpretable."
      ]
    },
    {
      "cell_type": "code",
      "metadata": {
        "colab": {
          "base_uri": "https://localhost:8080/"
        },
        "id": "QoADlX7fxRV1",
        "outputId": "dc90442e-3d96-48da-e9f9-2978fcb626e7"
      },
      "source": [
        "MNL_preds.mean(axis=0).sort_index()"
      ],
      "execution_count": null,
      "outputs": [
        {
          "output_type": "execute_result",
          "data": {
            "text/plain": [
              "0     0.750416\n",
              "1     0.056573\n",
              "2     0.028287\n",
              "3     0.031613\n",
              "7     0.069883\n",
              "12    0.063228\n",
              "dtype: float64"
            ]
          },
          "metadata": {},
          "execution_count": 51
        }
      ]
    },
    {
      "cell_type": "code",
      "metadata": {
        "colab": {
          "base_uri": "https://localhost:8080/"
        },
        "id": "mSXKkTibxYXu",
        "outputId": "ccd5d11d-fd5d-48b7-82cd-6b81648bdb0e"
      },
      "source": [
        "simulatedValues_nl.mean(axis=0)"
      ],
      "execution_count": null,
      "outputs": [
        {
          "output_type": "execute_result",
          "data": {
            "text/plain": [
              "0     0.745001\n",
              "1     0.057140\n",
              "2     0.029285\n",
              "3     0.032429\n",
              "7     0.071985\n",
              "12    0.064161\n",
              "dtype: float64"
            ]
          },
          "metadata": {},
          "execution_count": 50
        }
      ]
    }
  ]
}