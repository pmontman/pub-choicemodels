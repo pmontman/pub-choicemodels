{
  "nbformat": 4,
  "nbformat_minor": 0,
  "metadata": {
    "colab": {
      "name": "tuto_05_ordered_logit",
      "provenance": [],
      "authorship_tag": "ABX9TyPLjqgPiu8Zsz+NoMAs25FU",
      "include_colab_link": true
    },
    "kernelspec": {
      "name": "python3",
      "display_name": "Python 3"
    },
    "language_info": {
      "name": "python"
    }
  },
  "cells": [
    {
      "cell_type": "markdown",
      "metadata": {
        "id": "view-in-github",
        "colab_type": "text"
      },
      "source": [
        "<a href=\"https://colab.research.google.com/github/pmontman/pub-choicemodels/blob/main/nb/tuto_05_ordered_logit.ipynb\" target=\"_parent\"><img src=\"https://colab.research.google.com/assets/colab-badge.svg\" alt=\"Open In Colab\"/></a>"
      ]
    },
    {
      "cell_type": "markdown",
      "metadata": {
        "id": "RK_QlIPgbjtB"
      },
      "source": [
        "We will see an example on how to use biogeme to estimate ordered logit models.\n",
        "We will use the (in)famous 'affairs' dataset, describe below.\n",
        "\n",
        "The data comes from a survey from *Psychology Today*, conducted in the year 1969.\n",
        "\n",
        "How often engaged in extramarital sexual intercourse during the past year?\n",
        "With the possible answers:\n",
        "\n",
        "* None\n",
        "* Once\n",
        "* Twice\n",
        "* Three times\n",
        "* 4 to 10 times\n",
        "* Monthly\n",
        "* Weekly\n",
        "* Daily"
      ]
    },
    {
      "cell_type": "markdown",
      "metadata": {
        "id": "JyzPlsofdvaG"
      },
      "source": [
        "# Description of the dataset\n",
        "\n",
        "The dataset has 601 observations of the following variables:\n",
        "\n",
        "* **affairs:** The answer to the survey, the answers are encode with numbers.\n",
        "  0 = None, 1 = Once, 2 = Twice, 3=Three times, 7= 4 to 10 times, 12= monthly, 12 = weekly, 12 = daily.\n",
        "  As we see, the information was encoded in such a way that we lose information about the more frequent answers, and the encoded numbers do not completely coincide with the frequencies. However, there is an ordinal relationship among the possible answer, from less frequent to more frequent.\n",
        "\n",
        "*  **gender:** Categorical variable indicating either male or female among the participants.\n",
        "\n",
        "* **age:** Numeric variable coding age in years: 17.5 = under 20, 22 = 20–24, 27 = 25–29, 32 = 30–34, 37 = 35–39, 42 = 40–44, 47 = 45–49, 52 = 50–54, 57 = 55 or over. \n",
        "\n",
        "* **yearsmarried:** Numeric variable coding number of years married: 0.125 = 3 months or less, 0.417 = 4–6 months, 0.75 = 6 months–1 year, 1.5 = 1–2 years, 4 = 3–5 years, 7 = 6–8 years, 10 = 9–11 years, 15 = 12 or more years.\n",
        "\n",
        "* **children:** Categorical variable indicating if there are children in the marriage.\n",
        "\n",
        "* **religiousness:** Categorical variable indicating how religious in the person, encoded as numbers: 1 = anti, 2 = not at all, 3 = slightly, 4 = somewhat, 5 = very.\n",
        "\n",
        "* **education:**: Categorical variable indicating the level of education. Encoded as numbers: 9 = grade school, 12 = high school graduate, 14 = some college, 16 = college graduate, 17 = some graduate work, 18 = master's degree, 20 = Ph.D., M.D., or other advanced degree.\n",
        "\n",
        "* **occupation:** Categorical variable classifying the profession of the individual. Encoded as numbers, and the meaning of the numbers has been somewhat lost in time. But it could be something like the one in this [link.](https://dictionary.fitbir.nih.gov/portal/publicData/dataElementAction!view.action?dataElementName=HollingsheadJobClassCat&publicArea=true)\n",
        "\n",
        "* **rating:** Categorical variable indicating how happy they are with the marriage. Encoded as numbers: 1 = very unhappy, 2 = somewhat unhappy, 3 = average, 4 = happier than average, 5 = very happy."
      ]
    },
    {
      "cell_type": "markdown",
      "metadata": {
        "id": "vb9SIunnASNB"
      },
      "source": [
        "---\n",
        "---\n",
        "\n",
        "# Preparing the environment\n",
        "*The preparation and dataset loading code is given to the students*"
      ]
    },
    {
      "cell_type": "code",
      "metadata": {
        "colab": {
          "base_uri": "https://localhost:8080/"
        },
        "id": "j5zHGhgErHPd",
        "outputId": "e678de47-04d0-43b6-ae42-cb8eb7831023"
      },
      "source": [
        "!pip install biogeme"
      ],
      "execution_count": 1,
      "outputs": [
        {
          "output_type": "stream",
          "name": "stdout",
          "text": [
            "Requirement already satisfied: biogeme in /usr/local/lib/python3.7/dist-packages (3.2.8)\n",
            "Requirement already satisfied: numpy in /usr/local/lib/python3.7/dist-packages (from biogeme) (1.19.5)\n",
            "Requirement already satisfied: scipy in /usr/local/lib/python3.7/dist-packages (from biogeme) (1.4.1)\n",
            "Requirement already satisfied: pandas in /usr/local/lib/python3.7/dist-packages (from biogeme) (1.1.5)\n",
            "Requirement already satisfied: unidecode in /usr/local/lib/python3.7/dist-packages (from biogeme) (1.3.2)\n",
            "Requirement already satisfied: cython in /usr/local/lib/python3.7/dist-packages (from biogeme) (0.29.24)\n",
            "Requirement already satisfied: tqdm in /usr/local/lib/python3.7/dist-packages (from biogeme) (4.62.3)\n",
            "Requirement already satisfied: python-dateutil>=2.7.3 in /usr/local/lib/python3.7/dist-packages (from pandas->biogeme) (2.8.2)\n",
            "Requirement already satisfied: pytz>=2017.2 in /usr/local/lib/python3.7/dist-packages (from pandas->biogeme) (2018.9)\n",
            "Requirement already satisfied: six>=1.5 in /usr/local/lib/python3.7/dist-packages (from python-dateutil>=2.7.3->pandas->biogeme) (1.15.0)\n"
          ]
        }
      ]
    },
    {
      "cell_type": "markdown",
      "metadata": {
        "id": "1z0X9xZ8rChf"
      },
      "source": [
        "Load the packages, feel free to change the names."
      ]
    },
    {
      "cell_type": "code",
      "metadata": {
        "id": "apVB-TMkrFnb"
      },
      "source": [
        "import pandas  as pd\n",
        "import numpy as np\n",
        "import matplotlib.pyplot as plt\n",
        "\n",
        "import biogeme.database as db\n",
        "import biogeme.biogeme as bio\n",
        "import biogeme.models as models\n",
        "import biogeme.expressions as exp\n",
        "import biogeme.tools as tools\n",
        "import biogeme.distributions as dist"
      ],
      "execution_count": 2,
      "outputs": []
    },
    {
      "cell_type": "markdown",
      "metadata": {
        "id": "Mgv0hV1YAieW"
      },
      "source": [
        "# Load the dataset"
      ]
    },
    {
      "cell_type": "code",
      "metadata": {
        "id": "g1Ykn5Ytr7Rs"
      },
      "source": [
        "path = 'https://raw.githubusercontent.com/pmontman/pub-choicemodels/main/data/affairs.csv'\n",
        "affairs_pd = pd.read_csv(path)"
      ],
      "execution_count": 3,
      "outputs": []
    },
    {
      "cell_type": "markdown",
      "metadata": {
        "id": "ZY55r3Gesb3t"
      },
      "source": [
        "A simple look at the dataset."
      ]
    },
    {
      "cell_type": "code",
      "metadata": {
        "colab": {
          "base_uri": "https://localhost:8080/",
          "height": 206
        },
        "id": "ldkmnMhssemT",
        "outputId": "eda1af32-4954-4094-d0d5-26dca782450c"
      },
      "source": [
        "affairs_pd.head(5)"
      ],
      "execution_count": 4,
      "outputs": [
        {
          "output_type": "execute_result",
          "data": {
            "text/html": [
              "<div>\n",
              "<style scoped>\n",
              "    .dataframe tbody tr th:only-of-type {\n",
              "        vertical-align: middle;\n",
              "    }\n",
              "\n",
              "    .dataframe tbody tr th {\n",
              "        vertical-align: top;\n",
              "    }\n",
              "\n",
              "    .dataframe thead th {\n",
              "        text-align: right;\n",
              "    }\n",
              "</style>\n",
              "<table border=\"1\" class=\"dataframe\">\n",
              "  <thead>\n",
              "    <tr style=\"text-align: right;\">\n",
              "      <th></th>\n",
              "      <th>affairs</th>\n",
              "      <th>gender</th>\n",
              "      <th>age</th>\n",
              "      <th>yearsmarried</th>\n",
              "      <th>children</th>\n",
              "      <th>religiousness</th>\n",
              "      <th>education</th>\n",
              "      <th>occupation</th>\n",
              "      <th>rating</th>\n",
              "    </tr>\n",
              "  </thead>\n",
              "  <tbody>\n",
              "    <tr>\n",
              "      <th>0</th>\n",
              "      <td>0</td>\n",
              "      <td>male</td>\n",
              "      <td>37.0</td>\n",
              "      <td>10.00</td>\n",
              "      <td>no</td>\n",
              "      <td>3</td>\n",
              "      <td>18</td>\n",
              "      <td>7</td>\n",
              "      <td>4</td>\n",
              "    </tr>\n",
              "    <tr>\n",
              "      <th>1</th>\n",
              "      <td>0</td>\n",
              "      <td>female</td>\n",
              "      <td>27.0</td>\n",
              "      <td>4.00</td>\n",
              "      <td>no</td>\n",
              "      <td>4</td>\n",
              "      <td>14</td>\n",
              "      <td>6</td>\n",
              "      <td>4</td>\n",
              "    </tr>\n",
              "    <tr>\n",
              "      <th>2</th>\n",
              "      <td>0</td>\n",
              "      <td>female</td>\n",
              "      <td>32.0</td>\n",
              "      <td>15.00</td>\n",
              "      <td>yes</td>\n",
              "      <td>1</td>\n",
              "      <td>12</td>\n",
              "      <td>1</td>\n",
              "      <td>4</td>\n",
              "    </tr>\n",
              "    <tr>\n",
              "      <th>3</th>\n",
              "      <td>0</td>\n",
              "      <td>male</td>\n",
              "      <td>57.0</td>\n",
              "      <td>15.00</td>\n",
              "      <td>yes</td>\n",
              "      <td>5</td>\n",
              "      <td>18</td>\n",
              "      <td>6</td>\n",
              "      <td>5</td>\n",
              "    </tr>\n",
              "    <tr>\n",
              "      <th>4</th>\n",
              "      <td>0</td>\n",
              "      <td>male</td>\n",
              "      <td>22.0</td>\n",
              "      <td>0.75</td>\n",
              "      <td>no</td>\n",
              "      <td>2</td>\n",
              "      <td>17</td>\n",
              "      <td>6</td>\n",
              "      <td>3</td>\n",
              "    </tr>\n",
              "  </tbody>\n",
              "</table>\n",
              "</div>"
            ],
            "text/plain": [
              "   affairs  gender   age  ...  education occupation  rating\n",
              "0        0    male  37.0  ...         18          7       4\n",
              "1        0  female  27.0  ...         14          6       4\n",
              "2        0  female  32.0  ...         12          1       4\n",
              "3        0    male  57.0  ...         18          6       5\n",
              "4        0    male  22.0  ...         17          6       3\n",
              "\n",
              "[5 rows x 9 columns]"
            ]
          },
          "metadata": {},
          "execution_count": 4
        }
      ]
    },
    {
      "cell_type": "markdown",
      "metadata": {
        "id": "75S5mV9mG_i8"
      },
      "source": [
        "# Auxiliary function"
      ]
    },
    {
      "cell_type": "code",
      "metadata": {
        "id": "kkHePFuDHB6L"
      },
      "source": [
        "def qbus_update_globals_bgm(pd_df):\n",
        "   globals().update(db.Database('tmp_bg_bgm_for_glob', pd_df).variables)"
      ],
      "execution_count": 5,
      "outputs": []
    },
    {
      "cell_type": "markdown",
      "metadata": {
        "id": "IT44SQAUAVT5"
      },
      "source": [
        "# Data cleaning: Preparing the dataset for Biogeme"
      ]
    },
    {
      "cell_type": "markdown",
      "metadata": {
        "id": "yTEgKQ0HAY8c"
      },
      "source": [
        "Biogeme does not accept non-numerical variables.\n",
        "\n",
        "\n",
        "We need to transform categorical variables that are not encoded into numbers.\n",
        "The function `factorize()` encodes into integers. In this case, we will get 0 for Male, 1 for Female for the gender variable. We will get 0 for no chidren, 1 for children. This means that we can use the encoding already as dummy variables that can be interpreted as 'isFemale' and 'hasChildren'."
      ]
    },
    {
      "cell_type": "code",
      "metadata": {
        "id": "3161scmJOPG8"
      },
      "source": [
        "affairs_pd['gender'] = affairs_pd['gender'].factorize()[0]\n",
        "affairs_pd['children'] = affairs_pd['children'].factorize()[0]\n"
      ],
      "execution_count": 6,
      "outputs": []
    },
    {
      "cell_type": "markdown",
      "metadata": {
        "id": "7IUIcyRKdyFK"
      },
      "source": [
        "After this transformation, we can already pass the pandas dataframe to biogeme, though mindful that some variables as occupation are numeric but should be transformed to dummy. "
      ]
    },
    {
      "cell_type": "markdown",
      "metadata": {
        "id": "TeHgubYpCvHQ"
      },
      "source": [
        "# Ordinal logit with biogeme\n",
        "\n",
        "We will first estimate the ordered logit 'manually' using biogeme, later we create some auxiliary functions to simplify the process."
      ]
    },
    {
      "cell_type": "markdown",
      "metadata": {
        "id": "MDm_MPrPeUek"
      },
      "source": [
        "We update the globals as usual."
      ]
    },
    {
      "cell_type": "code",
      "metadata": {
        "id": "Ew1LZzZxGwm6"
      },
      "source": [
        "qbus_update_globals_bgm(affairs_pd)"
      ],
      "execution_count": 7,
      "outputs": []
    },
    {
      "cell_type": "markdown",
      "metadata": {
        "id": "5sV3eJTV_g5M"
      },
      "source": [
        "### Utility function\n",
        "\n",
        "The first step is to create the utility function, an important difference with respect to what we have done in multinomial logit and nested is that there will be only one utility function, while in the MNL there is one utility function per alternative.\n",
        "\n",
        "As for the variables, after some consideration (maybe you disagree), we can take\n",
        "the variables religiousness and education as numeric, even though they are categorical. This is because religiousness can be represented as 'intensity' or the religion and education can be interpreted as 'years spent in education'."
      ]
    },
    {
      "cell_type": "code",
      "metadata": {
        "id": "YCixV8Ry_lRW"
      },
      "source": [
        "# Parameters to be estimated\n",
        "B_gender = exp.Beta('B_gender', 0, None, None, 0)\n",
        "B_age = exp.Beta('B_age', 0, None, None, 0)\n",
        "B_yearsmarried = exp.Beta('B_yearsmarried', 0, None, None, 0)\n",
        "B_children = exp.Beta('B_children', 0, None, None, 0)\n",
        "B_religiousness = exp.Beta('B_religiousness', 0, None, None, 0)\n",
        "B_education = exp.Beta('B_education', 0, None, None, 0)"
      ],
      "execution_count": 8,
      "outputs": []
    },
    {
      "cell_type": "markdown",
      "metadata": {
        "id": "3iNcMRBlAMzz"
      },
      "source": [
        "Define the one utility function using our familiar syntax.\n",
        "We will simplify and not apply any transformation or interaction, though it might very well improve the fitting."
      ]
    },
    {
      "cell_type": "code",
      "metadata": {
        "id": "2yCQfe0kONS2"
      },
      "source": [
        "V_one = B_gender*gender + B_age*age + B_yearsmarried*yearsmarried + B_children*children + B_religiousness*religiousness + B_education*education"
      ],
      "execution_count": 9,
      "outputs": []
    },
    {
      "cell_type": "markdown",
      "metadata": {
        "id": "hCXBaphn__q7"
      },
      "source": [
        "### Cutoff points\n",
        "\n",
        "An important part of the ordinal logit model are the cut-off points the values that will split the utility into different categories. These are being estimated from the data. \n",
        "Remember that we have to impose some order in the cutoff points, this is, tau1\n",
        "is smaller than tau2, tau2 is smaller than tau3 and so on.\n",
        "\n",
        "The way to do this in biogeme (and other estimation software) is to create some 'auxiliary' parameters that can be interpreted as the deltas or differences between taus. These deltas are created with `exp.Beta` as the any other parameter of the model.\n",
        " We impose that the deltas can be estimated, but they have to be greater than 0. Remember that when we define the parameters in Biogeme, one of the arguments of the function `exp.Beta` are the bounds that restrict the range to which the values can be estimated.\n",
        "\n",
        "We can 'recreate' the taus from the deltas, for example, tau2 = tau1 + delta1.\n",
        "\n",
        "Just to clarify what we are doing with the deltas is imposing the order in the taus, it is just a trick to impose, 'tau1' can have any value, tau2 has to be between tau1 and tau3, tau3 has to be between tau2 and tau4, ..., tau6 has to be between tau5 and +infinity. What we are doing is just a way to pass the information to biogeme."
      ]
    },
    {
      "cell_type": "markdown",
      "metadata": {
        "id": "D-A4gBIjnrx1"
      },
      "source": [
        "In the next cell we declare the taus and the deltas. Notice the third argument in the `exp.Beta` when declaring the deltas is set to 0, this was the argument for the lower bound in the estimation range. Notice how the taus are defined as the taus before them plus some delta. With the exception of tau1. \n",
        "The default value of tau1 is 1, but this is arbitrary.\n",
        "\n",
        "There next cell will be very verbose, because we have to manually define each of the deltas and taus. This is a candidate to be done automatically in an auxiliary function..."
      ]
    },
    {
      "cell_type": "code",
      "metadata": {
        "id": "5oopOJUIhPir"
      },
      "source": [
        "tau1 = exp.Beta('tau1', 1, None, 0, 0)\n",
        "\n",
        "delta2 = exp.Beta('delta2', 1, 0, None, 0)\n",
        "tau2 = tau1 + delta2\n",
        "\n",
        "delta3 = exp.Beta('delta3', 2, 0, None, 0)\n",
        "tau3 = tau2 + delta3\n",
        "\n",
        "delta4 = exp.Beta('delta4', 3, 0, None, 0)\n",
        "tau4 = tau3 + delta4\n",
        "\n",
        "delta5 = exp.Beta('delta5', 4, 0, None, 0)\n",
        "tau5 = tau4 + delta5\n"
      ],
      "execution_count": 28,
      "outputs": []
    },
    {
      "cell_type": "markdown",
      "metadata": {
        "id": "RX1r3MP8ofRT"
      },
      "source": [
        "What is left to define is the 'model' in the biogeme, the equivalent of the \n",
        "biogeme `models.loglogit` for the multinomial logit. In this case, we have to do it manually (another candidate for auxiliary functions).\n",
        "\n",
        "We define the 'model' in biogeme using a dictionary. The dictionary maps the **values for the choice variable** to the computed choice probabilities.\n",
        "\n",
        "In the next cell the function `dist.logisticcdf` is just the name of the logistic transform in biogeme (there is the logistic probability distribution, which the cumulative distribution funtion being the logistic transform)."
      ]
    },
    {
      "cell_type": "code",
      "metadata": {
        "id": "oJ5t9uO0r1e6"
      },
      "source": [
        "alt_probs_map = {\n",
        "    0: dist.logisticcdf(tau1 - V_one),\n",
        "    1: dist.logisticcdf(tau2 - V_one) - dist.logisticcdf( tau1 - V_one),\n",
        "    2: dist.logisticcdf(tau3 - V_one) - dist.logisticcdf( tau2 - V_one),\n",
        "    3: dist.logisticcdf(tau4 - V_one) - dist.logisticcdf( tau3 - V_one),\n",
        "    7: dist.logisticcdf(tau5 - V_one) - dist.logisticcdf( tau4 - V_one),\n",
        "    12: 1- dist.logisticcdf(tau5 - V_one)}"
      ],
      "execution_count": 29,
      "outputs": []
    },
    {
      "cell_type": "markdown",
      "metadata": {
        "id": "wUkJwKD2q0IT"
      },
      "source": [
        "Then we take the log of the choice probabilities (for the loglikelihood) and specify which variable in the dataset contains the choice or alternatives."
      ]
    },
    {
      "cell_type": "code",
      "metadata": {
        "id": "QeBx8_WUppUz"
      },
      "source": [
        "\n",
        "logprob = exp.log(exp.Elem(alt_probs_map, affairs))"
      ],
      "execution_count": 30,
      "outputs": []
    },
    {
      "cell_type": "markdown",
      "metadata": {
        "id": "8xhRW4nWq_55"
      },
      "source": [
        "We declare teh biogeme object as usual, and we estimate it."
      ]
    },
    {
      "cell_type": "code",
      "metadata": {
        "id": "BVab7bDjrAME"
      },
      "source": [
        "affairs_db = db.Database('affairs', affairs_pd)\n",
        "\n",
        "biogeme  = bio.BIOGEME(affairs_db, logprob, removeUnusedVariables=False)\n",
        "\n",
        "results = biogeme.estimate()"
      ],
      "execution_count": 31,
      "outputs": []
    },
    {
      "cell_type": "markdown",
      "metadata": {
        "id": "3XSav5d4tIB0"
      },
      "source": [
        "And here are the results, for your interpretation!"
      ]
    },
    {
      "cell_type": "code",
      "metadata": {
        "colab": {
          "base_uri": "https://localhost:8080/",
          "height": 394
        },
        "id": "Pi7_6RZ7re2e",
        "outputId": "24828213-4fdb-4776-bf77-754e10a76a09"
      },
      "source": [
        "results.getEstimatedParameters()"
      ],
      "execution_count": 32,
      "outputs": [
        {
          "output_type": "execute_result",
          "data": {
            "text/html": [
              "<div>\n",
              "<style scoped>\n",
              "    .dataframe tbody tr th:only-of-type {\n",
              "        vertical-align: middle;\n",
              "    }\n",
              "\n",
              "    .dataframe tbody tr th {\n",
              "        vertical-align: top;\n",
              "    }\n",
              "\n",
              "    .dataframe thead th {\n",
              "        text-align: right;\n",
              "    }\n",
              "</style>\n",
              "<table border=\"1\" class=\"dataframe\">\n",
              "  <thead>\n",
              "    <tr style=\"text-align: right;\">\n",
              "      <th></th>\n",
              "      <th>Value</th>\n",
              "      <th>Std err</th>\n",
              "      <th>t-test</th>\n",
              "      <th>p-value</th>\n",
              "      <th>Rob. Std err</th>\n",
              "      <th>Rob. t-test</th>\n",
              "      <th>Rob. p-value</th>\n",
              "    </tr>\n",
              "  </thead>\n",
              "  <tbody>\n",
              "    <tr>\n",
              "      <th>B_age</th>\n",
              "      <td>-0.042370</td>\n",
              "      <td>0.017327</td>\n",
              "      <td>-2.445382</td>\n",
              "      <td>1.446987e-02</td>\n",
              "      <td>0.017461</td>\n",
              "      <td>-2.426499</td>\n",
              "      <td>1.524529e-02</td>\n",
              "    </tr>\n",
              "    <tr>\n",
              "      <th>B_children</th>\n",
              "      <td>0.345982</td>\n",
              "      <td>0.282166</td>\n",
              "      <td>1.226166</td>\n",
              "      <td>2.201364e-01</td>\n",
              "      <td>0.307155</td>\n",
              "      <td>1.126407</td>\n",
              "      <td>2.599932e-01</td>\n",
              "    </tr>\n",
              "    <tr>\n",
              "      <th>B_education</th>\n",
              "      <td>-0.008019</td>\n",
              "      <td>0.043939</td>\n",
              "      <td>-0.182502</td>\n",
              "      <td>8.551885e-01</td>\n",
              "      <td>0.047161</td>\n",
              "      <td>-0.170033</td>\n",
              "      <td>8.649841e-01</td>\n",
              "    </tr>\n",
              "    <tr>\n",
              "      <th>B_gender</th>\n",
              "      <td>-0.313018</td>\n",
              "      <td>0.214352</td>\n",
              "      <td>-1.460300</td>\n",
              "      <td>1.442075e-01</td>\n",
              "      <td>0.218586</td>\n",
              "      <td>-1.432013</td>\n",
              "      <td>1.521401e-01</td>\n",
              "    </tr>\n",
              "    <tr>\n",
              "      <th>B_religiousness</th>\n",
              "      <td>-0.386474</td>\n",
              "      <td>0.086052</td>\n",
              "      <td>-4.491184</td>\n",
              "      <td>7.082821e-06</td>\n",
              "      <td>0.089515</td>\n",
              "      <td>-4.317400</td>\n",
              "      <td>1.578778e-05</td>\n",
              "    </tr>\n",
              "    <tr>\n",
              "      <th>B_yearsmarried</th>\n",
              "      <td>0.128422</td>\n",
              "      <td>0.031660</td>\n",
              "      <td>4.056271</td>\n",
              "      <td>4.986234e-05</td>\n",
              "      <td>0.034298</td>\n",
              "      <td>3.744317</td>\n",
              "      <td>1.808850e-04</td>\n",
              "    </tr>\n",
              "    <tr>\n",
              "      <th>delta2</th>\n",
              "      <td>0.352540</td>\n",
              "      <td>0.058812</td>\n",
              "      <td>5.994317</td>\n",
              "      <td>2.043426e-09</td>\n",
              "      <td>0.057617</td>\n",
              "      <td>6.118661</td>\n",
              "      <td>9.436476e-10</td>\n",
              "    </tr>\n",
              "    <tr>\n",
              "      <th>delta3</th>\n",
              "      <td>0.206242</td>\n",
              "      <td>0.049258</td>\n",
              "      <td>4.186961</td>\n",
              "      <td>2.827138e-05</td>\n",
              "      <td>0.049672</td>\n",
              "      <td>4.152075</td>\n",
              "      <td>3.294743e-05</td>\n",
              "    </tr>\n",
              "    <tr>\n",
              "      <th>delta4</th>\n",
              "      <td>0.264076</td>\n",
              "      <td>0.059582</td>\n",
              "      <td>4.432159</td>\n",
              "      <td>9.329398e-06</td>\n",
              "      <td>0.059280</td>\n",
              "      <td>4.454712</td>\n",
              "      <td>8.400605e-06</td>\n",
              "    </tr>\n",
              "    <tr>\n",
              "      <th>delta5</th>\n",
              "      <td>0.859037</td>\n",
              "      <td>0.130093</td>\n",
              "      <td>6.603266</td>\n",
              "      <td>4.021983e-11</td>\n",
              "      <td>0.129027</td>\n",
              "      <td>6.657829</td>\n",
              "      <td>2.779021e-11</td>\n",
              "    </tr>\n",
              "    <tr>\n",
              "      <th>tau1</th>\n",
              "      <td>-0.390626</td>\n",
              "      <td>0.910123</td>\n",
              "      <td>-0.429201</td>\n",
              "      <td>6.677769e-01</td>\n",
              "      <td>1.002992</td>\n",
              "      <td>-0.389460</td>\n",
              "      <td>6.969357e-01</td>\n",
              "    </tr>\n",
              "  </tbody>\n",
              "</table>\n",
              "</div>"
            ],
            "text/plain": [
              "                    Value   Std err  ...  Rob. t-test  Rob. p-value\n",
              "B_age           -0.042370  0.017327  ...    -2.426499  1.524529e-02\n",
              "B_children       0.345982  0.282166  ...     1.126407  2.599932e-01\n",
              "B_education     -0.008019  0.043939  ...    -0.170033  8.649841e-01\n",
              "B_gender        -0.313018  0.214352  ...    -1.432013  1.521401e-01\n",
              "B_religiousness -0.386474  0.086052  ...    -4.317400  1.578778e-05\n",
              "B_yearsmarried   0.128422  0.031660  ...     3.744317  1.808850e-04\n",
              "delta2           0.352540  0.058812  ...     6.118661  9.436476e-10\n",
              "delta3           0.206242  0.049258  ...     4.152075  3.294743e-05\n",
              "delta4           0.264076  0.059582  ...     4.454712  8.400605e-06\n",
              "delta5           0.859037  0.130093  ...     6.657829  2.779021e-11\n",
              "tau1            -0.390626  0.910123  ...    -0.389460  6.969357e-01\n",
              "\n",
              "[11 rows x 7 columns]"
            ]
          },
          "metadata": {},
          "execution_count": 32
        }
      ]
    },
    {
      "cell_type": "markdown",
      "metadata": {
        "id": "XY1uYheKtjlG"
      },
      "source": [
        "Simulation is as usual, the database and the dictionary with the targets. In this case, to get the choice probabilities, we can reuse the `alt_probs_map` dictionary as the targets. \n"
      ]
    },
    {
      "cell_type": "code",
      "metadata": {
        "colab": {
          "base_uri": "https://localhost:8080/",
          "height": 423
        },
        "id": "Z9WSKGKitrpH",
        "outputId": "8532a436-713c-4a0c-c782-42a748ca5e67"
      },
      "source": [
        "  bgm_pred_model = bio.BIOGEME(affairs_db, alt_probs_map)\n",
        "  simulatedValues = bgm_pred_model.simulate(results.getBetaValues())\n",
        "  simulatedValues"
      ],
      "execution_count": 33,
      "outputs": [
        {
          "output_type": "execute_result",
          "data": {
            "text/html": [
              "<div>\n",
              "<style scoped>\n",
              "    .dataframe tbody tr th:only-of-type {\n",
              "        vertical-align: middle;\n",
              "    }\n",
              "\n",
              "    .dataframe tbody tr th {\n",
              "        vertical-align: top;\n",
              "    }\n",
              "\n",
              "    .dataframe thead th {\n",
              "        text-align: right;\n",
              "    }\n",
              "</style>\n",
              "<table border=\"1\" class=\"dataframe\">\n",
              "  <thead>\n",
              "    <tr style=\"text-align: right;\">\n",
              "      <th></th>\n",
              "      <th>0</th>\n",
              "      <th>1</th>\n",
              "      <th>2</th>\n",
              "      <th>3</th>\n",
              "      <th>7</th>\n",
              "      <th>12</th>\n",
              "    </tr>\n",
              "  </thead>\n",
              "  <tbody>\n",
              "    <tr>\n",
              "      <th>0</th>\n",
              "      <td>0.767921</td>\n",
              "      <td>0.056870</td>\n",
              "      <td>0.027841</td>\n",
              "      <td>0.030194</td>\n",
              "      <td>0.063948</td>\n",
              "      <td>0.053227</td>\n",
              "    </tr>\n",
              "    <tr>\n",
              "      <th>1</th>\n",
              "      <td>0.901220</td>\n",
              "      <td>0.027248</td>\n",
              "      <td>0.012545</td>\n",
              "      <td>0.013061</td>\n",
              "      <td>0.025944</td>\n",
              "      <td>0.019982</td>\n",
              "    </tr>\n",
              "    <tr>\n",
              "      <th>2</th>\n",
              "      <td>0.374871</td>\n",
              "      <td>0.085503</td>\n",
              "      <td>0.051475</td>\n",
              "      <td>0.065398</td>\n",
              "      <td>0.185992</td>\n",
              "      <td>0.236762</td>\n",
              "    </tr>\n",
              "    <tr>\n",
              "      <th>3</th>\n",
              "      <td>0.861626</td>\n",
              "      <td>0.036941</td>\n",
              "      <td>0.017313</td>\n",
              "      <td>0.018237</td>\n",
              "      <td>0.036875</td>\n",
              "      <td>0.029008</td>\n",
              "    </tr>\n",
              "    <tr>\n",
              "      <th>4</th>\n",
              "      <td>0.794859</td>\n",
              "      <td>0.051589</td>\n",
              "      <td>0.024936</td>\n",
              "      <td>0.026811</td>\n",
              "      <td>0.055995</td>\n",
              "      <td>0.045810</td>\n",
              "    </tr>\n",
              "    <tr>\n",
              "      <th>...</th>\n",
              "      <td>...</td>\n",
              "      <td>...</td>\n",
              "      <td>...</td>\n",
              "      <td>...</td>\n",
              "      <td>...</td>\n",
              "      <td>...</td>\n",
              "    </tr>\n",
              "    <tr>\n",
              "      <th>596</th>\n",
              "      <td>0.619070</td>\n",
              "      <td>0.079004</td>\n",
              "      <td>0.041621</td>\n",
              "      <td>0.047560</td>\n",
              "      <td>0.110037</td>\n",
              "      <td>0.102708</td>\n",
              "    </tr>\n",
              "    <tr>\n",
              "      <th>597</th>\n",
              "      <td>0.637683</td>\n",
              "      <td>0.076923</td>\n",
              "      <td>0.040143</td>\n",
              "      <td>0.045552</td>\n",
              "      <td>0.104109</td>\n",
              "      <td>0.095590</td>\n",
              "    </tr>\n",
              "    <tr>\n",
              "      <th>598</th>\n",
              "      <td>0.560769</td>\n",
              "      <td>0.084160</td>\n",
              "      <td>0.045701</td>\n",
              "      <td>0.053423</td>\n",
              "      <td>0.128773</td>\n",
              "      <td>0.127174</td>\n",
              "    </tr>\n",
              "    <tr>\n",
              "      <th>599</th>\n",
              "      <td>0.645735</td>\n",
              "      <td>0.075960</td>\n",
              "      <td>0.039479</td>\n",
              "      <td>0.044666</td>\n",
              "      <td>0.101556</td>\n",
              "      <td>0.092605</td>\n",
              "    </tr>\n",
              "    <tr>\n",
              "      <th>600</th>\n",
              "      <td>0.568960</td>\n",
              "      <td>0.083563</td>\n",
              "      <td>0.045181</td>\n",
              "      <td>0.052643</td>\n",
              "      <td>0.126132</td>\n",
              "      <td>0.123521</td>\n",
              "    </tr>\n",
              "  </tbody>\n",
              "</table>\n",
              "<p>601 rows × 6 columns</p>\n",
              "</div>"
            ],
            "text/plain": [
              "           0         1         2         3         7         12\n",
              "0    0.767921  0.056870  0.027841  0.030194  0.063948  0.053227\n",
              "1    0.901220  0.027248  0.012545  0.013061  0.025944  0.019982\n",
              "2    0.374871  0.085503  0.051475  0.065398  0.185992  0.236762\n",
              "3    0.861626  0.036941  0.017313  0.018237  0.036875  0.029008\n",
              "4    0.794859  0.051589  0.024936  0.026811  0.055995  0.045810\n",
              "..        ...       ...       ...       ...       ...       ...\n",
              "596  0.619070  0.079004  0.041621  0.047560  0.110037  0.102708\n",
              "597  0.637683  0.076923  0.040143  0.045552  0.104109  0.095590\n",
              "598  0.560769  0.084160  0.045701  0.053423  0.128773  0.127174\n",
              "599  0.645735  0.075960  0.039479  0.044666  0.101556  0.092605\n",
              "600  0.568960  0.083563  0.045181  0.052643  0.126132  0.123521\n",
              "\n",
              "[601 rows x 6 columns]"
            ]
          },
          "metadata": {},
          "execution_count": 33
        }
      ]
    },
    {
      "cell_type": "markdown",
      "metadata": {
        "id": "voYVGcOQuUDR"
      },
      "source": [
        "To simulate the utilities we have to create a dictionary just with the utility funcion. "
      ]
    },
    {
      "cell_type": "code",
      "metadata": {
        "id": "KWhw880muTn9"
      },
      "source": [
        "V_pred_map = {\n",
        "    'util': V_one}"
      ],
      "execution_count": 36,
      "outputs": []
    },
    {
      "cell_type": "markdown",
      "metadata": {
        "id": "GefB4WHovMsh"
      },
      "source": [
        "WE do the simulation as usual, notice how the more positive the utility, the more it tends towars more infidelities. This is because we considered arbitrarily to intepret the 'utility that is received from having an affair'. We could have also used the 'utility from being faithful'."
      ]
    },
    {
      "cell_type": "code",
      "metadata": {
        "colab": {
          "base_uri": "https://localhost:8080/",
          "height": 423
        },
        "id": "NvKLl-rAugbT",
        "outputId": "de767f2b-77c3-4b4a-afc4-1125d2f7920a"
      },
      "source": [
        "  bgm_pred_util = bio.BIOGEME(affairs_db, V_pred_map)\n",
        "  simulated_util = bgm_pred_util.simulate(results.getBetaValues())\n",
        "  simulated_util"
      ],
      "execution_count": 37,
      "outputs": [
        {
          "output_type": "execute_result",
          "data": {
            "text/html": [
              "<div>\n",
              "<style scoped>\n",
              "    .dataframe tbody tr th:only-of-type {\n",
              "        vertical-align: middle;\n",
              "    }\n",
              "\n",
              "    .dataframe tbody tr th {\n",
              "        vertical-align: top;\n",
              "    }\n",
              "\n",
              "    .dataframe thead th {\n",
              "        text-align: right;\n",
              "    }\n",
              "</style>\n",
              "<table border=\"1\" class=\"dataframe\">\n",
              "  <thead>\n",
              "    <tr style=\"text-align: right;\">\n",
              "      <th></th>\n",
              "      <th>util</th>\n",
              "    </tr>\n",
              "  </thead>\n",
              "  <tbody>\n",
              "    <tr>\n",
              "      <th>0</th>\n",
              "      <td>-1.587234</td>\n",
              "    </tr>\n",
              "    <tr>\n",
              "      <th>1</th>\n",
              "      <td>-2.601481</td>\n",
              "    </tr>\n",
              "    <tr>\n",
              "      <th>2</th>\n",
              "      <td>0.120752</td>\n",
              "    </tr>\n",
              "    <tr>\n",
              "      <th>3</th>\n",
              "      <td>-2.219491</td>\n",
              "    </tr>\n",
              "    <tr>\n",
              "      <th>4</th>\n",
              "      <td>-1.745094</td>\n",
              "    </tr>\n",
              "    <tr>\n",
              "      <th>...</th>\n",
              "      <td>...</td>\n",
              "    </tr>\n",
              "    <tr>\n",
              "      <th>596</th>\n",
              "      <td>-0.876228</td>\n",
              "    </tr>\n",
              "    <tr>\n",
              "      <th>597</th>\n",
              "      <td>-0.955946</td>\n",
              "    </tr>\n",
              "    <tr>\n",
              "      <th>598</th>\n",
              "      <td>-0.634909</td>\n",
              "    </tr>\n",
              "    <tr>\n",
              "      <th>599</th>\n",
              "      <td>-0.990967</td>\n",
              "    </tr>\n",
              "    <tr>\n",
              "      <th>600</th>\n",
              "      <td>-0.668233</td>\n",
              "    </tr>\n",
              "  </tbody>\n",
              "</table>\n",
              "<p>601 rows × 1 columns</p>\n",
              "</div>"
            ],
            "text/plain": [
              "         util\n",
              "0   -1.587234\n",
              "1   -2.601481\n",
              "2    0.120752\n",
              "3   -2.219491\n",
              "4   -1.745094\n",
              "..        ...\n",
              "596 -0.876228\n",
              "597 -0.955946\n",
              "598 -0.634909\n",
              "599 -0.990967\n",
              "600 -0.668233\n",
              "\n",
              "[601 rows x 1 columns]"
            ]
          },
          "metadata": {},
          "execution_count": 37
        }
      ]
    },
    {
      "cell_type": "markdown",
      "metadata": {
        "id": "rgw5ORydxFpC"
      },
      "source": [
        "# Exercise 1) Create a more fine tuned ordered logit model\n"
      ]
    },
    {
      "cell_type": "code",
      "metadata": {
        "id": "TLRnXEYQxrzt"
      },
      "source": [
        ""
      ],
      "execution_count": null,
      "outputs": []
    },
    {
      "cell_type": "markdown",
      "metadata": {
        "id": "gmp18qrzxrHa"
      },
      "source": [
        "\n",
        "# Exercise 2) Compare the predictions and accuracy of the fine tuned model to a multinomial logit"
      ]
    }
  ]
}