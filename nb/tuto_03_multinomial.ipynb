{
  "nbformat": 4,
  "nbformat_minor": 0,
  "metadata": {
    "colab": {
      "name": "tuto_03_multinomial",
      "provenance": [],
      "collapsed_sections": [],
      "authorship_tag": "ABX9TyP1OoBxHUfmD9LFMwGF+HUJ",
      "include_colab_link": true
    },
    "kernelspec": {
      "name": "python3",
      "display_name": "Python 3"
    },
    "language_info": {
      "name": "python"
    }
  },
  "cells": [
    {
      "cell_type": "markdown",
      "metadata": {
        "id": "view-in-github",
        "colab_type": "text"
      },
      "source": [
        "<a href=\"https://colab.research.google.com/github/pmontman/pub-choicemodels/blob/main/nb/tuto_03_multinomial.ipynb\" target=\"_parent\"><img src=\"https://colab.research.google.com/assets/colab-badge.svg\" alt=\"Open In Colab\"/></a>"
      ]
    },
    {
      "cell_type": "markdown",
      "metadata": {
        "id": "zuJImh8WqX_m"
      },
      "source": [
        "# Tutorial 3: Multinomial logit using the python biogeme package"
      ]
    },
    {
      "cell_type": "markdown",
      "metadata": {
        "id": "tzgJbWL2qlAP"
      },
      "source": [
        "Biogeme is a open source Python package designed for the maximum likelihood estimation of parametric models in general, with a special emphasis on discrete choice models."
      ]
    },
    {
      "cell_type": "markdown",
      "metadata": {
        "id": "vb9SIunnASNB"
      },
      "source": [
        "# Preparing the environment"
      ]
    },
    {
      "cell_type": "markdown",
      "metadata": {
        "id": "rlvYdSNvrRfV"
      },
      "source": [
        "Google colab environment does not have biogeme installed by default,\n",
        "so we need to install in everytime session. Hopefully, it will take less than one minute. One installed it will be valid until the session expires (or we reset it)."
      ]
    },
    {
      "cell_type": "code",
      "metadata": {
        "colab": {
          "base_uri": "https://localhost:8080/"
        },
        "id": "j5zHGhgErHPd",
        "outputId": "ba56efa9-6a55-4ac4-f6f3-53e579555dd5"
      },
      "source": [
        "!pip install biogeme"
      ],
      "execution_count": 34,
      "outputs": [
        {
          "output_type": "stream",
          "name": "stdout",
          "text": [
            "Requirement already satisfied: biogeme in /usr/local/lib/python3.7/dist-packages (3.2.8)\n",
            "Requirement already satisfied: unidecode in /usr/local/lib/python3.7/dist-packages (from biogeme) (1.2.0)\n",
            "Requirement already satisfied: numpy in /usr/local/lib/python3.7/dist-packages (from biogeme) (1.19.5)\n",
            "Requirement already satisfied: tqdm in /usr/local/lib/python3.7/dist-packages (from biogeme) (4.62.0)\n",
            "Requirement already satisfied: scipy in /usr/local/lib/python3.7/dist-packages (from biogeme) (1.4.1)\n",
            "Requirement already satisfied: pandas in /usr/local/lib/python3.7/dist-packages (from biogeme) (1.1.5)\n",
            "Requirement already satisfied: cython in /usr/local/lib/python3.7/dist-packages (from biogeme) (0.29.24)\n",
            "Requirement already satisfied: pytz>=2017.2 in /usr/local/lib/python3.7/dist-packages (from pandas->biogeme) (2018.9)\n",
            "Requirement already satisfied: python-dateutil>=2.7.3 in /usr/local/lib/python3.7/dist-packages (from pandas->biogeme) (2.8.2)\n",
            "Requirement already satisfied: six>=1.5 in /usr/local/lib/python3.7/dist-packages (from python-dateutil>=2.7.3->pandas->biogeme) (1.15.0)\n"
          ]
        }
      ]
    },
    {
      "cell_type": "markdown",
      "metadata": {
        "id": "1z0X9xZ8rChf"
      },
      "source": [
        "First load the packages typical pacakges, biogeme and the common for python  data analysis."
      ]
    },
    {
      "cell_type": "code",
      "metadata": {
        "id": "apVB-TMkrFnb"
      },
      "source": [
        "import pandas  as pd\n",
        "import numpy as np\n",
        "import seaborn as sns\n",
        "import matplotlib.pyplot as plt\n",
        "\n",
        "import biogeme.database as db\n",
        "import biogeme.biogeme as bio\n",
        "import biogeme.models as models\n",
        "import biogeme.expressions as exp\n"
      ],
      "execution_count": 35,
      "outputs": []
    },
    {
      "cell_type": "markdown",
      "metadata": {
        "id": "Mgv0hV1YAieW"
      },
      "source": [
        "# The dataset\n",
        "\n",
        "we will use the example from the biogeme package, Swissmetro dataset:\n",
        "\n",
        "\"*This dataset consists of survey data collected on the trains between St. Gallen and Geneva, Switzerland, during March 1998. The respondents provided information in order to analyze the impact of\n",
        "the modal innovation in transportation (a new mode of transport), represented by the Swissmetro, a revolutionary mag-lev underground system, against the usual transport modes represented by car and train.*\""
      ]
    },
    {
      "cell_type": "markdown",
      "metadata": {
        "id": "_Zq_3AwIr7u8"
      },
      "source": [
        "#Loading the dataset\n",
        "\n",
        "Biogeme can interact with the popular pandas package, so we can load the dataset in pandas first and then pass it to biogeme.\n",
        "\n",
        "This specific dataset uses the format 'tab separated values' instead of the more common 'comma separated values'. We can specify this non-standard separator by the argument `sep` in `pandas.read_csv`.\n",
        "\n"
      ]
    },
    {
      "cell_type": "code",
      "metadata": {
        "id": "g1Ykn5Ytr7Rs"
      },
      "source": [
        "swissmetro = pd.read_csv('http://transp-or.epfl.ch/data/swissmetro.dat', sep='\\t')"
      ],
      "execution_count": 36,
      "outputs": []
    },
    {
      "cell_type": "markdown",
      "metadata": {
        "id": "ZY55r3Gesb3t"
      },
      "source": [
        "We will take a look at it, using the head() method of to display the first few rows.\n",
        "\n",
        "There is a detailed description of the dataset \n",
        "variables [here](http://transp-or.epfl.ch/documents/technicalReports/CS_SwissmetroDescription.pdf). **You will need to take a look at them later\n",
        "to understand the data and create your own models.**"
      ]
    },
    {
      "cell_type": "code",
      "metadata": {
        "colab": {
          "base_uri": "https://localhost:8080/",
          "height": 223
        },
        "id": "ldkmnMhssemT",
        "outputId": "9cc02619-c320-4fbd-c9be-b334f03029cf"
      },
      "source": [
        "swissmetro.head(5)"
      ],
      "execution_count": 37,
      "outputs": [
        {
          "output_type": "execute_result",
          "data": {
            "text/html": [
              "<div>\n",
              "<style scoped>\n",
              "    .dataframe tbody tr th:only-of-type {\n",
              "        vertical-align: middle;\n",
              "    }\n",
              "\n",
              "    .dataframe tbody tr th {\n",
              "        vertical-align: top;\n",
              "    }\n",
              "\n",
              "    .dataframe thead th {\n",
              "        text-align: right;\n",
              "    }\n",
              "</style>\n",
              "<table border=\"1\" class=\"dataframe\">\n",
              "  <thead>\n",
              "    <tr style=\"text-align: right;\">\n",
              "      <th></th>\n",
              "      <th>GROUP</th>\n",
              "      <th>SURVEY</th>\n",
              "      <th>SP</th>\n",
              "      <th>ID</th>\n",
              "      <th>PURPOSE</th>\n",
              "      <th>FIRST</th>\n",
              "      <th>TICKET</th>\n",
              "      <th>WHO</th>\n",
              "      <th>LUGGAGE</th>\n",
              "      <th>AGE</th>\n",
              "      <th>MALE</th>\n",
              "      <th>INCOME</th>\n",
              "      <th>GA</th>\n",
              "      <th>ORIGIN</th>\n",
              "      <th>DEST</th>\n",
              "      <th>TRAIN_AV</th>\n",
              "      <th>CAR_AV</th>\n",
              "      <th>SM_AV</th>\n",
              "      <th>TRAIN_TT</th>\n",
              "      <th>TRAIN_CO</th>\n",
              "      <th>TRAIN_HE</th>\n",
              "      <th>SM_TT</th>\n",
              "      <th>SM_CO</th>\n",
              "      <th>SM_HE</th>\n",
              "      <th>SM_SEATS</th>\n",
              "      <th>CAR_TT</th>\n",
              "      <th>CAR_CO</th>\n",
              "      <th>CHOICE</th>\n",
              "    </tr>\n",
              "  </thead>\n",
              "  <tbody>\n",
              "    <tr>\n",
              "      <th>0</th>\n",
              "      <td>2</td>\n",
              "      <td>0</td>\n",
              "      <td>1</td>\n",
              "      <td>1</td>\n",
              "      <td>1</td>\n",
              "      <td>0</td>\n",
              "      <td>1</td>\n",
              "      <td>1</td>\n",
              "      <td>0</td>\n",
              "      <td>3</td>\n",
              "      <td>0</td>\n",
              "      <td>2</td>\n",
              "      <td>0</td>\n",
              "      <td>2</td>\n",
              "      <td>1</td>\n",
              "      <td>1</td>\n",
              "      <td>1</td>\n",
              "      <td>1</td>\n",
              "      <td>112</td>\n",
              "      <td>48</td>\n",
              "      <td>120</td>\n",
              "      <td>63</td>\n",
              "      <td>52</td>\n",
              "      <td>20</td>\n",
              "      <td>0</td>\n",
              "      <td>117</td>\n",
              "      <td>65</td>\n",
              "      <td>2</td>\n",
              "    </tr>\n",
              "    <tr>\n",
              "      <th>1</th>\n",
              "      <td>2</td>\n",
              "      <td>0</td>\n",
              "      <td>1</td>\n",
              "      <td>1</td>\n",
              "      <td>1</td>\n",
              "      <td>0</td>\n",
              "      <td>1</td>\n",
              "      <td>1</td>\n",
              "      <td>0</td>\n",
              "      <td>3</td>\n",
              "      <td>0</td>\n",
              "      <td>2</td>\n",
              "      <td>0</td>\n",
              "      <td>2</td>\n",
              "      <td>1</td>\n",
              "      <td>1</td>\n",
              "      <td>1</td>\n",
              "      <td>1</td>\n",
              "      <td>103</td>\n",
              "      <td>48</td>\n",
              "      <td>30</td>\n",
              "      <td>60</td>\n",
              "      <td>49</td>\n",
              "      <td>10</td>\n",
              "      <td>0</td>\n",
              "      <td>117</td>\n",
              "      <td>84</td>\n",
              "      <td>2</td>\n",
              "    </tr>\n",
              "    <tr>\n",
              "      <th>2</th>\n",
              "      <td>2</td>\n",
              "      <td>0</td>\n",
              "      <td>1</td>\n",
              "      <td>1</td>\n",
              "      <td>1</td>\n",
              "      <td>0</td>\n",
              "      <td>1</td>\n",
              "      <td>1</td>\n",
              "      <td>0</td>\n",
              "      <td>3</td>\n",
              "      <td>0</td>\n",
              "      <td>2</td>\n",
              "      <td>0</td>\n",
              "      <td>2</td>\n",
              "      <td>1</td>\n",
              "      <td>1</td>\n",
              "      <td>1</td>\n",
              "      <td>1</td>\n",
              "      <td>130</td>\n",
              "      <td>48</td>\n",
              "      <td>60</td>\n",
              "      <td>67</td>\n",
              "      <td>58</td>\n",
              "      <td>30</td>\n",
              "      <td>0</td>\n",
              "      <td>117</td>\n",
              "      <td>52</td>\n",
              "      <td>2</td>\n",
              "    </tr>\n",
              "    <tr>\n",
              "      <th>3</th>\n",
              "      <td>2</td>\n",
              "      <td>0</td>\n",
              "      <td>1</td>\n",
              "      <td>1</td>\n",
              "      <td>1</td>\n",
              "      <td>0</td>\n",
              "      <td>1</td>\n",
              "      <td>1</td>\n",
              "      <td>0</td>\n",
              "      <td>3</td>\n",
              "      <td>0</td>\n",
              "      <td>2</td>\n",
              "      <td>0</td>\n",
              "      <td>2</td>\n",
              "      <td>1</td>\n",
              "      <td>1</td>\n",
              "      <td>1</td>\n",
              "      <td>1</td>\n",
              "      <td>103</td>\n",
              "      <td>40</td>\n",
              "      <td>30</td>\n",
              "      <td>63</td>\n",
              "      <td>52</td>\n",
              "      <td>20</td>\n",
              "      <td>0</td>\n",
              "      <td>72</td>\n",
              "      <td>52</td>\n",
              "      <td>2</td>\n",
              "    </tr>\n",
              "    <tr>\n",
              "      <th>4</th>\n",
              "      <td>2</td>\n",
              "      <td>0</td>\n",
              "      <td>1</td>\n",
              "      <td>1</td>\n",
              "      <td>1</td>\n",
              "      <td>0</td>\n",
              "      <td>1</td>\n",
              "      <td>1</td>\n",
              "      <td>0</td>\n",
              "      <td>3</td>\n",
              "      <td>0</td>\n",
              "      <td>2</td>\n",
              "      <td>0</td>\n",
              "      <td>2</td>\n",
              "      <td>1</td>\n",
              "      <td>1</td>\n",
              "      <td>1</td>\n",
              "      <td>1</td>\n",
              "      <td>130</td>\n",
              "      <td>36</td>\n",
              "      <td>60</td>\n",
              "      <td>63</td>\n",
              "      <td>42</td>\n",
              "      <td>20</td>\n",
              "      <td>0</td>\n",
              "      <td>90</td>\n",
              "      <td>84</td>\n",
              "      <td>2</td>\n",
              "    </tr>\n",
              "  </tbody>\n",
              "</table>\n",
              "</div>"
            ],
            "text/plain": [
              "   GROUP  SURVEY  SP  ID  PURPOSE  ...  SM_HE  SM_SEATS  CAR_TT  CAR_CO  CHOICE\n",
              "0      2       0   1   1        1  ...     20         0     117      65       2\n",
              "1      2       0   1   1        1  ...     10         0     117      84       2\n",
              "2      2       0   1   1        1  ...     30         0     117      52       2\n",
              "3      2       0   1   1        1  ...     20         0      72      52       2\n",
              "4      2       0   1   1        1  ...     20         0      90      84       2\n",
              "\n",
              "[5 rows x 28 columns]"
            ]
          },
          "metadata": {},
          "execution_count": 37
        }
      ]
    },
    {
      "cell_type": "markdown",
      "metadata": {
        "id": "K3-FzZrJuma4"
      },
      "source": [
        "We see some socioeconomic characteristics such as 'AGE', likely encoding by age groups, 'MALE' which we can assume refers to gender. There are also some attributes of the alternatives, such as 'CAR_TT' which would be travel time in car, 'TRAIN_CO' which refers to the cost of the fare by train.\n",
        "\n",
        "An important variable is 'CHOICE' it is the result of the choice for each individual, coded as 1 for train, 2 for swissmetro, 3 for car. The value 0 indicates invalid response."
      ]
    },
    {
      "cell_type": "markdown",
      "metadata": {
        "id": "o3BZ4otYvdYM"
      },
      "source": [
        "# Passing the dataset to biogeme\n",
        "\n",
        "For now, we have loaded the dataset into a pandas dataframe, we need to transform it into a Biogeme database, the format that biogeme understands.\n",
        "We pass first argument the name of the database that we want to give and second the pandas dataframe."
      ]
    },
    {
      "cell_type": "code",
      "metadata": {
        "id": "JAuXh-SfvcwT"
      },
      "source": [
        "bgm_swissmetro = db.Database('swissmetro', swissmetro)"
      ],
      "execution_count": 38,
      "outputs": []
    },
    {
      "cell_type": "markdown",
      "metadata": {
        "id": "LOO_ErPbw0go"
      },
      "source": [
        "We can access the dictionary of variables in the biogeme database the following way:"
      ]
    },
    {
      "cell_type": "code",
      "metadata": {
        "colab": {
          "base_uri": "https://localhost:8080/"
        },
        "id": "6Bt1iHz9xUHm",
        "outputId": "ee0abb39-0cbb-403a-dc7c-db631149c044"
      },
      "source": [
        "bgm_swissmetro.variables['CHOICE']"
      ],
      "execution_count": 39,
      "outputs": [
        {
          "output_type": "execute_result",
          "data": {
            "text/plain": [
              "CHOICE"
            ]
          },
          "metadata": {},
          "execution_count": 39
        }
      ]
    },
    {
      "cell_type": "markdown",
      "metadata": {
        "id": "qmw2wtC2yHFZ"
      },
      "source": [
        "Because this is too verbose, we can load them into the global variables\n",
        "of the python environment, to make the symbolic manipulation less verbose, so we can refer to them just by writing `VARIABLE_NAME` instead of having to write `database.variables['VARIABLE_NAME']`."
      ]
    },
    {
      "cell_type": "code",
      "metadata": {
        "colab": {
          "base_uri": "https://localhost:8080/"
        },
        "id": "q3VDQa8Xwln5",
        "outputId": "5a6915a0-1199-4e90-e32b-5b579e104687"
      },
      "source": [
        "globals().update(bgm_swissmetro.variables)\n",
        "CHOICE"
      ],
      "execution_count": 40,
      "outputs": [
        {
          "output_type": "execute_result",
          "data": {
            "text/plain": [
              "CHOICE"
            ]
          },
          "metadata": {},
          "execution_count": 40
        }
      ]
    },
    {
      "cell_type": "markdown",
      "metadata": {
        "id": "G-WceQeczaS4"
      },
      "source": [
        "Before we begin, we will need to clean the dataset a bit. In this case,\n",
        "we have people that did not respond to the survey, and their value assigned\n",
        "to the choice is 0. The only valid values for the choice are 1,2,3 indicating\n",
        "the alternatives, train, swissmetro and car.\n",
        "We can remove them from the biogeme database using the `remove` method with the logical indicator for the row that have choice 0.\n",
        "\n",
        "**It is recommended that all database manipulations/cleaning are applied directly on the pandas dataframe before passing it to biogeme.** The reason being that pandas is better designed for that purpose and makes the code more readable. Ideally we would like out interactions with biogeme to be minimized and do as much as possible with the standard frameworks such as pandas.  "
      ]
    },
    {
      "cell_type": "code",
      "metadata": {
        "id": "xV8HYAgdREiN"
      },
      "source": [
        "bgm_swissmetro.remove( (CHOICE == 0) )"
      ],
      "execution_count": 41,
      "outputs": []
    },
    {
      "cell_type": "markdown",
      "metadata": {
        "id": "KqiArlqd0qFR"
      },
      "source": [
        "# Creating the model\n",
        "\n",
        "What we usually need to define in the multinomial logit can be summarized as:\n",
        " * Which variables in the database are we going to include in the model linear model.\n",
        " * What is the variable in the database that specifies the choice made, the alternative selected by an individual. The 'target variable' or dependent variable.\n",
        " * What variables are used in the modelling of each alternative. Remember that we can define a utility function for each alternative, so we can have alternatives that depend of some variables, and we can also have some variables that are estimated for all alternatives.\n",
        "\n",
        "We can connect this back to the utily theory view, we want to specify the functions that produce the observed component of the utility, the $V_{nj}$\n",
        "\n",
        "For each alternative $j$ and observation $n$, we consider the vector $x_{nj}$\n",
        "to be the joint vector of for both attributes and characteristics (to simplify things).  We try to find the vector of coefficients $\\beta_j$ for each alternative. In other words, we try to find the linear relationship between the variables and utility for each alternative:\n",
        "  $$V_{nj} = \\beta_j x_n$$ \n",
        "\n",
        "* Consider that some attributes or characteristics are not relevant for some alternatives: This would be equivanlent to fixing some of the values for $\\beta_j$ to 0 and not fitting them to data.\n",
        "* Consider that some attributes or characteristics 'share' the value of the coefficient.\n"
      ]
    },
    {
      "cell_type": "markdown",
      "metadata": {
        "id": "0De-iYpQbw67"
      },
      "source": [
        "\n",
        "# The alternative specific constants:\n",
        "Just as in linear models we have the intercept, in choice models we have alternative specific constants. An important difference is that we cannot determine their value, because we have seen in the previous tutorial that the absolute level of utilities cannot be recovered. In practice, what we will do is assume that the attribute specific characteristic of one of the alternatives is set to 0 and we do not fit them to the data. This will set a reference point.\n",
        "Again, which alternative we use as reference and what value for the ASC is arbitrary.\n"
      ]
    },
    {
      "cell_type": "markdown",
      "metadata": {
        "id": "PIouJf_BRyUu"
      },
      "source": [
        "# Definition of the model in biogeme\n",
        "We define the parameters of the model through the function `exp.Beta`.\n",
        "The function `exp.Beta` takes 5 arguments:\n",
        "1. the name of the parameter.\n",
        "2. the default value. We can use 0 for the default values unless we know a better starting value, for example when we have prior information.\n",
        "3. The lower bound, if we want to restrict it to a range, `None` if we do not want to restrict the value of the parameter. For example, sometimes we might know or would like to for a parameter to be positive.\n",
        "4. The upper bound, if we want to restrict it to a range, `None` if we do not want to restrict the value of the parameter.\n",
        "5. A 0/1 argument, 0 if the parameter must be estimated and 1 if it remains fixed.\n",
        "\n",
        "We will define a simple model with just the three ASCs and two parameters for two variables of interest, time and cost.\n",
        "Note that one of the ASCs, `ASC_SM` is set to not be estimated, notice the 1 in the value of the last argument when it is created. This comes from the explanation above, we set one of the ASCs arbitrarily to 0 because we utility cannot be recovered up to changes in constants, so we will pick among the many possible solutions the one that makes the ASC for the SwissMetro alternative 0.\n"
      ]
    },
    {
      "cell_type": "code",
      "metadata": {
        "id": "zOpyvTcbRPy4"
      },
      "source": [
        "ASC_CAR = exp.Beta ( 'ASC_CAR' ,0, None , None ,0)\n",
        "ASC_TRAIN = exp.Beta ( 'ASC_TRAIN' ,0, None , None ,0)\n",
        "ASC_SM = exp.Beta ( 'ASC_SM' ,0, None , None ,1)\n",
        "B_TIME = exp.Beta ( 'B_TIME' ,0, None , None ,0)\n",
        "B_COST = exp.Beta ( 'B_COST' ,0, None , None ,0)"
      ],
      "execution_count": 42,
      "outputs": []
    },
    {
      "cell_type": "markdown",
      "metadata": {
        "id": "t3REqjxrj2x1"
      },
      "source": [
        "We will create an artificial variable, ussing the luggage variable but squared.\n",
        "This variable will only be included as a parameter for the utility of the car alternative. This is a totally arbitrary variable for the purposes of exposition, it does not mean that it is a good one."
      ]
    },
    {
      "cell_type": "code",
      "metadata": {
        "id": "wwISbL_Gi-A_"
      },
      "source": [
        "B_LUGGA_SQ = exp.Beta( 'B_LUGGA_SQ', 0, None, None, 0)\n",
        "LUGGA_SQ = LUGGAGE**2"
      ],
      "execution_count": 43,
      "outputs": []
    },
    {
      "cell_type": "markdown",
      "metadata": {
        "id": "YT3brmCSUaLB"
      },
      "source": [
        "A warning from the creator of the biogeme package:\n",
        "when we define the parameters of our model, we store them into python variables.\n",
        "The authr strongly recomments using the same name for the python variable\n",
        "than for the parameter.\n",
        "For example, while we could have define the variable following the code in the next cell, it is not recommended. I imagine that this could cause some confusion later on.\n",
        "\n"
      ]
    },
    {
      "cell_type": "code",
      "metadata": {
        "id": "J6jlUKDRUfjx"
      },
      "source": [
        "#doing this is not recommended!\n",
        "car_cte = exp.Beta( 'ASC_CAR' ,0, None , None ,0)"
      ],
      "execution_count": 44,
      "outputs": []
    },
    {
      "cell_type": "markdown",
      "metadata": {
        "id": "4ECerH2CWOBV"
      },
      "source": [
        "We now define the utility functions for each alternative, more speficifically the linear relationship between the variables and the observed component of the utility."
      ]
    },
    {
      "cell_type": "code",
      "metadata": {
        "id": "VZ7iyvO4WEtz"
      },
      "source": [
        "V1 = ASC_TRAIN + B_TIME * TRAIN_TT + B_COST * TRAIN_CO \n",
        "\n",
        "V2 = ASC_SM + B_TIME * SM_TT + B_COST * SM_CO \n",
        "\n",
        "V3 = ASC_CAR + B_TIME * CAR_TT + B_COST * CAR_CO + B_LUGGA_SQ*LUGGA_SQ\n"
      ],
      "execution_count": 45,
      "outputs": []
    },
    {
      "cell_type": "markdown",
      "metadata": {
        "id": "DEC2xflnWfHr"
      },
      "source": [
        "We have to create a dictionary that maps the utility functions to the numbers that identify the alternatives in the database.\n",
        "In this case 1 for Train, 2 for Swissmetro, 3 for car."
      ]
    },
    {
      "cell_type": "code",
      "metadata": {
        "id": "B8hQMvaFWekd"
      },
      "source": [
        "V = {1: V1 ,\n",
        "2: V2 ,\n",
        "3: V3 }"
      ],
      "execution_count": 46,
      "outputs": []
    },
    {
      "cell_type": "markdown",
      "metadata": {
        "id": "Bs6NR7URW4_w"
      },
      "source": [
        "We have to pass availabilities, these are the indicator variables signaling if the option is available for that individual. Remember that the multinomial does not need to have all alternatives present for all individuals, it can recover the model from data even if the full choice set is not available for all individuals."
      ]
    },
    {
      "cell_type": "code",
      "metadata": {
        "id": "7cFRkLSQW5bZ"
      },
      "source": [
        "\n",
        "\n",
        "av = {1: TRAIN_AV,\n",
        "2: SM_AV,\n",
        "3: CAR_AV }"
      ],
      "execution_count": 47,
      "outputs": []
    },
    {
      "cell_type": "markdown",
      "metadata": {
        "id": "Ibxs6VjNDDo6"
      },
      "source": [
        "This is the definition of the model, in this case the multinomial logit (we will use other models later)."
      ]
    },
    {
      "cell_type": "code",
      "metadata": {
        "id": "FFPU3K7EXlZm"
      },
      "source": [
        "logprob = models.loglogit (V , av , CHOICE )"
      ],
      "execution_count": 48,
      "outputs": []
    },
    {
      "cell_type": "markdown",
      "metadata": {
        "id": "G6TgmVHtdT9G"
      },
      "source": [
        "And finally we pack everything together in the biogeme object."
      ]
    },
    {
      "cell_type": "code",
      "metadata": {
        "id": "4Qw4I1HdXgvb"
      },
      "source": [
        "bgm_model = bio.BIOGEME ( bgm_swissmetro, logprob )"
      ],
      "execution_count": 49,
      "outputs": []
    },
    {
      "cell_type": "markdown",
      "metadata": {
        "id": "ez0sa4fAcT9b"
      },
      "source": [
        "We can give a name to the model, this can help identifying the model when we come back to it later, for example when we save it to a file and want to use it in another report."
      ]
    },
    {
      "cell_type": "code",
      "metadata": {
        "id": "zn-2Fy3JX2Gi"
      },
      "source": [
        "bgm_model.modelName = 'my first multinomial logit'"
      ],
      "execution_count": 50,
      "outputs": []
    },
    {
      "cell_type": "markdown",
      "metadata": {
        "id": "86bZksOJb70Y"
      },
      "source": [
        "# Estimation of the model\n",
        "\n",
        "biogeme will kindly do maximum likelihood estimation for us."
      ]
    },
    {
      "cell_type": "code",
      "metadata": {
        "id": "XqRyOneGYG2t"
      },
      "source": [
        "results = bgm_model.estimate()"
      ],
      "execution_count": 51,
      "outputs": []
    },
    {
      "cell_type": "markdown",
      "metadata": {
        "id": "d4RInW7rcC3r"
      },
      "source": [
        "# Results of the model\n",
        "\n",
        "We can check a basic summary of the estimated model, likelihoods, information\n",
        "criterions, etc."
      ]
    },
    {
      "cell_type": "code",
      "metadata": {
        "colab": {
          "base_uri": "https://localhost:8080/"
        },
        "id": "oMV3mFzuYJKB",
        "outputId": "32448206-20ff-400b-f30a-abb80409b36d"
      },
      "source": [
        "results.getGeneralStatistics()"
      ],
      "execution_count": 52,
      "outputs": [
        {
          "output_type": "execute_result",
          "data": {
            "text/plain": [
              "{'Akaike Information Criterion': (17812.074019038093, '.7g'),\n",
              " 'Bayesian Information Criterion': (17848.472884771552, '.7g'),\n",
              " 'Excluded observations': (9, ''),\n",
              " 'Final gradient norm': (0.026671262687319435, '.4E'),\n",
              " 'Final log likelihood': (-8901.037009519046, '.7g'),\n",
              " 'Init log likelihood': (-9484.899357157145, '.7g'),\n",
              " 'Likelihood ratio test for the init. model': (1167.7246952761961, '.7g'),\n",
              " 'Nbr of threads': (2, ''),\n",
              " 'Number of estimated parameters': (5, ''),\n",
              " 'Rho-square for the init. model': (0.06155704195190281, '.3g'),\n",
              " 'Rho-square-bar for the init. model': (0.06102988822978905, '.3g'),\n",
              " 'Sample size': (10719, '')}"
            ]
          },
          "metadata": {},
          "execution_count": 52
        }
      ]
    },
    {
      "cell_type": "markdown",
      "metadata": {
        "id": "2IJGgJ59iHHB"
      },
      "source": [
        "The value of the parameters and the p-values for their statistical significance.\n",
        "Note that ASC_SM is not shown, it was fixed to 0 by us."
      ]
    },
    {
      "cell_type": "code",
      "metadata": {
        "colab": {
          "base_uri": "https://localhost:8080/",
          "height": 203
        },
        "id": "6wTlZ6NuYXAf",
        "outputId": "7e1394b1-9a2a-40bb-d5c5-7a478aa98006"
      },
      "source": [
        "results.getEstimatedParameters()"
      ],
      "execution_count": 53,
      "outputs": [
        {
          "output_type": "execute_result",
          "data": {
            "text/html": [
              "<div>\n",
              "<style scoped>\n",
              "    .dataframe tbody tr th:only-of-type {\n",
              "        vertical-align: middle;\n",
              "    }\n",
              "\n",
              "    .dataframe tbody tr th {\n",
              "        vertical-align: top;\n",
              "    }\n",
              "\n",
              "    .dataframe thead th {\n",
              "        text-align: right;\n",
              "    }\n",
              "</style>\n",
              "<table border=\"1\" class=\"dataframe\">\n",
              "  <thead>\n",
              "    <tr style=\"text-align: right;\">\n",
              "      <th></th>\n",
              "      <th>Value</th>\n",
              "      <th>Std err</th>\n",
              "      <th>t-test</th>\n",
              "      <th>p-value</th>\n",
              "      <th>Rob. Std err</th>\n",
              "      <th>Rob. t-test</th>\n",
              "      <th>Rob. p-value</th>\n",
              "    </tr>\n",
              "  </thead>\n",
              "  <tbody>\n",
              "    <tr>\n",
              "      <th>ASC_CAR</th>\n",
              "      <td>0.288108</td>\n",
              "      <td>0.035179</td>\n",
              "      <td>8.189759</td>\n",
              "      <td>2.220446e-16</td>\n",
              "      <td>0.042591</td>\n",
              "      <td>6.764493</td>\n",
              "      <td>1.337774e-11</td>\n",
              "    </tr>\n",
              "    <tr>\n",
              "      <th>ASC_TRAIN</th>\n",
              "      <td>-0.537457</td>\n",
              "      <td>0.041771</td>\n",
              "      <td>-12.866786</td>\n",
              "      <td>0.000000e+00</td>\n",
              "      <td>0.053722</td>\n",
              "      <td>-10.004480</td>\n",
              "      <td>0.000000e+00</td>\n",
              "    </tr>\n",
              "    <tr>\n",
              "      <th>B_COST</th>\n",
              "      <td>0.000158</td>\n",
              "      <td>0.000021</td>\n",
              "      <td>7.494799</td>\n",
              "      <td>6.639134e-14</td>\n",
              "      <td>0.000017</td>\n",
              "      <td>9.170628</td>\n",
              "      <td>0.000000e+00</td>\n",
              "    </tr>\n",
              "    <tr>\n",
              "      <th>B_LUGGA_SQ</th>\n",
              "      <td>-0.107915</td>\n",
              "      <td>0.024128</td>\n",
              "      <td>-4.472629</td>\n",
              "      <td>7.726392e-06</td>\n",
              "      <td>0.025665</td>\n",
              "      <td>-4.204691</td>\n",
              "      <td>2.614389e-05</td>\n",
              "    </tr>\n",
              "    <tr>\n",
              "      <th>B_TIME</th>\n",
              "      <td>-0.012348</td>\n",
              "      <td>0.000415</td>\n",
              "      <td>-29.740813</td>\n",
              "      <td>0.000000e+00</td>\n",
              "      <td>0.000630</td>\n",
              "      <td>-19.593060</td>\n",
              "      <td>0.000000e+00</td>\n",
              "    </tr>\n",
              "  </tbody>\n",
              "</table>\n",
              "</div>"
            ],
            "text/plain": [
              "               Value   Std err  ...  Rob. t-test  Rob. p-value\n",
              "ASC_CAR     0.288108  0.035179  ...     6.764493  1.337774e-11\n",
              "ASC_TRAIN  -0.537457  0.041771  ...   -10.004480  0.000000e+00\n",
              "B_COST      0.000158  0.000021  ...     9.170628  0.000000e+00\n",
              "B_LUGGA_SQ -0.107915  0.024128  ...    -4.204691  2.614389e-05\n",
              "B_TIME     -0.012348  0.000415  ...   -19.593060  0.000000e+00\n",
              "\n",
              "[5 rows x 7 columns]"
            ]
          },
          "metadata": {},
          "execution_count": 53
        }
      ]
    },
    {
      "cell_type": "markdown",
      "metadata": {
        "id": "AjwSwASHiZ63"
      },
      "source": [
        "We can recover the values for the parameters in a dictionary."
      ]
    },
    {
      "cell_type": "code",
      "metadata": {
        "colab": {
          "base_uri": "https://localhost:8080/"
        },
        "id": "hbIei-9NYqR4",
        "outputId": "90eb7088-f26b-476e-abe9-7bf08cabe229"
      },
      "source": [
        "results.getBetaValues()"
      ],
      "execution_count": 54,
      "outputs": [
        {
          "output_type": "execute_result",
          "data": {
            "text/plain": [
              "{'ASC_CAR': 0.28810799217015026,\n",
              " 'ASC_TRAIN': -0.537457389292376,\n",
              " 'B_COST': 0.00015829634051973488,\n",
              " 'B_LUGGA_SQ': -0.10791474652324919,\n",
              " 'B_TIME': -0.01234813979935744}"
            ]
          },
          "metadata": {},
          "execution_count": 54
        }
      ]
    },
    {
      "cell_type": "markdown",
      "metadata": {
        "id": "Nt46fenjfLJI"
      },
      "source": [
        "# Exercises\n",
        "\n"
      ]
    },
    {
      "cell_type": "markdown",
      "metadata": {
        "id": "rqM5utIDDl_S"
      },
      "source": [
        "\n",
        "## 1)Do you notice something unexepected in the sign of the cost parameter? Perhaps it has to do with another variable, `GA` the seasonal pass for public transport, a indicator variable of whether the individual has bought the seasonal pass or not. Create new variables for the cost of train and swissmetro that make the cost 0 is the user has bought the seasonal pass and keep the cost intact otherwise. *Please remove the 'luggage squared' variable.* Then fit the same model using those variables for their corresponding alternatives and check the results. \n"
      ]
    },
    {
      "cell_type": "code",
      "metadata": {
        "id": "mnF-Mjd45469"
      },
      "source": [
        ""
      ],
      "execution_count": 54,
      "outputs": []
    },
    {
      "cell_type": "markdown",
      "metadata": {
        "id": "BZwOKnuo51s8"
      },
      "source": [
        "\n",
        "##2) Create a new model by *including two new variables*, you can use the ones existing or create new ones. Then estimate the model and compare it to the previous one. How can we compare them? Which one is better?\n"
      ]
    },
    {
      "cell_type": "code",
      "metadata": {
        "id": "AgkG7tJP55Um"
      },
      "source": [
        ""
      ],
      "execution_count": 54,
      "outputs": []
    },
    {
      "cell_type": "markdown",
      "metadata": {
        "id": "mdDsNIDw54DR"
      },
      "source": [
        "\n",
        "##3) Create a model that calculates a specific coefficient for the price and travel time of each alternative. Check the model and calculate illingness to pay for the travel time of each alternative (*you can take a look at the definition in lecture 2)*."
      ]
    },
    {
      "cell_type": "code",
      "metadata": {
        "id": "-UzDM2x-56NK"
      },
      "source": [
        ""
      ],
      "execution_count": 54,
      "outputs": []
    }
  ]
}