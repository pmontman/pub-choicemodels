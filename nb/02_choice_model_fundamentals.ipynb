{
  "nbformat": 4,
  "nbformat_minor": 0,
  "metadata": {
    "colab": {
      "name": "02_choice_model_fundamentals",
      "provenance": [],
      "collapsed_sections": [],
      "authorship_tag": "ABX9TyP0Rsr7ZMjxHYo7n8HjZnAS",
      "include_colab_link": true
    },
    "kernelspec": {
      "name": "python3",
      "display_name": "Python 3"
    },
    "language_info": {
      "name": "python"
    }
  },
  "cells": [
    {
      "cell_type": "markdown",
      "metadata": {
        "id": "view-in-github",
        "colab_type": "text"
      },
      "source": [
        "<a href=\"https://colab.research.google.com/github/pmontman/pub-choicemodels/blob/main/nb/02_choice_model_fundamentals.ipynb\" target=\"_parent\"><img src=\"https://colab.research.google.com/assets/colab-badge.svg\" alt=\"Open In Colab\"/></a>"
      ]
    },
    {
      "cell_type": "markdown",
      "metadata": {
        "id": "cF4OYMf6tTls"
      },
      "source": [
        "# Lecture 2: Choice model fundamentals, estimation of binary choice models\n",
        "\n",
        "----\n",
        "----\n",
        "\n",
        "# Recap\n",
        "\n",
        "\n",
        "\n",
        "* We have seen that we can describe preferences quantitatively by assigning a number to each alternative, the **utility** that the decision maker receives from choosing that alternative. Then we assume that decision makers always choose the alternative that has **maximum utility** from their choice set.\n",
        "* We have seen that from some reasonable assumptions on preferences (completeness, transitivity), we can *always* find a function that maps from the alternative to their representative utility.\n",
        "* In realistic situations, finding the exact function is unfeasible, so we add uncertainty in our model of reality.\n",
        " * We divide the utility into two components, the observed component, the one we can model, and the unobserved component or random component or error.\n",
        "\n",
        "This view of choice modelling is called Random Utility Model (RUM) and the mathematical notation, for a decision maker $n$ and alternative $j$ is:\n",
        "\n",
        "$$U_{nj} = V_{nj} + \\varepsilon_{nj}$$\n",
        "\n",
        "\n",
        "---\n",
        "---\n"
      ]
    },
    {
      "cell_type": "markdown",
      "metadata": {
        "id": "Tvmp-h13mltc"
      },
      "source": [
        "\n",
        "# Linear functions for the observed utility\n",
        "\n",
        "The most fundamental way of capturing the observed component of the utility is through **linear relationships** from the observed variables of the choice:\n",
        " * the attributes of the alternatives\n",
        " * the socioeconomic characteristics of the individuals.\n",
        "\n",
        "What is a linear relationship?\n",
        "\n",
        "Lets go back to our example of the coffee shop. We simplify by assuming that we offer two products, latte and espresso. These are our two alternatives. \n",
        "We suppose that only two factors are involved in the choice, only two factors influence the utility that indivuals derive:\n",
        " * Price of the coffee\n",
        " * Age of the individual\n",
        "\n",
        "Intuitively we might think that the more expensive the alternative, the less utility people derive from choosing it. The older the more they will lean towards espresso, it grows on you (Obviously this model is a gross oversimplification).\n",
        "We can make that relationship very specific by saying it is a linear relationship. This means that the measured variables will be multipled by some numbers (the coefficients) and summed together to produce the observed component of the utility. Each coefficient multiplies one of the variables.\n",
        "Lets call $\\alpha$ the coefficient that multiplies the price, and $\\beta$ the coefficients that multiplies age. We can assume that each alternative has its own coefficients, leading to the following formula for the observed utility:\n",
        "\n",
        " $$V_{nj} = \\alpha_j \\text{Price}_j + \\beta_j\\text{Age}_n$$\n",
        "\n",
        " This is an example of linear relationship, it is the same concept as linear models in Statistics (linear regression), Machine Learning and many other fields.\n",
        "\n",
        "We now have our first choice model, we only need to find good values for the coefficients, so they explain and predict the data well (as well as possible with this simple model). The process of finding the values for the coefficients from data is the **estimation of the model**.\n",
        "\n",
        "---\n",
        "---\n"
      ]
    },
    {
      "cell_type": "markdown",
      "metadata": {
        "id": "yo7AuW9PuCZh"
      },
      "source": [
        "# Estimation of Binary Choice models\n",
        "\n",
        "The main difficulty of choice models is that we cannot use our classical methods such as statistical linear regression, because the dependent variable, the utility, is not observed, we do not have data for the $V_{nj}$. We only observe whether they chose one or the other, it is which of the $J$ alternatives they chose. And because of randomness or limitations of our model, even that result is random, so the best we can do is capture choice probabilities.\n",
        "\n",
        "We will first discuss the scenario of only two alternatives, in our example only offer latte and espresso.\n",
        "This simplifies things a lot and serves as a nice introduction to estimation.\n",
        "\n",
        "The main reason behind the simplification is that when we can only choose between two alternatives, if we can approximate the probability of choosing one of the alternatives, the probability of choosing the other alternative is completely determined. \n",
        "Say the probability of choosing Latte is $p$, then the probability of choosing espresso is $1-p$, because probabilities have to sum 1. If we have one of the probabilities, we do not need to think much about the other.\n",
        "\n",
        "This allows us to focus on modelling only the probability of one of the alternatives.\n",
        "\n",
        "---\n",
        "---"
      ]
    },
    {
      "cell_type": "markdown",
      "metadata": {
        "id": "h0ml-Cjhu24-"
      },
      "source": [
        "# Level 0: Estimating the linear model by least squares\n",
        "\n",
        "Lets start with a way of estimation that we are all familar with, linear regression, or linear least squares.\n",
        "\n",
        "Linear least squares requires the dependent variable to be numerical, but we do not have numbers, we only know whether indivudals chose latte or espresso.\n",
        "In other words, our data looks like this:\n",
        "\n",
        "| Choice      | Price | Age | Name |\n",
        "| ----------- | ----- | ------ | -------|\n",
        "| Latte      |  4    | 19 | Pablo |\n",
        "| Espresso      |  3.5    | 21 | Fortuna |\n",
        "| Espresso      |  3.0    | 32 | Andrew |\n",
        "| Latte      |  3.5   | 20 | Jing |\n",
        "| Espresso      |  3.0    | 28 | Jarif |\n",
        "\n",
        "\n",
        "In our binary choice, we can easily turn this result into numbers by assigning the number 1 if the indivudal chose latte and 0 is they chose espresso.\n",
        "\n",
        "|Choice Number | Choice      | Price | Age | Name |\n",
        "|---| ----------- | ----- | ------ | -------|\n",
        "|1| Latte      |  4    | 19 | Pablo |\n",
        "|0| Espresso      |  3.5    | 21 | Fortuna |\n",
        "|0| Espresso      |  3.0    | 32 | Andrew |\n",
        "|1| Latte      |  3.5   | 20 | Jing |\n",
        "|0| Espresso      |  3.0    | 28 | Jarif |\n",
        "\n",
        "\n",
        " * We could have chosen the other way around (1 for espresso and 0 for latte).\n",
        " * We could have chosen other arbitrary numbers, but the 0/1 option gives us an additional benefit. The interpretation of this number as the probability of choosing latte.\n"
      ]
    },
    {
      "cell_type": "markdown",
      "metadata": {
        "id": "zhNF09U32e7W"
      },
      "source": [
        "## Fitting\n",
        "\n",
        "We can estimate a linear model by out traditional linear least squares. To make things even more simple, lets consider a linear model that depends only on the age of the decision maker.\n",
        "\n",
        "$$ \\text{ChoiceNumber} = \\beta \\text{Age} $$"
      ]
    },
    {
      "cell_type": "code",
      "metadata": {
        "colab": {
          "base_uri": "https://localhost:8080/",
          "height": 279
        },
        "cellView": "form",
        "id": "oJk_Ubwy4OpG",
        "outputId": "c557cf11-96c4-475a-bcb3-5180ebec88d9"
      },
      "source": [
        "#@title Plot: example of assigning numbers to choices\n",
        "import numpy as np\n",
        "from scipy.stats import logistic\n",
        "import matplotlib.pyplot as plt\n",
        "from sklearn import linear_model\n",
        "\n",
        "np.random.seed(2021)\n",
        "age = np.random.randint(15, 69, 20)\n",
        "age = np.sort(age)\n",
        "choice_probs = 1 - logistic.cdf(age * 0.12 - 6)\n",
        "rolls = np.random.random_sample(len(choice_probs))\n",
        "choice_num = (rolls < choice_probs) + 0\n",
        "\n",
        "#plt.plot(age, choice_probs)\n",
        "plt.scatter(age, choice_num)\n",
        "plt.xlabel('Age')\n",
        "plt.ylabel('Choice_num (prob. of choosig Latte)');\n"
      ],
      "execution_count": 79,
      "outputs": [
        {
          "output_type": "display_data",
          "data": {
            "image/png": "[encoded data removed]",
            "text/plain": [
              "<Figure size 432x288 with 1 Axes>"
            ]
          },
          "metadata": {
            "needs_background": "light"
          }
        }
      ]
    },
    {
      "cell_type": "markdown",
      "metadata": {
        "id": "9uAI3LgqBwKS"
      },
      "source": [
        "We can fit a linear least squares to this data"
      ]
    },
    {
      "cell_type": "code",
      "metadata": {
        "colab": {
          "base_uri": "https://localhost:8080/",
          "height": 296
        },
        "cellView": "form",
        "id": "0rcnoWPrA6No",
        "outputId": "ca4f4664-0a23-4264-d6d6-4e48af38e843"
      },
      "source": [
        "#@title Plot of the linear least squares fit\n",
        "\n",
        "regr = linear_model.LinearRegression()\n",
        "\n",
        "# Train the model using the training sets\n",
        "regr.fit(age[:, np.newaxis], choice_num[:, np.newaxis])\n",
        "\n",
        "preds = regr.predict(age[:, np.newaxis])\n",
        "\n",
        "plt.scatter(age, choice_num)\n",
        "plt.xlabel('Age')\n",
        "plt.ylabel('Choice_num (prob. of choosig Latte)')\n",
        "plt.plot(age, preds, c='red')\n"
      ],
      "execution_count": 80,
      "outputs": [
        {
          "output_type": "execute_result",
          "data": {
            "text/plain": [
              "[<matplotlib.lines.Line2D at 0x7f883f446ed0>]"
            ]
          },
          "metadata": {},
          "execution_count": 80
        },
        {
          "output_type": "display_data",
          "data": {
            "image/png": "[encoded data removed]",
            "text/plain": [
              "<Figure size 432x288 with 1 Axes>"
            ]
          },
          "metadata": {
            "needs_background": "light"
          }
        }
      ]
    },
    {
      "cell_type": "markdown",
      "metadata": {
        "id": "2aje9ScBCwlR"
      },
      "source": [
        "The value of the coefficient $\\beta$ is:"
      ]
    },
    {
      "cell_type": "code",
      "metadata": {
        "colab": {
          "base_uri": "https://localhost:8080/"
        },
        "cellView": "form",
        "id": "JWrE5KH7B75-",
        "outputId": "94c036a5-8894-4a09-ce93-8b5c1a5ee1ba"
      },
      "source": [
        "#@title \n",
        "print('The value of the coefficient Beta: ', regr.coef_)"
      ],
      "execution_count": 81,
      "outputs": [
        {
          "output_type": "stream",
          "text": [
            "The value of the coefficient Beta:  [[-0.01440593]]\n"
          ],
          "name": "stdout"
        }
      ]
    },
    {
      "cell_type": "markdown",
      "metadata": {
        "id": "OMcKtjvd3x5m"
      },
      "source": [
        "We can see the approximation.\n",
        "If we interpret as 'probability of choosing latte'.\n",
        "There is a problem, the prediction go over 1 for ages under 20. This is not consistent with the idea of probability\n",
        "\n",
        " * Ignore the problem, if we get values over 1, we assume the probability is one.\n",
        " * Consider that values over 1 are actually impossible, so we could get a better model if we introduce that idea. We can try took look for a relationship that is not purely linear, use a model that is restricted to the [0,1] interval.\n",
        "\n",
        " ---\n",
        " ---"
      ]
    },
    {
      "cell_type": "markdown",
      "metadata": {
        "id": "GMLMjsWlylV4"
      },
      "source": [
        "# Level 1: 'Squashing' through the logistic\n",
        "\n",
        "A very common way of transforming any number to the interval [0,1] is to apply\n",
        "the logistic function. The logistic is a 'S', also named 'sigmoid' that restrics its output to the range [0,1] while keeping the notion of order of the input (if $x$ is greater than $y$ in the input, the output of $x$ will also be greater.\n"
      ]
    },
    {
      "cell_type": "markdown",
      "metadata": {
        "id": "U9YGDo2k-WtV"
      },
      "source": [
        "![1280px-Logistic-curve.svg.png](data:image/png;base64,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)"
      ]
    },
    {
      "cell_type": "markdown",
      "metadata": {
        "id": "nVn_0fQ39sEN"
      },
      "source": [
        "The function of the logistic\n",
        "\n",
        "$$S(x) = \\frac{e^{x}}{1 + e^{x}}$$\n",
        "\n",
        "We want to squash the output of the linear combination to the interval [0,1]\n",
        "we need to pass it through the sigmoid.\n",
        "\n",
        "$$ ChoiceNumber = \\frac{e^{\\beta\\text{Age}}}{ 1 + e^{\\beta\\text{Age}}}$$\n",
        "\n",
        "Now we are sure that the output will be int [0,1], but the model is no longer a linear relationship.\n",
        "\n",
        "\n",
        "---\n",
        "---"
      ]
    },
    {
      "cell_type": "markdown",
      "metadata": {
        "id": "rPsbP6Dw_zxM"
      },
      "source": [
        "# Least squares estimaton of the logistic\n",
        "\n",
        "When we do the squasing, there is no longer a linear relationship, it is nonlinear.  We cannot just plug the coefficients we obtained from the linear and\n",
        "squash the output, we need to estimate proper values for the squashed version.\n",
        "We can keep to the notion of least squares, finding the value of the coefficents that make the prediction closer to the observed numbers.\n",
        "In the following plot, in red the squashed version of the model, in pink the non-squashed version."
      ]
    },
    {
      "cell_type": "code",
      "metadata": {
        "colab": {
          "base_uri": "https://localhost:8080/",
          "height": 313
        },
        "cellView": "form",
        "id": "hcIhqX5K_3h1",
        "outputId": "6e13aecb-eec2-49ce-9245-ce72f41a632b"
      },
      "source": [
        "#@title Code for fitting a sigmoid squashing of the linear model\n",
        "from scipy.optimize import minimize\n",
        "\n",
        "def sigmoid(x):\n",
        "  return np.exp(x) / (1 + np.exp(x))\n",
        "\n",
        "def err_beta(beta):\n",
        "  return sum((sigmoid(age*beta + 19) - choice_num)**2)\n",
        "err_beta = np.vectorize(err_beta)\n",
        "\n",
        "beta_range = np.linspace(-10, 10, num=500)\n",
        "errs = err_beta(beta_range)\n",
        "#print(beta_range[np.argmin(errs)])\n",
        "print(np.min(errs))\n",
        "\n",
        "\n",
        "base = np.linspace(min(age), max(age))\n",
        "preds_sig = sigmoid(beta_range[np.argmin(errs)]* base + 19)\n",
        "\n",
        "plt.scatter(age, choice_num)\n",
        "plt.xlabel('Age')\n",
        "plt.ylabel('Choice_num (prob. of choosig Latte)')\n",
        "plt.plot(base, preds_sig, c='red')\n",
        "plt.plot(age, preds, c='pink')\n",
        "\n"
      ],
      "execution_count": 83,
      "outputs": [
        {
          "output_type": "stream",
          "text": [
            "2.2372815002344435\n"
          ],
          "name": "stdout"
        },
        {
          "output_type": "execute_result",
          "data": {
            "text/plain": [
              "[<matplotlib.lines.Line2D at 0x7f883f32f510>]"
            ]
          },
          "metadata": {},
          "execution_count": 83
        },
        {
          "output_type": "display_data",
          "data": {
            "image/png": "[encoded data removed]",
            "text/plain": [
              "<Figure size 432x288 with 1 Axes>"
            ]
          },
          "metadata": {
            "needs_background": "light"
          }
        }
      ]
    },
    {
      "cell_type": "markdown",
      "metadata": {
        "id": "oUTWOyD2_xby"
      },
      "source": [
        "---\n",
        "---\n",
        "\n",
        "# Interpretation of the logistic squasing as log-odds: The logit\n",
        "\n",
        "Odds is a common way of comparing probabilities of two events.\n",
        "It is comming in betting, the odds of A against B, such as 2-to-1. Mathematically we define the odds as the ratio of the two probabilities, with the event of interest in the nominator.\n",
        "\n",
        "$$\\text{Odds} = \\frac{P(A)}{P(B)}$$\n",
        "\n",
        "It turns out that the linear relationship that gets squashed by the logistic function to the range [0,1] can be interpreted as the logarithm of the odds.\n",
        "\n",
        "$$ P(\\text{Latte}) $$\n",
        "\n",
        "Vecause we have two alternatives, we know that:\n",
        "\n",
        "$$P(\\text{Espresso}) = 1 - P(\\text{Latte})$$ \n",
        "\n",
        "Then we can plug the formula for the odds\n",
        "\n",
        "$\\text{Odds of Latte} = \\frac{P(\\text{Latte})}{P(\\text{Espresso})} = \\frac{P(\\text{Latte})}{1 - P(\\text{Latte})}$\n",
        "\n",
        "Recall the formula for the logistic:\n",
        "$$S(x) = \\frac{e^{x}}{1 + e^{x}}$$\n",
        "we can divide nominator and denominator by $e^x$ to get an equivalent expression of the logistic:\n",
        "$$ S(x) = \\frac{1}{1 + e^{-x}}$$\n",
        "If we interpred the output of the logistic squashing as a probability,\n",
        "we get.\n",
        "\n",
        "$$P(\\text{Latte}) = \\frac{1}{ 1 + e^{-\\beta\\text{Age}}}$$\n",
        "\n",
        "This is an qeuivalent formula to the beginning of the section:\n",
        "\n",
        " $$ ChoiceNumber = \\frac{e^{\\beta\\text{Age}}}{ 1 + e^{\\beta\\text{Age}}}$$\n",
        "\n",
        "Introduce the expression of $P(\\text{Latte})$ from the logistic squashing in the formula for the odds.\n",
        "\n",
        "$$\\text{Odds of Latte} = \\frac{ \\frac{1}{ 1 + e^{-\\beta\\text{Age}}} }{1 - \\frac{1}{ 1 + e^{-\\beta\\text{Age}}}}$$\n",
        "\n",
        "Simplifying a bit:\n",
        "$$\\text{Odds of Latte} = \\frac{ \\frac{1}{ 1 + e^{-\\beta\\text{Age}}} }{\\frac{1 + e^{-\\beta\\text{Age}} - 1}{ 1 + e^{-\\beta\\text{Age}}}} = \\frac{1}{e^{-\\beta\\text{Age}}} = e^{\\beta\\text{Age}}$$\n",
        "if we take the log\n",
        "$$log(\\text{Odds of Latte}) = \\beta\\text{Age}$$\n",
        "\n",
        "And now we have a nice interpreatation of the logistic squashing, what we are doing is imposing a linear relationship for the logarithm of the log odds.\n",
        "\n",
        "The **logit** function is the invese of the logistic:\n",
        "$$\\text{logit}(x) = \\log \\left( \\frac{x}{1-x} \\right)$$\n",
        "\n",
        "And there is where the name of the logit model comes from. The term logit model is the more popular in econometrics. In statisticis it is called logistic regression. In machine learning, we can call it a perceptron is is a model for an artificial neuron.\n",
        "\n",
        "---\n",
        "---\n"
      ]
    },
    {
      "cell_type": "markdown",
      "metadata": {
        "id": "j1Ao95SPEdru"
      },
      "source": [
        "# Level 2: Maximum likelihood estimation\n",
        "\n",
        "We have seen that we can estimate the coefficients of the model by first assigning numbers to the outcome and fitting the function to those numbers by some method such as least squares. When the numbers assigned are 0 - 1, then we can think that the output of the model are probabilities.\n",
        "\n",
        "But we once we have established that we want to do the logistic squashing to obtain probabilities, there are other ways of estimating the coefficients.\n",
        "We are not forced to use least squares, we could be doing, for example least absolute value. The reason for using least squares was to reuse the technique that we know from basic statistics, least squares linear regression.\n",
        "\n",
        "In the context of choice modelling (and other categorical response), there is a more natural way of estimating the coefficients. Because we are outputing probabilities, we can think as the following question:\n",
        "\n",
        "What output probabilities are the most likely to have been observed in the data?\n",
        "\n",
        "To answer this question, we need to know the probability distribution family of the experiment. But in this case, there is not much doubt, every data point that we have is the result of a Bernoulli experiment. Every time someone makes a choice between two alternatives, considering that there is some randomness involved, we can model it with a $\\text{Bernoulli}(p)$ with $p$ the parameter of distribution, the probability of success of the experiment. By success we can define one of the alternatives (we are choosing Latte in out recurring example).\n",
        "\n",
        "\n",
        "$$P(\\text{Latte}) = \\frac{1}{ 1 + e^{-\\beta\\text{Age}}}$$\n",
        "\n",
        "For the $i$-eth observation in out data, our model produces the the probability of observing latte for that observation.\n",
        "\n",
        "$$P(\\text{Latte}_i) = p_i = \\frac{1}{ 1 + e^{-\\beta\\text{Age}_i}}$$\n",
        "\n",
        "Imagine that for the $i$-eth observation, we have actually observed latte.\n",
        "What is the most 'likely' value of $p_i$ that would have produced latte as outcome? The answer is simple, $p_i=1$. What is the value of $\\beta$ that would have produced a $p_i=1$, it is a very large value, with $\\beta = +\\infty$ we will get $p_i=1$, but given the exponentiation, a value of 100 will be good enough.\n",
        "\n",
        "The likelihood function of the coefficient $\\beta$.\n",
        "When we have many observations, the probabilities $p$ that make the observed that more likely to have appeared.\n",
        "\n",
        "Remember from the bernoulli distribution, for $k=1$ is a success and $k=0$ the failure. In our case Latte is sucess, espresso is failure.\n",
        "\n",
        "$$B(k, p) = p^k(1-p)^{1-k} $$\n",
        "\n",
        "When we have many independent samples, the joint probability is the product\n",
        "of individual probabilities. For $N$ samples, when the probability of the Bernoulli can vary per sample, the probability of have observed the data is, in mathematical notation.\n",
        "\n",
        "$$\\prod_{i=1}^{N} p_i^{k}(1-p_i)^{1-k} $$\n",
        "\n",
        "Likelihood function of the coefficient $\\beta$ , when we plug in the expression for the $p_i$\n",
        "$$ L(\\beta | k, \\text{Age})= \\prod_{i=1}^{N} \\left(\\frac{1}{ 1 + e^{-\\beta\\text{Age}_i}}\\right)^{k}\\left(1-\\frac{1}{ 1 + e^{-\\beta\\text{Age_i}}}\\right)^{1-k}   $$\n",
        "\n",
        "We want to find the $\\beta$ that maximizes this likelihood, that it is why it is called maximum likelihood estimation.\n",
        "We will not study the algorithm for finding the $\\beta$ in this unit, we will use tools that have it implemented already. The way to find it is through mathematical optimization, for example, gradient descent.\n",
        "\n",
        "\n",
        "**Maximum likelihood is the standard way of estimating the logit.**\n",
        "\n",
        "Observed that we do not really need to do the squashing, but we risk getting absurd results is we do not limit the $p_i$ to be in [0,1].\n",
        "\n",
        "---\n",
        "---"
      ]
    },
    {
      "cell_type": "markdown",
      "metadata": {
        "id": "8kw3nEExz0wQ"
      },
      "source": [
        "# Going back to utilities\n",
        "\n",
        "To deliver the explanation of the logit we have momentarily forgotten about utilities.\n",
        "\n",
        "It turns out that under the logit, we can interpret the linear relationship that get squashed as the observed component of the utility.\n",
        "The unobserved component is considered to come from a independent and identically distributed Gumbel distribution (also called Type 1 Extreme value).\n",
        "Linking logistic regression to the fundamental theory of utility, showing tha the statistical model is consisten with the underlying theory of utility, is part of why Daniel McFadden receiver the Nobel prize.\n",
        "\n",
        "So the observed utility and the log-odds are very similar concepts in the logit model.\n",
        "\n",
        "---\n",
        "---"
      ]
    },
    {
      "cell_type": "markdown",
      "metadata": {
        "id": "Sr32q5lu1NN_"
      },
      "source": [
        "#Other forms of squashing\n",
        "\n",
        "The logistic is one among many functions that can squash values between 0 and 1 to turn them into probabilities. Another one is the probit, which uses the expression for the cumulative distribution function of the Gaussian.\n",
        "Just as the logistic curve induces a Random Utility Model with a Gumbel distribution, the probit induces a RUM with Gaussian distribution.\n",
        "\n",
        "---\n",
        "---"
      ]
    },
    {
      "cell_type": "markdown",
      "metadata": {
        "id": "rjoAEfA5zto5"
      },
      "source": [
        "# Model interpretation\n",
        "\n",
        "* Elasticities\n",
        "* Willingness to pay\n",
        "\n",
        "---\n",
        "---"
      ]
    },
    {
      "cell_type": "markdown",
      "metadata": {
        "id": "9Vaw8UtB1yEL"
      },
      "source": [
        "# Mode validation\n",
        "\n",
        "* Comparing likelihoods\n",
        "* Accuracy score\n",
        "* Hypothesis tests for parameters\n",
        "\n",
        "---\n",
        "---"
      ]
    }
  ]
}